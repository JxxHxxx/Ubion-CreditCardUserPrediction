{
 "cells": [
  {
   "cell_type": "code",
   "execution_count": 429,
   "metadata": {},
   "outputs": [],
   "source": [
    "import warnings\n",
    "warnings.filterwarnings('ignore')\n",
    "\n",
    "import numpy as np\n",
    "import pandas as pd   \n",
    "import matplotlib.pyplot as plt\n",
    "import seaborn as sns\n",
    "\n",
    "from sklearn.model_selection import train_test_split\n",
    "from sklearn.metrics import accuracy_score, confusion_matrix, log_loss\n",
    "\n",
    "from sklearn.ensemble import AdaBoostClassifier\n",
    "from sklearn.ensemble import GradientBoostingClassifier\n",
    "from catboost import CatBoostClassifier\n",
    "from sklearn.ensemble import RandomForestClassifier\n",
    "\n",
    "from tqdm import tqdm\n",
    "\n",
    "from sklearn.metrics import plot_confusion_matrix\n",
    "from sklearn.preprocessing import OrdinalEncoder\n",
    "\n",
    "from sklearn.datasets import make_classification\n",
    "from sklearn.decomposition import PCA\n",
    "from imblearn.over_sampling import SMOTE\n",
    "from collections import Counter\n",
    "from sklearn.datasets import make_classification"
   ]
  },
  {
   "cell_type": "code",
   "execution_count": 430,
   "metadata": {},
   "outputs": [],
   "source": [
    "train = pd.read_csv('../Data/train.csv')\n",
    "test = pd.read_csv('../Data/test.csv')\n",
    "submission = pd.read_csv('../Data/sample_submission.csv')\n",
    "sub_train = train"
   ]
  },
  {
   "cell_type": "code",
   "execution_count": null,
   "metadata": {},
   "outputs": [],
   "source": [
    "\"\"\" X, y = make_classification(n_classes=2, class_sep=2,\n",
    "weights=[0.1, 0.9], n_informative=3, n_redundant=1, flip_y=0,\n",
    "n_features=20, n_clusters_per_class=1, n_samples=1000, random_state=10)\n",
    "print('Original dataset shape %s' % Counter(y))\n",
    "\n",
    "sm = SMOTE(random_state=42)\n",
    "X_res, y_res = sm.fit_resample(X, y)\n",
    "print('Resampled dataset shape %s' % Counter(y_res)) \"\"\""
   ]
  },
  {
   "cell_type": "code",
   "execution_count": 431,
   "metadata": {},
   "outputs": [],
   "source": [
    "train_x=train.drop(['credit','index'], axis=1)\n",
    "train_y=train[['credit']]\n",
    "test_x=test.drop('index', axis =1)"
   ]
  },
  {
   "cell_type": "markdown",
   "metadata": {},
   "source": [
    "# Feature 설명\n",
    "\n",
    "index   \n",
    "gender: 성별   \n",
    "car: 차량 소유 여부   \n",
    "reality: 부동산 소유 여부   \n",
    "child_num: 자녀 수   \n",
    "income_total: 연간 소득  \n",
    "income_type: 소득 분류 \n",
    "['Commercial associate', 'Working', 'State servant', 'Pensioner', 'Student']   \n",
    "edu_type: 교육 수준   \n",
    "['Higher education' ,'Secondary / secondary special', 'Incomplete higher', 'Lower secondary', 'Academic degree']   \n",
    "family_type: 결혼 여부   \n",
    "['Married', 'Civil marriage', 'Separated', 'Single / not married', 'Widow']   \n",
    "house_type: 생활 방식   \n",
    "['Municipal apartment', 'House / apartment', 'With parents','Co-op apartment', 'Rented apartment', 'Office apartment']   \n",
    "DAYS_BIRTH: 출생일   \n",
    "데이터 수집 당시 (0)부터 역으로 셈, 즉, -1은 데이터 수집일 하루 전에 태어났음을 의미   \n",
    "DAYS_EMPLOYED: 업무 시작일   \n",
    "데이터 수집 당시 (0)부터 역으로 셈, 즉, -1은 데이터 수집일 하루 전부터 일을 시작함을 의미,양수 값은 고용되지 않은 상태를 의미함   \n",
    "FLAG_MOBIL: 핸드폰 소유 여부  \n",
    "work_phone: 업무용 전화 소유 여부   \n",
    "phone: 전화 소유 여부  \n",
    "email: 이메일 소유 여부   \n",
    "occyp_type: 직업 유형\t   \t\t\t\t\t\t\t\t\t\t\t\t\n",
    "family_size: 가족 규모  \n",
    "begin_month: 신용카드 발급 월 데이터 수집 당시 (0)부터 역으로 셈, 즉, -1은 데이터 수집일 한 달 전에 신용카드를 발급함을 의미\n",
    "credit: 사용자의 신용카드 대금 연체를 기준으로 한 신용도   \n",
    "=> 낮을 수록 높은 신용의 신용카드 사용자를 의미함   \n",
    "\n"
   ]
  },
  {
   "cell_type": "markdown",
   "metadata": {},
   "source": [
    "# DEF 모음"
   ]
  },
  {
   "cell_type": "code",
   "execution_count": 433,
   "metadata": {},
   "outputs": [
    {
     "name": "stdout",
     "output_type": "stream",
     "text": [
      "<class 'pandas.core.frame.DataFrame'>\n",
      "RangeIndex: 26457 entries, 0 to 26456\n",
      "Data columns (total 20 columns):\n",
      " #   Column         Non-Null Count  Dtype  \n",
      "---  ------         --------------  -----  \n",
      " 0   index          26457 non-null  int64  \n",
      " 1   gender         26457 non-null  object \n",
      " 2   car            26457 non-null  object \n",
      " 3   reality        26457 non-null  object \n",
      " 4   child_num      26457 non-null  int64  \n",
      " 5   income_total   26457 non-null  float64\n",
      " 6   income_type    26457 non-null  object \n",
      " 7   edu_type       26457 non-null  object \n",
      " 8   family_type    26457 non-null  object \n",
      " 9   house_type     26457 non-null  object \n",
      " 10  DAYS_BIRTH     26457 non-null  int64  \n",
      " 11  DAYS_EMPLOYED  26457 non-null  int64  \n",
      " 12  FLAG_MOBIL     26457 non-null  int64  \n",
      " 13  work_phone     26457 non-null  int64  \n",
      " 14  phone          26457 non-null  int64  \n",
      " 15  email          26457 non-null  int64  \n",
      " 16  occyp_type     18286 non-null  object \n",
      " 17  family_size    26457 non-null  float64\n",
      " 18  begin_month    26457 non-null  float64\n",
      " 19  credit         26457 non-null  float64\n",
      "dtypes: float64(4), int64(8), object(8)\n",
      "memory usage: 4.0+ MB\n"
     ]
    }
   ],
   "source": [
    "train.info()"
   ]
  },
  {
   "cell_type": "markdown",
   "metadata": {},
   "source": [
    "# **DROP_DATA**"
   ]
  },
  {
   "cell_type": "code",
   "execution_count": 434,
   "metadata": {},
   "outputs": [],
   "source": [
    "train['identity'] = [str(i) + str(j) + str(k) + str(l) + str(m) + str(n)  for i,j,k,l,m,n in zip(train['gender'],train['income_total'],train['income_type'],train['DAYS_BIRTH'],train['DAYS_EMPLOYED'],train['begin_month'])]\n",
    "test['identity'] = [str(i) + str(j) + str(k) + str(l) + str(m) + str(n) for i,j,k,l,m,n in zip(test['gender'],test['income_total'],test['income_type'],test['DAYS_BIRTH'],test['DAYS_EMPLOYED'],test['begin_month'])]"
   ]
  },
  {
   "cell_type": "code",
   "execution_count": 435,
   "metadata": {},
   "outputs": [
    {
     "data": {
      "text/plain": [
       "F112500.0Working-13686-1256-2.0                  True\n",
       "F315000.0Working-13064-2286-33.0                 True\n",
       "F135000.0Pensioner-20752365243-23.0              True\n",
       "M270000.0Working-16896-248-1.0                   True\n",
       "F135000.0Working-8319-689-10.0                   True\n",
       "                                                ...  \n",
       "M225000.0State servant-15108-211-19.0           False\n",
       "F247500.0Working-19852-200-34.0                 False\n",
       "F121500.0State servant-19988-3231-41.0          False\n",
       "F135000.0Commercial associate-19124-670-32.0    False\n",
       "M405000.0State servant-17309-3500-16.0          False\n",
       "Name: identity, Length: 24098, dtype: bool"
      ]
     },
     "execution_count": 435,
     "metadata": {},
     "output_type": "execute_result"
    }
   ],
   "source": [
    "subset = train['identity'].value_counts() > 1\n",
    "subset"
   ]
  },
  {
   "cell_type": "code",
   "execution_count": 436,
   "metadata": {},
   "outputs": [],
   "source": [
    "drop_list = []\n",
    "\n",
    "for i in range(len(subset)):\n",
    "    if subset.values[i] == True:\n",
    "        drop_list.append(subset.index[i])\n",
    "    else:\n",
    "        pass"
   ]
  },
  {
   "cell_type": "code",
   "execution_count": 437,
   "metadata": {},
   "outputs": [
    {
     "name": "stderr",
     "output_type": "stream",
     "text": [
      "100%|██████████| 2150/2150 [00:18<00:00, 117.82it/s]\n"
     ]
    }
   ],
   "source": [
    "for i in tqdm(range(len(drop_list))):\n",
    "    train = train.drop(index = train.loc[train['identity'] == drop_list[i]].sort_values(by=['begin_month']).index[1:] , axis=0)"
   ]
  },
  {
   "cell_type": "code",
   "execution_count": 438,
   "metadata": {},
   "outputs": [
    {
     "data": {
      "text/plain": [
       "(24098, 21)"
      ]
     },
     "execution_count": 438,
     "metadata": {},
     "output_type": "execute_result"
    }
   ],
   "source": [
    "train.shape"
   ]
  },
  {
   "cell_type": "code",
   "execution_count": 439,
   "metadata": {},
   "outputs": [],
   "source": [
    "train = train.drop('identity', axis = 1)\n",
    "test = test.drop('identity', axis = 1)"
   ]
  },
  {
   "cell_type": "markdown",
   "metadata": {},
   "source": [
    "# **Preprocessing**"
   ]
  },
  {
   "cell_type": "markdown",
   "metadata": {},
   "source": [
    "## **0. FLAG_MOBIL**"
   ]
  },
  {
   "cell_type": "code",
   "execution_count": 440,
   "metadata": {},
   "outputs": [],
   "source": [
    "train['FLAG_MOBIL'] = train['FLAG_MOBIL'] - train['work_phone']*0.3 - train['phone']*0.3 - train['email']*0.3\n",
    "test['FLAG_MOBIL'] = test['FLAG_MOBIL'] - test['work_phone']*0.3 - test['phone']*0.3 - test['email']*0.3"
   ]
  },
  {
   "cell_type": "code",
   "execution_count": 441,
   "metadata": {},
   "outputs": [],
   "source": [
    "train['FLAG_MOBIL'] = train['FLAG_MOBIL'].replace([1,0.7,0.39999999999999997,0.09999999999999998], ['A','B','C','D'])\n",
    "test['FLAG_MOBIL'] = test['FLAG_MOBIL'].replace([1,0.7,0.39999999999999997,0.09999999999999998], ['A','B','C','D'])"
   ]
  },
  {
   "cell_type": "code",
   "execution_count": 442,
   "metadata": {},
   "outputs": [
    {
     "data": {
      "text/plain": [
       "A    13253\n",
       "B     7254\n",
       "C     3341\n",
       "D      250\n",
       "Name: FLAG_MOBIL, dtype: int64"
      ]
     },
     "execution_count": 442,
     "metadata": {},
     "output_type": "execute_result"
    }
   ],
   "source": [
    "train['FLAG_MOBIL'].value_counts()"
   ]
  },
  {
   "cell_type": "code",
   "execution_count": 443,
   "metadata": {},
   "outputs": [
    {
     "data": {
      "text/plain": [
       "A    5502\n",
       "B    2984\n",
       "C    1431\n",
       "D      83\n",
       "Name: FLAG_MOBIL, dtype: int64"
      ]
     },
     "execution_count": 443,
     "metadata": {},
     "output_type": "execute_result"
    }
   ],
   "source": [
    "test['FLAG_MOBIL'].value_counts()"
   ]
  },
  {
   "cell_type": "markdown",
   "metadata": {},
   "source": [
    "## **1. DAYS_EMPLOYED**"
   ]
  },
  {
   "cell_type": "code",
   "execution_count": 444,
   "metadata": {},
   "outputs": [
    {
     "data": {
      "text/plain": [
       "365243    4059\n",
       "Name: DAYS_EMPLOYED, dtype: int64"
      ]
     },
     "execution_count": 444,
     "metadata": {},
     "output_type": "execute_result"
    }
   ],
   "source": [
    "train[train['DAYS_EMPLOYED'] > 0]['DAYS_EMPLOYED'].value_counts()"
   ]
  },
  {
   "cell_type": "code",
   "execution_count": 445,
   "metadata": {},
   "outputs": [],
   "source": [
    "train.loc[train['DAYS_EMPLOYED'] > 0,'DAYS_EMPLOYED'] = 0\n",
    "test.loc[test['DAYS_EMPLOYED'] > 0,'DAYS_EMPLOYED'] = 0"
   ]
  },
  {
   "cell_type": "code",
   "execution_count": 446,
   "metadata": {},
   "outputs": [
    {
     "data": {
      "text/plain": [
       "<AxesSubplot:ylabel='Frequency'>"
      ]
     },
     "execution_count": 446,
     "metadata": {},
     "output_type": "execute_result"
    },
    {
     "data": {
      "image/png": "[encoded data removed]",
      "text/plain": [
       "<Figure size 432x288 with 1 Axes>"
      ]
     },
     "metadata": {
      "needs_background": "light"
     },
     "output_type": "display_data"
    }
   ],
   "source": [
    "abs(train.loc[train['DAYS_EMPLOYED'] < 0,'DAYS_EMPLOYED']).plot(kind='hist',bins=50,density=True)"
   ]
  },
  {
   "cell_type": "code",
   "execution_count": 447,
   "metadata": {},
   "outputs": [
    {
     "data": {
      "text/plain": [
       "0        4709\n",
       "1        1540\n",
       "2        4434\n",
       "3        2092\n",
       "4        2105\n",
       "         ... \n",
       "26452    1984\n",
       "26453    2475\n",
       "26454    2015\n",
       "26455     107\n",
       "26456    1013\n",
       "Name: DAYS_EMPLOYED, Length: 24098, dtype: int64"
      ]
     },
     "execution_count": 447,
     "metadata": {},
     "output_type": "execute_result"
    }
   ],
   "source": [
    "train.loc[train['DAYS_EMPLOYED'] < 0,'DAYS_EMPLOYED'] = train.loc[train['DAYS_EMPLOYED'] < 0,'DAYS_EMPLOYED'].abs()\n",
    "test.loc[test['DAYS_EMPLOYED'] < 0,'DAYS_EMPLOYED'] = test.loc[test['DAYS_EMPLOYED'] < 0,'DAYS_EMPLOYED'].abs()\n",
    "train['DAYS_EMPLOYED']"
   ]
  },
  {
   "cell_type": "code",
   "execution_count": 448,
   "metadata": {},
   "outputs": [
    {
     "data": {
      "image/png": "[encoded data removed]",
      "text/plain": [
       "<Figure size 432x288 with 1 Axes>"
      ]
     },
     "metadata": {
      "needs_background": "light"
     },
     "output_type": "display_data"
    }
   ],
   "source": [
    "plt.boxplot(abs(train[train['DAYS_EMPLOYED'] > 0]['DAYS_EMPLOYED']))\n",
    "plt.show()"
   ]
  },
  {
   "cell_type": "code",
   "execution_count": 449,
   "metadata": {},
   "outputs": [
    {
     "name": "stdout",
     "output_type": "stream",
     "text": [
      "Q1 : 969.0 Q3 : 3505.0 IQR : 2536.0\n"
     ]
    }
   ],
   "source": [
    "Q1 = abs(train[train['DAYS_EMPLOYED'] > 0]['DAYS_EMPLOYED'].quantile(0.25))\n",
    "Q2 = abs(train[train['DAYS_EMPLOYED'] > 0]['DAYS_EMPLOYED'].quantile(0.50))\n",
    "Q3 = abs(train[train['DAYS_EMPLOYED'] > 0]['DAYS_EMPLOYED'].quantile(0.75))\n",
    "IQR = Q3 - Q1\n",
    "\n",
    "print(f'Q1 : {Q1} Q3 : {Q3} IQR : {IQR}')"
   ]
  },
  {
   "cell_type": "code",
   "execution_count": 450,
   "metadata": {},
   "outputs": [],
   "source": [
    "train.loc[(train['DAYS_EMPLOYED'] <= Q1 - 1.5 * IQR) | (train['DAYS_EMPLOYED'] >= Q3 + 1.5 *IQR), 'DAYS_EMPLOYED'] = Q3\n",
    "test.loc[(test['DAYS_EMPLOYED'] <= Q1 - 1.5 * IQR) | (test['DAYS_EMPLOYED'] >= Q3 + 1.5 *IQR), 'DAYS_EMPLOYED'] = Q3"
   ]
  },
  {
   "cell_type": "code",
   "execution_count": 451,
   "metadata": {},
   "outputs": [
    {
     "data": {
      "image/png": "[encoded data removed]",
      "text/plain": [
       "<Figure size 432x288 with 1 Axes>"
      ]
     },
     "metadata": {
      "needs_background": "light"
     },
     "output_type": "display_data"
    }
   ],
   "source": [
    "plt.boxplot(abs(train[train['DAYS_EMPLOYED'] > 0]['DAYS_EMPLOYED']))\n",
    "plt.show()"
   ]
  },
  {
   "cell_type": "code",
   "execution_count": 452,
   "metadata": {},
   "outputs": [
    {
     "data": {
      "text/plain": [
       "0.0       4059\n",
       "3505.0    1158\n",
       "401.0       53\n",
       "1539.0      42\n",
       "2087.0      39\n",
       "          ... \n",
       "2582.0       1\n",
       "5404.0       1\n",
       "6372.0       1\n",
       "1452.0       1\n",
       "233.0        1\n",
       "Name: DAYS_EMPLOYED, Length: 3121, dtype: int64"
      ]
     },
     "execution_count": 452,
     "metadata": {},
     "output_type": "execute_result"
    }
   ],
   "source": [
    "train['DAYS_EMPLOYED'].value_counts()"
   ]
  },
  {
   "cell_type": "markdown",
   "metadata": {},
   "source": [
    "## **Begin_month**"
   ]
  },
  {
   "cell_type": "code",
   "execution_count": 453,
   "metadata": {},
   "outputs": [
    {
     "data": {
      "text/plain": [
       "<AxesSubplot:ylabel='Frequency'>"
      ]
     },
     "execution_count": 453,
     "metadata": {},
     "output_type": "execute_result"
    },
    {
     "data": {
      "image/png": "[encoded data removed]",
      "text/plain": [
       "<Figure size 432x288 with 1 Axes>"
      ]
     },
     "metadata": {
      "needs_background": "light"
     },
     "output_type": "display_data"
    }
   ],
   "source": [
    "abs(train['begin_month']).plot(kind='hist', bins = 10)"
   ]
  },
  {
   "cell_type": "code",
   "execution_count": 454,
   "metadata": {},
   "outputs": [],
   "source": [
    "train['begin_month'] = train['begin_month'].abs()\n",
    "test['begin_month'] = test['begin_month'].abs()"
   ]
  },
  {
   "cell_type": "code",
   "execution_count": 455,
   "metadata": {},
   "outputs": [
    {
     "data": {
      "text/plain": [
       "7.0     599\n",
       "3.0     547\n",
       "6.0     545\n",
       "5.0     545\n",
       "11.0    544\n",
       "       ... \n",
       "56.0    223\n",
       "59.0    215\n",
       "0.0     214\n",
       "60.0    210\n",
       "57.0    208\n",
       "Name: begin_month, Length: 61, dtype: int64"
      ]
     },
     "execution_count": 455,
     "metadata": {},
     "output_type": "execute_result"
    }
   ],
   "source": [
    "train['begin_month'].value_counts()"
   ]
  },
  {
   "cell_type": "markdown",
   "metadata": {},
   "source": [
    "## **income_total**"
   ]
  },
  {
   "cell_type": "code",
   "execution_count": 456,
   "metadata": {},
   "outputs": [
    {
     "data": {
      "text/plain": [
       "<AxesSubplot:ylabel='Frequency'>"
      ]
     },
     "execution_count": 456,
     "metadata": {},
     "output_type": "execute_result"
    },
    {
     "data": {
      "image/png": "[encoded data removed]",
      "text/plain": [
       "<Figure size 432x288 with 1 Axes>"
      ]
     },
     "metadata": {
      "needs_background": "light"
     },
     "output_type": "display_data"
    }
   ],
   "source": [
    "(train['income_total']/1000).plot(kind = 'hist', bins = 50)"
   ]
  },
  {
   "cell_type": "code",
   "execution_count": 457,
   "metadata": {},
   "outputs": [
    {
     "data": {
      "image/png": "[encoded data removed]",
      "text/plain": [
       "<Figure size 432x288 with 1 Axes>"
      ]
     },
     "metadata": {
      "needs_background": "light"
     },
     "output_type": "display_data"
    }
   ],
   "source": [
    "plt.boxplot(train['income_total'])\n",
    "plt.show()"
   ]
  },
  {
   "cell_type": "code",
   "execution_count": 458,
   "metadata": {},
   "outputs": [],
   "source": [
    "Q1 = box_value('income_total')[0]\n",
    "Q2 = box_value('income_total')[1]\n",
    "Q3 = box_value('income_total')[2]\n",
    "IQR = box_value('income_total')[3]"
   ]
  },
  {
   "cell_type": "code",
   "execution_count": 459,
   "metadata": {},
   "outputs": [],
   "source": [
    "train.loc[(train['income_total'] <= Q1 - 1.5 * IQR) | (train['income_total'] >= Q3 + 1.5 *IQR), 'income_total'] = Q3 + IQR/3\n",
    "test.loc[(test['income_total'] <= Q1 - 1.5 * IQR) | (test['income_total'] >= Q3 + 1.5 *IQR), 'income_total'] = Q3 + IQR/3"
   ]
  },
  {
   "cell_type": "code",
   "execution_count": 460,
   "metadata": {},
   "outputs": [
    {
     "data": {
      "image/png": "[encoded data removed]",
      "text/plain": [
       "<Figure size 432x288 with 1 Axes>"
      ]
     },
     "metadata": {
      "needs_background": "light"
     },
     "output_type": "display_data"
    }
   ],
   "source": [
    "plt.boxplot(train['income_total'])\n",
    "plt.show()"
   ]
  },
  {
   "cell_type": "code",
   "execution_count": 461,
   "metadata": {},
   "outputs": [
    {
     "data": {
      "text/plain": [
       "135000.0    2869\n",
       "157500.0    2067\n",
       "180000.0    2035\n",
       "112500.0    1993\n",
       "225000.0    1945\n",
       "            ... \n",
       "249750.0       1\n",
       "91530.0        1\n",
       "179271.0       1\n",
       "99900.0        1\n",
       "44550.0        1\n",
       "Name: income_total, Length: 203, dtype: int64"
      ]
     },
     "execution_count": 461,
     "metadata": {},
     "output_type": "execute_result"
    }
   ],
   "source": [
    "train['income_total'].value_counts()"
   ]
  },
  {
   "cell_type": "markdown",
   "metadata": {},
   "source": [
    "## Gender, Car, Reality"
   ]
  },
  {
   "cell_type": "code",
   "execution_count": 462,
   "metadata": {},
   "outputs": [
    {
     "data": {
      "text/plain": [
       "\" train['gender'] = train['gender'].replace(['F','M'],[0,1])\\ntest['gender'] = test['gender'].replace(['F','M'],[0,1])\\nprint('gender :')\\nprint(train['gender'].value_counts())\\nprint('--------------')\\n\\nprint('Having a car or not : ')\\ntrain['car'] = train['car'].replace(['N','Y'],[0,1])\\ntest['car'] = test['car'].replace(['N','Y'],[0,1])\\nprint(train['car'].value_counts())\\nprint('--------------')\\n\\nprint('Having house reality or not: ')\\ntrain['reality'] = train['reality'].replace(['N','Y'],[0,1])\\ntest['reality'] = test['reality'].replace(['N','Y'],[0,1])\\nprint(train['reality'].value_counts())\\nprint('--------------') \""
      ]
     },
     "execution_count": 462,
     "metadata": {},
     "output_type": "execute_result"
    }
   ],
   "source": [
    "\"\"\" train['gender'] = train['gender'].replace(['F','M'],[0,1])\n",
    "test['gender'] = test['gender'].replace(['F','M'],[0,1])\n",
    "print('gender :')\n",
    "print(train['gender'].value_counts())\n",
    "print('--------------')\n",
    "\n",
    "print('Having a car or not : ')\n",
    "train['car'] = train['car'].replace(['N','Y'],[0,1])\n",
    "test['car'] = test['car'].replace(['N','Y'],[0,1])\n",
    "print(train['car'].value_counts())\n",
    "print('--------------')\n",
    "\n",
    "print('Having house reality or not: ')\n",
    "train['reality'] = train['reality'].replace(['N','Y'],[0,1])\n",
    "test['reality'] = test['reality'].replace(['N','Y'],[0,1])\n",
    "print(train['reality'].value_counts())\n",
    "print('--------------') \"\"\""
   ]
  },
  {
   "cell_type": "markdown",
   "metadata": {},
   "source": [
    "## DAYS_BIRTH"
   ]
  },
  {
   "cell_type": "code",
   "execution_count": 463,
   "metadata": {},
   "outputs": [],
   "source": [
    "train['DAYS_BIRTH'] = (train['DAYS_BIRTH'].abs()/365).astype(int)\n",
    "test['DAYS_BIRTH'] = (test['DAYS_BIRTH'].abs()/365).astype(int)"
   ]
  },
  {
   "cell_type": "code",
   "execution_count": 464,
   "metadata": {},
   "outputs": [
    {
     "data": {
      "text/plain": [
       "<AxesSubplot:ylabel='Frequency'>"
      ]
     },
     "execution_count": 464,
     "metadata": {},
     "output_type": "execute_result"
    },
    {
     "data": {
      "image/png": "[encoded data removed]",
      "text/plain": [
       "<Figure size 432x288 with 1 Axes>"
      ]
     },
     "metadata": {
      "needs_background": "light"
     },
     "output_type": "display_data"
    }
   ],
   "source": [
    "train['DAYS_BIRTH'].plot(kind='hist')"
   ]
  },
  {
   "cell_type": "code",
   "execution_count": 465,
   "metadata": {},
   "outputs": [
    {
     "data": {
      "text/plain": [
       "37    825\n",
       "27    752\n",
       "40    739\n",
       "28    737\n",
       "34    718\n",
       "39    716\n",
       "32    709\n",
       "41    683\n",
       "33    679\n",
       "35    668\n",
       "38    667\n",
       "30    665\n",
       "42    661\n",
       "43    639\n",
       "36    634\n",
       "31    632\n",
       "46    616\n",
       "29    614\n",
       "47    607\n",
       "44    604\n",
       "48    569\n",
       "54    568\n",
       "51    567\n",
       "57    554\n",
       "50    541\n",
       "45    534\n",
       "60    531\n",
       "59    526\n",
       "56    522\n",
       "58    509\n",
       "53    502\n",
       "49    493\n",
       "52    491\n",
       "55    437\n",
       "62    406\n",
       "63    368\n",
       "26    363\n",
       "64    362\n",
       "61    356\n",
       "25    316\n",
       "24    259\n",
       "65    220\n",
       "66    181\n",
       "23    152\n",
       "22    102\n",
       "67     77\n",
       "68     22\n",
       "21      5\n",
       "Name: DAYS_BIRTH, dtype: int64"
      ]
     },
     "execution_count": 465,
     "metadata": {},
     "output_type": "execute_result"
    }
   ],
   "source": [
    "train['DAYS_BIRTH'].value_counts()"
   ]
  },
  {
   "cell_type": "markdown",
   "metadata": {},
   "source": [
    "## **family_size**"
   ]
  },
  {
   "cell_type": "code",
   "execution_count": 466,
   "metadata": {},
   "outputs": [
    {
     "data": {
      "text/plain": [
       "2.0     12840\n",
       "1.0      4631\n",
       "3.0      4234\n",
       "4.0      2074\n",
       "5.0       266\n",
       "6.0        38\n",
       "7.0         9\n",
       "15.0        3\n",
       "9.0         2\n",
       "20.0        1\n",
       "Name: family_size, dtype: int64"
      ]
     },
     "execution_count": 466,
     "metadata": {},
     "output_type": "execute_result"
    }
   ],
   "source": [
    "train['family_size'].value_counts()"
   ]
  },
  {
   "cell_type": "code",
   "execution_count": 467,
   "metadata": {},
   "outputs": [
    {
     "data": {
      "text/plain": [
       "2.0    5357\n",
       "1.0    1878\n",
       "3.0    1789\n",
       "4.0     846\n",
       "5.0     106\n",
       "6.0      14\n",
       "7.0      10\n",
       "Name: family_size, dtype: int64"
      ]
     },
     "execution_count": 467,
     "metadata": {},
     "output_type": "execute_result"
    }
   ],
   "source": [
    "test['family_size'].value_counts()"
   ]
  },
  {
   "cell_type": "code",
   "execution_count": 468,
   "metadata": {},
   "outputs": [],
   "source": [
    "train['family_size'] = train['family_size'].replace([5,6,7,8,9,10,11,12,13,14,15,16,17,18,19,20], 4)\n",
    "test['family_size'] = test['family_size'].replace([5,6,7,8,9,10,11,12,13,14,15,16,17,18,19,20], 4)"
   ]
  },
  {
   "cell_type": "code",
   "execution_count": 469,
   "metadata": {},
   "outputs": [],
   "source": [
    "train['family_size'] = train['family_size'].replace({1 : 'A', 2 : 'B', 3 : 'C', 4 : 'D'})\n",
    "test['family_size'] = test['family_size'].replace({1 : 'A', 2 : 'B', 3 : 'C', 4 : 'D'})"
   ]
  },
  {
   "cell_type": "code",
   "execution_count": 470,
   "metadata": {},
   "outputs": [
    {
     "data": {
      "text/plain": [
       "B    12840\n",
       "A     4631\n",
       "C     4234\n",
       "D     2393\n",
       "Name: family_size, dtype: int64"
      ]
     },
     "execution_count": 470,
     "metadata": {},
     "output_type": "execute_result"
    }
   ],
   "source": [
    "train['family_size'].value_counts()"
   ]
  },
  {
   "cell_type": "markdown",
   "metadata": {},
   "source": [
    "## **work_phone**, **phone**, **email**, **FLAG_MOBIL**"
   ]
  },
  {
   "cell_type": "code",
   "execution_count": 471,
   "metadata": {},
   "outputs": [],
   "source": [
    "train['work_phone'] = train['work_phone'].replace([0,1], ['N','Y'])\n",
    "test['work_phone'] = test['work_phone'].replace([0,1], ['N','Y'])\n",
    "\n",
    "train['phone'] = train['phone'].replace([0,1], ['N','Y'])\n",
    "test['phone'] = test['phone'].replace([0,1], ['N','Y'])\n",
    "\n",
    "\n",
    "train['email'] = train['email'].replace([0,1], ['N','Y'])\n",
    "test['email'] = test['email'].replace([0,1], ['N','Y'])\n"
   ]
  },
  {
   "cell_type": "markdown",
   "metadata": {},
   "source": [
    "## **child_num**"
   ]
  },
  {
   "cell_type": "code",
   "execution_count": 472,
   "metadata": {},
   "outputs": [
    {
     "data": {
      "text/plain": [
       "0     16659\n",
       "1      4935\n",
       "2      2167\n",
       "3       280\n",
       "4        41\n",
       "5        10\n",
       "14        3\n",
       "7         2\n",
       "19        1\n",
       "Name: child_num, dtype: int64"
      ]
     },
     "execution_count": 472,
     "metadata": {},
     "output_type": "execute_result"
    }
   ],
   "source": [
    "train['child_num'].value_counts()"
   ]
  },
  {
   "cell_type": "code",
   "execution_count": 473,
   "metadata": {},
   "outputs": [
    {
     "data": {
      "text/plain": [
       "0    6861\n",
       "1    2106\n",
       "2     894\n",
       "3     113\n",
       "4      16\n",
       "5      10\n",
       "Name: child_num, dtype: int64"
      ]
     },
     "execution_count": 473,
     "metadata": {},
     "output_type": "execute_result"
    }
   ],
   "source": [
    "test['child_num'].value_counts()"
   ]
  },
  {
   "cell_type": "code",
   "execution_count": 474,
   "metadata": {},
   "outputs": [],
   "source": [
    "def child_category(value):\n",
    "    ep = ''\n",
    "    if value == 0: ep = 'A'\n",
    "    elif value == 1: ep = 'B'\n",
    "    elif value == 2: ep = 'C'\n",
    "    elif value >= 3: ep = 'D'\n",
    "    \n",
    "    return ep"
   ]
  },
  {
   "cell_type": "code",
   "execution_count": 475,
   "metadata": {},
   "outputs": [],
   "source": [
    "train['child_num'] = train['child_num'].apply(lambda x : child_category(x))\n",
    "test['child_num'] = test['child_num'].apply(lambda x : child_category(x))"
   ]
  },
  {
   "cell_type": "code",
   "execution_count": 476,
   "metadata": {},
   "outputs": [
    {
     "data": {
      "text/plain": [
       "A    16659\n",
       "B     4935\n",
       "C     2167\n",
       "D      337\n",
       "Name: child_num, dtype: int64"
      ]
     },
     "execution_count": 476,
     "metadata": {},
     "output_type": "execute_result"
    }
   ],
   "source": [
    "train['child_num'].value_counts()"
   ]
  },
  {
   "cell_type": "markdown",
   "metadata": {},
   "source": [
    "## **occyp_type**"
   ]
  },
  {
   "cell_type": "code",
   "execution_count": 477,
   "metadata": {},
   "outputs": [
    {
     "data": {
      "text/plain": [
       "array([0, 0, 0, 0, 0, 0, 0, 0, 0, 2, 0, 0, 0, 1, 0, 0, 0, 0])"
      ]
     },
     "execution_count": 477,
     "metadata": {},
     "output_type": "execute_result"
    }
   ],
   "source": [
    "from sklearn.cluster import KMeans\n",
    "\n",
    "train['occyp_type'] = train['occyp_type'].fillna('Secret')\n",
    "test['occyp_type'] = test['occyp_type'].fillna('Secret')\n",
    "\n",
    "subset = pd.crosstab(train['occyp_type'] , train['income_total'])\n",
    "subset['Total'] = subset.sum(axis=1)\n",
    "\n",
    "subset = subset.div(subset['Total'].values, axis = 0)\n",
    "subset = subset.drop('Total', axis = 1)\n",
    "subset = subset.drop('Secret', axis = 0)\n",
    "\n",
    "kmeans = KMeans(n_clusters= 3)\n",
    "kmeans.fit(subset)\n",
    "\n",
    "kmeans.labels_"
   ]
  },
  {
   "cell_type": "code",
   "execution_count": 478,
   "metadata": {},
   "outputs": [
    {
     "data": {
      "text/html": [
       "<div>\n",
       "<style scoped>\n",
       "    .dataframe tbody tr th:only-of-type {\n",
       "        vertical-align: middle;\n",
       "    }\n",
       "\n",
       "    .dataframe tbody tr th {\n",
       "        vertical-align: top;\n",
       "    }\n",
       "\n",
       "    .dataframe thead th {\n",
       "        text-align: right;\n",
       "    }\n",
       "</style>\n",
       "<table border=\"1\" class=\"dataframe\">\n",
       "  <thead>\n",
       "    <tr style=\"text-align: right;\">\n",
       "      <th>income_total</th>\n",
       "      <th>27000.0</th>\n",
       "      <th>29250.0</th>\n",
       "      <th>30150.0</th>\n",
       "      <th>31500.0</th>\n",
       "      <th>31531.5</th>\n",
       "      <th>32400.0</th>\n",
       "      <th>33300.0</th>\n",
       "      <th>33750.0</th>\n",
       "      <th>36000.0</th>\n",
       "      <th>36900.0</th>\n",
       "      <th>...</th>\n",
       "      <th>346500.0</th>\n",
       "      <th>351000.0</th>\n",
       "      <th>355500.0</th>\n",
       "      <th>360000.0</th>\n",
       "      <th>360450.0</th>\n",
       "      <th>364500.0</th>\n",
       "      <th>369000.0</th>\n",
       "      <th>373500.0</th>\n",
       "      <th>378000.0</th>\n",
       "      <th>cluster</th>\n",
       "    </tr>\n",
       "    <tr>\n",
       "      <th>occyp_type</th>\n",
       "      <th></th>\n",
       "      <th></th>\n",
       "      <th></th>\n",
       "      <th></th>\n",
       "      <th></th>\n",
       "      <th></th>\n",
       "      <th></th>\n",
       "      <th></th>\n",
       "      <th></th>\n",
       "      <th></th>\n",
       "      <th></th>\n",
       "      <th></th>\n",
       "      <th></th>\n",
       "      <th></th>\n",
       "      <th></th>\n",
       "      <th></th>\n",
       "      <th></th>\n",
       "      <th></th>\n",
       "      <th></th>\n",
       "      <th></th>\n",
       "      <th></th>\n",
       "    </tr>\n",
       "  </thead>\n",
       "  <tbody>\n",
       "    <tr>\n",
       "      <th>Accountants</th>\n",
       "      <td>0.000000</td>\n",
       "      <td>0.0</td>\n",
       "      <td>0.0</td>\n",
       "      <td>0.000000</td>\n",
       "      <td>0.0</td>\n",
       "      <td>0.000000</td>\n",
       "      <td>0.0</td>\n",
       "      <td>0.0</td>\n",
       "      <td>0.000000</td>\n",
       "      <td>0.000000</td>\n",
       "      <td>...</td>\n",
       "      <td>0.00000</td>\n",
       "      <td>0.000000</td>\n",
       "      <td>0.000000</td>\n",
       "      <td>0.029520</td>\n",
       "      <td>0.0</td>\n",
       "      <td>0.000000</td>\n",
       "      <td>0.000000</td>\n",
       "      <td>0.006150</td>\n",
       "      <td>0.000000</td>\n",
       "      <td>0</td>\n",
       "    </tr>\n",
       "    <tr>\n",
       "      <th>Cleaning staff</th>\n",
       "      <td>0.000000</td>\n",
       "      <td>0.0</td>\n",
       "      <td>0.0</td>\n",
       "      <td>0.010695</td>\n",
       "      <td>0.0</td>\n",
       "      <td>0.000000</td>\n",
       "      <td>0.0</td>\n",
       "      <td>0.0</td>\n",
       "      <td>0.002674</td>\n",
       "      <td>0.000000</td>\n",
       "      <td>...</td>\n",
       "      <td>0.00000</td>\n",
       "      <td>0.000000</td>\n",
       "      <td>0.000000</td>\n",
       "      <td>0.000000</td>\n",
       "      <td>0.0</td>\n",
       "      <td>0.000000</td>\n",
       "      <td>0.000000</td>\n",
       "      <td>0.000000</td>\n",
       "      <td>0.000000</td>\n",
       "      <td>0</td>\n",
       "    </tr>\n",
       "    <tr>\n",
       "      <th>Cooking staff</th>\n",
       "      <td>0.000000</td>\n",
       "      <td>0.0</td>\n",
       "      <td>0.0</td>\n",
       "      <td>0.000000</td>\n",
       "      <td>0.0</td>\n",
       "      <td>0.000000</td>\n",
       "      <td>0.0</td>\n",
       "      <td>0.0</td>\n",
       "      <td>0.000000</td>\n",
       "      <td>0.000000</td>\n",
       "      <td>...</td>\n",
       "      <td>0.00000</td>\n",
       "      <td>0.000000</td>\n",
       "      <td>0.000000</td>\n",
       "      <td>0.021531</td>\n",
       "      <td>0.0</td>\n",
       "      <td>0.000000</td>\n",
       "      <td>0.000000</td>\n",
       "      <td>0.000000</td>\n",
       "      <td>0.000000</td>\n",
       "      <td>0</td>\n",
       "    </tr>\n",
       "    <tr>\n",
       "      <th>Core staff</th>\n",
       "      <td>0.000000</td>\n",
       "      <td>0.0</td>\n",
       "      <td>0.0</td>\n",
       "      <td>0.000000</td>\n",
       "      <td>0.0</td>\n",
       "      <td>0.000000</td>\n",
       "      <td>0.0</td>\n",
       "      <td>0.0</td>\n",
       "      <td>0.000413</td>\n",
       "      <td>0.000000</td>\n",
       "      <td>...</td>\n",
       "      <td>0.00000</td>\n",
       "      <td>0.000000</td>\n",
       "      <td>0.002066</td>\n",
       "      <td>0.014876</td>\n",
       "      <td>0.0</td>\n",
       "      <td>0.000000</td>\n",
       "      <td>0.000000</td>\n",
       "      <td>0.002066</td>\n",
       "      <td>0.000000</td>\n",
       "      <td>0</td>\n",
       "    </tr>\n",
       "    <tr>\n",
       "      <th>Drivers</th>\n",
       "      <td>0.000000</td>\n",
       "      <td>0.0</td>\n",
       "      <td>0.0</td>\n",
       "      <td>0.000000</td>\n",
       "      <td>0.0</td>\n",
       "      <td>0.000000</td>\n",
       "      <td>0.0</td>\n",
       "      <td>0.0</td>\n",
       "      <td>0.000000</td>\n",
       "      <td>0.000000</td>\n",
       "      <td>...</td>\n",
       "      <td>0.00000</td>\n",
       "      <td>0.000000</td>\n",
       "      <td>0.000000</td>\n",
       "      <td>0.033126</td>\n",
       "      <td>0.0</td>\n",
       "      <td>0.000000</td>\n",
       "      <td>0.002070</td>\n",
       "      <td>0.000000</td>\n",
       "      <td>0.000000</td>\n",
       "      <td>0</td>\n",
       "    </tr>\n",
       "    <tr>\n",
       "      <th>HR staff</th>\n",
       "      <td>0.000000</td>\n",
       "      <td>0.0</td>\n",
       "      <td>0.0</td>\n",
       "      <td>0.000000</td>\n",
       "      <td>0.0</td>\n",
       "      <td>0.000000</td>\n",
       "      <td>0.0</td>\n",
       "      <td>0.0</td>\n",
       "      <td>0.000000</td>\n",
       "      <td>0.000000</td>\n",
       "      <td>...</td>\n",
       "      <td>0.00000</td>\n",
       "      <td>0.000000</td>\n",
       "      <td>0.000000</td>\n",
       "      <td>0.000000</td>\n",
       "      <td>0.0</td>\n",
       "      <td>0.000000</td>\n",
       "      <td>0.000000</td>\n",
       "      <td>0.000000</td>\n",
       "      <td>0.000000</td>\n",
       "      <td>0</td>\n",
       "    </tr>\n",
       "    <tr>\n",
       "      <th>High skill tech staff</th>\n",
       "      <td>0.000000</td>\n",
       "      <td>0.0</td>\n",
       "      <td>0.0</td>\n",
       "      <td>0.000000</td>\n",
       "      <td>0.0</td>\n",
       "      <td>0.000000</td>\n",
       "      <td>0.0</td>\n",
       "      <td>0.0</td>\n",
       "      <td>0.000000</td>\n",
       "      <td>0.000000</td>\n",
       "      <td>...</td>\n",
       "      <td>0.00000</td>\n",
       "      <td>0.000000</td>\n",
       "      <td>0.000000</td>\n",
       "      <td>0.022129</td>\n",
       "      <td>0.0</td>\n",
       "      <td>0.000000</td>\n",
       "      <td>0.000000</td>\n",
       "      <td>0.000000</td>\n",
       "      <td>0.000000</td>\n",
       "      <td>0</td>\n",
       "    </tr>\n",
       "    <tr>\n",
       "      <th>IT staff</th>\n",
       "      <td>0.000000</td>\n",
       "      <td>0.0</td>\n",
       "      <td>0.0</td>\n",
       "      <td>0.000000</td>\n",
       "      <td>0.0</td>\n",
       "      <td>0.000000</td>\n",
       "      <td>0.0</td>\n",
       "      <td>0.0</td>\n",
       "      <td>0.000000</td>\n",
       "      <td>0.000000</td>\n",
       "      <td>...</td>\n",
       "      <td>0.00000</td>\n",
       "      <td>0.000000</td>\n",
       "      <td>0.000000</td>\n",
       "      <td>0.000000</td>\n",
       "      <td>0.0</td>\n",
       "      <td>0.000000</td>\n",
       "      <td>0.000000</td>\n",
       "      <td>0.000000</td>\n",
       "      <td>0.000000</td>\n",
       "      <td>0</td>\n",
       "    </tr>\n",
       "    <tr>\n",
       "      <th>Laborers</th>\n",
       "      <td>0.000000</td>\n",
       "      <td>0.0</td>\n",
       "      <td>0.0</td>\n",
       "      <td>0.000000</td>\n",
       "      <td>0.0</td>\n",
       "      <td>0.000000</td>\n",
       "      <td>0.0</td>\n",
       "      <td>0.0</td>\n",
       "      <td>0.000485</td>\n",
       "      <td>0.000485</td>\n",
       "      <td>...</td>\n",
       "      <td>0.00097</td>\n",
       "      <td>0.000243</td>\n",
       "      <td>0.000000</td>\n",
       "      <td>0.011885</td>\n",
       "      <td>0.0</td>\n",
       "      <td>0.000485</td>\n",
       "      <td>0.000000</td>\n",
       "      <td>0.000000</td>\n",
       "      <td>0.000000</td>\n",
       "      <td>0</td>\n",
       "    </tr>\n",
       "    <tr>\n",
       "      <th>Low-skill Laborers</th>\n",
       "      <td>0.000000</td>\n",
       "      <td>0.0</td>\n",
       "      <td>0.0</td>\n",
       "      <td>0.000000</td>\n",
       "      <td>0.0</td>\n",
       "      <td>0.000000</td>\n",
       "      <td>0.0</td>\n",
       "      <td>0.0</td>\n",
       "      <td>0.000000</td>\n",
       "      <td>0.000000</td>\n",
       "      <td>...</td>\n",
       "      <td>0.00000</td>\n",
       "      <td>0.000000</td>\n",
       "      <td>0.000000</td>\n",
       "      <td>0.000000</td>\n",
       "      <td>0.0</td>\n",
       "      <td>0.000000</td>\n",
       "      <td>0.000000</td>\n",
       "      <td>0.000000</td>\n",
       "      <td>0.000000</td>\n",
       "      <td>2</td>\n",
       "    </tr>\n",
       "    <tr>\n",
       "      <th>Managers</th>\n",
       "      <td>0.000512</td>\n",
       "      <td>0.0</td>\n",
       "      <td>0.0</td>\n",
       "      <td>0.000000</td>\n",
       "      <td>0.0</td>\n",
       "      <td>0.001025</td>\n",
       "      <td>0.0</td>\n",
       "      <td>0.0</td>\n",
       "      <td>0.000000</td>\n",
       "      <td>0.000000</td>\n",
       "      <td>...</td>\n",
       "      <td>0.00000</td>\n",
       "      <td>0.000512</td>\n",
       "      <td>0.000000</td>\n",
       "      <td>0.067623</td>\n",
       "      <td>0.0</td>\n",
       "      <td>0.000000</td>\n",
       "      <td>0.000000</td>\n",
       "      <td>0.000000</td>\n",
       "      <td>0.000000</td>\n",
       "      <td>0</td>\n",
       "    </tr>\n",
       "    <tr>\n",
       "      <th>Medicine staff</th>\n",
       "      <td>0.000000</td>\n",
       "      <td>0.0</td>\n",
       "      <td>0.0</td>\n",
       "      <td>0.000000</td>\n",
       "      <td>0.0</td>\n",
       "      <td>0.000000</td>\n",
       "      <td>0.0</td>\n",
       "      <td>0.0</td>\n",
       "      <td>0.000000</td>\n",
       "      <td>0.000000</td>\n",
       "      <td>...</td>\n",
       "      <td>0.00000</td>\n",
       "      <td>0.008827</td>\n",
       "      <td>0.000000</td>\n",
       "      <td>0.013871</td>\n",
       "      <td>0.0</td>\n",
       "      <td>0.000000</td>\n",
       "      <td>0.002522</td>\n",
       "      <td>0.000000</td>\n",
       "      <td>0.000000</td>\n",
       "      <td>0</td>\n",
       "    </tr>\n",
       "    <tr>\n",
       "      <th>Private service staff</th>\n",
       "      <td>0.000000</td>\n",
       "      <td>0.0</td>\n",
       "      <td>0.0</td>\n",
       "      <td>0.000000</td>\n",
       "      <td>0.0</td>\n",
       "      <td>0.000000</td>\n",
       "      <td>0.0</td>\n",
       "      <td>0.0</td>\n",
       "      <td>0.000000</td>\n",
       "      <td>0.000000</td>\n",
       "      <td>...</td>\n",
       "      <td>0.00000</td>\n",
       "      <td>0.018100</td>\n",
       "      <td>0.000000</td>\n",
       "      <td>0.018100</td>\n",
       "      <td>0.0</td>\n",
       "      <td>0.000000</td>\n",
       "      <td>0.000000</td>\n",
       "      <td>0.000000</td>\n",
       "      <td>0.000000</td>\n",
       "      <td>0</td>\n",
       "    </tr>\n",
       "    <tr>\n",
       "      <th>Realty agents</th>\n",
       "      <td>0.000000</td>\n",
       "      <td>0.0</td>\n",
       "      <td>0.0</td>\n",
       "      <td>0.000000</td>\n",
       "      <td>0.0</td>\n",
       "      <td>0.000000</td>\n",
       "      <td>0.0</td>\n",
       "      <td>0.0</td>\n",
       "      <td>0.000000</td>\n",
       "      <td>0.000000</td>\n",
       "      <td>...</td>\n",
       "      <td>0.00000</td>\n",
       "      <td>0.000000</td>\n",
       "      <td>0.000000</td>\n",
       "      <td>0.000000</td>\n",
       "      <td>0.0</td>\n",
       "      <td>0.000000</td>\n",
       "      <td>0.000000</td>\n",
       "      <td>0.000000</td>\n",
       "      <td>0.000000</td>\n",
       "      <td>1</td>\n",
       "    </tr>\n",
       "    <tr>\n",
       "      <th>Sales staff</th>\n",
       "      <td>0.000000</td>\n",
       "      <td>0.0</td>\n",
       "      <td>0.0</td>\n",
       "      <td>0.000000</td>\n",
       "      <td>0.0</td>\n",
       "      <td>0.000000</td>\n",
       "      <td>0.0</td>\n",
       "      <td>0.0</td>\n",
       "      <td>0.000000</td>\n",
       "      <td>0.000000</td>\n",
       "      <td>...</td>\n",
       "      <td>0.00000</td>\n",
       "      <td>0.000000</td>\n",
       "      <td>0.000000</td>\n",
       "      <td>0.015184</td>\n",
       "      <td>0.0</td>\n",
       "      <td>0.000434</td>\n",
       "      <td>0.000000</td>\n",
       "      <td>0.000000</td>\n",
       "      <td>0.000000</td>\n",
       "      <td>0</td>\n",
       "    </tr>\n",
       "    <tr>\n",
       "      <th>Secretaries</th>\n",
       "      <td>0.000000</td>\n",
       "      <td>0.0</td>\n",
       "      <td>0.0</td>\n",
       "      <td>0.000000</td>\n",
       "      <td>0.0</td>\n",
       "      <td>0.000000</td>\n",
       "      <td>0.0</td>\n",
       "      <td>0.0</td>\n",
       "      <td>0.000000</td>\n",
       "      <td>0.000000</td>\n",
       "      <td>...</td>\n",
       "      <td>0.00000</td>\n",
       "      <td>0.000000</td>\n",
       "      <td>0.000000</td>\n",
       "      <td>0.000000</td>\n",
       "      <td>0.0</td>\n",
       "      <td>0.000000</td>\n",
       "      <td>0.000000</td>\n",
       "      <td>0.000000</td>\n",
       "      <td>0.000000</td>\n",
       "      <td>0</td>\n",
       "    </tr>\n",
       "    <tr>\n",
       "      <th>Security staff</th>\n",
       "      <td>0.002558</td>\n",
       "      <td>0.0</td>\n",
       "      <td>0.0</td>\n",
       "      <td>0.000000</td>\n",
       "      <td>0.0</td>\n",
       "      <td>0.000000</td>\n",
       "      <td>0.0</td>\n",
       "      <td>0.0</td>\n",
       "      <td>0.000000</td>\n",
       "      <td>0.000000</td>\n",
       "      <td>...</td>\n",
       "      <td>0.00000</td>\n",
       "      <td>0.000000</td>\n",
       "      <td>0.000000</td>\n",
       "      <td>0.005115</td>\n",
       "      <td>0.0</td>\n",
       "      <td>0.000000</td>\n",
       "      <td>0.000000</td>\n",
       "      <td>0.000000</td>\n",
       "      <td>0.012788</td>\n",
       "      <td>0</td>\n",
       "    </tr>\n",
       "    <tr>\n",
       "      <th>Waiters/barmen staff</th>\n",
       "      <td>0.000000</td>\n",
       "      <td>0.0</td>\n",
       "      <td>0.0</td>\n",
       "      <td>0.000000</td>\n",
       "      <td>0.0</td>\n",
       "      <td>0.000000</td>\n",
       "      <td>0.0</td>\n",
       "      <td>0.0</td>\n",
       "      <td>0.000000</td>\n",
       "      <td>0.000000</td>\n",
       "      <td>...</td>\n",
       "      <td>0.00000</td>\n",
       "      <td>0.000000</td>\n",
       "      <td>0.000000</td>\n",
       "      <td>0.042735</td>\n",
       "      <td>0.0</td>\n",
       "      <td>0.000000</td>\n",
       "      <td>0.000000</td>\n",
       "      <td>0.000000</td>\n",
       "      <td>0.000000</td>\n",
       "      <td>0</td>\n",
       "    </tr>\n",
       "  </tbody>\n",
       "</table>\n",
       "<p>18 rows × 204 columns</p>\n",
       "</div>"
      ],
      "text/plain": [
       "income_total            27000.0  29250.0  30150.0   31500.0  31531.5  \\\n",
       "occyp_type                                                             \n",
       "Accountants            0.000000      0.0      0.0  0.000000      0.0   \n",
       "Cleaning staff         0.000000      0.0      0.0  0.010695      0.0   \n",
       "Cooking staff          0.000000      0.0      0.0  0.000000      0.0   \n",
       "Core staff             0.000000      0.0      0.0  0.000000      0.0   \n",
       "Drivers                0.000000      0.0      0.0  0.000000      0.0   \n",
       "HR staff               0.000000      0.0      0.0  0.000000      0.0   \n",
       "High skill tech staff  0.000000      0.0      0.0  0.000000      0.0   \n",
       "IT staff               0.000000      0.0      0.0  0.000000      0.0   \n",
       "Laborers               0.000000      0.0      0.0  0.000000      0.0   \n",
       "Low-skill Laborers     0.000000      0.0      0.0  0.000000      0.0   \n",
       "Managers               0.000512      0.0      0.0  0.000000      0.0   \n",
       "Medicine staff         0.000000      0.0      0.0  0.000000      0.0   \n",
       "Private service staff  0.000000      0.0      0.0  0.000000      0.0   \n",
       "Realty agents          0.000000      0.0      0.0  0.000000      0.0   \n",
       "Sales staff            0.000000      0.0      0.0  0.000000      0.0   \n",
       "Secretaries            0.000000      0.0      0.0  0.000000      0.0   \n",
       "Security staff         0.002558      0.0      0.0  0.000000      0.0   \n",
       "Waiters/barmen staff   0.000000      0.0      0.0  0.000000      0.0   \n",
       "\n",
       "income_total            32400.0  33300.0  33750.0   36000.0   36900.0  ...  \\\n",
       "occyp_type                                                             ...   \n",
       "Accountants            0.000000      0.0      0.0  0.000000  0.000000  ...   \n",
       "Cleaning staff         0.000000      0.0      0.0  0.002674  0.000000  ...   \n",
       "Cooking staff          0.000000      0.0      0.0  0.000000  0.000000  ...   \n",
       "Core staff             0.000000      0.0      0.0  0.000413  0.000000  ...   \n",
       "Drivers                0.000000      0.0      0.0  0.000000  0.000000  ...   \n",
       "HR staff               0.000000      0.0      0.0  0.000000  0.000000  ...   \n",
       "High skill tech staff  0.000000      0.0      0.0  0.000000  0.000000  ...   \n",
       "IT staff               0.000000      0.0      0.0  0.000000  0.000000  ...   \n",
       "Laborers               0.000000      0.0      0.0  0.000485  0.000485  ...   \n",
       "Low-skill Laborers     0.000000      0.0      0.0  0.000000  0.000000  ...   \n",
       "Managers               0.001025      0.0      0.0  0.000000  0.000000  ...   \n",
       "Medicine staff         0.000000      0.0      0.0  0.000000  0.000000  ...   \n",
       "Private service staff  0.000000      0.0      0.0  0.000000  0.000000  ...   \n",
       "Realty agents          0.000000      0.0      0.0  0.000000  0.000000  ...   \n",
       "Sales staff            0.000000      0.0      0.0  0.000000  0.000000  ...   \n",
       "Secretaries            0.000000      0.0      0.0  0.000000  0.000000  ...   \n",
       "Security staff         0.000000      0.0      0.0  0.000000  0.000000  ...   \n",
       "Waiters/barmen staff   0.000000      0.0      0.0  0.000000  0.000000  ...   \n",
       "\n",
       "income_total           346500.0  351000.0  355500.0  360000.0  360450.0  \\\n",
       "occyp_type                                                                \n",
       "Accountants             0.00000  0.000000  0.000000  0.029520       0.0   \n",
       "Cleaning staff          0.00000  0.000000  0.000000  0.000000       0.0   \n",
       "Cooking staff           0.00000  0.000000  0.000000  0.021531       0.0   \n",
       "Core staff              0.00000  0.000000  0.002066  0.014876       0.0   \n",
       "Drivers                 0.00000  0.000000  0.000000  0.033126       0.0   \n",
       "HR staff                0.00000  0.000000  0.000000  0.000000       0.0   \n",
       "High skill tech staff   0.00000  0.000000  0.000000  0.022129       0.0   \n",
       "IT staff                0.00000  0.000000  0.000000  0.000000       0.0   \n",
       "Laborers                0.00097  0.000243  0.000000  0.011885       0.0   \n",
       "Low-skill Laborers      0.00000  0.000000  0.000000  0.000000       0.0   \n",
       "Managers                0.00000  0.000512  0.000000  0.067623       0.0   \n",
       "Medicine staff          0.00000  0.008827  0.000000  0.013871       0.0   \n",
       "Private service staff   0.00000  0.018100  0.000000  0.018100       0.0   \n",
       "Realty agents           0.00000  0.000000  0.000000  0.000000       0.0   \n",
       "Sales staff             0.00000  0.000000  0.000000  0.015184       0.0   \n",
       "Secretaries             0.00000  0.000000  0.000000  0.000000       0.0   \n",
       "Security staff          0.00000  0.000000  0.000000  0.005115       0.0   \n",
       "Waiters/barmen staff    0.00000  0.000000  0.000000  0.042735       0.0   \n",
       "\n",
       "income_total           364500.0  369000.0  373500.0  378000.0  cluster  \n",
       "occyp_type                                                              \n",
       "Accountants            0.000000  0.000000  0.006150  0.000000        0  \n",
       "Cleaning staff         0.000000  0.000000  0.000000  0.000000        0  \n",
       "Cooking staff          0.000000  0.000000  0.000000  0.000000        0  \n",
       "Core staff             0.000000  0.000000  0.002066  0.000000        0  \n",
       "Drivers                0.000000  0.002070  0.000000  0.000000        0  \n",
       "HR staff               0.000000  0.000000  0.000000  0.000000        0  \n",
       "High skill tech staff  0.000000  0.000000  0.000000  0.000000        0  \n",
       "IT staff               0.000000  0.000000  0.000000  0.000000        0  \n",
       "Laborers               0.000485  0.000000  0.000000  0.000000        0  \n",
       "Low-skill Laborers     0.000000  0.000000  0.000000  0.000000        2  \n",
       "Managers               0.000000  0.000000  0.000000  0.000000        0  \n",
       "Medicine staff         0.000000  0.002522  0.000000  0.000000        0  \n",
       "Private service staff  0.000000  0.000000  0.000000  0.000000        0  \n",
       "Realty agents          0.000000  0.000000  0.000000  0.000000        1  \n",
       "Sales staff            0.000434  0.000000  0.000000  0.000000        0  \n",
       "Secretaries            0.000000  0.000000  0.000000  0.000000        0  \n",
       "Security staff         0.000000  0.000000  0.000000  0.012788        0  \n",
       "Waiters/barmen staff   0.000000  0.000000  0.000000  0.000000        0  \n",
       "\n",
       "[18 rows x 204 columns]"
      ]
     },
     "execution_count": 478,
     "metadata": {},
     "output_type": "execute_result"
    }
   ],
   "source": [
    "subset['cluster'] = kmeans.labels_\n",
    "subset"
   ]
  },
  {
   "cell_type": "code",
   "execution_count": 479,
   "metadata": {},
   "outputs": [
    {
     "data": {
      "text/plain": [
       "Index(['Accountants', 'Cleaning staff', 'Cooking staff', 'Core staff',\n",
       "       'Drivers', 'HR staff', 'High skill tech staff', 'IT staff', 'Laborers',\n",
       "       'Managers', 'Medicine staff', 'Private service staff', 'Sales staff',\n",
       "       'Secretaries', 'Security staff', 'Waiters/barmen staff'],\n",
       "      dtype='object', name='occyp_type')"
      ]
     },
     "execution_count": 479,
     "metadata": {},
     "output_type": "execute_result"
    }
   ],
   "source": [
    "subset[subset['cluster']== 0].index"
   ]
  },
  {
   "cell_type": "code",
   "execution_count": 480,
   "metadata": {},
   "outputs": [],
   "source": [
    "train['occyp_type'] = train['occyp_type'].replace('Secret' , 'A')\n",
    "train['occyp_type'] = train['occyp_type'].replace(['Accountants', 'Core staff', 'Drivers', 'HR staff','High skill tech staff', 'IT staff', 'Laborers','Private service staff', 'Sales staff', 'Security staff'],\n",
    " 'B')\n",
    "train['occyp_type'] = train['occyp_type'].replace(['Cooking staff', 'Cleaning staff','Low-skill Laborers', 'Medicine staff', 'Secretaries','Waiters/barmen staff'], 'C')\n",
    "train['occyp_type'] = train['occyp_type'].replace(['Realty agents','Managers'], 'D')"
   ]
  },
  {
   "cell_type": "code",
   "execution_count": 481,
   "metadata": {},
   "outputs": [],
   "source": [
    "test['occyp_type'] = test['occyp_type'].replace('Secret' , 'A')\n",
    "test['occyp_type'] = test['occyp_type'].replace(['Accountants', 'Core staff', 'Drivers', 'HR staff','High skill tech staff', 'IT staff', 'Laborers','Private service staff', 'Sales staff', 'Security staff'],\n",
    " 'B')\n",
    "test['occyp_type'] = test['occyp_type'].replace(['Cooking staff', 'Cleaning staff','Low-skill Laborers', 'Medicine staff', 'Secretaries','Waiters/barmen staff'], 'C')\n",
    "test['occyp_type'] = test['occyp_type'].replace(['Realty agents','Managers'], 'D')"
   ]
  },
  {
   "cell_type": "code",
   "execution_count": 482,
   "metadata": {},
   "outputs": [
    {
     "data": {
      "text/plain": [
       "B    12768\n",
       "A     7415\n",
       "D     2008\n",
       "C     1907\n",
       "Name: occyp_type, dtype: int64"
      ]
     },
     "execution_count": 482,
     "metadata": {},
     "output_type": "execute_result"
    }
   ],
   "source": [
    "train['occyp_type'].value_counts()"
   ]
  },
  {
   "cell_type": "code",
   "execution_count": 483,
   "metadata": {},
   "outputs": [
    {
     "data": {
      "text/plain": [
       "B    5146\n",
       "A    3152\n",
       "D     861\n",
       "C     841\n",
       "Name: occyp_type, dtype: int64"
      ]
     },
     "execution_count": 483,
     "metadata": {},
     "output_type": "execute_result"
    }
   ],
   "source": [
    "test['occyp_type'].value_counts()"
   ]
  },
  {
   "cell_type": "code",
   "execution_count": 484,
   "metadata": {},
   "outputs": [],
   "source": [
    "train.to_csv('train_2.csv')\n",
    "test.to_csv('test_2.csv')"
   ]
  },
  {
   "cell_type": "markdown",
   "metadata": {},
   "source": [
    "## **중간시작**"
   ]
  },
  {
   "cell_type": "code",
   "execution_count": 485,
   "metadata": {},
   "outputs": [],
   "source": [
    "train = pd.read_csv('train_2.csv', index_col = 'Unnamed: 0')\n",
    "test = pd.read_csv('test_2.csv', index_col = 'Unnamed: 0')"
   ]
  },
  {
   "cell_type": "markdown",
   "metadata": {},
   "source": [
    "# **ENCODING**"
   ]
  },
  {
   "cell_type": "code",
   "execution_count": 486,
   "metadata": {},
   "outputs": [
    {
     "data": {
      "text/plain": [
       "[array([ 0,  1,  2,  3,  4,  5,  7, 14, 19], dtype=int64),\n",
       " array([ 1.,  2.,  3.,  4.,  5.,  6.,  7.,  9., 15., 20.]),\n",
       " array([ 0,  1,  2,  3,  4,  5,  7, 14, 19], dtype=int64),\n",
       " array([ 1.,  2.,  3.,  4.,  5.,  6.,  7.,  9., 15., 20.])]"
      ]
     },
     "execution_count": 486,
     "metadata": {},
     "output_type": "execute_result"
    }
   ],
   "source": [
    "encoder = OrdinalEncoder()\n",
    "encoder.fit(train_x[['child_num','family_size','child_num','family_size']])\n",
    "\n",
    "train_x[['child_num','family_size','child_num','family_size']] = encoder.transform(train_x[['child_num','family_size','child_num','family_size']])\n",
    "encoder.categories_"
   ]
  },
  {
   "cell_type": "code",
   "execution_count": 487,
   "metadata": {},
   "outputs": [
    {
     "data": {
      "text/plain": [
       "[array([0, 1, 2, 3, 4, 5], dtype=int64),\n",
       " array([1., 2., 3., 4., 5., 6., 7.]),\n",
       " array([0, 1, 2, 3, 4, 5], dtype=int64),\n",
       " array([1., 2., 3., 4., 5., 6., 7.])]"
      ]
     },
     "execution_count": 487,
     "metadata": {},
     "output_type": "execute_result"
    }
   ],
   "source": [
    "encoder.fit(test_x[['child_num','family_size','child_num','family_size']])\n",
    "\n",
    "test_x[['child_num','family_size','child_num','family_size']] = encoder.transform(test_x[['child_num','family_size','child_num','family_size']])\n",
    "encoder.categories_"
   ]
  },
  {
   "cell_type": "code",
   "execution_count": 488,
   "metadata": {},
   "outputs": [],
   "source": [
    "train_x = pd.get_dummies(train_x,drop_first= True)\n",
    "test_x = pd.get_dummies(test_x,drop_first= True)"
   ]
  },
  {
   "cell_type": "code",
   "execution_count": 490,
   "metadata": {},
   "outputs": [
    {
     "name": "stdout",
     "output_type": "stream",
     "text": [
      "After OverSampling, the shape of train_X: (50904, 47)\n",
      "After OverSampling, the shape of train_y: (50904, 47) \n",
      "\n"
     ]
    }
   ],
   "source": [
    "# 모델설정\n",
    "sm = SMOTE()\n",
    "\n",
    "# train데이터를 넣어 복제함\n",
    "X_resampled, y_resampled = sm.fit_resample(train_x,train_y)\n",
    "\n",
    "print('After OverSampling, the shape of train_X: {}'.format(X_resampled.shape))\n",
    "print('After OverSampling, the shape of train_y: {} \\n'.format(X_resampled.shape))"
   ]
  },
  {
   "cell_type": "code",
   "execution_count": 411,
   "metadata": {},
   "outputs": [
    {
     "data": {
      "text/html": [
       "<div>\n",
       "<style scoped>\n",
       "    .dataframe tbody tr th:only-of-type {\n",
       "        vertical-align: middle;\n",
       "    }\n",
       "\n",
       "    .dataframe tbody tr th {\n",
       "        vertical-align: top;\n",
       "    }\n",
       "\n",
       "    .dataframe thead th {\n",
       "        text-align: right;\n",
       "    }\n",
       "</style>\n",
       "<table border=\"1\" class=\"dataframe\">\n",
       "  <thead>\n",
       "    <tr style=\"text-align: right;\">\n",
       "      <th></th>\n",
       "      <th>child_num</th>\n",
       "      <th>income_total</th>\n",
       "      <th>DAYS_BIRTH</th>\n",
       "      <th>DAYS_EMPLOYED</th>\n",
       "      <th>family_size</th>\n",
       "      <th>begin_month</th>\n",
       "      <th>gender_M</th>\n",
       "      <th>car_Y</th>\n",
       "      <th>reality_Y</th>\n",
       "      <th>income_type_Pensioner</th>\n",
       "      <th>...</th>\n",
       "      <th>house_type_With parents</th>\n",
       "      <th>FLAG_MOBIL_B</th>\n",
       "      <th>FLAG_MOBIL_C</th>\n",
       "      <th>FLAG_MOBIL_D</th>\n",
       "      <th>work_phone_Y</th>\n",
       "      <th>phone_Y</th>\n",
       "      <th>email_Y</th>\n",
       "      <th>occyp_type_B</th>\n",
       "      <th>occyp_type_C</th>\n",
       "      <th>occyp_type_D</th>\n",
       "    </tr>\n",
       "  </thead>\n",
       "  <tbody>\n",
       "    <tr>\n",
       "      <th>0</th>\n",
       "      <td>0.0</td>\n",
       "      <td>202500.0</td>\n",
       "      <td>38</td>\n",
       "      <td>4709.0</td>\n",
       "      <td>1.0</td>\n",
       "      <td>6.0</td>\n",
       "      <td>0</td>\n",
       "      <td>0</td>\n",
       "      <td>0</td>\n",
       "      <td>0</td>\n",
       "      <td>...</td>\n",
       "      <td>0</td>\n",
       "      <td>0</td>\n",
       "      <td>0</td>\n",
       "      <td>0</td>\n",
       "      <td>0</td>\n",
       "      <td>0</td>\n",
       "      <td>0</td>\n",
       "      <td>0</td>\n",
       "      <td>0</td>\n",
       "      <td>0</td>\n",
       "    </tr>\n",
       "    <tr>\n",
       "      <th>1</th>\n",
       "      <td>1.0</td>\n",
       "      <td>247500.0</td>\n",
       "      <td>31</td>\n",
       "      <td>1540.0</td>\n",
       "      <td>2.0</td>\n",
       "      <td>5.0</td>\n",
       "      <td>0</td>\n",
       "      <td>0</td>\n",
       "      <td>1</td>\n",
       "      <td>0</td>\n",
       "      <td>...</td>\n",
       "      <td>0</td>\n",
       "      <td>1</td>\n",
       "      <td>0</td>\n",
       "      <td>0</td>\n",
       "      <td>0</td>\n",
       "      <td>0</td>\n",
       "      <td>1</td>\n",
       "      <td>1</td>\n",
       "      <td>0</td>\n",
       "      <td>0</td>\n",
       "    </tr>\n",
       "    <tr>\n",
       "      <th>2</th>\n",
       "      <td>0.0</td>\n",
       "      <td>259500.0</td>\n",
       "      <td>52</td>\n",
       "      <td>4434.0</td>\n",
       "      <td>1.0</td>\n",
       "      <td>22.0</td>\n",
       "      <td>1</td>\n",
       "      <td>1</td>\n",
       "      <td>1</td>\n",
       "      <td>0</td>\n",
       "      <td>...</td>\n",
       "      <td>0</td>\n",
       "      <td>1</td>\n",
       "      <td>0</td>\n",
       "      <td>0</td>\n",
       "      <td>0</td>\n",
       "      <td>1</td>\n",
       "      <td>0</td>\n",
       "      <td>0</td>\n",
       "      <td>0</td>\n",
       "      <td>1</td>\n",
       "    </tr>\n",
       "    <tr>\n",
       "      <th>3</th>\n",
       "      <td>0.0</td>\n",
       "      <td>202500.0</td>\n",
       "      <td>41</td>\n",
       "      <td>2092.0</td>\n",
       "      <td>1.0</td>\n",
       "      <td>37.0</td>\n",
       "      <td>0</td>\n",
       "      <td>0</td>\n",
       "      <td>1</td>\n",
       "      <td>0</td>\n",
       "      <td>...</td>\n",
       "      <td>0</td>\n",
       "      <td>1</td>\n",
       "      <td>0</td>\n",
       "      <td>0</td>\n",
       "      <td>0</td>\n",
       "      <td>1</td>\n",
       "      <td>0</td>\n",
       "      <td>1</td>\n",
       "      <td>0</td>\n",
       "      <td>0</td>\n",
       "    </tr>\n",
       "    <tr>\n",
       "      <th>4</th>\n",
       "      <td>0.0</td>\n",
       "      <td>157500.0</td>\n",
       "      <td>41</td>\n",
       "      <td>2105.0</td>\n",
       "      <td>1.0</td>\n",
       "      <td>26.0</td>\n",
       "      <td>0</td>\n",
       "      <td>1</td>\n",
       "      <td>1</td>\n",
       "      <td>0</td>\n",
       "      <td>...</td>\n",
       "      <td>0</td>\n",
       "      <td>0</td>\n",
       "      <td>0</td>\n",
       "      <td>0</td>\n",
       "      <td>0</td>\n",
       "      <td>0</td>\n",
       "      <td>0</td>\n",
       "      <td>0</td>\n",
       "      <td>0</td>\n",
       "      <td>1</td>\n",
       "    </tr>\n",
       "    <tr>\n",
       "      <th>...</th>\n",
       "      <td>...</td>\n",
       "      <td>...</td>\n",
       "      <td>...</td>\n",
       "      <td>...</td>\n",
       "      <td>...</td>\n",
       "      <td>...</td>\n",
       "      <td>...</td>\n",
       "      <td>...</td>\n",
       "      <td>...</td>\n",
       "      <td>...</td>\n",
       "      <td>...</td>\n",
       "      <td>...</td>\n",
       "      <td>...</td>\n",
       "      <td>...</td>\n",
       "      <td>...</td>\n",
       "      <td>...</td>\n",
       "      <td>...</td>\n",
       "      <td>...</td>\n",
       "      <td>...</td>\n",
       "      <td>...</td>\n",
       "      <td>...</td>\n",
       "    </tr>\n",
       "    <tr>\n",
       "      <th>26452</th>\n",
       "      <td>2.0</td>\n",
       "      <td>225000.0</td>\n",
       "      <td>33</td>\n",
       "      <td>1984.0</td>\n",
       "      <td>3.0</td>\n",
       "      <td>2.0</td>\n",
       "      <td>0</td>\n",
       "      <td>0</td>\n",
       "      <td>0</td>\n",
       "      <td>0</td>\n",
       "      <td>...</td>\n",
       "      <td>0</td>\n",
       "      <td>0</td>\n",
       "      <td>0</td>\n",
       "      <td>0</td>\n",
       "      <td>0</td>\n",
       "      <td>0</td>\n",
       "      <td>0</td>\n",
       "      <td>1</td>\n",
       "      <td>0</td>\n",
       "      <td>0</td>\n",
       "    </tr>\n",
       "    <tr>\n",
       "      <th>26453</th>\n",
       "      <td>1.0</td>\n",
       "      <td>180000.0</td>\n",
       "      <td>41</td>\n",
       "      <td>2475.0</td>\n",
       "      <td>1.0</td>\n",
       "      <td>47.0</td>\n",
       "      <td>0</td>\n",
       "      <td>0</td>\n",
       "      <td>1</td>\n",
       "      <td>0</td>\n",
       "      <td>...</td>\n",
       "      <td>0</td>\n",
       "      <td>0</td>\n",
       "      <td>0</td>\n",
       "      <td>0</td>\n",
       "      <td>0</td>\n",
       "      <td>0</td>\n",
       "      <td>0</td>\n",
       "      <td>0</td>\n",
       "      <td>0</td>\n",
       "      <td>0</td>\n",
       "    </tr>\n",
       "    <tr>\n",
       "      <th>26454</th>\n",
       "      <td>0.0</td>\n",
       "      <td>292500.0</td>\n",
       "      <td>27</td>\n",
       "      <td>2015.0</td>\n",
       "      <td>1.0</td>\n",
       "      <td>25.0</td>\n",
       "      <td>0</td>\n",
       "      <td>1</td>\n",
       "      <td>0</td>\n",
       "      <td>0</td>\n",
       "      <td>...</td>\n",
       "      <td>1</td>\n",
       "      <td>0</td>\n",
       "      <td>0</td>\n",
       "      <td>0</td>\n",
       "      <td>0</td>\n",
       "      <td>0</td>\n",
       "      <td>0</td>\n",
       "      <td>1</td>\n",
       "      <td>0</td>\n",
       "      <td>0</td>\n",
       "    </tr>\n",
       "    <tr>\n",
       "      <th>26455</th>\n",
       "      <td>0.0</td>\n",
       "      <td>171000.0</td>\n",
       "      <td>27</td>\n",
       "      <td>107.0</td>\n",
       "      <td>0.0</td>\n",
       "      <td>59.0</td>\n",
       "      <td>1</td>\n",
       "      <td>0</td>\n",
       "      <td>1</td>\n",
       "      <td>0</td>\n",
       "      <td>...</td>\n",
       "      <td>0</td>\n",
       "      <td>0</td>\n",
       "      <td>0</td>\n",
       "      <td>0</td>\n",
       "      <td>0</td>\n",
       "      <td>0</td>\n",
       "      <td>0</td>\n",
       "      <td>1</td>\n",
       "      <td>0</td>\n",
       "      <td>0</td>\n",
       "    </tr>\n",
       "    <tr>\n",
       "      <th>26456</th>\n",
       "      <td>0.0</td>\n",
       "      <td>81000.0</td>\n",
       "      <td>53</td>\n",
       "      <td>1013.0</td>\n",
       "      <td>1.0</td>\n",
       "      <td>9.0</td>\n",
       "      <td>0</td>\n",
       "      <td>0</td>\n",
       "      <td>0</td>\n",
       "      <td>0</td>\n",
       "      <td>...</td>\n",
       "      <td>0</td>\n",
       "      <td>0</td>\n",
       "      <td>0</td>\n",
       "      <td>0</td>\n",
       "      <td>0</td>\n",
       "      <td>0</td>\n",
       "      <td>0</td>\n",
       "      <td>1</td>\n",
       "      <td>0</td>\n",
       "      <td>0</td>\n",
       "    </tr>\n",
       "  </tbody>\n",
       "</table>\n",
       "<p>24098 rows × 35 columns</p>\n",
       "</div>"
      ],
      "text/plain": [
       "       child_num  income_total  DAYS_BIRTH  DAYS_EMPLOYED  family_size  \\\n",
       "0            0.0      202500.0          38         4709.0          1.0   \n",
       "1            1.0      247500.0          31         1540.0          2.0   \n",
       "2            0.0      259500.0          52         4434.0          1.0   \n",
       "3            0.0      202500.0          41         2092.0          1.0   \n",
       "4            0.0      157500.0          41         2105.0          1.0   \n",
       "...          ...           ...         ...            ...          ...   \n",
       "26452        2.0      225000.0          33         1984.0          3.0   \n",
       "26453        1.0      180000.0          41         2475.0          1.0   \n",
       "26454        0.0      292500.0          27         2015.0          1.0   \n",
       "26455        0.0      171000.0          27          107.0          0.0   \n",
       "26456        0.0       81000.0          53         1013.0          1.0   \n",
       "\n",
       "       begin_month  gender_M  car_Y  reality_Y  income_type_Pensioner  ...  \\\n",
       "0              6.0         0      0          0                      0  ...   \n",
       "1              5.0         0      0          1                      0  ...   \n",
       "2             22.0         1      1          1                      0  ...   \n",
       "3             37.0         0      0          1                      0  ...   \n",
       "4             26.0         0      1          1                      0  ...   \n",
       "...            ...       ...    ...        ...                    ...  ...   \n",
       "26452          2.0         0      0          0                      0  ...   \n",
       "26453         47.0         0      0          1                      0  ...   \n",
       "26454         25.0         0      1          0                      0  ...   \n",
       "26455         59.0         1      0          1                      0  ...   \n",
       "26456          9.0         0      0          0                      0  ...   \n",
       "\n",
       "       house_type_With parents  FLAG_MOBIL_B  FLAG_MOBIL_C  FLAG_MOBIL_D  \\\n",
       "0                            0             0             0             0   \n",
       "1                            0             1             0             0   \n",
       "2                            0             1             0             0   \n",
       "3                            0             1             0             0   \n",
       "4                            0             0             0             0   \n",
       "...                        ...           ...           ...           ...   \n",
       "26452                        0             0             0             0   \n",
       "26453                        0             0             0             0   \n",
       "26454                        1             0             0             0   \n",
       "26455                        0             0             0             0   \n",
       "26456                        0             0             0             0   \n",
       "\n",
       "       work_phone_Y  phone_Y  email_Y  occyp_type_B  occyp_type_C  \\\n",
       "0                 0        0        0             0             0   \n",
       "1                 0        0        1             1             0   \n",
       "2                 0        1        0             0             0   \n",
       "3                 0        1        0             1             0   \n",
       "4                 0        0        0             0             0   \n",
       "...             ...      ...      ...           ...           ...   \n",
       "26452             0        0        0             1             0   \n",
       "26453             0        0        0             0             0   \n",
       "26454             0        0        0             1             0   \n",
       "26455             0        0        0             1             0   \n",
       "26456             0        0        0             1             0   \n",
       "\n",
       "       occyp_type_D  \n",
       "0                 0  \n",
       "1                 0  \n",
       "2                 1  \n",
       "3                 0  \n",
       "4                 1  \n",
       "...             ...  \n",
       "26452             0  \n",
       "26453             0  \n",
       "26454             0  \n",
       "26455             0  \n",
       "26456             0  \n",
       "\n",
       "[24098 rows x 35 columns]"
      ]
     },
     "execution_count": 411,
     "metadata": {},
     "output_type": "execute_result"
    }
   ],
   "source": [
    "train_x"
   ]
  },
  {
   "cell_type": "code",
   "execution_count": 412,
   "metadata": {},
   "outputs": [
    {
     "name": "stdout",
     "output_type": "stream",
     "text": [
      "(24098, 35) (10000, 35) (24098, 1)\n"
     ]
    }
   ],
   "source": [
    "print(train_x.shape, test_x.shape, train_y.shape)"
   ]
  },
  {
   "cell_type": "markdown",
   "metadata": {},
   "source": [
    "## 모델링"
   ]
  },
  {
   "cell_type": "code",
   "execution_count": 491,
   "metadata": {},
   "outputs": [
    {
     "data": {
      "text/plain": [
       "' print(\"Train set: \")\\nprint(X_train.shape)\\nprint(y_train.shape)\\nprint(\"===========\")\\nprint(\"Validation set: \")\\nprint(X_val.shape)\\nprint(y_val.shape)\\n\\n\\nada_pred=AdaBoostClassifier()\\nada_pred.fit(X_train, y_train)\\ny_pred=ada_pred.predict_proba(X_val)\\n\\nprint(f\"log_loss: {log_loss(to_categorical(y_val[\\'credit\\']), y_pred)}\") '"
      ]
     },
     "execution_count": 491,
     "metadata": {},
     "output_type": "execute_result"
    }
   ],
   "source": [
    "from sklearn.ensemble import RandomForestClassifier\n",
    "from sklearn.metrics import accuracy_score, log_loss\n",
    "from sklearn.metrics import f1_score\n",
    "from tensorflow.keras.utils import to_categorical\n",
    "\n",
    "X_train, X_val, y_train, y_val = train_test_split(X_resampled, y_resampled, \n",
    "                                                    stratify=y_resampled, test_size=0.25,\n",
    "                                                    random_state = 2021)\n",
    "\n",
    "\"\"\" print(\"Train set: \")\n",
    "print(X_train.shape)\n",
    "print(y_train.shape)\n",
    "print(\"===========\")\n",
    "print(\"Validation set: \")\n",
    "print(X_val.shape)\n",
    "print(y_val.shape)\n",
    "\n",
    "\n",
    "ada_pred=AdaBoostClassifier()\n",
    "ada_pred.fit(X_train, y_train)\n",
    "y_pred=ada_pred.predict_proba(X_val)\n",
    "\n",
    "print(f\"log_loss: {log_loss(to_categorical(y_val['credit']), y_pred)}\") \"\"\""
   ]
  },
  {
   "cell_type": "code",
   "execution_count": 493,
   "metadata": {},
   "outputs": [
    {
     "name": "stdout",
     "output_type": "stream",
     "text": [
      "log_loss: 0.7829754631597532\n"
     ]
    }
   ],
   "source": [
    "rf_pred=RandomForestClassifier(random_state=2021)\n",
    "rf_pred.fit(X_train, y_train)\n",
    "y_pred=rf_pred.predict_proba(X_val)\n",
    "\n",
    "print(f\"log_loss: {log_loss(to_categorical(y_val['credit']), y_pred)}\")"
   ]
  },
  {
   "cell_type": "code",
   "execution_count": 494,
   "metadata": {},
   "outputs": [
    {
     "name": "stdout",
     "output_type": "stream",
     "text": [
      "log_loss: 0.9102720385541272\n"
     ]
    }
   ],
   "source": [
    "gb_pred=GradientBoostingClassifier(random_state=2021)\n",
    "gb_pred.fit(X_train, y_train)\n",
    "y_pred=gb_pred.predict_proba(X_val)\n",
    "\n",
    "print(f\"log_loss: {log_loss(to_categorical(y_val['credit']), y_pred)}\")"
   ]
  },
  {
   "cell_type": "code",
   "execution_count": 495,
   "metadata": {},
   "outputs": [],
   "source": [
    "cat_pred=CatBoostClassifier(random_state=2021, learning_rate = 0.11, iterations = 530)\n",
    "cat_pred.fit(X_train, y_train, silent= True)\n",
    "y_pred=cat_pred.predict(X_train)\n",
    "#print(f\"log_loss: {log_loss(to_categorical(y_val['credit']), y_pred)}\")"
   ]
  },
  {
   "cell_type": "markdown",
   "metadata": {},
   "source": [
    "0.8080131971966189"
   ]
  },
  {
   "cell_type": "code",
   "execution_count": 505,
   "metadata": {},
   "outputs": [
    {
     "name": "stdout",
     "output_type": "stream",
     "text": [
      "FOLD 0 : logloss:0.711500104192183\n",
      "FOLD 1 : logloss:0.7074068022413057\n",
      "FOLD 2 : logloss:0.7132141312455581\n",
      "FOLD 3 : logloss:0.7095407803983578\n",
      "FOLD 4 : logloss:0.7098502581064593\n",
      "Mean:0.7103024152367727\n"
     ]
    }
   ],
   "source": [
    "from sklearn.model_selection import KFold, StratifiedKFold\n",
    "\n",
    "def run_kfold(clf):\n",
    "    folds=StratifiedKFold(n_splits=5, shuffle=True, random_state=2021)\n",
    "    outcomes=[]\n",
    "    sub=np.zeros((test_x.shape[0], 3))  \n",
    "    for n_fold, (train_index, val_index) in enumerate(folds.split(X_resampled, y_resampled)):\n",
    "        X_train, X_val = X_resampled.iloc[train_index], X_resampled.iloc[val_index]\n",
    "        y_train, y_val = y_resampled.iloc[train_index], y_resampled.iloc[val_index]\n",
    "        clf.fit(X_train, y_train,silent= True)\n",
    "        \n",
    "        predictions=clf.predict_proba(X_val)\n",
    "        \n",
    "        logloss=log_loss(to_categorical(y_val['credit']), predictions)\n",
    "        outcomes.append(logloss)\n",
    "        print(f\"FOLD {n_fold} : logloss:{logloss}\")\n",
    "        \n",
    "        sub+=clf.predict_proba(test_x)\n",
    "        \n",
    "        \n",
    "    mean_outcome=np.mean(outcomes)\n",
    "    \n",
    "    print(\"Mean:{}\".format(mean_outcome))\n",
    "    return sub/folds.n_splits\n",
    "\n",
    "my_submission = run_kfold(cat_pred)"
   ]
  },
  {
   "cell_type": "code",
   "execution_count": 506,
   "metadata": {},
   "outputs": [],
   "source": [
    "submission.loc[:,1:]=my_submission"
   ]
  },
  {
   "cell_type": "code",
   "execution_count": 507,
   "metadata": {},
   "outputs": [
    {
     "data": {
      "text/html": [
       "<div>\n",
       "<style scoped>\n",
       "    .dataframe tbody tr th:only-of-type {\n",
       "        vertical-align: middle;\n",
       "    }\n",
       "\n",
       "    .dataframe tbody tr th {\n",
       "        vertical-align: top;\n",
       "    }\n",
       "\n",
       "    .dataframe thead th {\n",
       "        text-align: right;\n",
       "    }\n",
       "</style>\n",
       "<table border=\"1\" class=\"dataframe\">\n",
       "  <thead>\n",
       "    <tr style=\"text-align: right;\">\n",
       "      <th></th>\n",
       "      <th>index</th>\n",
       "      <th>0</th>\n",
       "      <th>1</th>\n",
       "      <th>2</th>\n",
       "    </tr>\n",
       "  </thead>\n",
       "  <tbody>\n",
       "    <tr>\n",
       "      <th>0</th>\n",
       "      <td>26457</td>\n",
       "      <td>0.097412</td>\n",
       "      <td>0.148409</td>\n",
       "      <td>0.754179</td>\n",
       "    </tr>\n",
       "    <tr>\n",
       "      <th>1</th>\n",
       "      <td>26458</td>\n",
       "      <td>0.258202</td>\n",
       "      <td>0.115588</td>\n",
       "      <td>0.626210</td>\n",
       "    </tr>\n",
       "    <tr>\n",
       "      <th>2</th>\n",
       "      <td>26459</td>\n",
       "      <td>0.172058</td>\n",
       "      <td>0.158030</td>\n",
       "      <td>0.669912</td>\n",
       "    </tr>\n",
       "    <tr>\n",
       "      <th>3</th>\n",
       "      <td>26460</td>\n",
       "      <td>0.265100</td>\n",
       "      <td>0.209635</td>\n",
       "      <td>0.525265</td>\n",
       "    </tr>\n",
       "    <tr>\n",
       "      <th>4</th>\n",
       "      <td>26461</td>\n",
       "      <td>0.069415</td>\n",
       "      <td>0.154702</td>\n",
       "      <td>0.775883</td>\n",
       "    </tr>\n",
       "    <tr>\n",
       "      <th>...</th>\n",
       "      <td>...</td>\n",
       "      <td>...</td>\n",
       "      <td>...</td>\n",
       "      <td>...</td>\n",
       "    </tr>\n",
       "    <tr>\n",
       "      <th>9995</th>\n",
       "      <td>36452</td>\n",
       "      <td>0.248174</td>\n",
       "      <td>0.302471</td>\n",
       "      <td>0.449355</td>\n",
       "    </tr>\n",
       "    <tr>\n",
       "      <th>9996</th>\n",
       "      <td>36453</td>\n",
       "      <td>0.194037</td>\n",
       "      <td>0.334853</td>\n",
       "      <td>0.471110</td>\n",
       "    </tr>\n",
       "    <tr>\n",
       "      <th>9997</th>\n",
       "      <td>36454</td>\n",
       "      <td>0.029952</td>\n",
       "      <td>0.090093</td>\n",
       "      <td>0.879955</td>\n",
       "    </tr>\n",
       "    <tr>\n",
       "      <th>9998</th>\n",
       "      <td>36455</td>\n",
       "      <td>0.221651</td>\n",
       "      <td>0.273075</td>\n",
       "      <td>0.505274</td>\n",
       "    </tr>\n",
       "    <tr>\n",
       "      <th>9999</th>\n",
       "      <td>36456</td>\n",
       "      <td>0.051264</td>\n",
       "      <td>0.230070</td>\n",
       "      <td>0.718666</td>\n",
       "    </tr>\n",
       "  </tbody>\n",
       "</table>\n",
       "<p>10000 rows × 4 columns</p>\n",
       "</div>"
      ],
      "text/plain": [
       "      index         0         1         2\n",
       "0     26457  0.097412  0.148409  0.754179\n",
       "1     26458  0.258202  0.115588  0.626210\n",
       "2     26459  0.172058  0.158030  0.669912\n",
       "3     26460  0.265100  0.209635  0.525265\n",
       "4     26461  0.069415  0.154702  0.775883\n",
       "...     ...       ...       ...       ...\n",
       "9995  36452  0.248174  0.302471  0.449355\n",
       "9996  36453  0.194037  0.334853  0.471110\n",
       "9997  36454  0.029952  0.090093  0.879955\n",
       "9998  36455  0.221651  0.273075  0.505274\n",
       "9999  36456  0.051264  0.230070  0.718666\n",
       "\n",
       "[10000 rows x 4 columns]"
      ]
     },
     "execution_count": 507,
     "metadata": {},
     "output_type": "execute_result"
    }
   ],
   "source": [
    "submission"
   ]
  },
  {
   "cell_type": "code",
   "execution_count": null,
   "metadata": {},
   "outputs": [],
   "source": []
  },
  {
   "cell_type": "code",
   "execution_count": 508,
   "metadata": {},
   "outputs": [
    {
     "data": {
      "image/png": "[encoded data removed]",
      "text/plain": [
       "<Figure size 432x288 with 2 Axes>"
      ]
     },
     "metadata": {
      "needs_background": "light"
     },
     "output_type": "display_data"
    }
   ],
   "source": [
    "plot_confusion_matrix(cat_pred, X_train, y_train)\n",
    "plt.show()"
   ]
  },
  {
   "cell_type": "code",
   "execution_count": 509,
   "metadata": {},
   "outputs": [
    {
     "data": {
      "text/plain": [
       "array([[ 9658,  1299,  1769],\n",
       "       [ 2453,  7342,  2931],\n",
       "       [  394,   440, 11892]], dtype=int64)"
      ]
     },
     "execution_count": 509,
     "metadata": {},
     "output_type": "execute_result"
    }
   ],
   "source": [
    "confusion_matrix(y_train, y_pred)"
   ]
  },
  {
   "cell_type": "code",
   "execution_count": 510,
   "metadata": {},
   "outputs": [
    {
     "data": {
      "text/plain": [
       "0.7567709151867568"
      ]
     },
     "execution_count": 510,
     "metadata": {},
     "output_type": "execute_result"
    }
   ],
   "source": [
    "accuracy_score(y_train, y_pred)"
   ]
  },
  {
   "cell_type": "code",
   "execution_count": 511,
   "metadata": {},
   "outputs": [],
   "source": [
    "submission.to_csv('../Data/Oversampling.csv', index=False)"
   ]
  },
  {
   "cell_type": "code",
   "execution_count": 80,
   "metadata": {},
   "outputs": [
    {
     "data": {
      "text/plain": [
       "{'iterations': 530, 'learning_rate': 0.11, 'random_state': 2021}"
      ]
     },
     "execution_count": 80,
     "metadata": {},
     "output_type": "execute_result"
    }
   ],
   "source": [
    "cat_pred.get_params()"
   ]
  },
  {
   "cell_type": "code",
   "execution_count": 84,
   "metadata": {},
   "outputs": [
    {
     "name": "stdout",
     "output_type": "stream",
     "text": [
      "(19842, 44)\n"
     ]
    }
   ],
   "source": [
    "print(X_train.shape)"
   ]
  },
  {
   "cell_type": "code",
   "execution_count": 79,
   "metadata": {},
   "outputs": [
    {
     "data": {
      "text/plain": [
       "array([4.06597571, 4.71833933, 4.35677557, 1.33638137, 0.94379377,\n",
       "       1.13664565, 3.13742471, 3.16678812, 2.88036481, 1.18795181,\n",
       "       1.45082143, 0.00697603, 3.77077781, 3.24948439, 0.8262354 ,\n",
       "       0.2036988 , 2.40280683, 2.47763994, 0.99620369, 1.6679202 ,\n",
       "       0.63944587, 1.00134083, 0.598371  , 0.12821469, 0.38328804,\n",
       "       0.78881015, 2.86821181, 3.43332387, 1.87359181, 0.66341199,\n",
       "       2.42040787, 2.51383688, 2.62246706, 1.62264169, 3.33068855,\n",
       "       4.73728831, 1.91878463, 1.82483588, 1.44870369, 1.10917936,\n",
       "       5.25923316, 4.97255214, 4.53129466, 5.3270707 ])"
      ]
     },
     "execution_count": 79,
     "metadata": {},
     "output_type": "execute_result"
    }
   ],
   "source": [
    "cat_pred.get_feature_importance()"
   ]
  },
  {
   "cell_type": "code",
   "execution_count": 83,
   "metadata": {},
   "outputs": [
    {
     "data": {
      "image/svg+xml": "<?xml version=\"1.0\" encoding=\"UTF-8\" standalone=\"no\"?>\r\n<!DOCTYPE svg PUBLIC \"-//W3C//DTD SVG 1.1//EN\"\r\n \"http://www.w3.org/Graphics/SVG/1.1/DTD/svg11.dtd\">\r\n<!-- Generated by graphviz version 2.48.0 (20210717.1556)\r\n -->\r\n<!-- Pages: 1 -->\r\n<svg width=\"6278pt\" height=\"583pt\"\r\n viewBox=\"0.00 0.00 6278.00 583.00\" xmlns=\"http://www.w3.org/2000/svg\" xmlns:xlink=\"http://www.w3.org/1999/xlink\">\r\n<g id=\"graph0\" class=\"graph\" transform=\"scale(1 1) rotate(0) translate(4 579)\">\r\n<polygon fill=\"white\" stroke=\"transparent\" points=\"-4,4 -4,-579 6274,-579 6274,4 -4,4\"/>\r\n<!-- 0 -->\r\n<g id=\"node1\" class=\"node\">\r\n<title>0</title>\r\n<ellipse fill=\"none\" stroke=\"black\" cx=\"3354.5\" cy=\"-557\" rx=\"59.59\" ry=\"18\"/>\r\n<text text-anchor=\"middle\" x=\"3354.5\" y=\"-553.3\" font-family=\"Times New Roman,serif\" font-size=\"14.00\">26, value&gt;0.5</text>\r\n</g>\r\n<!-- 1 -->\r\n<g id=\"node2\" class=\"node\">\r\n<title>1</title>\r\n<ellipse fill=\"none\" stroke=\"black\" cx=\"2280.5\" cy=\"-470\" rx=\"59.59\" ry=\"18\"/>\r\n<text text-anchor=\"middle\" x=\"2280.5\" y=\"-466.3\" font-family=\"Times New Roman,serif\" font-size=\"14.00\">40, value&gt;0.5</text>\r\n</g>\r\n<!-- 0&#45;&gt;1 -->\r\n<g id=\"edge1\" class=\"edge\">\r\n<title>0&#45;&gt;1</title>\r\n<path fill=\"none\" stroke=\"black\" d=\"M3297.52,-551.49C3114.85,-537.03 2544.41,-491.89 2347.86,-476.33\"/>\r\n<polygon fill=\"black\" stroke=\"black\" points=\"2347.92,-472.82 2337.67,-475.52 2347.37,-479.8 2347.92,-472.82\"/>\r\n<text text-anchor=\"middle\" x=\"2891.5\" y=\"-509.8\" font-family=\"Times New Roman,serif\" font-size=\"14.00\">No</text>\r\n</g>\r\n<!-- 2 -->\r\n<g id=\"node3\" class=\"node\">\r\n<title>2</title>\r\n<ellipse fill=\"none\" stroke=\"black\" cx=\"3904.5\" cy=\"-470\" rx=\"59.59\" ry=\"18\"/>\r\n<text text-anchor=\"middle\" x=\"3904.5\" y=\"-466.3\" font-family=\"Times New Roman,serif\" font-size=\"14.00\">40, value&gt;0.5</text>\r\n</g>\r\n<!-- 0&#45;&gt;2 -->\r\n<g id=\"edge2\" class=\"edge\">\r\n<title>0&#45;&gt;2</title>\r\n<path fill=\"none\" stroke=\"black\" d=\"M3406.74,-547.93C3508.57,-532.19 3733.17,-497.48 3842.41,-480.6\"/>\r\n<polygon fill=\"black\" stroke=\"black\" points=\"3843.26,-484.01 3852.61,-479.02 3842.19,-477.09 3843.26,-484.01\"/>\r\n<text text-anchor=\"middle\" x=\"3673.5\" y=\"-509.8\" font-family=\"Times New Roman,serif\" font-size=\"14.00\">Yes</text>\r\n</g>\r\n<!-- 3 -->\r\n<g id=\"node4\" class=\"node\">\r\n<title>3</title>\r\n<ellipse fill=\"none\" stroke=\"black\" cx=\"1197.5\" cy=\"-383\" rx=\"59.59\" ry=\"18\"/>\r\n<text text-anchor=\"middle\" x=\"1197.5\" y=\"-379.3\" font-family=\"Times New Roman,serif\" font-size=\"14.00\">42, value&gt;0.5</text>\r\n</g>\r\n<!-- 1&#45;&gt;3 -->\r\n<g id=\"edge3\" class=\"edge\">\r\n<title>1&#45;&gt;3</title>\r\n<path fill=\"none\" stroke=\"black\" d=\"M2223.42,-464.52C2039.44,-450.08 1462.56,-404.8 1264.8,-389.28\"/>\r\n<polygon fill=\"black\" stroke=\"black\" points=\"1264.8,-385.77 1254.56,-388.48 1264.25,-392.75 1264.8,-385.77\"/>\r\n<text text-anchor=\"middle\" x=\"1813.5\" y=\"-422.8\" font-family=\"Times New Roman,serif\" font-size=\"14.00\">No</text>\r\n</g>\r\n<!-- 4 -->\r\n<g id=\"node5\" class=\"node\">\r\n<title>4</title>\r\n<ellipse fill=\"none\" stroke=\"black\" cx=\"2280.5\" cy=\"-383\" rx=\"59.59\" ry=\"18\"/>\r\n<text text-anchor=\"middle\" x=\"2280.5\" y=\"-379.3\" font-family=\"Times New Roman,serif\" font-size=\"14.00\">42, value&gt;0.5</text>\r\n</g>\r\n<!-- 1&#45;&gt;4 -->\r\n<g id=\"edge4\" class=\"edge\">\r\n<title>1&#45;&gt;4</title>\r\n<path fill=\"none\" stroke=\"black\" d=\"M2280.5,-451.8C2280.5,-440.16 2280.5,-424.55 2280.5,-411.24\"/>\r\n<polygon fill=\"black\" stroke=\"black\" points=\"2284,-411.18 2280.5,-401.18 2277,-411.18 2284,-411.18\"/>\r\n<text text-anchor=\"middle\" x=\"2291.5\" y=\"-422.8\" font-family=\"Times New Roman,serif\" font-size=\"14.00\">Yes</text>\r\n</g>\r\n<!-- 5 -->\r\n<g id=\"node6\" class=\"node\">\r\n<title>5</title>\r\n<ellipse fill=\"none\" stroke=\"black\" cx=\"3904.5\" cy=\"-383\" rx=\"59.59\" ry=\"18\"/>\r\n<text text-anchor=\"middle\" x=\"3904.5\" y=\"-379.3\" font-family=\"Times New Roman,serif\" font-size=\"14.00\">42, value&gt;0.5</text>\r\n</g>\r\n<!-- 2&#45;&gt;5 -->\r\n<g id=\"edge5\" class=\"edge\">\r\n<title>2&#45;&gt;5</title>\r\n<path fill=\"none\" stroke=\"black\" d=\"M3904.5,-451.8C3904.5,-440.16 3904.5,-424.55 3904.5,-411.24\"/>\r\n<polygon fill=\"black\" stroke=\"black\" points=\"3908,-411.18 3904.5,-401.18 3901,-411.18 3908,-411.18\"/>\r\n<text text-anchor=\"middle\" x=\"3913.5\" y=\"-422.8\" font-family=\"Times New Roman,serif\" font-size=\"14.00\">No</text>\r\n</g>\r\n<!-- 6 -->\r\n<g id=\"node7\" class=\"node\">\r\n<title>6</title>\r\n<ellipse fill=\"none\" stroke=\"black\" cx=\"5089.5\" cy=\"-383\" rx=\"59.59\" ry=\"18\"/>\r\n<text text-anchor=\"middle\" x=\"5089.5\" y=\"-379.3\" font-family=\"Times New Roman,serif\" font-size=\"14.00\">42, value&gt;0.5</text>\r\n</g>\r\n<!-- 2&#45;&gt;6 -->\r\n<g id=\"edge6\" class=\"edge\">\r\n<title>2&#45;&gt;6</title>\r\n<path fill=\"none\" stroke=\"black\" d=\"M3962.06,-464.87C4159.63,-450.7 4809.71,-404.07 5021.87,-388.85\"/>\r\n<polygon fill=\"black\" stroke=\"black\" points=\"5022.22,-392.34 5031.94,-388.13 5021.72,-385.35 5022.22,-392.34\"/>\r\n<text text-anchor=\"middle\" x=\"4579.5\" y=\"-422.8\" font-family=\"Times New Roman,serif\" font-size=\"14.00\">Yes</text>\r\n</g>\r\n<!-- 7 -->\r\n<g id=\"node8\" class=\"node\">\r\n<title>7</title>\r\n<ellipse fill=\"none\" stroke=\"black\" cx=\"597.5\" cy=\"-296\" rx=\"59.59\" ry=\"18\"/>\r\n<text text-anchor=\"middle\" x=\"597.5\" y=\"-292.3\" font-family=\"Times New Roman,serif\" font-size=\"14.00\">41, value&gt;0.5</text>\r\n</g>\r\n<!-- 3&#45;&gt;7 -->\r\n<g id=\"edge7\" class=\"edge\">\r\n<title>3&#45;&gt;7</title>\r\n<path fill=\"none\" stroke=\"black\" d=\"M1144.52,-374.49C1033.9,-358.82 778.88,-322.7 660.27,-305.89\"/>\r\n<polygon fill=\"black\" stroke=\"black\" points=\"660.65,-302.41 650.26,-304.47 659.67,-309.34 660.65,-302.41\"/>\r\n<text text-anchor=\"middle\" x=\"942.5\" y=\"-335.8\" font-family=\"Times New Roman,serif\" font-size=\"14.00\">No</text>\r\n</g>\r\n<!-- 8 -->\r\n<g id=\"node9\" class=\"node\">\r\n<title>8</title>\r\n<ellipse fill=\"none\" stroke=\"black\" cx=\"1197.5\" cy=\"-296\" rx=\"59.59\" ry=\"18\"/>\r\n<text text-anchor=\"middle\" x=\"1197.5\" y=\"-292.3\" font-family=\"Times New Roman,serif\" font-size=\"14.00\">41, value&gt;0.5</text>\r\n</g>\r\n<!-- 3&#45;&gt;8 -->\r\n<g id=\"edge8\" class=\"edge\">\r\n<title>3&#45;&gt;8</title>\r\n<path fill=\"none\" stroke=\"black\" d=\"M1197.5,-364.8C1197.5,-353.16 1197.5,-337.55 1197.5,-324.24\"/>\r\n<polygon fill=\"black\" stroke=\"black\" points=\"1201,-324.18 1197.5,-314.18 1194,-324.18 1201,-324.18\"/>\r\n<text text-anchor=\"middle\" x=\"1208.5\" y=\"-335.8\" font-family=\"Times New Roman,serif\" font-size=\"14.00\">Yes</text>\r\n</g>\r\n<!-- 9 -->\r\n<g id=\"node10\" class=\"node\">\r\n<title>9</title>\r\n<ellipse fill=\"none\" stroke=\"black\" cx=\"2154.5\" cy=\"-296\" rx=\"59.59\" ry=\"18\"/>\r\n<text text-anchor=\"middle\" x=\"2154.5\" y=\"-292.3\" font-family=\"Times New Roman,serif\" font-size=\"14.00\">41, value&gt;0.5</text>\r\n</g>\r\n<!-- 4&#45;&gt;9 -->\r\n<g id=\"edge9\" class=\"edge\">\r\n<title>4&#45;&gt;9</title>\r\n<path fill=\"none\" stroke=\"black\" d=\"M2257.1,-366.21C2237.12,-352.73 2208.2,-333.23 2186.16,-318.36\"/>\r\n<polygon fill=\"black\" stroke=\"black\" points=\"2188.03,-315.4 2177.78,-312.7 2184.11,-321.2 2188.03,-315.4\"/>\r\n<text text-anchor=\"middle\" x=\"2234.5\" y=\"-335.8\" font-family=\"Times New Roman,serif\" font-size=\"14.00\">No</text>\r\n</g>\r\n<!-- 10 -->\r\n<g id=\"node11\" class=\"node\">\r\n<title>10</title>\r\n<ellipse fill=\"none\" stroke=\"black\" cx=\"2551.5\" cy=\"-296\" rx=\"59.59\" ry=\"18\"/>\r\n<text text-anchor=\"middle\" x=\"2551.5\" y=\"-292.3\" font-family=\"Times New Roman,serif\" font-size=\"14.00\">41, value&gt;0.5</text>\r\n</g>\r\n<!-- 4&#45;&gt;10 -->\r\n<g id=\"edge10\" class=\"edge\">\r\n<title>4&#45;&gt;10</title>\r\n<path fill=\"none\" stroke=\"black\" d=\"M2320.49,-369.46C2368.62,-354.36 2449.48,-329 2501.64,-312.64\"/>\r\n<polygon fill=\"black\" stroke=\"black\" points=\"2502.85,-315.93 2511.35,-309.59 2500.76,-309.25 2502.85,-315.93\"/>\r\n<text text-anchor=\"middle\" x=\"2443.5\" y=\"-335.8\" font-family=\"Times New Roman,serif\" font-size=\"14.00\">Yes</text>\r\n</g>\r\n<!-- 11 -->\r\n<g id=\"node12\" class=\"node\">\r\n<title>11</title>\r\n<ellipse fill=\"none\" stroke=\"black\" cx=\"3738.5\" cy=\"-296\" rx=\"59.59\" ry=\"18\"/>\r\n<text text-anchor=\"middle\" x=\"3738.5\" y=\"-292.3\" font-family=\"Times New Roman,serif\" font-size=\"14.00\">41, value&gt;0.5</text>\r\n</g>\r\n<!-- 5&#45;&gt;11 -->\r\n<g id=\"edge11\" class=\"edge\">\r\n<title>5&#45;&gt;11</title>\r\n<path fill=\"none\" stroke=\"black\" d=\"M3875.59,-367.19C3848.06,-353.1 3806.47,-331.8 3776.32,-316.37\"/>\r\n<polygon fill=\"black\" stroke=\"black\" points=\"3777.86,-313.22 3767.36,-311.78 3774.67,-319.45 3777.86,-313.22\"/>\r\n<text text-anchor=\"middle\" x=\"3840.5\" y=\"-335.8\" font-family=\"Times New Roman,serif\" font-size=\"14.00\">No</text>\r\n</g>\r\n<!-- 12 -->\r\n<g id=\"node13\" class=\"node\">\r\n<title>12</title>\r\n<ellipse fill=\"none\" stroke=\"black\" cx=\"4172.5\" cy=\"-296\" rx=\"59.59\" ry=\"18\"/>\r\n<text text-anchor=\"middle\" x=\"4172.5\" y=\"-292.3\" font-family=\"Times New Roman,serif\" font-size=\"14.00\">41, value&gt;0.5</text>\r\n</g>\r\n<!-- 5&#45;&gt;12 -->\r\n<g id=\"edge12\" class=\"edge\">\r\n<title>5&#45;&gt;12</title>\r\n<path fill=\"none\" stroke=\"black\" d=\"M3944.04,-369.46C3991.65,-354.36 4071.6,-329 4123.19,-312.64\"/>\r\n<polygon fill=\"black\" stroke=\"black\" points=\"4124.32,-315.95 4132.79,-309.59 4122.2,-309.28 4124.32,-315.95\"/>\r\n<text text-anchor=\"middle\" x=\"4066.5\" y=\"-335.8\" font-family=\"Times New Roman,serif\" font-size=\"14.00\">Yes</text>\r\n</g>\r\n<!-- 13 -->\r\n<g id=\"node14\" class=\"node\">\r\n<title>13</title>\r\n<ellipse fill=\"none\" stroke=\"black\" cx=\"5089.5\" cy=\"-296\" rx=\"59.59\" ry=\"18\"/>\r\n<text text-anchor=\"middle\" x=\"5089.5\" y=\"-292.3\" font-family=\"Times New Roman,serif\" font-size=\"14.00\">41, value&gt;0.5</text>\r\n</g>\r\n<!-- 6&#45;&gt;13 -->\r\n<g id=\"edge13\" class=\"edge\">\r\n<title>6&#45;&gt;13</title>\r\n<path fill=\"none\" stroke=\"black\" d=\"M5089.5,-364.8C5089.5,-353.16 5089.5,-337.55 5089.5,-324.24\"/>\r\n<polygon fill=\"black\" stroke=\"black\" points=\"5093,-324.18 5089.5,-314.18 5086,-324.18 5093,-324.18\"/>\r\n<text text-anchor=\"middle\" x=\"5098.5\" y=\"-335.8\" font-family=\"Times New Roman,serif\" font-size=\"14.00\">No</text>\r\n</g>\r\n<!-- 14 -->\r\n<g id=\"node15\" class=\"node\">\r\n<title>14</title>\r\n<ellipse fill=\"none\" stroke=\"black\" cx=\"5694.5\" cy=\"-296\" rx=\"59.59\" ry=\"18\"/>\r\n<text text-anchor=\"middle\" x=\"5694.5\" y=\"-292.3\" font-family=\"Times New Roman,serif\" font-size=\"14.00\">41, value&gt;0.5</text>\r\n</g>\r\n<!-- 6&#45;&gt;14 -->\r\n<g id=\"edge14\" class=\"edge\">\r\n<title>6&#45;&gt;14</title>\r\n<path fill=\"none\" stroke=\"black\" d=\"M5142.4,-374.57C5253.74,-358.92 5511.87,-322.66 5631.52,-305.85\"/>\r\n<polygon fill=\"black\" stroke=\"black\" points=\"5632.2,-309.29 5641.62,-304.43 5631.23,-302.36 5632.2,-309.29\"/>\r\n<text text-anchor=\"middle\" x=\"5439.5\" y=\"-335.8\" font-family=\"Times New Roman,serif\" font-size=\"14.00\">Yes</text>\r\n</g>\r\n<!-- 15 -->\r\n<g id=\"node16\" class=\"node\">\r\n<title>15</title>\r\n<ellipse fill=\"none\" stroke=\"black\" cx=\"312.5\" cy=\"-209\" rx=\"59.59\" ry=\"18\"/>\r\n<text text-anchor=\"middle\" x=\"312.5\" y=\"-205.3\" font-family=\"Times New Roman,serif\" font-size=\"14.00\">43, value&gt;0.5</text>\r\n</g>\r\n<!-- 7&#45;&gt;15 -->\r\n<g id=\"edge15\" class=\"edge\">\r\n<title>7&#45;&gt;15</title>\r\n<path fill=\"none\" stroke=\"black\" d=\"M556.67,-282.82C505.7,-267.62 418.54,-241.62 363.31,-225.15\"/>\r\n<polygon fill=\"black\" stroke=\"black\" points=\"364.3,-221.8 353.72,-222.29 362.3,-228.51 364.3,-221.8\"/>\r\n<text text-anchor=\"middle\" x=\"481.5\" y=\"-248.8\" font-family=\"Times New Roman,serif\" font-size=\"14.00\">No</text>\r\n</g>\r\n<!-- 16 -->\r\n<g id=\"node17\" class=\"node\">\r\n<title>16</title>\r\n<ellipse fill=\"none\" stroke=\"black\" cx=\"597.5\" cy=\"-209\" rx=\"59.59\" ry=\"18\"/>\r\n<text text-anchor=\"middle\" x=\"597.5\" y=\"-205.3\" font-family=\"Times New Roman,serif\" font-size=\"14.00\">43, value&gt;0.5</text>\r\n</g>\r\n<!-- 7&#45;&gt;16 -->\r\n<g id=\"edge16\" class=\"edge\">\r\n<title>7&#45;&gt;16</title>\r\n<path fill=\"none\" stroke=\"black\" d=\"M597.5,-277.8C597.5,-266.16 597.5,-250.55 597.5,-237.24\"/>\r\n<polygon fill=\"black\" stroke=\"black\" points=\"601,-237.18 597.5,-227.18 594,-237.18 601,-237.18\"/>\r\n<text text-anchor=\"middle\" x=\"608.5\" y=\"-248.8\" font-family=\"Times New Roman,serif\" font-size=\"14.00\">Yes</text>\r\n</g>\r\n<!-- 17 -->\r\n<g id=\"node18\" class=\"node\">\r\n<title>17</title>\r\n<ellipse fill=\"none\" stroke=\"black\" cx=\"1109.5\" cy=\"-209\" rx=\"59.59\" ry=\"18\"/>\r\n<text text-anchor=\"middle\" x=\"1109.5\" y=\"-205.3\" font-family=\"Times New Roman,serif\" font-size=\"14.00\">43, value&gt;0.5</text>\r\n</g>\r\n<!-- 8&#45;&gt;17 -->\r\n<g id=\"edge17\" class=\"edge\">\r\n<title>8&#45;&gt;17</title>\r\n<path fill=\"none\" stroke=\"black\" d=\"M1180.53,-278.61C1167.26,-265.79 1148.64,-247.8 1133.79,-233.46\"/>\r\n<polygon fill=\"black\" stroke=\"black\" points=\"1136.04,-230.77 1126.42,-226.34 1131.18,-235.8 1136.04,-230.77\"/>\r\n<text text-anchor=\"middle\" x=\"1168.5\" y=\"-248.8\" font-family=\"Times New Roman,serif\" font-size=\"14.00\">No</text>\r\n</g>\r\n<!-- 18 -->\r\n<g id=\"node19\" class=\"node\">\r\n<title>18</title>\r\n<ellipse fill=\"none\" stroke=\"black\" cx=\"1269.5\" cy=\"-209\" rx=\"59.59\" ry=\"18\"/>\r\n<text text-anchor=\"middle\" x=\"1269.5\" y=\"-205.3\" font-family=\"Times New Roman,serif\" font-size=\"14.00\">43, value&gt;0.5</text>\r\n</g>\r\n<!-- 8&#45;&gt;18 -->\r\n<g id=\"edge18\" class=\"edge\">\r\n<title>8&#45;&gt;18</title>\r\n<path fill=\"none\" stroke=\"black\" d=\"M1211.72,-278.21C1222.28,-265.75 1236.83,-248.57 1248.68,-234.57\"/>\r\n<polygon fill=\"black\" stroke=\"black\" points=\"1251.51,-236.65 1255.3,-226.76 1246.17,-232.13 1251.51,-236.65\"/>\r\n<text text-anchor=\"middle\" x=\"1249.5\" y=\"-248.8\" font-family=\"Times New Roman,serif\" font-size=\"14.00\">Yes</text>\r\n</g>\r\n<!-- 19 -->\r\n<g id=\"node20\" class=\"node\">\r\n<title>19</title>\r\n<ellipse fill=\"none\" stroke=\"black\" cx=\"1893.5\" cy=\"-209\" rx=\"59.59\" ry=\"18\"/>\r\n<text text-anchor=\"middle\" x=\"1893.5\" y=\"-205.3\" font-family=\"Times New Roman,serif\" font-size=\"14.00\">43, value&gt;0.5</text>\r\n</g>\r\n<!-- 9&#45;&gt;19 -->\r\n<g id=\"edge19\" class=\"edge\">\r\n<title>9&#45;&gt;19</title>\r\n<path fill=\"none\" stroke=\"black\" d=\"M2115.43,-282.27C2069.16,-267.21 1992.1,-242.11 1942.05,-225.81\"/>\r\n<polygon fill=\"black\" stroke=\"black\" points=\"1943.01,-222.44 1932.41,-222.67 1940.84,-229.1 1943.01,-222.44\"/>\r\n<text text-anchor=\"middle\" x=\"2049.5\" y=\"-248.8\" font-family=\"Times New Roman,serif\" font-size=\"14.00\">No</text>\r\n</g>\r\n<!-- 20 -->\r\n<g id=\"node21\" class=\"node\">\r\n<title>20</title>\r\n<ellipse fill=\"none\" stroke=\"black\" cx=\"2154.5\" cy=\"-209\" rx=\"59.59\" ry=\"18\"/>\r\n<text text-anchor=\"middle\" x=\"2154.5\" y=\"-205.3\" font-family=\"Times New Roman,serif\" font-size=\"14.00\">43, value&gt;0.5</text>\r\n</g>\r\n<!-- 9&#45;&gt;20 -->\r\n<g id=\"edge20\" class=\"edge\">\r\n<title>9&#45;&gt;20</title>\r\n<path fill=\"none\" stroke=\"black\" d=\"M2154.5,-277.8C2154.5,-266.16 2154.5,-250.55 2154.5,-237.24\"/>\r\n<polygon fill=\"black\" stroke=\"black\" points=\"2158,-237.18 2154.5,-227.18 2151,-237.18 2158,-237.18\"/>\r\n<text text-anchor=\"middle\" x=\"2165.5\" y=\"-248.8\" font-family=\"Times New Roman,serif\" font-size=\"14.00\">Yes</text>\r\n</g>\r\n<!-- 21 -->\r\n<g id=\"node22\" class=\"node\">\r\n<title>21</title>\r\n<ellipse fill=\"none\" stroke=\"black\" cx=\"2551.5\" cy=\"-209\" rx=\"59.59\" ry=\"18\"/>\r\n<text text-anchor=\"middle\" x=\"2551.5\" y=\"-205.3\" font-family=\"Times New Roman,serif\" font-size=\"14.00\">43, value&gt;0.5</text>\r\n</g>\r\n<!-- 10&#45;&gt;21 -->\r\n<g id=\"edge21\" class=\"edge\">\r\n<title>10&#45;&gt;21</title>\r\n<path fill=\"none\" stroke=\"black\" d=\"M2551.5,-277.8C2551.5,-266.16 2551.5,-250.55 2551.5,-237.24\"/>\r\n<polygon fill=\"black\" stroke=\"black\" points=\"2555,-237.18 2551.5,-227.18 2548,-237.18 2555,-237.18\"/>\r\n<text text-anchor=\"middle\" x=\"2560.5\" y=\"-248.8\" font-family=\"Times New Roman,serif\" font-size=\"14.00\">No</text>\r\n</g>\r\n<!-- 22 -->\r\n<g id=\"node23\" class=\"node\">\r\n<title>22</title>\r\n<ellipse fill=\"none\" stroke=\"black\" cx=\"2823.5\" cy=\"-209\" rx=\"59.59\" ry=\"18\"/>\r\n<text text-anchor=\"middle\" x=\"2823.5\" y=\"-205.3\" font-family=\"Times New Roman,serif\" font-size=\"14.00\">43, value&gt;0.5</text>\r\n</g>\r\n<!-- 10&#45;&gt;22 -->\r\n<g id=\"edge22\" class=\"edge\">\r\n<title>10&#45;&gt;22</title>\r\n<path fill=\"none\" stroke=\"black\" d=\"M2591.34,-282.55C2639.72,-267.43 2721.34,-241.92 2773.79,-225.53\"/>\r\n<polygon fill=\"black\" stroke=\"black\" points=\"2775.05,-228.81 2783.55,-222.48 2772.96,-222.13 2775.05,-228.81\"/>\r\n<text text-anchor=\"middle\" x=\"2715.5\" y=\"-248.8\" font-family=\"Times New Roman,serif\" font-size=\"14.00\">Yes</text>\r\n</g>\r\n<!-- 23 -->\r\n<g id=\"node24\" class=\"node\">\r\n<title>23</title>\r\n<ellipse fill=\"none\" stroke=\"black\" cx=\"3456.5\" cy=\"-209\" rx=\"59.59\" ry=\"18\"/>\r\n<text text-anchor=\"middle\" x=\"3456.5\" y=\"-205.3\" font-family=\"Times New Roman,serif\" font-size=\"14.00\">43, value&gt;0.5</text>\r\n</g>\r\n<!-- 11&#45;&gt;23 -->\r\n<g id=\"edge23\" class=\"edge\">\r\n<title>11&#45;&gt;23</title>\r\n<path fill=\"none\" stroke=\"black\" d=\"M3697.8,-282.73C3647.4,-267.54 3561.55,-241.66 3507,-225.22\"/>\r\n<polygon fill=\"black\" stroke=\"black\" points=\"3507.78,-221.8 3497.19,-222.27 3505.76,-228.5 3507.78,-221.8\"/>\r\n<text text-anchor=\"middle\" x=\"3623.5\" y=\"-248.8\" font-family=\"Times New Roman,serif\" font-size=\"14.00\">No</text>\r\n</g>\r\n<!-- 24 -->\r\n<g id=\"node25\" class=\"node\">\r\n<title>24</title>\r\n<ellipse fill=\"none\" stroke=\"black\" cx=\"3738.5\" cy=\"-209\" rx=\"59.59\" ry=\"18\"/>\r\n<text text-anchor=\"middle\" x=\"3738.5\" y=\"-205.3\" font-family=\"Times New Roman,serif\" font-size=\"14.00\">43, value&gt;0.5</text>\r\n</g>\r\n<!-- 11&#45;&gt;24 -->\r\n<g id=\"edge24\" class=\"edge\">\r\n<title>11&#45;&gt;24</title>\r\n<path fill=\"none\" stroke=\"black\" d=\"M3738.5,-277.8C3738.5,-266.16 3738.5,-250.55 3738.5,-237.24\"/>\r\n<polygon fill=\"black\" stroke=\"black\" points=\"3742,-237.18 3738.5,-227.18 3735,-237.18 3742,-237.18\"/>\r\n<text text-anchor=\"middle\" x=\"3749.5\" y=\"-248.8\" font-family=\"Times New Roman,serif\" font-size=\"14.00\">Yes</text>\r\n</g>\r\n<!-- 25 -->\r\n<g id=\"node26\" class=\"node\">\r\n<title>25</title>\r\n<ellipse fill=\"none\" stroke=\"black\" cx=\"4172.5\" cy=\"-209\" rx=\"59.59\" ry=\"18\"/>\r\n<text text-anchor=\"middle\" x=\"4172.5\" y=\"-205.3\" font-family=\"Times New Roman,serif\" font-size=\"14.00\">43, value&gt;0.5</text>\r\n</g>\r\n<!-- 12&#45;&gt;25 -->\r\n<g id=\"edge25\" class=\"edge\">\r\n<title>12&#45;&gt;25</title>\r\n<path fill=\"none\" stroke=\"black\" d=\"M4172.5,-277.8C4172.5,-266.16 4172.5,-250.55 4172.5,-237.24\"/>\r\n<polygon fill=\"black\" stroke=\"black\" points=\"4176,-237.18 4172.5,-227.18 4169,-237.18 4176,-237.18\"/>\r\n<text text-anchor=\"middle\" x=\"4181.5\" y=\"-248.8\" font-family=\"Times New Roman,serif\" font-size=\"14.00\">No</text>\r\n</g>\r\n<!-- 26 -->\r\n<g id=\"node27\" class=\"node\">\r\n<title>26</title>\r\n<ellipse fill=\"none\" stroke=\"black\" cx=\"4407.5\" cy=\"-209\" rx=\"59.59\" ry=\"18\"/>\r\n<text text-anchor=\"middle\" x=\"4407.5\" y=\"-205.3\" font-family=\"Times New Roman,serif\" font-size=\"14.00\">43, value&gt;0.5</text>\r\n</g>\r\n<!-- 12&#45;&gt;26 -->\r\n<g id=\"edge26\" class=\"edge\">\r\n<title>12&#45;&gt;26</title>\r\n<path fill=\"none\" stroke=\"black\" d=\"M4209.22,-281.72C4250.23,-266.89 4316.69,-242.85 4361.22,-226.74\"/>\r\n<polygon fill=\"black\" stroke=\"black\" points=\"4362.44,-230.02 4370.65,-223.33 4360.06,-223.44 4362.44,-230.02\"/>\r\n<text text-anchor=\"middle\" x=\"4315.5\" y=\"-248.8\" font-family=\"Times New Roman,serif\" font-size=\"14.00\">Yes</text>\r\n</g>\r\n<!-- 27 -->\r\n<g id=\"node28\" class=\"node\">\r\n<title>27</title>\r\n<ellipse fill=\"none\" stroke=\"black\" cx=\"5016.5\" cy=\"-209\" rx=\"59.59\" ry=\"18\"/>\r\n<text text-anchor=\"middle\" x=\"5016.5\" y=\"-205.3\" font-family=\"Times New Roman,serif\" font-size=\"14.00\">43, value&gt;0.5</text>\r\n</g>\r\n<!-- 13&#45;&gt;27 -->\r\n<g id=\"edge27\" class=\"edge\">\r\n<title>13&#45;&gt;27</title>\r\n<path fill=\"none\" stroke=\"black\" d=\"M5075.08,-278.21C5064.38,-265.75 5049.63,-248.57 5037.6,-234.57\"/>\r\n<polygon fill=\"black\" stroke=\"black\" points=\"5040.06,-232.06 5030.89,-226.76 5034.75,-236.63 5040.06,-232.06\"/>\r\n<text text-anchor=\"middle\" x=\"5066.5\" y=\"-248.8\" font-family=\"Times New Roman,serif\" font-size=\"14.00\">No</text>\r\n</g>\r\n<!-- 28 -->\r\n<g id=\"node29\" class=\"node\">\r\n<title>28</title>\r\n<ellipse fill=\"none\" stroke=\"black\" cx=\"5191.5\" cy=\"-209\" rx=\"59.59\" ry=\"18\"/>\r\n<text text-anchor=\"middle\" x=\"5191.5\" y=\"-205.3\" font-family=\"Times New Roman,serif\" font-size=\"14.00\">43, value&gt;0.5</text>\r\n</g>\r\n<!-- 13&#45;&gt;28 -->\r\n<g id=\"edge28\" class=\"edge\">\r\n<title>13&#45;&gt;28</title>\r\n<path fill=\"none\" stroke=\"black\" d=\"M5109.17,-278.61C5124.79,-265.59 5146.81,-247.24 5164.15,-232.79\"/>\r\n<polygon fill=\"black\" stroke=\"black\" points=\"5166.8,-235.14 5172.24,-226.05 5162.32,-229.76 5166.8,-235.14\"/>\r\n<text text-anchor=\"middle\" x=\"5158.5\" y=\"-248.8\" font-family=\"Times New Roman,serif\" font-size=\"14.00\">Yes</text>\r\n</g>\r\n<!-- 29 -->\r\n<g id=\"node30\" class=\"node\">\r\n<title>29</title>\r\n<ellipse fill=\"none\" stroke=\"black\" cx=\"5694.5\" cy=\"-209\" rx=\"59.59\" ry=\"18\"/>\r\n<text text-anchor=\"middle\" x=\"5694.5\" y=\"-205.3\" font-family=\"Times New Roman,serif\" font-size=\"14.00\">43, value&gt;0.5</text>\r\n</g>\r\n<!-- 14&#45;&gt;29 -->\r\n<g id=\"edge29\" class=\"edge\">\r\n<title>14&#45;&gt;29</title>\r\n<path fill=\"none\" stroke=\"black\" d=\"M5694.5,-277.8C5694.5,-266.16 5694.5,-250.55 5694.5,-237.24\"/>\r\n<polygon fill=\"black\" stroke=\"black\" points=\"5698,-237.18 5694.5,-227.18 5691,-237.18 5698,-237.18\"/>\r\n<text text-anchor=\"middle\" x=\"5703.5\" y=\"-248.8\" font-family=\"Times New Roman,serif\" font-size=\"14.00\">No</text>\r\n</g>\r\n<!-- 30 -->\r\n<g id=\"node31\" class=\"node\">\r\n<title>30</title>\r\n<ellipse fill=\"none\" stroke=\"black\" cx=\"5967.5\" cy=\"-209\" rx=\"59.59\" ry=\"18\"/>\r\n<text text-anchor=\"middle\" x=\"5967.5\" y=\"-205.3\" font-family=\"Times New Roman,serif\" font-size=\"14.00\">43, value&gt;0.5</text>\r\n</g>\r\n<!-- 14&#45;&gt;30 -->\r\n<g id=\"edge30\" class=\"edge\">\r\n<title>14&#45;&gt;30</title>\r\n<path fill=\"none\" stroke=\"black\" d=\"M5734.49,-282.55C5783.05,-267.43 5864.97,-241.92 5917.61,-225.53\"/>\r\n<polygon fill=\"black\" stroke=\"black\" points=\"5918.9,-228.8 5927.4,-222.48 5916.82,-222.12 5918.9,-228.8\"/>\r\n<text text-anchor=\"middle\" x=\"5858.5\" y=\"-248.8\" font-family=\"Times New Roman,serif\" font-size=\"14.00\">Yes</text>\r\n</g>\r\n<!-- 31 -->\r\n<g id=\"node32\" class=\"node\">\r\n<title>31</title>\r\n<ellipse fill=\"none\" stroke=\"black\" cx=\"142.5\" cy=\"-122\" rx=\"59.59\" ry=\"18\"/>\r\n<text text-anchor=\"middle\" x=\"142.5\" y=\"-118.3\" font-family=\"Times New Roman,serif\" font-size=\"14.00\">36, value&gt;0.5</text>\r\n</g>\r\n<!-- 15&#45;&gt;31 -->\r\n<g id=\"edge31\" class=\"edge\">\r\n<title>15&#45;&gt;31</title>\r\n<path fill=\"none\" stroke=\"black\" d=\"M282.89,-193.19C254.7,-179.1 212.11,-157.8 181.23,-142.37\"/>\r\n<polygon fill=\"black\" stroke=\"black\" points=\"182.57,-139.12 172.06,-137.78 179.44,-145.38 182.57,-139.12\"/>\r\n<text text-anchor=\"middle\" x=\"247.5\" y=\"-161.8\" font-family=\"Times New Roman,serif\" font-size=\"14.00\">No</text>\r\n</g>\r\n<!-- 32 -->\r\n<g id=\"node33\" class=\"node\">\r\n<title>32</title>\r\n<ellipse fill=\"none\" stroke=\"black\" cx=\"312.5\" cy=\"-122\" rx=\"59.59\" ry=\"18\"/>\r\n<text text-anchor=\"middle\" x=\"312.5\" y=\"-118.3\" font-family=\"Times New Roman,serif\" font-size=\"14.00\">36, value&gt;0.5</text>\r\n</g>\r\n<!-- 15&#45;&gt;32 -->\r\n<g id=\"edge32\" class=\"edge\">\r\n<title>15&#45;&gt;32</title>\r\n<path fill=\"none\" stroke=\"black\" d=\"M312.5,-190.8C312.5,-179.16 312.5,-163.55 312.5,-150.24\"/>\r\n<polygon fill=\"black\" stroke=\"black\" points=\"316,-150.18 312.5,-140.18 309,-150.18 316,-150.18\"/>\r\n<text text-anchor=\"middle\" x=\"323.5\" y=\"-161.8\" font-family=\"Times New Roman,serif\" font-size=\"14.00\">Yes</text>\r\n</g>\r\n<!-- 33 -->\r\n<g id=\"node34\" class=\"node\">\r\n<title>33</title>\r\n<ellipse fill=\"none\" stroke=\"black\" cx=\"526.5\" cy=\"-122\" rx=\"59.59\" ry=\"18\"/>\r\n<text text-anchor=\"middle\" x=\"526.5\" y=\"-118.3\" font-family=\"Times New Roman,serif\" font-size=\"14.00\">36, value&gt;0.5</text>\r\n</g>\r\n<!-- 16&#45;&gt;33 -->\r\n<g id=\"edge33\" class=\"edge\">\r\n<title>16&#45;&gt;33</title>\r\n<path fill=\"none\" stroke=\"black\" d=\"M583.47,-191.21C573.07,-178.75 558.72,-161.57 547.03,-147.57\"/>\r\n<polygon fill=\"black\" stroke=\"black\" points=\"549.6,-145.19 540.5,-139.76 544.22,-149.68 549.6,-145.19\"/>\r\n<text text-anchor=\"middle\" x=\"575.5\" y=\"-161.8\" font-family=\"Times New Roman,serif\" font-size=\"14.00\">No</text>\r\n</g>\r\n<!-- 34 -->\r\n<g id=\"node35\" class=\"node\">\r\n<title>34</title>\r\n<ellipse fill=\"none\" stroke=\"black\" cx=\"664.5\" cy=\"-122\" rx=\"59.59\" ry=\"18\"/>\r\n<text text-anchor=\"middle\" x=\"664.5\" y=\"-118.3\" font-family=\"Times New Roman,serif\" font-size=\"14.00\">36, value&gt;0.5</text>\r\n</g>\r\n<!-- 16&#45;&gt;34 -->\r\n<g id=\"edge34\" class=\"edge\">\r\n<title>16&#45;&gt;34</title>\r\n<path fill=\"none\" stroke=\"black\" d=\"M610.74,-191.21C620.46,-178.87 633.84,-161.89 644.82,-147.97\"/>\r\n<polygon fill=\"black\" stroke=\"black\" points=\"647.85,-149.78 651.29,-139.76 642.35,-145.45 647.85,-149.78\"/>\r\n<text text-anchor=\"middle\" x=\"646.5\" y=\"-161.8\" font-family=\"Times New Roman,serif\" font-size=\"14.00\">Yes</text>\r\n</g>\r\n<!-- 35 -->\r\n<g id=\"node36\" class=\"node\">\r\n<title>35</title>\r\n<ellipse fill=\"none\" stroke=\"black\" cx=\"942.5\" cy=\"-122\" rx=\"59.59\" ry=\"18\"/>\r\n<text text-anchor=\"middle\" x=\"942.5\" y=\"-118.3\" font-family=\"Times New Roman,serif\" font-size=\"14.00\">36, value&gt;0.5</text>\r\n</g>\r\n<!-- 17&#45;&gt;35 -->\r\n<g id=\"edge35\" class=\"edge\">\r\n<title>17&#45;&gt;35</title>\r\n<path fill=\"none\" stroke=\"black\" d=\"M1080.41,-193.19C1052.72,-179.1 1010.88,-157.8 980.55,-142.37\"/>\r\n<polygon fill=\"black\" stroke=\"black\" points=\"982.04,-139.2 971.54,-137.78 978.86,-145.43 982.04,-139.2\"/>\r\n<text text-anchor=\"middle\" x=\"1045.5\" y=\"-161.8\" font-family=\"Times New Roman,serif\" font-size=\"14.00\">No</text>\r\n</g>\r\n<!-- 36 -->\r\n<g id=\"node37\" class=\"node\">\r\n<title>36</title>\r\n<ellipse fill=\"none\" stroke=\"black\" cx=\"1109.5\" cy=\"-122\" rx=\"59.59\" ry=\"18\"/>\r\n<text text-anchor=\"middle\" x=\"1109.5\" y=\"-118.3\" font-family=\"Times New Roman,serif\" font-size=\"14.00\">36, value&gt;0.5</text>\r\n</g>\r\n<!-- 17&#45;&gt;36 -->\r\n<g id=\"edge36\" class=\"edge\">\r\n<title>17&#45;&gt;36</title>\r\n<path fill=\"none\" stroke=\"black\" d=\"M1109.5,-190.8C1109.5,-179.16 1109.5,-163.55 1109.5,-150.24\"/>\r\n<polygon fill=\"black\" stroke=\"black\" points=\"1113,-150.18 1109.5,-140.18 1106,-150.18 1113,-150.18\"/>\r\n<text text-anchor=\"middle\" x=\"1120.5\" y=\"-161.8\" font-family=\"Times New Roman,serif\" font-size=\"14.00\">Yes</text>\r\n</g>\r\n<!-- 37 -->\r\n<g id=\"node38\" class=\"node\">\r\n<title>37</title>\r\n<ellipse fill=\"none\" stroke=\"black\" cx=\"1269.5\" cy=\"-122\" rx=\"59.59\" ry=\"18\"/>\r\n<text text-anchor=\"middle\" x=\"1269.5\" y=\"-118.3\" font-family=\"Times New Roman,serif\" font-size=\"14.00\">36, value&gt;0.5</text>\r\n</g>\r\n<!-- 18&#45;&gt;37 -->\r\n<g id=\"edge37\" class=\"edge\">\r\n<title>18&#45;&gt;37</title>\r\n<path fill=\"none\" stroke=\"black\" d=\"M1269.5,-190.8C1269.5,-179.16 1269.5,-163.55 1269.5,-150.24\"/>\r\n<polygon fill=\"black\" stroke=\"black\" points=\"1273,-150.18 1269.5,-140.18 1266,-150.18 1273,-150.18\"/>\r\n<text text-anchor=\"middle\" x=\"1278.5\" y=\"-161.8\" font-family=\"Times New Roman,serif\" font-size=\"14.00\">No</text>\r\n</g>\r\n<!-- 38 -->\r\n<g id=\"node39\" class=\"node\">\r\n<title>38</title>\r\n<ellipse fill=\"none\" stroke=\"black\" cx=\"1429.5\" cy=\"-122\" rx=\"59.59\" ry=\"18\"/>\r\n<text text-anchor=\"middle\" x=\"1429.5\" y=\"-118.3\" font-family=\"Times New Roman,serif\" font-size=\"14.00\">36, value&gt;0.5</text>\r\n</g>\r\n<!-- 18&#45;&gt;38 -->\r\n<g id=\"edge38\" class=\"edge\">\r\n<title>18&#45;&gt;38</title>\r\n<path fill=\"none\" stroke=\"black\" d=\"M1297.74,-193C1324.05,-179.02 1363.44,-158.09 1392.31,-142.76\"/>\r\n<polygon fill=\"black\" stroke=\"black\" points=\"1394.09,-145.78 1401.28,-137.99 1390.8,-139.59 1394.09,-145.78\"/>\r\n<text text-anchor=\"middle\" x=\"1370.5\" y=\"-161.8\" font-family=\"Times New Roman,serif\" font-size=\"14.00\">Yes</text>\r\n</g>\r\n<!-- 39 -->\r\n<g id=\"node40\" class=\"node\">\r\n<title>39</title>\r\n<ellipse fill=\"none\" stroke=\"black\" cx=\"1726.5\" cy=\"-122\" rx=\"59.59\" ry=\"18\"/>\r\n<text text-anchor=\"middle\" x=\"1726.5\" y=\"-118.3\" font-family=\"Times New Roman,serif\" font-size=\"14.00\">36, value&gt;0.5</text>\r\n</g>\r\n<!-- 19&#45;&gt;39 -->\r\n<g id=\"edge39\" class=\"edge\">\r\n<title>19&#45;&gt;39</title>\r\n<path fill=\"none\" stroke=\"black\" d=\"M1864.41,-193.19C1836.72,-179.1 1794.88,-157.8 1764.55,-142.37\"/>\r\n<polygon fill=\"black\" stroke=\"black\" points=\"1766.04,-139.2 1755.54,-137.78 1762.86,-145.43 1766.04,-139.2\"/>\r\n<text text-anchor=\"middle\" x=\"1829.5\" y=\"-161.8\" font-family=\"Times New Roman,serif\" font-size=\"14.00\">No</text>\r\n</g>\r\n<!-- 40 -->\r\n<g id=\"node41\" class=\"node\">\r\n<title>40</title>\r\n<ellipse fill=\"none\" stroke=\"black\" cx=\"1893.5\" cy=\"-122\" rx=\"59.59\" ry=\"18\"/>\r\n<text text-anchor=\"middle\" x=\"1893.5\" y=\"-118.3\" font-family=\"Times New Roman,serif\" font-size=\"14.00\">36, value&gt;0.5</text>\r\n</g>\r\n<!-- 19&#45;&gt;40 -->\r\n<g id=\"edge40\" class=\"edge\">\r\n<title>19&#45;&gt;40</title>\r\n<path fill=\"none\" stroke=\"black\" d=\"M1893.5,-190.8C1893.5,-179.16 1893.5,-163.55 1893.5,-150.24\"/>\r\n<polygon fill=\"black\" stroke=\"black\" points=\"1897,-150.18 1893.5,-140.18 1890,-150.18 1897,-150.18\"/>\r\n<text text-anchor=\"middle\" x=\"1904.5\" y=\"-161.8\" font-family=\"Times New Roman,serif\" font-size=\"14.00\">Yes</text>\r\n</g>\r\n<!-- 41 -->\r\n<g id=\"node42\" class=\"node\">\r\n<title>41</title>\r\n<ellipse fill=\"none\" stroke=\"black\" cx=\"2085.5\" cy=\"-122\" rx=\"59.59\" ry=\"18\"/>\r\n<text text-anchor=\"middle\" x=\"2085.5\" y=\"-118.3\" font-family=\"Times New Roman,serif\" font-size=\"14.00\">36, value&gt;0.5</text>\r\n</g>\r\n<!-- 20&#45;&gt;41 -->\r\n<g id=\"edge41\" class=\"edge\">\r\n<title>20&#45;&gt;41</title>\r\n<path fill=\"none\" stroke=\"black\" d=\"M2140.87,-191.21C2130.76,-178.75 2116.81,-161.57 2105.45,-147.57\"/>\r\n<polygon fill=\"black\" stroke=\"black\" points=\"2108.12,-145.32 2099.1,-139.76 2102.69,-149.73 2108.12,-145.32\"/>\r\n<text text-anchor=\"middle\" x=\"2133.5\" y=\"-161.8\" font-family=\"Times New Roman,serif\" font-size=\"14.00\">No</text>\r\n</g>\r\n<!-- 42 -->\r\n<g id=\"node43\" class=\"node\">\r\n<title>42</title>\r\n<ellipse fill=\"none\" stroke=\"black\" cx=\"2223.5\" cy=\"-122\" rx=\"59.59\" ry=\"18\"/>\r\n<text text-anchor=\"middle\" x=\"2223.5\" y=\"-118.3\" font-family=\"Times New Roman,serif\" font-size=\"14.00\">36, value&gt;0.5</text>\r\n</g>\r\n<!-- 20&#45;&gt;42 -->\r\n<g id=\"edge42\" class=\"edge\">\r\n<title>20&#45;&gt;42</title>\r\n<path fill=\"none\" stroke=\"black\" d=\"M2168.13,-191.21C2178.24,-178.75 2192.19,-161.57 2203.55,-147.57\"/>\r\n<polygon fill=\"black\" stroke=\"black\" points=\"2206.31,-149.73 2209.9,-139.76 2200.88,-145.32 2206.31,-149.73\"/>\r\n<text text-anchor=\"middle\" x=\"2204.5\" y=\"-161.8\" font-family=\"Times New Roman,serif\" font-size=\"14.00\">Yes</text>\r\n</g>\r\n<!-- 43 -->\r\n<g id=\"node44\" class=\"node\">\r\n<title>43</title>\r\n<ellipse fill=\"none\" stroke=\"black\" cx=\"2483.5\" cy=\"-122\" rx=\"59.59\" ry=\"18\"/>\r\n<text text-anchor=\"middle\" x=\"2483.5\" y=\"-118.3\" font-family=\"Times New Roman,serif\" font-size=\"14.00\">36, value&gt;0.5</text>\r\n</g>\r\n<!-- 21&#45;&gt;43 -->\r\n<g id=\"edge43\" class=\"edge\">\r\n<title>21&#45;&gt;43</title>\r\n<path fill=\"none\" stroke=\"black\" d=\"M2538.07,-191.21C2528.1,-178.75 2514.36,-161.57 2503.16,-147.57\"/>\r\n<polygon fill=\"black\" stroke=\"black\" points=\"2505.89,-145.38 2496.91,-139.76 2500.42,-149.75 2505.89,-145.38\"/>\r\n<text text-anchor=\"middle\" x=\"2531.5\" y=\"-161.8\" font-family=\"Times New Roman,serif\" font-size=\"14.00\">No</text>\r\n</g>\r\n<!-- 44 -->\r\n<g id=\"node45\" class=\"node\">\r\n<title>44</title>\r\n<ellipse fill=\"none\" stroke=\"black\" cx=\"2621.5\" cy=\"-122\" rx=\"59.59\" ry=\"18\"/>\r\n<text text-anchor=\"middle\" x=\"2621.5\" y=\"-118.3\" font-family=\"Times New Roman,serif\" font-size=\"14.00\">36, value&gt;0.5</text>\r\n</g>\r\n<!-- 21&#45;&gt;44 -->\r\n<g id=\"edge44\" class=\"edge\">\r\n<title>21&#45;&gt;44</title>\r\n<path fill=\"none\" stroke=\"black\" d=\"M2565.33,-191.21C2575.59,-178.75 2589.73,-161.57 2601.26,-147.57\"/>\r\n<polygon fill=\"black\" stroke=\"black\" points=\"2604.04,-149.7 2607.7,-139.76 2598.64,-145.25 2604.04,-149.7\"/>\r\n<text text-anchor=\"middle\" x=\"2602.5\" y=\"-161.8\" font-family=\"Times New Roman,serif\" font-size=\"14.00\">Yes</text>\r\n</g>\r\n<!-- 45 -->\r\n<g id=\"node46\" class=\"node\">\r\n<title>45</title>\r\n<ellipse fill=\"none\" stroke=\"black\" cx=\"2823.5\" cy=\"-122\" rx=\"59.59\" ry=\"18\"/>\r\n<text text-anchor=\"middle\" x=\"2823.5\" y=\"-118.3\" font-family=\"Times New Roman,serif\" font-size=\"14.00\">36, value&gt;0.5</text>\r\n</g>\r\n<!-- 22&#45;&gt;45 -->\r\n<g id=\"edge45\" class=\"edge\">\r\n<title>22&#45;&gt;45</title>\r\n<path fill=\"none\" stroke=\"black\" d=\"M2823.5,-190.8C2823.5,-179.16 2823.5,-163.55 2823.5,-150.24\"/>\r\n<polygon fill=\"black\" stroke=\"black\" points=\"2827,-150.18 2823.5,-140.18 2820,-150.18 2827,-150.18\"/>\r\n<text text-anchor=\"middle\" x=\"2832.5\" y=\"-161.8\" font-family=\"Times New Roman,serif\" font-size=\"14.00\">No</text>\r\n</g>\r\n<!-- 46 -->\r\n<g id=\"node47\" class=\"node\">\r\n<title>46</title>\r\n<ellipse fill=\"none\" stroke=\"black\" cx=\"2989.5\" cy=\"-122\" rx=\"59.59\" ry=\"18\"/>\r\n<text text-anchor=\"middle\" x=\"2989.5\" y=\"-118.3\" font-family=\"Times New Roman,serif\" font-size=\"14.00\">36, value&gt;0.5</text>\r\n</g>\r\n<!-- 22&#45;&gt;46 -->\r\n<g id=\"edge46\" class=\"edge\">\r\n<title>22&#45;&gt;46</title>\r\n<path fill=\"none\" stroke=\"black\" d=\"M2852.41,-193.19C2879.94,-179.1 2921.53,-157.8 2951.68,-142.37\"/>\r\n<polygon fill=\"black\" stroke=\"black\" points=\"2953.33,-145.45 2960.64,-137.78 2950.14,-139.22 2953.33,-145.45\"/>\r\n<text text-anchor=\"middle\" x=\"2927.5\" y=\"-161.8\" font-family=\"Times New Roman,serif\" font-size=\"14.00\">Yes</text>\r\n</g>\r\n<!-- 47 -->\r\n<g id=\"node48\" class=\"node\">\r\n<title>47</title>\r\n<ellipse fill=\"none\" stroke=\"black\" cx=\"3286.5\" cy=\"-122\" rx=\"59.59\" ry=\"18\"/>\r\n<text text-anchor=\"middle\" x=\"3286.5\" y=\"-118.3\" font-family=\"Times New Roman,serif\" font-size=\"14.00\">36, value&gt;0.5</text>\r\n</g>\r\n<!-- 23&#45;&gt;47 -->\r\n<g id=\"edge47\" class=\"edge\">\r\n<title>23&#45;&gt;47</title>\r\n<path fill=\"none\" stroke=\"black\" d=\"M3426.89,-193.19C3398.7,-179.1 3356.11,-157.8 3325.23,-142.37\"/>\r\n<polygon fill=\"black\" stroke=\"black\" points=\"3326.57,-139.12 3316.06,-137.78 3323.44,-145.38 3326.57,-139.12\"/>\r\n<text text-anchor=\"middle\" x=\"3391.5\" y=\"-161.8\" font-family=\"Times New Roman,serif\" font-size=\"14.00\">No</text>\r\n</g>\r\n<!-- 48 -->\r\n<g id=\"node49\" class=\"node\">\r\n<title>48</title>\r\n<ellipse fill=\"none\" stroke=\"black\" cx=\"3456.5\" cy=\"-122\" rx=\"59.59\" ry=\"18\"/>\r\n<text text-anchor=\"middle\" x=\"3456.5\" y=\"-118.3\" font-family=\"Times New Roman,serif\" font-size=\"14.00\">36, value&gt;0.5</text>\r\n</g>\r\n<!-- 23&#45;&gt;48 -->\r\n<g id=\"edge48\" class=\"edge\">\r\n<title>23&#45;&gt;48</title>\r\n<path fill=\"none\" stroke=\"black\" d=\"M3456.5,-190.8C3456.5,-179.16 3456.5,-163.55 3456.5,-150.24\"/>\r\n<polygon fill=\"black\" stroke=\"black\" points=\"3460,-150.18 3456.5,-140.18 3453,-150.18 3460,-150.18\"/>\r\n<text text-anchor=\"middle\" x=\"3467.5\" y=\"-161.8\" font-family=\"Times New Roman,serif\" font-size=\"14.00\">Yes</text>\r\n</g>\r\n<!-- 49 -->\r\n<g id=\"node50\" class=\"node\">\r\n<title>49</title>\r\n<ellipse fill=\"none\" stroke=\"black\" cx=\"3671.5\" cy=\"-122\" rx=\"59.59\" ry=\"18\"/>\r\n<text text-anchor=\"middle\" x=\"3671.5\" y=\"-118.3\" font-family=\"Times New Roman,serif\" font-size=\"14.00\">36, value&gt;0.5</text>\r\n</g>\r\n<!-- 24&#45;&gt;49 -->\r\n<g id=\"edge49\" class=\"edge\">\r\n<title>24&#45;&gt;49</title>\r\n<path fill=\"none\" stroke=\"black\" d=\"M3725.26,-191.21C3715.54,-178.87 3702.16,-161.89 3691.18,-147.97\"/>\r\n<polygon fill=\"black\" stroke=\"black\" points=\"3693.65,-145.45 3684.71,-139.76 3688.15,-149.78 3693.65,-145.45\"/>\r\n<text text-anchor=\"middle\" x=\"3718.5\" y=\"-161.8\" font-family=\"Times New Roman,serif\" font-size=\"14.00\">No</text>\r\n</g>\r\n<!-- 50 -->\r\n<g id=\"node51\" class=\"node\">\r\n<title>50</title>\r\n<ellipse fill=\"none\" stroke=\"black\" cx=\"3809.5\" cy=\"-122\" rx=\"59.59\" ry=\"18\"/>\r\n<text text-anchor=\"middle\" x=\"3809.5\" y=\"-118.3\" font-family=\"Times New Roman,serif\" font-size=\"14.00\">36, value&gt;0.5</text>\r\n</g>\r\n<!-- 24&#45;&gt;50 -->\r\n<g id=\"edge50\" class=\"edge\">\r\n<title>24&#45;&gt;50</title>\r\n<path fill=\"none\" stroke=\"black\" d=\"M3752.53,-191.21C3762.93,-178.75 3777.28,-161.57 3788.97,-147.57\"/>\r\n<polygon fill=\"black\" stroke=\"black\" points=\"3791.78,-149.68 3795.5,-139.76 3786.4,-145.19 3791.78,-149.68\"/>\r\n<text text-anchor=\"middle\" x=\"3789.5\" y=\"-161.8\" font-family=\"Times New Roman,serif\" font-size=\"14.00\">Yes</text>\r\n</g>\r\n<!-- 51 -->\r\n<g id=\"node52\" class=\"node\">\r\n<title>51</title>\r\n<ellipse fill=\"none\" stroke=\"black\" cx=\"4085.5\" cy=\"-122\" rx=\"59.59\" ry=\"18\"/>\r\n<text text-anchor=\"middle\" x=\"4085.5\" y=\"-118.3\" font-family=\"Times New Roman,serif\" font-size=\"14.00\">36, value&gt;0.5</text>\r\n</g>\r\n<!-- 25&#45;&gt;51 -->\r\n<g id=\"edge51\" class=\"edge\">\r\n<title>25&#45;&gt;51</title>\r\n<path fill=\"none\" stroke=\"black\" d=\"M4155.73,-191.61C4142.61,-178.79 4124.19,-160.8 4109.51,-146.46\"/>\r\n<polygon fill=\"black\" stroke=\"black\" points=\"4111.82,-143.82 4102.22,-139.34 4106.93,-148.83 4111.82,-143.82\"/>\r\n<text text-anchor=\"middle\" x=\"4143.5\" y=\"-161.8\" font-family=\"Times New Roman,serif\" font-size=\"14.00\">No</text>\r\n</g>\r\n<!-- 52 -->\r\n<g id=\"node53\" class=\"node\">\r\n<title>52</title>\r\n<ellipse fill=\"none\" stroke=\"black\" cx=\"4223.5\" cy=\"-122\" rx=\"59.59\" ry=\"18\"/>\r\n<text text-anchor=\"middle\" x=\"4223.5\" y=\"-118.3\" font-family=\"Times New Roman,serif\" font-size=\"14.00\">36, value&gt;0.5</text>\r\n</g>\r\n<!-- 25&#45;&gt;52 -->\r\n<g id=\"edge52\" class=\"edge\">\r\n<title>25&#45;&gt;52</title>\r\n<path fill=\"none\" stroke=\"black\" d=\"M4182.58,-191.21C4189.91,-178.98 4199.97,-162.21 4208.28,-148.36\"/>\r\n<polygon fill=\"black\" stroke=\"black\" points=\"4211.3,-150.13 4213.44,-139.76 4205.3,-146.53 4211.3,-150.13\"/>\r\n<text text-anchor=\"middle\" x=\"4212.5\" y=\"-161.8\" font-family=\"Times New Roman,serif\" font-size=\"14.00\">Yes</text>\r\n</g>\r\n<!-- 53 -->\r\n<g id=\"node54\" class=\"node\">\r\n<title>53</title>\r\n<ellipse fill=\"none\" stroke=\"black\" cx=\"4407.5\" cy=\"-122\" rx=\"59.59\" ry=\"18\"/>\r\n<text text-anchor=\"middle\" x=\"4407.5\" y=\"-118.3\" font-family=\"Times New Roman,serif\" font-size=\"14.00\">36, value&gt;0.5</text>\r\n</g>\r\n<!-- 26&#45;&gt;53 -->\r\n<g id=\"edge53\" class=\"edge\">\r\n<title>26&#45;&gt;53</title>\r\n<path fill=\"none\" stroke=\"black\" d=\"M4407.5,-190.8C4407.5,-179.16 4407.5,-163.55 4407.5,-150.24\"/>\r\n<polygon fill=\"black\" stroke=\"black\" points=\"4411,-150.18 4407.5,-140.18 4404,-150.18 4411,-150.18\"/>\r\n<text text-anchor=\"middle\" x=\"4416.5\" y=\"-161.8\" font-family=\"Times New Roman,serif\" font-size=\"14.00\">No</text>\r\n</g>\r\n<!-- 54 -->\r\n<g id=\"node55\" class=\"node\">\r\n<title>54</title>\r\n<ellipse fill=\"none\" stroke=\"black\" cx=\"4573.5\" cy=\"-122\" rx=\"59.59\" ry=\"18\"/>\r\n<text text-anchor=\"middle\" x=\"4573.5\" y=\"-118.3\" font-family=\"Times New Roman,serif\" font-size=\"14.00\">36, value&gt;0.5</text>\r\n</g>\r\n<!-- 26&#45;&gt;54 -->\r\n<g id=\"edge54\" class=\"edge\">\r\n<title>26&#45;&gt;54</title>\r\n<path fill=\"none\" stroke=\"black\" d=\"M4436.41,-193.19C4463.94,-179.1 4505.53,-157.8 4535.68,-142.37\"/>\r\n<polygon fill=\"black\" stroke=\"black\" points=\"4537.33,-145.45 4544.64,-137.78 4534.14,-139.22 4537.33,-145.45\"/>\r\n<text text-anchor=\"middle\" x=\"4511.5\" y=\"-161.8\" font-family=\"Times New Roman,serif\" font-size=\"14.00\">Yes</text>\r\n</g>\r\n<!-- 55 -->\r\n<g id=\"node56\" class=\"node\">\r\n<title>55</title>\r\n<ellipse fill=\"none\" stroke=\"black\" cx=\"4870.5\" cy=\"-122\" rx=\"59.59\" ry=\"18\"/>\r\n<text text-anchor=\"middle\" x=\"4870.5\" y=\"-118.3\" font-family=\"Times New Roman,serif\" font-size=\"14.00\">36, value&gt;0.5</text>\r\n</g>\r\n<!-- 27&#45;&gt;55 -->\r\n<g id=\"edge55\" class=\"edge\">\r\n<title>27&#45;&gt;55</title>\r\n<path fill=\"none\" stroke=\"black\" d=\"M4990.4,-192.8C4966.77,-179.05 4931.78,-158.68 4905.69,-143.49\"/>\r\n<polygon fill=\"black\" stroke=\"black\" points=\"4907.27,-140.36 4896.87,-138.35 4903.75,-146.41 4907.27,-140.36\"/>\r\n<text text-anchor=\"middle\" x=\"4961.5\" y=\"-161.8\" font-family=\"Times New Roman,serif\" font-size=\"14.00\">No</text>\r\n</g>\r\n<!-- 56 -->\r\n<g id=\"node57\" class=\"node\">\r\n<title>56</title>\r\n<ellipse fill=\"none\" stroke=\"black\" cx=\"5016.5\" cy=\"-122\" rx=\"59.59\" ry=\"18\"/>\r\n<text text-anchor=\"middle\" x=\"5016.5\" y=\"-118.3\" font-family=\"Times New Roman,serif\" font-size=\"14.00\">36, value&gt;0.5</text>\r\n</g>\r\n<!-- 27&#45;&gt;56 -->\r\n<g id=\"edge56\" class=\"edge\">\r\n<title>27&#45;&gt;56</title>\r\n<path fill=\"none\" stroke=\"black\" d=\"M5016.5,-190.8C5016.5,-179.16 5016.5,-163.55 5016.5,-150.24\"/>\r\n<polygon fill=\"black\" stroke=\"black\" points=\"5020,-150.18 5016.5,-140.18 5013,-150.18 5020,-150.18\"/>\r\n<text text-anchor=\"middle\" x=\"5027.5\" y=\"-161.8\" font-family=\"Times New Roman,serif\" font-size=\"14.00\">Yes</text>\r\n</g>\r\n<!-- 57 -->\r\n<g id=\"node58\" class=\"node\">\r\n<title>57</title>\r\n<ellipse fill=\"none\" stroke=\"black\" cx=\"5191.5\" cy=\"-122\" rx=\"59.59\" ry=\"18\"/>\r\n<text text-anchor=\"middle\" x=\"5191.5\" y=\"-118.3\" font-family=\"Times New Roman,serif\" font-size=\"14.00\">36, value&gt;0.5</text>\r\n</g>\r\n<!-- 28&#45;&gt;57 -->\r\n<g id=\"edge57\" class=\"edge\">\r\n<title>28&#45;&gt;57</title>\r\n<path fill=\"none\" stroke=\"black\" d=\"M5191.5,-190.8C5191.5,-179.16 5191.5,-163.55 5191.5,-150.24\"/>\r\n<polygon fill=\"black\" stroke=\"black\" points=\"5195,-150.18 5191.5,-140.18 5188,-150.18 5195,-150.18\"/>\r\n<text text-anchor=\"middle\" x=\"5200.5\" y=\"-161.8\" font-family=\"Times New Roman,serif\" font-size=\"14.00\">No</text>\r\n</g>\r\n<!-- 58 -->\r\n<g id=\"node59\" class=\"node\">\r\n<title>58</title>\r\n<ellipse fill=\"none\" stroke=\"black\" cx=\"5357.5\" cy=\"-122\" rx=\"59.59\" ry=\"18\"/>\r\n<text text-anchor=\"middle\" x=\"5357.5\" y=\"-118.3\" font-family=\"Times New Roman,serif\" font-size=\"14.00\">36, value&gt;0.5</text>\r\n</g>\r\n<!-- 28&#45;&gt;58 -->\r\n<g id=\"edge58\" class=\"edge\">\r\n<title>28&#45;&gt;58</title>\r\n<path fill=\"none\" stroke=\"black\" d=\"M5220.41,-193.19C5247.94,-179.1 5289.53,-157.8 5319.68,-142.37\"/>\r\n<polygon fill=\"black\" stroke=\"black\" points=\"5321.33,-145.45 5328.64,-137.78 5318.14,-139.22 5321.33,-145.45\"/>\r\n<text text-anchor=\"middle\" x=\"5295.5\" y=\"-161.8\" font-family=\"Times New Roman,serif\" font-size=\"14.00\">Yes</text>\r\n</g>\r\n<!-- 59 -->\r\n<g id=\"node60\" class=\"node\">\r\n<title>59</title>\r\n<ellipse fill=\"none\" stroke=\"black\" cx=\"5627.5\" cy=\"-122\" rx=\"59.59\" ry=\"18\"/>\r\n<text text-anchor=\"middle\" x=\"5627.5\" y=\"-118.3\" font-family=\"Times New Roman,serif\" font-size=\"14.00\">36, value&gt;0.5</text>\r\n</g>\r\n<!-- 29&#45;&gt;59 -->\r\n<g id=\"edge59\" class=\"edge\">\r\n<title>29&#45;&gt;59</title>\r\n<path fill=\"none\" stroke=\"black\" d=\"M5681.26,-191.21C5671.54,-178.87 5658.16,-161.89 5647.18,-147.97\"/>\r\n<polygon fill=\"black\" stroke=\"black\" points=\"5649.65,-145.45 5640.71,-139.76 5644.15,-149.78 5649.65,-145.45\"/>\r\n<text text-anchor=\"middle\" x=\"5674.5\" y=\"-161.8\" font-family=\"Times New Roman,serif\" font-size=\"14.00\">No</text>\r\n</g>\r\n<!-- 60 -->\r\n<g id=\"node61\" class=\"node\">\r\n<title>60</title>\r\n<ellipse fill=\"none\" stroke=\"black\" cx=\"5765.5\" cy=\"-122\" rx=\"59.59\" ry=\"18\"/>\r\n<text text-anchor=\"middle\" x=\"5765.5\" y=\"-118.3\" font-family=\"Times New Roman,serif\" font-size=\"14.00\">36, value&gt;0.5</text>\r\n</g>\r\n<!-- 29&#45;&gt;60 -->\r\n<g id=\"edge60\" class=\"edge\">\r\n<title>29&#45;&gt;60</title>\r\n<path fill=\"none\" stroke=\"black\" d=\"M5708.53,-191.21C5718.93,-178.75 5733.28,-161.57 5744.97,-147.57\"/>\r\n<polygon fill=\"black\" stroke=\"black\" points=\"5747.78,-149.68 5751.5,-139.76 5742.4,-145.19 5747.78,-149.68\"/>\r\n<text text-anchor=\"middle\" x=\"5745.5\" y=\"-161.8\" font-family=\"Times New Roman,serif\" font-size=\"14.00\">Yes</text>\r\n</g>\r\n<!-- 61 -->\r\n<g id=\"node62\" class=\"node\">\r\n<title>61</title>\r\n<ellipse fill=\"none\" stroke=\"black\" cx=\"5967.5\" cy=\"-122\" rx=\"59.59\" ry=\"18\"/>\r\n<text text-anchor=\"middle\" x=\"5967.5\" y=\"-118.3\" font-family=\"Times New Roman,serif\" font-size=\"14.00\">36, value&gt;0.5</text>\r\n</g>\r\n<!-- 30&#45;&gt;61 -->\r\n<g id=\"edge61\" class=\"edge\">\r\n<title>30&#45;&gt;61</title>\r\n<path fill=\"none\" stroke=\"black\" d=\"M5967.5,-190.8C5967.5,-179.16 5967.5,-163.55 5967.5,-150.24\"/>\r\n<polygon fill=\"black\" stroke=\"black\" points=\"5971,-150.18 5967.5,-140.18 5964,-150.18 5971,-150.18\"/>\r\n<text text-anchor=\"middle\" x=\"5976.5\" y=\"-161.8\" font-family=\"Times New Roman,serif\" font-size=\"14.00\">No</text>\r\n</g>\r\n<!-- 62 -->\r\n<g id=\"node63\" class=\"node\">\r\n<title>62</title>\r\n<ellipse fill=\"none\" stroke=\"black\" cx=\"6133.5\" cy=\"-122\" rx=\"59.59\" ry=\"18\"/>\r\n<text text-anchor=\"middle\" x=\"6133.5\" y=\"-118.3\" font-family=\"Times New Roman,serif\" font-size=\"14.00\">36, value&gt;0.5</text>\r\n</g>\r\n<!-- 30&#45;&gt;62 -->\r\n<g id=\"edge62\" class=\"edge\">\r\n<title>30&#45;&gt;62</title>\r\n<path fill=\"none\" stroke=\"black\" d=\"M5996.41,-193.19C6023.94,-179.1 6065.53,-157.8 6095.68,-142.37\"/>\r\n<polygon fill=\"black\" stroke=\"black\" points=\"6097.33,-145.45 6104.64,-137.78 6094.14,-139.22 6097.33,-145.45\"/>\r\n<text text-anchor=\"middle\" x=\"6071.5\" y=\"-161.8\" font-family=\"Times New Roman,serif\" font-size=\"14.00\">Yes</text>\r\n</g>\r\n<!-- 63 -->\r\n<g id=\"node64\" class=\"node\">\r\n<title>63</title>\r\n<polygon fill=\"none\" stroke=\"red\" points=\"83,-53 0,-53 0,0 83,0 83,-53\"/>\r\n<text text-anchor=\"middle\" x=\"41.5\" y=\"-37.8\" font-family=\"Times New Roman,serif\" font-size=\"14.00\">val = &#45;0.048</text>\r\n<text text-anchor=\"middle\" x=\"41.5\" y=\"-22.8\" font-family=\"Times New Roman,serif\" font-size=\"14.00\">val = 0.072</text>\r\n<text text-anchor=\"middle\" x=\"41.5\" y=\"-7.8\" font-family=\"Times New Roman,serif\" font-size=\"14.00\">val = &#45;0.024</text>\r\n</g>\r\n<!-- 31&#45;&gt;63 -->\r\n<g id=\"edge63\" class=\"edge\">\r\n<title>31&#45;&gt;63</title>\r\n<path fill=\"none\" stroke=\"black\" d=\"M124.91,-104.71C111.7,-92.48 93.16,-75.33 76.92,-60.29\"/>\r\n<polygon fill=\"black\" stroke=\"black\" points=\"78.88,-57.34 69.17,-53.11 74.13,-62.47 78.88,-57.34\"/>\r\n<text text-anchor=\"middle\" x=\"113.5\" y=\"-74.8\" font-family=\"Times New Roman,serif\" font-size=\"14.00\">No</text>\r\n</g>\r\n<!-- 64 -->\r\n<g id=\"node65\" class=\"node\">\r\n<title>64</title>\r\n<polygon fill=\"none\" stroke=\"red\" points=\"184,-53 101,-53 101,0 184,0 184,-53\"/>\r\n<text text-anchor=\"middle\" x=\"142.5\" y=\"-37.8\" font-family=\"Times New Roman,serif\" font-size=\"14.00\">val = &#45;0.035</text>\r\n<text text-anchor=\"middle\" x=\"142.5\" y=\"-22.8\" font-family=\"Times New Roman,serif\" font-size=\"14.00\">val = 0.050</text>\r\n<text text-anchor=\"middle\" x=\"142.5\" y=\"-7.8\" font-family=\"Times New Roman,serif\" font-size=\"14.00\">val = &#45;0.014</text>\r\n</g>\r\n<!-- 31&#45;&gt;64 -->\r\n<g id=\"edge64\" class=\"edge\">\r\n<title>31&#45;&gt;64</title>\r\n<path fill=\"none\" stroke=\"black\" d=\"M142.5,-103.85C142.5,-92.51 142.5,-77.22 142.5,-63.3\"/>\r\n<polygon fill=\"black\" stroke=\"black\" points=\"146,-63.01 142.5,-53.01 139,-63.01 146,-63.01\"/>\r\n<text text-anchor=\"middle\" x=\"153.5\" y=\"-74.8\" font-family=\"Times New Roman,serif\" font-size=\"14.00\">Yes</text>\r\n</g>\r\n<!-- 65 -->\r\n<g id=\"node66\" class=\"node\">\r\n<title>65</title>\r\n<polygon fill=\"none\" stroke=\"red\" points=\"285,-53 202,-53 202,0 285,0 285,-53\"/>\r\n<text text-anchor=\"middle\" x=\"243.5\" y=\"-37.8\" font-family=\"Times New Roman,serif\" font-size=\"14.00\">val = &#45;0.066</text>\r\n<text text-anchor=\"middle\" x=\"243.5\" y=\"-22.8\" font-family=\"Times New Roman,serif\" font-size=\"14.00\">val = &#45;0.042</text>\r\n<text text-anchor=\"middle\" x=\"243.5\" y=\"-7.8\" font-family=\"Times New Roman,serif\" font-size=\"14.00\">val = 0.108</text>\r\n</g>\r\n<!-- 32&#45;&gt;65 -->\r\n<g id=\"edge65\" class=\"edge\">\r\n<title>32&#45;&gt;65</title>\r\n<path fill=\"none\" stroke=\"black\" d=\"M300.16,-104.28C291.42,-92.43 279.37,-76.1 268.63,-61.55\"/>\r\n<polygon fill=\"black\" stroke=\"black\" points=\"271.25,-59.21 262.5,-53.24 265.62,-63.37 271.25,-59.21\"/>\r\n<text text-anchor=\"middle\" x=\"295.5\" y=\"-74.8\" font-family=\"Times New Roman,serif\" font-size=\"14.00\">No</text>\r\n</g>\r\n<!-- 66 -->\r\n<g id=\"node67\" class=\"node\">\r\n<title>66</title>\r\n<polygon fill=\"none\" stroke=\"red\" points=\"386,-53 303,-53 303,0 386,0 386,-53\"/>\r\n<text text-anchor=\"middle\" x=\"344.5\" y=\"-37.8\" font-family=\"Times New Roman,serif\" font-size=\"14.00\">val = &#45;0.063</text>\r\n<text text-anchor=\"middle\" x=\"344.5\" y=\"-22.8\" font-family=\"Times New Roman,serif\" font-size=\"14.00\">val = &#45;0.044</text>\r\n<text text-anchor=\"middle\" x=\"344.5\" y=\"-7.8\" font-family=\"Times New Roman,serif\" font-size=\"14.00\">val = 0.107</text>\r\n</g>\r\n<!-- 32&#45;&gt;66 -->\r\n<g id=\"edge66\" class=\"edge\">\r\n<title>32&#45;&gt;66</title>\r\n<path fill=\"none\" stroke=\"black\" d=\"M318.37,-103.85C322.33,-92.29 327.69,-76.61 332.53,-62.48\"/>\r\n<polygon fill=\"black\" stroke=\"black\" points=\"335.84,-63.6 335.77,-53.01 329.22,-61.33 335.84,-63.6\"/>\r\n<text text-anchor=\"middle\" x=\"340.5\" y=\"-74.8\" font-family=\"Times New Roman,serif\" font-size=\"14.00\">Yes</text>\r\n</g>\r\n<!-- 67 -->\r\n<g id=\"node68\" class=\"node\">\r\n<title>67</title>\r\n<polygon fill=\"none\" stroke=\"red\" points=\"487,-53 404,-53 404,0 487,0 487,-53\"/>\r\n<text text-anchor=\"middle\" x=\"445.5\" y=\"-37.8\" font-family=\"Times New Roman,serif\" font-size=\"14.00\">val = &#45;0.066</text>\r\n<text text-anchor=\"middle\" x=\"445.5\" y=\"-22.8\" font-family=\"Times New Roman,serif\" font-size=\"14.00\">val = &#45;0.038</text>\r\n<text text-anchor=\"middle\" x=\"445.5\" y=\"-7.8\" font-family=\"Times New Roman,serif\" font-size=\"14.00\">val = 0.104</text>\r\n</g>\r\n<!-- 33&#45;&gt;67 -->\r\n<g id=\"edge67\" class=\"edge\">\r\n<title>33&#45;&gt;67</title>\r\n<path fill=\"none\" stroke=\"black\" d=\"M512.02,-104.28C501.65,-92.32 487.34,-75.8 474.65,-61.15\"/>\r\n<polygon fill=\"black\" stroke=\"black\" points=\"476.99,-58.51 467.8,-53.24 471.7,-63.09 476.99,-58.51\"/>\r\n<text text-anchor=\"middle\" x=\"505.5\" y=\"-74.8\" font-family=\"Times New Roman,serif\" font-size=\"14.00\">No</text>\r\n</g>\r\n<!-- 68 -->\r\n<g id=\"node69\" class=\"node\">\r\n<title>68</title>\r\n<polygon fill=\"none\" stroke=\"red\" points=\"588,-53 505,-53 505,0 588,0 588,-53\"/>\r\n<text text-anchor=\"middle\" x=\"546.5\" y=\"-37.8\" font-family=\"Times New Roman,serif\" font-size=\"14.00\">val = &#45;0.055</text>\r\n<text text-anchor=\"middle\" x=\"546.5\" y=\"-22.8\" font-family=\"Times New Roman,serif\" font-size=\"14.00\">val = &#45;0.055</text>\r\n<text text-anchor=\"middle\" x=\"546.5\" y=\"-7.8\" font-family=\"Times New Roman,serif\" font-size=\"14.00\">val = 0.110</text>\r\n</g>\r\n<!-- 33&#45;&gt;68 -->\r\n<g id=\"edge68\" class=\"edge\">\r\n<title>33&#45;&gt;68</title>\r\n<path fill=\"none\" stroke=\"black\" d=\"M530.17,-103.85C532.62,-92.4 535.93,-76.91 538.93,-62.89\"/>\r\n<polygon fill=\"black\" stroke=\"black\" points=\"542.37,-63.52 541.04,-53.01 535.53,-62.05 542.37,-63.52\"/>\r\n<text text-anchor=\"middle\" x=\"548.5\" y=\"-74.8\" font-family=\"Times New Roman,serif\" font-size=\"14.00\">Yes</text>\r\n</g>\r\n<!-- 69 -->\r\n<g id=\"node70\" class=\"node\">\r\n<title>69</title>\r\n<polygon fill=\"none\" stroke=\"red\" points=\"685,-53 606,-53 606,0 685,0 685,-53\"/>\r\n<text text-anchor=\"middle\" x=\"645.5\" y=\"-37.8\" font-family=\"Times New Roman,serif\" font-size=\"14.00\">val = 0.000</text>\r\n<text text-anchor=\"middle\" x=\"645.5\" y=\"-22.8\" font-family=\"Times New Roman,serif\" font-size=\"14.00\">val = 0.000</text>\r\n<text text-anchor=\"middle\" x=\"645.5\" y=\"-7.8\" font-family=\"Times New Roman,serif\" font-size=\"14.00\">val = 0.000</text>\r\n</g>\r\n<!-- 34&#45;&gt;69 -->\r\n<g id=\"edge69\" class=\"edge\">\r\n<title>34&#45;&gt;69</title>\r\n<path fill=\"none\" stroke=\"black\" d=\"M661.02,-103.85C658.69,-92.4 655.54,-76.91 652.69,-62.89\"/>\r\n<polygon fill=\"black\" stroke=\"black\" points=\"656.1,-62.11 650.68,-53.01 649.24,-63.5 656.1,-62.11\"/>\r\n<text text-anchor=\"middle\" x=\"666.5\" y=\"-74.8\" font-family=\"Times New Roman,serif\" font-size=\"14.00\">No</text>\r\n</g>\r\n<!-- 70 -->\r\n<g id=\"node71\" class=\"node\">\r\n<title>70</title>\r\n<polygon fill=\"none\" stroke=\"red\" points=\"782,-53 703,-53 703,0 782,0 782,-53\"/>\r\n<text text-anchor=\"middle\" x=\"742.5\" y=\"-37.8\" font-family=\"Times New Roman,serif\" font-size=\"14.00\">val = 0.000</text>\r\n<text text-anchor=\"middle\" x=\"742.5\" y=\"-22.8\" font-family=\"Times New Roman,serif\" font-size=\"14.00\">val = 0.000</text>\r\n<text text-anchor=\"middle\" x=\"742.5\" y=\"-7.8\" font-family=\"Times New Roman,serif\" font-size=\"14.00\">val = 0.000</text>\r\n</g>\r\n<!-- 34&#45;&gt;70 -->\r\n<g id=\"edge70\" class=\"edge\">\r\n<title>34&#45;&gt;70</title>\r\n<path fill=\"none\" stroke=\"black\" d=\"M678.44,-104.28C688.43,-92.32 702.21,-75.8 714.43,-61.15\"/>\r\n<polygon fill=\"black\" stroke=\"black\" points=\"717.31,-63.16 721.03,-53.24 711.93,-58.68 717.31,-63.16\"/>\r\n<text text-anchor=\"middle\" x=\"717.5\" y=\"-74.8\" font-family=\"Times New Roman,serif\" font-size=\"14.00\">Yes</text>\r\n</g>\r\n<!-- 71 -->\r\n<g id=\"node72\" class=\"node\">\r\n<title>71</title>\r\n<polygon fill=\"none\" stroke=\"red\" points=\"883,-53 800,-53 800,0 883,0 883,-53\"/>\r\n<text text-anchor=\"middle\" x=\"841.5\" y=\"-37.8\" font-family=\"Times New Roman,serif\" font-size=\"14.00\">val = &#45;0.063</text>\r\n<text text-anchor=\"middle\" x=\"841.5\" y=\"-22.8\" font-family=\"Times New Roman,serif\" font-size=\"14.00\">val = &#45;0.040</text>\r\n<text text-anchor=\"middle\" x=\"841.5\" y=\"-7.8\" font-family=\"Times New Roman,serif\" font-size=\"14.00\">val = 0.103</text>\r\n</g>\r\n<!-- 35&#45;&gt;71 -->\r\n<g id=\"edge71\" class=\"edge\">\r\n<title>35&#45;&gt;71</title>\r\n<path fill=\"none\" stroke=\"black\" d=\"M924.91,-104.71C911.7,-92.48 893.16,-75.33 876.92,-60.29\"/>\r\n<polygon fill=\"black\" stroke=\"black\" points=\"878.88,-57.34 869.17,-53.11 874.13,-62.47 878.88,-57.34\"/>\r\n<text text-anchor=\"middle\" x=\"913.5\" y=\"-74.8\" font-family=\"Times New Roman,serif\" font-size=\"14.00\">No</text>\r\n</g>\r\n<!-- 72 -->\r\n<g id=\"node73\" class=\"node\">\r\n<title>72</title>\r\n<polygon fill=\"none\" stroke=\"red\" points=\"984,-53 901,-53 901,0 984,0 984,-53\"/>\r\n<text text-anchor=\"middle\" x=\"942.5\" y=\"-37.8\" font-family=\"Times New Roman,serif\" font-size=\"14.00\">val = &#45;0.069</text>\r\n<text text-anchor=\"middle\" x=\"942.5\" y=\"-22.8\" font-family=\"Times New Roman,serif\" font-size=\"14.00\">val = &#45;0.046</text>\r\n<text text-anchor=\"middle\" x=\"942.5\" y=\"-7.8\" font-family=\"Times New Roman,serif\" font-size=\"14.00\">val = 0.115</text>\r\n</g>\r\n<!-- 35&#45;&gt;72 -->\r\n<g id=\"edge72\" class=\"edge\">\r\n<title>35&#45;&gt;72</title>\r\n<path fill=\"none\" stroke=\"black\" d=\"M942.5,-103.85C942.5,-92.51 942.5,-77.22 942.5,-63.3\"/>\r\n<polygon fill=\"black\" stroke=\"black\" points=\"946,-63.01 942.5,-53.01 939,-63.01 946,-63.01\"/>\r\n<text text-anchor=\"middle\" x=\"953.5\" y=\"-74.8\" font-family=\"Times New Roman,serif\" font-size=\"14.00\">Yes</text>\r\n</g>\r\n<!-- 73 -->\r\n<g id=\"node74\" class=\"node\">\r\n<title>73</title>\r\n<polygon fill=\"none\" stroke=\"red\" points=\"1081,-53 1002,-53 1002,0 1081,0 1081,-53\"/>\r\n<text text-anchor=\"middle\" x=\"1041.5\" y=\"-37.8\" font-family=\"Times New Roman,serif\" font-size=\"14.00\">val = 0.000</text>\r\n<text text-anchor=\"middle\" x=\"1041.5\" y=\"-22.8\" font-family=\"Times New Roman,serif\" font-size=\"14.00\">val = 0.000</text>\r\n<text text-anchor=\"middle\" x=\"1041.5\" y=\"-7.8\" font-family=\"Times New Roman,serif\" font-size=\"14.00\">val = 0.000</text>\r\n</g>\r\n<!-- 36&#45;&gt;73 -->\r\n<g id=\"edge73\" class=\"edge\">\r\n<title>36&#45;&gt;73</title>\r\n<path fill=\"none\" stroke=\"black\" d=\"M1097.34,-104.28C1088.72,-92.43 1076.85,-76.1 1066.27,-61.55\"/>\r\n<polygon fill=\"black\" stroke=\"black\" points=\"1068.93,-59.27 1060.22,-53.24 1063.27,-63.39 1068.93,-59.27\"/>\r\n<text text-anchor=\"middle\" x=\"1093.5\" y=\"-74.8\" font-family=\"Times New Roman,serif\" font-size=\"14.00\">No</text>\r\n</g>\r\n<!-- 74 -->\r\n<g id=\"node75\" class=\"node\">\r\n<title>74</title>\r\n<polygon fill=\"none\" stroke=\"red\" points=\"1178,-53 1099,-53 1099,0 1178,0 1178,-53\"/>\r\n<text text-anchor=\"middle\" x=\"1138.5\" y=\"-37.8\" font-family=\"Times New Roman,serif\" font-size=\"14.00\">val = 0.000</text>\r\n<text text-anchor=\"middle\" x=\"1138.5\" y=\"-22.8\" font-family=\"Times New Roman,serif\" font-size=\"14.00\">val = 0.000</text>\r\n<text text-anchor=\"middle\" x=\"1138.5\" y=\"-7.8\" font-family=\"Times New Roman,serif\" font-size=\"14.00\">val = 0.000</text>\r\n</g>\r\n<!-- 36&#45;&gt;74 -->\r\n<g id=\"edge74\" class=\"edge\">\r\n<title>36&#45;&gt;74</title>\r\n<path fill=\"none\" stroke=\"black\" d=\"M1114.82,-103.85C1118.37,-92.4 1123.17,-76.91 1127.52,-62.89\"/>\r\n<polygon fill=\"black\" stroke=\"black\" points=\"1130.97,-63.59 1130.59,-53.01 1124.28,-61.52 1130.97,-63.59\"/>\r\n<text text-anchor=\"middle\" x=\"1136.5\" y=\"-74.8\" font-family=\"Times New Roman,serif\" font-size=\"14.00\">Yes</text>\r\n</g>\r\n<!-- 75 -->\r\n<g id=\"node76\" class=\"node\">\r\n<title>75</title>\r\n<polygon fill=\"none\" stroke=\"red\" points=\"1275,-53 1196,-53 1196,0 1275,0 1275,-53\"/>\r\n<text text-anchor=\"middle\" x=\"1235.5\" y=\"-37.8\" font-family=\"Times New Roman,serif\" font-size=\"14.00\">val = 0.000</text>\r\n<text text-anchor=\"middle\" x=\"1235.5\" y=\"-22.8\" font-family=\"Times New Roman,serif\" font-size=\"14.00\">val = 0.000</text>\r\n<text text-anchor=\"middle\" x=\"1235.5\" y=\"-7.8\" font-family=\"Times New Roman,serif\" font-size=\"14.00\">val = 0.000</text>\r\n</g>\r\n<!-- 37&#45;&gt;75 -->\r\n<g id=\"edge75\" class=\"edge\">\r\n<title>37&#45;&gt;75</title>\r\n<path fill=\"none\" stroke=\"black\" d=\"M1263.26,-103.85C1259.06,-92.29 1253.36,-76.61 1248.22,-62.48\"/>\r\n<polygon fill=\"black\" stroke=\"black\" points=\"1251.48,-61.21 1244.78,-53.01 1244.9,-63.6 1251.48,-61.21\"/>\r\n<text text-anchor=\"middle\" x=\"1266.5\" y=\"-74.8\" font-family=\"Times New Roman,serif\" font-size=\"14.00\">No</text>\r\n</g>\r\n<!-- 76 -->\r\n<g id=\"node77\" class=\"node\">\r\n<title>76</title>\r\n<polygon fill=\"none\" stroke=\"red\" points=\"1372,-53 1293,-53 1293,0 1372,0 1372,-53\"/>\r\n<text text-anchor=\"middle\" x=\"1332.5\" y=\"-37.8\" font-family=\"Times New Roman,serif\" font-size=\"14.00\">val = 0.000</text>\r\n<text text-anchor=\"middle\" x=\"1332.5\" y=\"-22.8\" font-family=\"Times New Roman,serif\" font-size=\"14.00\">val = 0.000</text>\r\n<text text-anchor=\"middle\" x=\"1332.5\" y=\"-7.8\" font-family=\"Times New Roman,serif\" font-size=\"14.00\">val = 0.000</text>\r\n</g>\r\n<!-- 37&#45;&gt;76 -->\r\n<g id=\"edge76\" class=\"edge\">\r\n<title>37&#45;&gt;76</title>\r\n<path fill=\"none\" stroke=\"black\" d=\"M1280.76,-104.28C1288.75,-92.43 1299.75,-76.1 1309.55,-61.55\"/>\r\n<polygon fill=\"black\" stroke=\"black\" points=\"1312.47,-63.49 1315.16,-53.24 1306.67,-59.58 1312.47,-63.49\"/>\r\n<text text-anchor=\"middle\" x=\"1314.5\" y=\"-74.8\" font-family=\"Times New Roman,serif\" font-size=\"14.00\">Yes</text>\r\n</g>\r\n<!-- 77 -->\r\n<g id=\"node78\" class=\"node\">\r\n<title>77</title>\r\n<polygon fill=\"none\" stroke=\"red\" points=\"1469,-53 1390,-53 1390,0 1469,0 1469,-53\"/>\r\n<text text-anchor=\"middle\" x=\"1429.5\" y=\"-37.8\" font-family=\"Times New Roman,serif\" font-size=\"14.00\">val = 0.000</text>\r\n<text text-anchor=\"middle\" x=\"1429.5\" y=\"-22.8\" font-family=\"Times New Roman,serif\" font-size=\"14.00\">val = 0.000</text>\r\n<text text-anchor=\"middle\" x=\"1429.5\" y=\"-7.8\" font-family=\"Times New Roman,serif\" font-size=\"14.00\">val = 0.000</text>\r\n</g>\r\n<!-- 38&#45;&gt;77 -->\r\n<g id=\"edge77\" class=\"edge\">\r\n<title>38&#45;&gt;77</title>\r\n<path fill=\"none\" stroke=\"black\" d=\"M1429.5,-103.85C1429.5,-92.51 1429.5,-77.22 1429.5,-63.3\"/>\r\n<polygon fill=\"black\" stroke=\"black\" points=\"1433,-63.01 1429.5,-53.01 1426,-63.01 1433,-63.01\"/>\r\n<text text-anchor=\"middle\" x=\"1438.5\" y=\"-74.8\" font-family=\"Times New Roman,serif\" font-size=\"14.00\">No</text>\r\n</g>\r\n<!-- 78 -->\r\n<g id=\"node79\" class=\"node\">\r\n<title>78</title>\r\n<polygon fill=\"none\" stroke=\"red\" points=\"1566,-53 1487,-53 1487,0 1566,0 1566,-53\"/>\r\n<text text-anchor=\"middle\" x=\"1526.5\" y=\"-37.8\" font-family=\"Times New Roman,serif\" font-size=\"14.00\">val = 0.000</text>\r\n<text text-anchor=\"middle\" x=\"1526.5\" y=\"-22.8\" font-family=\"Times New Roman,serif\" font-size=\"14.00\">val = 0.000</text>\r\n<text text-anchor=\"middle\" x=\"1526.5\" y=\"-7.8\" font-family=\"Times New Roman,serif\" font-size=\"14.00\">val = 0.000</text>\r\n</g>\r\n<!-- 38&#45;&gt;78 -->\r\n<g id=\"edge78\" class=\"edge\">\r\n<title>38&#45;&gt;78</title>\r\n<path fill=\"none\" stroke=\"black\" d=\"M1446.4,-104.71C1459.08,-92.48 1476.88,-75.33 1492.48,-60.29\"/>\r\n<polygon fill=\"black\" stroke=\"black\" points=\"1495.16,-62.57 1499.93,-53.11 1490.3,-57.53 1495.16,-62.57\"/>\r\n<text text-anchor=\"middle\" x=\"1492.5\" y=\"-74.8\" font-family=\"Times New Roman,serif\" font-size=\"14.00\">Yes</text>\r\n</g>\r\n<!-- 79 -->\r\n<g id=\"node80\" class=\"node\">\r\n<title>79</title>\r\n<polygon fill=\"none\" stroke=\"red\" points=\"1667,-53 1584,-53 1584,0 1667,0 1667,-53\"/>\r\n<text text-anchor=\"middle\" x=\"1625.5\" y=\"-37.8\" font-family=\"Times New Roman,serif\" font-size=\"14.00\">val = &#45;0.065</text>\r\n<text text-anchor=\"middle\" x=\"1625.5\" y=\"-22.8\" font-family=\"Times New Roman,serif\" font-size=\"14.00\">val = &#45;0.034</text>\r\n<text text-anchor=\"middle\" x=\"1625.5\" y=\"-7.8\" font-family=\"Times New Roman,serif\" font-size=\"14.00\">val = 0.099</text>\r\n</g>\r\n<!-- 39&#45;&gt;79 -->\r\n<g id=\"edge79\" class=\"edge\">\r\n<title>39&#45;&gt;79</title>\r\n<path fill=\"none\" stroke=\"black\" d=\"M1708.91,-104.71C1695.7,-92.48 1677.16,-75.33 1660.92,-60.29\"/>\r\n<polygon fill=\"black\" stroke=\"black\" points=\"1662.88,-57.34 1653.17,-53.11 1658.13,-62.47 1662.88,-57.34\"/>\r\n<text text-anchor=\"middle\" x=\"1697.5\" y=\"-74.8\" font-family=\"Times New Roman,serif\" font-size=\"14.00\">No</text>\r\n</g>\r\n<!-- 80 -->\r\n<g id=\"node81\" class=\"node\">\r\n<title>80</title>\r\n<polygon fill=\"none\" stroke=\"red\" points=\"1768,-53 1685,-53 1685,0 1768,0 1768,-53\"/>\r\n<text text-anchor=\"middle\" x=\"1726.5\" y=\"-37.8\" font-family=\"Times New Roman,serif\" font-size=\"14.00\">val = &#45;0.067</text>\r\n<text text-anchor=\"middle\" x=\"1726.5\" y=\"-22.8\" font-family=\"Times New Roman,serif\" font-size=\"14.00\">val = &#45;0.033</text>\r\n<text text-anchor=\"middle\" x=\"1726.5\" y=\"-7.8\" font-family=\"Times New Roman,serif\" font-size=\"14.00\">val = 0.100</text>\r\n</g>\r\n<!-- 39&#45;&gt;80 -->\r\n<g id=\"edge80\" class=\"edge\">\r\n<title>39&#45;&gt;80</title>\r\n<path fill=\"none\" stroke=\"black\" d=\"M1726.5,-103.85C1726.5,-92.51 1726.5,-77.22 1726.5,-63.3\"/>\r\n<polygon fill=\"black\" stroke=\"black\" points=\"1730,-63.01 1726.5,-53.01 1723,-63.01 1730,-63.01\"/>\r\n<text text-anchor=\"middle\" x=\"1737.5\" y=\"-74.8\" font-family=\"Times New Roman,serif\" font-size=\"14.00\">Yes</text>\r\n</g>\r\n<!-- 81 -->\r\n<g id=\"node82\" class=\"node\">\r\n<title>81</title>\r\n<polygon fill=\"none\" stroke=\"red\" points=\"1865,-53 1786,-53 1786,0 1865,0 1865,-53\"/>\r\n<text text-anchor=\"middle\" x=\"1825.5\" y=\"-37.8\" font-family=\"Times New Roman,serif\" font-size=\"14.00\">val = 0.000</text>\r\n<text text-anchor=\"middle\" x=\"1825.5\" y=\"-22.8\" font-family=\"Times New Roman,serif\" font-size=\"14.00\">val = 0.000</text>\r\n<text text-anchor=\"middle\" x=\"1825.5\" y=\"-7.8\" font-family=\"Times New Roman,serif\" font-size=\"14.00\">val = 0.000</text>\r\n</g>\r\n<!-- 40&#45;&gt;81 -->\r\n<g id=\"edge81\" class=\"edge\">\r\n<title>40&#45;&gt;81</title>\r\n<path fill=\"none\" stroke=\"black\" d=\"M1881.34,-104.28C1872.72,-92.43 1860.85,-76.1 1850.27,-61.55\"/>\r\n<polygon fill=\"black\" stroke=\"black\" points=\"1852.93,-59.27 1844.22,-53.24 1847.27,-63.39 1852.93,-59.27\"/>\r\n<text text-anchor=\"middle\" x=\"1877.5\" y=\"-74.8\" font-family=\"Times New Roman,serif\" font-size=\"14.00\">No</text>\r\n</g>\r\n<!-- 82 -->\r\n<g id=\"node83\" class=\"node\">\r\n<title>82</title>\r\n<polygon fill=\"none\" stroke=\"red\" points=\"1962,-53 1883,-53 1883,0 1962,0 1962,-53\"/>\r\n<text text-anchor=\"middle\" x=\"1922.5\" y=\"-37.8\" font-family=\"Times New Roman,serif\" font-size=\"14.00\">val = 0.000</text>\r\n<text text-anchor=\"middle\" x=\"1922.5\" y=\"-22.8\" font-family=\"Times New Roman,serif\" font-size=\"14.00\">val = 0.000</text>\r\n<text text-anchor=\"middle\" x=\"1922.5\" y=\"-7.8\" font-family=\"Times New Roman,serif\" font-size=\"14.00\">val = 0.000</text>\r\n</g>\r\n<!-- 40&#45;&gt;82 -->\r\n<g id=\"edge82\" class=\"edge\">\r\n<title>40&#45;&gt;82</title>\r\n<path fill=\"none\" stroke=\"black\" d=\"M1898.82,-103.85C1902.37,-92.4 1907.17,-76.91 1911.52,-62.89\"/>\r\n<polygon fill=\"black\" stroke=\"black\" points=\"1914.97,-63.59 1914.59,-53.01 1908.28,-61.52 1914.97,-63.59\"/>\r\n<text text-anchor=\"middle\" x=\"1920.5\" y=\"-74.8\" font-family=\"Times New Roman,serif\" font-size=\"14.00\">Yes</text>\r\n</g>\r\n<!-- 83 -->\r\n<g id=\"node84\" class=\"node\">\r\n<title>83</title>\r\n<polygon fill=\"none\" stroke=\"red\" points=\"2059,-53 1980,-53 1980,0 2059,0 2059,-53\"/>\r\n<text text-anchor=\"middle\" x=\"2019.5\" y=\"-37.8\" font-family=\"Times New Roman,serif\" font-size=\"14.00\">val = 0.000</text>\r\n<text text-anchor=\"middle\" x=\"2019.5\" y=\"-22.8\" font-family=\"Times New Roman,serif\" font-size=\"14.00\">val = 0.000</text>\r\n<text text-anchor=\"middle\" x=\"2019.5\" y=\"-7.8\" font-family=\"Times New Roman,serif\" font-size=\"14.00\">val = 0.000</text>\r\n</g>\r\n<!-- 41&#45;&gt;83 -->\r\n<g id=\"edge83\" class=\"edge\">\r\n<title>41&#45;&gt;83</title>\r\n<path fill=\"none\" stroke=\"black\" d=\"M2073.7,-104.28C2065.33,-92.43 2053.81,-76.1 2043.54,-61.55\"/>\r\n<polygon fill=\"black\" stroke=\"black\" points=\"2046.3,-59.39 2037.67,-53.24 2040.58,-63.43 2046.3,-59.39\"/>\r\n<text text-anchor=\"middle\" x=\"2069.5\" y=\"-74.8\" font-family=\"Times New Roman,serif\" font-size=\"14.00\">No</text>\r\n</g>\r\n<!-- 84 -->\r\n<g id=\"node85\" class=\"node\">\r\n<title>84</title>\r\n<polygon fill=\"none\" stroke=\"red\" points=\"2156,-53 2077,-53 2077,0 2156,0 2156,-53\"/>\r\n<text text-anchor=\"middle\" x=\"2116.5\" y=\"-37.8\" font-family=\"Times New Roman,serif\" font-size=\"14.00\">val = 0.000</text>\r\n<text text-anchor=\"middle\" x=\"2116.5\" y=\"-22.8\" font-family=\"Times New Roman,serif\" font-size=\"14.00\">val = 0.000</text>\r\n<text text-anchor=\"middle\" x=\"2116.5\" y=\"-7.8\" font-family=\"Times New Roman,serif\" font-size=\"14.00\">val = 0.000</text>\r\n</g>\r\n<!-- 41&#45;&gt;84 -->\r\n<g id=\"edge84\" class=\"edge\">\r\n<title>41&#45;&gt;84</title>\r\n<path fill=\"none\" stroke=\"black\" d=\"M2091.19,-103.85C2094.98,-92.4 2100.12,-76.91 2104.77,-62.89\"/>\r\n<polygon fill=\"black\" stroke=\"black\" points=\"2108.22,-63.6 2108.04,-53.01 2101.57,-61.4 2108.22,-63.6\"/>\r\n<text text-anchor=\"middle\" x=\"2113.5\" y=\"-74.8\" font-family=\"Times New Roman,serif\" font-size=\"14.00\">Yes</text>\r\n</g>\r\n<!-- 85 -->\r\n<g id=\"node86\" class=\"node\">\r\n<title>85</title>\r\n<polygon fill=\"none\" stroke=\"red\" points=\"2253,-53 2174,-53 2174,0 2253,0 2253,-53\"/>\r\n<text text-anchor=\"middle\" x=\"2213.5\" y=\"-37.8\" font-family=\"Times New Roman,serif\" font-size=\"14.00\">val = 0.000</text>\r\n<text text-anchor=\"middle\" x=\"2213.5\" y=\"-22.8\" font-family=\"Times New Roman,serif\" font-size=\"14.00\">val = 0.000</text>\r\n<text text-anchor=\"middle\" x=\"2213.5\" y=\"-7.8\" font-family=\"Times New Roman,serif\" font-size=\"14.00\">val = 0.000</text>\r\n</g>\r\n<!-- 42&#45;&gt;85 -->\r\n<g id=\"edge85\" class=\"edge\">\r\n<title>42&#45;&gt;85</title>\r\n<path fill=\"none\" stroke=\"black\" d=\"M2221.67,-103.85C2220.45,-92.51 2218.82,-77.22 2217.33,-63.3\"/>\r\n<polygon fill=\"black\" stroke=\"black\" points=\"2220.77,-62.58 2216.23,-53.01 2213.81,-63.32 2220.77,-62.58\"/>\r\n<text text-anchor=\"middle\" x=\"2229.5\" y=\"-74.8\" font-family=\"Times New Roman,serif\" font-size=\"14.00\">No</text>\r\n</g>\r\n<!-- 86 -->\r\n<g id=\"node87\" class=\"node\">\r\n<title>86</title>\r\n<polygon fill=\"none\" stroke=\"red\" points=\"2350,-53 2271,-53 2271,0 2350,0 2350,-53\"/>\r\n<text text-anchor=\"middle\" x=\"2310.5\" y=\"-37.8\" font-family=\"Times New Roman,serif\" font-size=\"14.00\">val = 0.000</text>\r\n<text text-anchor=\"middle\" x=\"2310.5\" y=\"-22.8\" font-family=\"Times New Roman,serif\" font-size=\"14.00\">val = 0.000</text>\r\n<text text-anchor=\"middle\" x=\"2310.5\" y=\"-7.8\" font-family=\"Times New Roman,serif\" font-size=\"14.00\">val = 0.000</text>\r\n</g>\r\n<!-- 42&#45;&gt;86 -->\r\n<g id=\"edge86\" class=\"edge\">\r\n<title>42&#45;&gt;86</title>\r\n<path fill=\"none\" stroke=\"black\" d=\"M2239.05,-104.28C2250.29,-92.21 2265.84,-75.49 2279.57,-60.74\"/>\r\n<polygon fill=\"black\" stroke=\"black\" points=\"2282.3,-62.95 2286.55,-53.24 2277.17,-58.18 2282.3,-62.95\"/>\r\n<text text-anchor=\"middle\" x=\"2281.5\" y=\"-74.8\" font-family=\"Times New Roman,serif\" font-size=\"14.00\">Yes</text>\r\n</g>\r\n<!-- 87 -->\r\n<g id=\"node88\" class=\"node\">\r\n<title>87</title>\r\n<polygon fill=\"none\" stroke=\"red\" points=\"2447,-53 2368,-53 2368,0 2447,0 2447,-53\"/>\r\n<text text-anchor=\"middle\" x=\"2407.5\" y=\"-37.8\" font-family=\"Times New Roman,serif\" font-size=\"14.00\">val = 0.000</text>\r\n<text text-anchor=\"middle\" x=\"2407.5\" y=\"-22.8\" font-family=\"Times New Roman,serif\" font-size=\"14.00\">val = 0.000</text>\r\n<text text-anchor=\"middle\" x=\"2407.5\" y=\"-7.8\" font-family=\"Times New Roman,serif\" font-size=\"14.00\">val = 0.000</text>\r\n</g>\r\n<!-- 43&#45;&gt;87 -->\r\n<g id=\"edge87\" class=\"edge\">\r\n<title>43&#45;&gt;87</title>\r\n<path fill=\"none\" stroke=\"black\" d=\"M2469.91,-104.28C2460.19,-92.32 2446.76,-75.8 2434.85,-61.15\"/>\r\n<polygon fill=\"black\" stroke=\"black\" points=\"2437.45,-58.79 2428.42,-53.24 2432.01,-63.21 2437.45,-58.79\"/>\r\n<text text-anchor=\"middle\" x=\"2464.5\" y=\"-74.8\" font-family=\"Times New Roman,serif\" font-size=\"14.00\">No</text>\r\n</g>\r\n<!-- 88 -->\r\n<g id=\"node89\" class=\"node\">\r\n<title>88</title>\r\n<polygon fill=\"none\" stroke=\"red\" points=\"2544,-53 2465,-53 2465,0 2544,0 2544,-53\"/>\r\n<text text-anchor=\"middle\" x=\"2504.5\" y=\"-37.8\" font-family=\"Times New Roman,serif\" font-size=\"14.00\">val = 0.000</text>\r\n<text text-anchor=\"middle\" x=\"2504.5\" y=\"-22.8\" font-family=\"Times New Roman,serif\" font-size=\"14.00\">val = 0.000</text>\r\n<text text-anchor=\"middle\" x=\"2504.5\" y=\"-7.8\" font-family=\"Times New Roman,serif\" font-size=\"14.00\">val = 0.000</text>\r\n</g>\r\n<!-- 43&#45;&gt;88 -->\r\n<g id=\"edge88\" class=\"edge\">\r\n<title>43&#45;&gt;88</title>\r\n<path fill=\"none\" stroke=\"black\" d=\"M2487.35,-103.85C2489.92,-92.4 2493.4,-76.91 2496.55,-62.89\"/>\r\n<polygon fill=\"black\" stroke=\"black\" points=\"2499.99,-63.53 2498.77,-53.01 2493.16,-62 2499.99,-63.53\"/>\r\n<text text-anchor=\"middle\" x=\"2506.5\" y=\"-74.8\" font-family=\"Times New Roman,serif\" font-size=\"14.00\">Yes</text>\r\n</g>\r\n<!-- 89 -->\r\n<g id=\"node90\" class=\"node\">\r\n<title>89</title>\r\n<polygon fill=\"none\" stroke=\"red\" points=\"2641,-53 2562,-53 2562,0 2641,0 2641,-53\"/>\r\n<text text-anchor=\"middle\" x=\"2601.5\" y=\"-37.8\" font-family=\"Times New Roman,serif\" font-size=\"14.00\">val = 0.000</text>\r\n<text text-anchor=\"middle\" x=\"2601.5\" y=\"-22.8\" font-family=\"Times New Roman,serif\" font-size=\"14.00\">val = 0.000</text>\r\n<text text-anchor=\"middle\" x=\"2601.5\" y=\"-7.8\" font-family=\"Times New Roman,serif\" font-size=\"14.00\">val = 0.000</text>\r\n</g>\r\n<!-- 44&#45;&gt;89 -->\r\n<g id=\"edge89\" class=\"edge\">\r\n<title>44&#45;&gt;89</title>\r\n<path fill=\"none\" stroke=\"black\" d=\"M2617.83,-103.85C2615.38,-92.4 2612.07,-76.91 2609.07,-62.89\"/>\r\n<polygon fill=\"black\" stroke=\"black\" points=\"2612.47,-62.05 2606.96,-53.01 2605.63,-63.52 2612.47,-62.05\"/>\r\n<text text-anchor=\"middle\" x=\"2623.5\" y=\"-74.8\" font-family=\"Times New Roman,serif\" font-size=\"14.00\">No</text>\r\n</g>\r\n<!-- 90 -->\r\n<g id=\"node91\" class=\"node\">\r\n<title>90</title>\r\n<polygon fill=\"none\" stroke=\"red\" points=\"2738,-53 2659,-53 2659,0 2738,0 2738,-53\"/>\r\n<text text-anchor=\"middle\" x=\"2698.5\" y=\"-37.8\" font-family=\"Times New Roman,serif\" font-size=\"14.00\">val = 0.000</text>\r\n<text text-anchor=\"middle\" x=\"2698.5\" y=\"-22.8\" font-family=\"Times New Roman,serif\" font-size=\"14.00\">val = 0.000</text>\r\n<text text-anchor=\"middle\" x=\"2698.5\" y=\"-7.8\" font-family=\"Times New Roman,serif\" font-size=\"14.00\">val = 0.000</text>\r\n</g>\r\n<!-- 44&#45;&gt;90 -->\r\n<g id=\"edge90\" class=\"edge\">\r\n<title>44&#45;&gt;90</title>\r\n<path fill=\"none\" stroke=\"black\" d=\"M2635.27,-104.28C2645.12,-92.32 2658.72,-75.8 2670.79,-61.15\"/>\r\n<polygon fill=\"black\" stroke=\"black\" points=\"2673.65,-63.18 2677.3,-53.24 2668.24,-58.73 2673.65,-63.18\"/>\r\n<text text-anchor=\"middle\" x=\"2673.5\" y=\"-74.8\" font-family=\"Times New Roman,serif\" font-size=\"14.00\">Yes</text>\r\n</g>\r\n<!-- 91 -->\r\n<g id=\"node92\" class=\"node\">\r\n<title>91</title>\r\n<polygon fill=\"none\" stroke=\"red\" points=\"2835,-53 2756,-53 2756,0 2835,0 2835,-53\"/>\r\n<text text-anchor=\"middle\" x=\"2795.5\" y=\"-37.8\" font-family=\"Times New Roman,serif\" font-size=\"14.00\">val = 0.000</text>\r\n<text text-anchor=\"middle\" x=\"2795.5\" y=\"-22.8\" font-family=\"Times New Roman,serif\" font-size=\"14.00\">val = 0.000</text>\r\n<text text-anchor=\"middle\" x=\"2795.5\" y=\"-7.8\" font-family=\"Times New Roman,serif\" font-size=\"14.00\">val = 0.000</text>\r\n</g>\r\n<!-- 45&#45;&gt;91 -->\r\n<g id=\"edge91\" class=\"edge\">\r\n<title>45&#45;&gt;91</title>\r\n<path fill=\"none\" stroke=\"black\" d=\"M2818.36,-103.85C2814.93,-92.4 2810.3,-76.91 2806.1,-62.89\"/>\r\n<polygon fill=\"black\" stroke=\"black\" points=\"2809.36,-61.58 2803.14,-53.01 2802.65,-63.59 2809.36,-61.58\"/>\r\n<text text-anchor=\"middle\" x=\"2822.5\" y=\"-74.8\" font-family=\"Times New Roman,serif\" font-size=\"14.00\">No</text>\r\n</g>\r\n<!-- 92 -->\r\n<g id=\"node93\" class=\"node\">\r\n<title>92</title>\r\n<polygon fill=\"none\" stroke=\"red\" points=\"2932,-53 2853,-53 2853,0 2932,0 2932,-53\"/>\r\n<text text-anchor=\"middle\" x=\"2892.5\" y=\"-37.8\" font-family=\"Times New Roman,serif\" font-size=\"14.00\">val = 0.000</text>\r\n<text text-anchor=\"middle\" x=\"2892.5\" y=\"-22.8\" font-family=\"Times New Roman,serif\" font-size=\"14.00\">val = 0.000</text>\r\n<text text-anchor=\"middle\" x=\"2892.5\" y=\"-7.8\" font-family=\"Times New Roman,serif\" font-size=\"14.00\">val = 0.000</text>\r\n</g>\r\n<!-- 45&#45;&gt;92 -->\r\n<g id=\"edge92\" class=\"edge\">\r\n<title>45&#45;&gt;92</title>\r\n<path fill=\"none\" stroke=\"black\" d=\"M2835.84,-104.28C2844.58,-92.43 2856.63,-76.1 2867.37,-61.55\"/>\r\n<polygon fill=\"black\" stroke=\"black\" points=\"2870.38,-63.37 2873.5,-53.24 2864.75,-59.21 2870.38,-63.37\"/>\r\n<text text-anchor=\"middle\" x=\"2871.5\" y=\"-74.8\" font-family=\"Times New Roman,serif\" font-size=\"14.00\">Yes</text>\r\n</g>\r\n<!-- 93 -->\r\n<g id=\"node94\" class=\"node\">\r\n<title>93</title>\r\n<polygon fill=\"none\" stroke=\"red\" points=\"3029,-53 2950,-53 2950,0 3029,0 3029,-53\"/>\r\n<text text-anchor=\"middle\" x=\"2989.5\" y=\"-37.8\" font-family=\"Times New Roman,serif\" font-size=\"14.00\">val = 0.000</text>\r\n<text text-anchor=\"middle\" x=\"2989.5\" y=\"-22.8\" font-family=\"Times New Roman,serif\" font-size=\"14.00\">val = 0.000</text>\r\n<text text-anchor=\"middle\" x=\"2989.5\" y=\"-7.8\" font-family=\"Times New Roman,serif\" font-size=\"14.00\">val = 0.000</text>\r\n</g>\r\n<!-- 46&#45;&gt;93 -->\r\n<g id=\"edge93\" class=\"edge\">\r\n<title>46&#45;&gt;93</title>\r\n<path fill=\"none\" stroke=\"black\" d=\"M2989.5,-103.85C2989.5,-92.51 2989.5,-77.22 2989.5,-63.3\"/>\r\n<polygon fill=\"black\" stroke=\"black\" points=\"2993,-63.01 2989.5,-53.01 2986,-63.01 2993,-63.01\"/>\r\n<text text-anchor=\"middle\" x=\"2998.5\" y=\"-74.8\" font-family=\"Times New Roman,serif\" font-size=\"14.00\">No</text>\r\n</g>\r\n<!-- 94 -->\r\n<g id=\"node95\" class=\"node\">\r\n<title>94</title>\r\n<polygon fill=\"none\" stroke=\"red\" points=\"3126,-53 3047,-53 3047,0 3126,0 3126,-53\"/>\r\n<text text-anchor=\"middle\" x=\"3086.5\" y=\"-37.8\" font-family=\"Times New Roman,serif\" font-size=\"14.00\">val = 0.000</text>\r\n<text text-anchor=\"middle\" x=\"3086.5\" y=\"-22.8\" font-family=\"Times New Roman,serif\" font-size=\"14.00\">val = 0.000</text>\r\n<text text-anchor=\"middle\" x=\"3086.5\" y=\"-7.8\" font-family=\"Times New Roman,serif\" font-size=\"14.00\">val = 0.000</text>\r\n</g>\r\n<!-- 46&#45;&gt;94 -->\r\n<g id=\"edge94\" class=\"edge\">\r\n<title>46&#45;&gt;94</title>\r\n<path fill=\"none\" stroke=\"black\" d=\"M3006.4,-104.71C3019.08,-92.48 3036.88,-75.33 3052.48,-60.29\"/>\r\n<polygon fill=\"black\" stroke=\"black\" points=\"3055.16,-62.57 3059.93,-53.11 3050.3,-57.53 3055.16,-62.57\"/>\r\n<text text-anchor=\"middle\" x=\"3052.5\" y=\"-74.8\" font-family=\"Times New Roman,serif\" font-size=\"14.00\">Yes</text>\r\n</g>\r\n<!-- 95 -->\r\n<g id=\"node96\" class=\"node\">\r\n<title>95</title>\r\n<polygon fill=\"none\" stroke=\"red\" points=\"3227,-53 3144,-53 3144,0 3227,0 3227,-53\"/>\r\n<text text-anchor=\"middle\" x=\"3185.5\" y=\"-37.8\" font-family=\"Times New Roman,serif\" font-size=\"14.00\">val = &#45;0.043</text>\r\n<text text-anchor=\"middle\" x=\"3185.5\" y=\"-22.8\" font-family=\"Times New Roman,serif\" font-size=\"14.00\">val = 0.074</text>\r\n<text text-anchor=\"middle\" x=\"3185.5\" y=\"-7.8\" font-family=\"Times New Roman,serif\" font-size=\"14.00\">val = &#45;0.031</text>\r\n</g>\r\n<!-- 47&#45;&gt;95 -->\r\n<g id=\"edge95\" class=\"edge\">\r\n<title>47&#45;&gt;95</title>\r\n<path fill=\"none\" stroke=\"black\" d=\"M3268.91,-104.71C3255.7,-92.48 3237.16,-75.33 3220.92,-60.29\"/>\r\n<polygon fill=\"black\" stroke=\"black\" points=\"3222.88,-57.34 3213.17,-53.11 3218.13,-62.47 3222.88,-57.34\"/>\r\n<text text-anchor=\"middle\" x=\"3257.5\" y=\"-74.8\" font-family=\"Times New Roman,serif\" font-size=\"14.00\">No</text>\r\n</g>\r\n<!-- 96 -->\r\n<g id=\"node97\" class=\"node\">\r\n<title>96</title>\r\n<polygon fill=\"none\" stroke=\"red\" points=\"3328,-53 3245,-53 3245,0 3328,0 3328,-53\"/>\r\n<text text-anchor=\"middle\" x=\"3286.5\" y=\"-37.8\" font-family=\"Times New Roman,serif\" font-size=\"14.00\">val = &#45;0.047</text>\r\n<text text-anchor=\"middle\" x=\"3286.5\" y=\"-22.8\" font-family=\"Times New Roman,serif\" font-size=\"14.00\">val = 0.070</text>\r\n<text text-anchor=\"middle\" x=\"3286.5\" y=\"-7.8\" font-family=\"Times New Roman,serif\" font-size=\"14.00\">val = &#45;0.023</text>\r\n</g>\r\n<!-- 47&#45;&gt;96 -->\r\n<g id=\"edge96\" class=\"edge\">\r\n<title>47&#45;&gt;96</title>\r\n<path fill=\"none\" stroke=\"black\" d=\"M3286.5,-103.85C3286.5,-92.51 3286.5,-77.22 3286.5,-63.3\"/>\r\n<polygon fill=\"black\" stroke=\"black\" points=\"3290,-63.01 3286.5,-53.01 3283,-63.01 3290,-63.01\"/>\r\n<text text-anchor=\"middle\" x=\"3297.5\" y=\"-74.8\" font-family=\"Times New Roman,serif\" font-size=\"14.00\">Yes</text>\r\n</g>\r\n<!-- 97 -->\r\n<g id=\"node98\" class=\"node\">\r\n<title>97</title>\r\n<polygon fill=\"none\" stroke=\"red\" points=\"3429,-53 3346,-53 3346,0 3429,0 3429,-53\"/>\r\n<text text-anchor=\"middle\" x=\"3387.5\" y=\"-37.8\" font-family=\"Times New Roman,serif\" font-size=\"14.00\">val = &#45;0.065</text>\r\n<text text-anchor=\"middle\" x=\"3387.5\" y=\"-22.8\" font-family=\"Times New Roman,serif\" font-size=\"14.00\">val = &#45;0.043</text>\r\n<text text-anchor=\"middle\" x=\"3387.5\" y=\"-7.8\" font-family=\"Times New Roman,serif\" font-size=\"14.00\">val = 0.108</text>\r\n</g>\r\n<!-- 48&#45;&gt;97 -->\r\n<g id=\"edge97\" class=\"edge\">\r\n<title>48&#45;&gt;97</title>\r\n<path fill=\"none\" stroke=\"black\" d=\"M3444.16,-104.28C3435.42,-92.43 3423.37,-76.1 3412.63,-61.55\"/>\r\n<polygon fill=\"black\" stroke=\"black\" points=\"3415.25,-59.21 3406.5,-53.24 3409.62,-63.37 3415.25,-59.21\"/>\r\n<text text-anchor=\"middle\" x=\"3439.5\" y=\"-74.8\" font-family=\"Times New Roman,serif\" font-size=\"14.00\">No</text>\r\n</g>\r\n<!-- 98 -->\r\n<g id=\"node99\" class=\"node\">\r\n<title>98</title>\r\n<polygon fill=\"none\" stroke=\"red\" points=\"3530,-53 3447,-53 3447,0 3530,0 3530,-53\"/>\r\n<text text-anchor=\"middle\" x=\"3488.5\" y=\"-37.8\" font-family=\"Times New Roman,serif\" font-size=\"14.00\">val = &#45;0.072</text>\r\n<text text-anchor=\"middle\" x=\"3488.5\" y=\"-22.8\" font-family=\"Times New Roman,serif\" font-size=\"14.00\">val = &#45;0.037</text>\r\n<text text-anchor=\"middle\" x=\"3488.5\" y=\"-7.8\" font-family=\"Times New Roman,serif\" font-size=\"14.00\">val = 0.109</text>\r\n</g>\r\n<!-- 48&#45;&gt;98 -->\r\n<g id=\"edge98\" class=\"edge\">\r\n<title>48&#45;&gt;98</title>\r\n<path fill=\"none\" stroke=\"black\" d=\"M3462.37,-103.85C3466.33,-92.29 3471.69,-76.61 3476.53,-62.48\"/>\r\n<polygon fill=\"black\" stroke=\"black\" points=\"3479.84,-63.6 3479.77,-53.01 3473.22,-61.33 3479.84,-63.6\"/>\r\n<text text-anchor=\"middle\" x=\"3484.5\" y=\"-74.8\" font-family=\"Times New Roman,serif\" font-size=\"14.00\">Yes</text>\r\n</g>\r\n<!-- 99 -->\r\n<g id=\"node100\" class=\"node\">\r\n<title>99</title>\r\n<polygon fill=\"none\" stroke=\"red\" points=\"3631,-53 3548,-53 3548,0 3631,0 3631,-53\"/>\r\n<text text-anchor=\"middle\" x=\"3589.5\" y=\"-37.8\" font-family=\"Times New Roman,serif\" font-size=\"14.00\">val = &#45;0.060</text>\r\n<text text-anchor=\"middle\" x=\"3589.5\" y=\"-22.8\" font-family=\"Times New Roman,serif\" font-size=\"14.00\">val = &#45;0.041</text>\r\n<text text-anchor=\"middle\" x=\"3589.5\" y=\"-7.8\" font-family=\"Times New Roman,serif\" font-size=\"14.00\">val = 0.101</text>\r\n</g>\r\n<!-- 49&#45;&gt;99 -->\r\n<g id=\"edge99\" class=\"edge\">\r\n<title>49&#45;&gt;99</title>\r\n<path fill=\"none\" stroke=\"black\" d=\"M3656.84,-104.28C3646.35,-92.32 3631.86,-75.8 3619.01,-61.15\"/>\r\n<polygon fill=\"black\" stroke=\"black\" points=\"3621.3,-58.45 3612.07,-53.24 3616.04,-63.07 3621.3,-58.45\"/>\r\n<text text-anchor=\"middle\" x=\"3649.5\" y=\"-74.8\" font-family=\"Times New Roman,serif\" font-size=\"14.00\">No</text>\r\n</g>\r\n<!-- 100 -->\r\n<g id=\"node101\" class=\"node\">\r\n<title>100</title>\r\n<polygon fill=\"none\" stroke=\"red\" points=\"3732,-53 3649,-53 3649,0 3732,0 3732,-53\"/>\r\n<text text-anchor=\"middle\" x=\"3690.5\" y=\"-37.8\" font-family=\"Times New Roman,serif\" font-size=\"14.00\">val = &#45;0.055</text>\r\n<text text-anchor=\"middle\" x=\"3690.5\" y=\"-22.8\" font-family=\"Times New Roman,serif\" font-size=\"14.00\">val = &#45;0.038</text>\r\n<text text-anchor=\"middle\" x=\"3690.5\" y=\"-7.8\" font-family=\"Times New Roman,serif\" font-size=\"14.00\">val = 0.093</text>\r\n</g>\r\n<!-- 49&#45;&gt;100 -->\r\n<g id=\"edge100\" class=\"edge\">\r\n<title>49&#45;&gt;100</title>\r\n<path fill=\"none\" stroke=\"black\" d=\"M3674.98,-103.85C3677.31,-92.4 3680.46,-76.91 3683.31,-62.89\"/>\r\n<polygon fill=\"black\" stroke=\"black\" points=\"3686.76,-63.5 3685.32,-53.01 3679.9,-62.11 3686.76,-63.5\"/>\r\n<text text-anchor=\"middle\" x=\"3693.5\" y=\"-74.8\" font-family=\"Times New Roman,serif\" font-size=\"14.00\">Yes</text>\r\n</g>\r\n<!-- 101 -->\r\n<g id=\"node102\" class=\"node\">\r\n<title>101</title>\r\n<polygon fill=\"none\" stroke=\"red\" points=\"3829,-53 3750,-53 3750,0 3829,0 3829,-53\"/>\r\n<text text-anchor=\"middle\" x=\"3789.5\" y=\"-37.8\" font-family=\"Times New Roman,serif\" font-size=\"14.00\">val = 0.000</text>\r\n<text text-anchor=\"middle\" x=\"3789.5\" y=\"-22.8\" font-family=\"Times New Roman,serif\" font-size=\"14.00\">val = 0.000</text>\r\n<text text-anchor=\"middle\" x=\"3789.5\" y=\"-7.8\" font-family=\"Times New Roman,serif\" font-size=\"14.00\">val = 0.000</text>\r\n</g>\r\n<!-- 50&#45;&gt;101 -->\r\n<g id=\"edge101\" class=\"edge\">\r\n<title>50&#45;&gt;101</title>\r\n<path fill=\"none\" stroke=\"black\" d=\"M3805.83,-103.85C3803.38,-92.4 3800.07,-76.91 3797.07,-62.89\"/>\r\n<polygon fill=\"black\" stroke=\"black\" points=\"3800.47,-62.05 3794.96,-53.01 3793.63,-63.52 3800.47,-62.05\"/>\r\n<text text-anchor=\"middle\" x=\"3811.5\" y=\"-74.8\" font-family=\"Times New Roman,serif\" font-size=\"14.00\">No</text>\r\n</g>\r\n<!-- 102 -->\r\n<g id=\"node103\" class=\"node\">\r\n<title>102</title>\r\n<polygon fill=\"none\" stroke=\"red\" points=\"3926,-53 3847,-53 3847,0 3926,0 3926,-53\"/>\r\n<text text-anchor=\"middle\" x=\"3886.5\" y=\"-37.8\" font-family=\"Times New Roman,serif\" font-size=\"14.00\">val = 0.000</text>\r\n<text text-anchor=\"middle\" x=\"3886.5\" y=\"-22.8\" font-family=\"Times New Roman,serif\" font-size=\"14.00\">val = 0.000</text>\r\n<text text-anchor=\"middle\" x=\"3886.5\" y=\"-7.8\" font-family=\"Times New Roman,serif\" font-size=\"14.00\">val = 0.000</text>\r\n</g>\r\n<!-- 50&#45;&gt;102 -->\r\n<g id=\"edge102\" class=\"edge\">\r\n<title>50&#45;&gt;102</title>\r\n<path fill=\"none\" stroke=\"black\" d=\"M3823.27,-104.28C3833.12,-92.32 3846.72,-75.8 3858.79,-61.15\"/>\r\n<polygon fill=\"black\" stroke=\"black\" points=\"3861.65,-63.18 3865.3,-53.24 3856.24,-58.73 3861.65,-63.18\"/>\r\n<text text-anchor=\"middle\" x=\"3861.5\" y=\"-74.8\" font-family=\"Times New Roman,serif\" font-size=\"14.00\">Yes</text>\r\n</g>\r\n<!-- 103 -->\r\n<g id=\"node104\" class=\"node\">\r\n<title>103</title>\r\n<polygon fill=\"none\" stroke=\"red\" points=\"4027,-53 3944,-53 3944,0 4027,0 4027,-53\"/>\r\n<text text-anchor=\"middle\" x=\"3985.5\" y=\"-37.8\" font-family=\"Times New Roman,serif\" font-size=\"14.00\">val = &#45;0.062</text>\r\n<text text-anchor=\"middle\" x=\"3985.5\" y=\"-22.8\" font-family=\"Times New Roman,serif\" font-size=\"14.00\">val = &#45;0.041</text>\r\n<text text-anchor=\"middle\" x=\"3985.5\" y=\"-7.8\" font-family=\"Times New Roman,serif\" font-size=\"14.00\">val = 0.103</text>\r\n</g>\r\n<!-- 51&#45;&gt;103 -->\r\n<g id=\"edge103\" class=\"edge\">\r\n<title>51&#45;&gt;103</title>\r\n<path fill=\"none\" stroke=\"black\" d=\"M4068.08,-104.71C4055,-92.48 4036.65,-75.33 4020.57,-60.29\"/>\r\n<polygon fill=\"black\" stroke=\"black\" points=\"4022.59,-57.38 4012.89,-53.11 4017.81,-62.5 4022.59,-57.38\"/>\r\n<text text-anchor=\"middle\" x=\"4056.5\" y=\"-74.8\" font-family=\"Times New Roman,serif\" font-size=\"14.00\">No</text>\r\n</g>\r\n<!-- 104 -->\r\n<g id=\"node105\" class=\"node\">\r\n<title>104</title>\r\n<polygon fill=\"none\" stroke=\"red\" points=\"4128,-53 4045,-53 4045,0 4128,0 4128,-53\"/>\r\n<text text-anchor=\"middle\" x=\"4086.5\" y=\"-37.8\" font-family=\"Times New Roman,serif\" font-size=\"14.00\">val = &#45;0.062</text>\r\n<text text-anchor=\"middle\" x=\"4086.5\" y=\"-22.8\" font-family=\"Times New Roman,serif\" font-size=\"14.00\">val = &#45;0.047</text>\r\n<text text-anchor=\"middle\" x=\"4086.5\" y=\"-7.8\" font-family=\"Times New Roman,serif\" font-size=\"14.00\">val = 0.110</text>\r\n</g>\r\n<!-- 51&#45;&gt;104 -->\r\n<g id=\"edge104\" class=\"edge\">\r\n<title>51&#45;&gt;104</title>\r\n<path fill=\"none\" stroke=\"black\" d=\"M4085.68,-103.85C4085.8,-92.51 4085.97,-77.22 4086.12,-63.3\"/>\r\n<polygon fill=\"black\" stroke=\"black\" points=\"4089.62,-63.04 4086.23,-53.01 4082.62,-62.97 4089.62,-63.04\"/>\r\n<text text-anchor=\"middle\" x=\"4097.5\" y=\"-74.8\" font-family=\"Times New Roman,serif\" font-size=\"14.00\">Yes</text>\r\n</g>\r\n<!-- 105 -->\r\n<g id=\"node106\" class=\"node\">\r\n<title>105</title>\r\n<polygon fill=\"none\" stroke=\"red\" points=\"4225,-53 4146,-53 4146,0 4225,0 4225,-53\"/>\r\n<text text-anchor=\"middle\" x=\"4185.5\" y=\"-37.8\" font-family=\"Times New Roman,serif\" font-size=\"14.00\">val = 0.000</text>\r\n<text text-anchor=\"middle\" x=\"4185.5\" y=\"-22.8\" font-family=\"Times New Roman,serif\" font-size=\"14.00\">val = 0.000</text>\r\n<text text-anchor=\"middle\" x=\"4185.5\" y=\"-7.8\" font-family=\"Times New Roman,serif\" font-size=\"14.00\">val = 0.000</text>\r\n</g>\r\n<!-- 52&#45;&gt;105 -->\r\n<g id=\"edge105\" class=\"edge\">\r\n<title>52&#45;&gt;105</title>\r\n<path fill=\"none\" stroke=\"black\" d=\"M4216.53,-103.85C4211.83,-92.29 4205.46,-76.61 4199.72,-62.48\"/>\r\n<polygon fill=\"black\" stroke=\"black\" points=\"4202.87,-60.95 4195.87,-53.01 4196.39,-63.59 4202.87,-60.95\"/>\r\n<text text-anchor=\"middle\" x=\"4218.5\" y=\"-74.8\" font-family=\"Times New Roman,serif\" font-size=\"14.00\">No</text>\r\n</g>\r\n<!-- 106 -->\r\n<g id=\"node107\" class=\"node\">\r\n<title>106</title>\r\n<polygon fill=\"none\" stroke=\"red\" points=\"4322,-53 4243,-53 4243,0 4322,0 4322,-53\"/>\r\n<text text-anchor=\"middle\" x=\"4282.5\" y=\"-37.8\" font-family=\"Times New Roman,serif\" font-size=\"14.00\">val = 0.000</text>\r\n<text text-anchor=\"middle\" x=\"4282.5\" y=\"-22.8\" font-family=\"Times New Roman,serif\" font-size=\"14.00\">val = 0.000</text>\r\n<text text-anchor=\"middle\" x=\"4282.5\" y=\"-7.8\" font-family=\"Times New Roman,serif\" font-size=\"14.00\">val = 0.000</text>\r\n</g>\r\n<!-- 52&#45;&gt;106 -->\r\n<g id=\"edge106\" class=\"edge\">\r\n<title>52&#45;&gt;106</title>\r\n<path fill=\"none\" stroke=\"black\" d=\"M4234.32,-103.85C4241.76,-92.06 4251.89,-76.01 4260.94,-61.66\"/>\r\n<polygon fill=\"black\" stroke=\"black\" points=\"4264.03,-63.33 4266.4,-53.01 4258.11,-59.6 4264.03,-63.33\"/>\r\n<text text-anchor=\"middle\" x=\"4266.5\" y=\"-74.8\" font-family=\"Times New Roman,serif\" font-size=\"14.00\">Yes</text>\r\n</g>\r\n<!-- 107 -->\r\n<g id=\"node108\" class=\"node\">\r\n<title>107</title>\r\n<polygon fill=\"none\" stroke=\"red\" points=\"4419,-53 4340,-53 4340,0 4419,0 4419,-53\"/>\r\n<text text-anchor=\"middle\" x=\"4379.5\" y=\"-37.8\" font-family=\"Times New Roman,serif\" font-size=\"14.00\">val = 0.000</text>\r\n<text text-anchor=\"middle\" x=\"4379.5\" y=\"-22.8\" font-family=\"Times New Roman,serif\" font-size=\"14.00\">val = 0.000</text>\r\n<text text-anchor=\"middle\" x=\"4379.5\" y=\"-7.8\" font-family=\"Times New Roman,serif\" font-size=\"14.00\">val = 0.000</text>\r\n</g>\r\n<!-- 53&#45;&gt;107 -->\r\n<g id=\"edge107\" class=\"edge\">\r\n<title>53&#45;&gt;107</title>\r\n<path fill=\"none\" stroke=\"black\" d=\"M4402.36,-103.85C4398.93,-92.4 4394.3,-76.91 4390.1,-62.89\"/>\r\n<polygon fill=\"black\" stroke=\"black\" points=\"4393.36,-61.58 4387.14,-53.01 4386.65,-63.59 4393.36,-61.58\"/>\r\n<text text-anchor=\"middle\" x=\"4406.5\" y=\"-74.8\" font-family=\"Times New Roman,serif\" font-size=\"14.00\">No</text>\r\n</g>\r\n<!-- 108 -->\r\n<g id=\"node109\" class=\"node\">\r\n<title>108</title>\r\n<polygon fill=\"none\" stroke=\"red\" points=\"4516,-53 4437,-53 4437,0 4516,0 4516,-53\"/>\r\n<text text-anchor=\"middle\" x=\"4476.5\" y=\"-37.8\" font-family=\"Times New Roman,serif\" font-size=\"14.00\">val = 0.000</text>\r\n<text text-anchor=\"middle\" x=\"4476.5\" y=\"-22.8\" font-family=\"Times New Roman,serif\" font-size=\"14.00\">val = 0.000</text>\r\n<text text-anchor=\"middle\" x=\"4476.5\" y=\"-7.8\" font-family=\"Times New Roman,serif\" font-size=\"14.00\">val = 0.000</text>\r\n</g>\r\n<!-- 53&#45;&gt;108 -->\r\n<g id=\"edge108\" class=\"edge\">\r\n<title>53&#45;&gt;108</title>\r\n<path fill=\"none\" stroke=\"black\" d=\"M4419.84,-104.28C4428.58,-92.43 4440.63,-76.1 4451.37,-61.55\"/>\r\n<polygon fill=\"black\" stroke=\"black\" points=\"4454.38,-63.37 4457.5,-53.24 4448.75,-59.21 4454.38,-63.37\"/>\r\n<text text-anchor=\"middle\" x=\"4455.5\" y=\"-74.8\" font-family=\"Times New Roman,serif\" font-size=\"14.00\">Yes</text>\r\n</g>\r\n<!-- 109 -->\r\n<g id=\"node110\" class=\"node\">\r\n<title>109</title>\r\n<polygon fill=\"none\" stroke=\"red\" points=\"4613,-53 4534,-53 4534,0 4613,0 4613,-53\"/>\r\n<text text-anchor=\"middle\" x=\"4573.5\" y=\"-37.8\" font-family=\"Times New Roman,serif\" font-size=\"14.00\">val = 0.000</text>\r\n<text text-anchor=\"middle\" x=\"4573.5\" y=\"-22.8\" font-family=\"Times New Roman,serif\" font-size=\"14.00\">val = 0.000</text>\r\n<text text-anchor=\"middle\" x=\"4573.5\" y=\"-7.8\" font-family=\"Times New Roman,serif\" font-size=\"14.00\">val = 0.000</text>\r\n</g>\r\n<!-- 54&#45;&gt;109 -->\r\n<g id=\"edge109\" class=\"edge\">\r\n<title>54&#45;&gt;109</title>\r\n<path fill=\"none\" stroke=\"black\" d=\"M4573.5,-103.85C4573.5,-92.51 4573.5,-77.22 4573.5,-63.3\"/>\r\n<polygon fill=\"black\" stroke=\"black\" points=\"4577,-63.01 4573.5,-53.01 4570,-63.01 4577,-63.01\"/>\r\n<text text-anchor=\"middle\" x=\"4582.5\" y=\"-74.8\" font-family=\"Times New Roman,serif\" font-size=\"14.00\">No</text>\r\n</g>\r\n<!-- 110 -->\r\n<g id=\"node111\" class=\"node\">\r\n<title>110</title>\r\n<polygon fill=\"none\" stroke=\"red\" points=\"4710,-53 4631,-53 4631,0 4710,0 4710,-53\"/>\r\n<text text-anchor=\"middle\" x=\"4670.5\" y=\"-37.8\" font-family=\"Times New Roman,serif\" font-size=\"14.00\">val = 0.000</text>\r\n<text text-anchor=\"middle\" x=\"4670.5\" y=\"-22.8\" font-family=\"Times New Roman,serif\" font-size=\"14.00\">val = 0.000</text>\r\n<text text-anchor=\"middle\" x=\"4670.5\" y=\"-7.8\" font-family=\"Times New Roman,serif\" font-size=\"14.00\">val = 0.000</text>\r\n</g>\r\n<!-- 54&#45;&gt;110 -->\r\n<g id=\"edge110\" class=\"edge\">\r\n<title>54&#45;&gt;110</title>\r\n<path fill=\"none\" stroke=\"black\" d=\"M4590.4,-104.71C4603.08,-92.48 4620.88,-75.33 4636.48,-60.29\"/>\r\n<polygon fill=\"black\" stroke=\"black\" points=\"4639.16,-62.57 4643.93,-53.11 4634.3,-57.53 4639.16,-62.57\"/>\r\n<text text-anchor=\"middle\" x=\"4636.5\" y=\"-74.8\" font-family=\"Times New Roman,serif\" font-size=\"14.00\">Yes</text>\r\n</g>\r\n<!-- 111 -->\r\n<g id=\"node112\" class=\"node\">\r\n<title>111</title>\r\n<polygon fill=\"none\" stroke=\"red\" points=\"4811,-53 4728,-53 4728,0 4811,0 4811,-53\"/>\r\n<text text-anchor=\"middle\" x=\"4769.5\" y=\"-37.8\" font-family=\"Times New Roman,serif\" font-size=\"14.00\">val = &#45;0.061</text>\r\n<text text-anchor=\"middle\" x=\"4769.5\" y=\"-22.8\" font-family=\"Times New Roman,serif\" font-size=\"14.00\">val = &#45;0.032</text>\r\n<text text-anchor=\"middle\" x=\"4769.5\" y=\"-7.8\" font-family=\"Times New Roman,serif\" font-size=\"14.00\">val = 0.092</text>\r\n</g>\r\n<!-- 55&#45;&gt;111 -->\r\n<g id=\"edge111\" class=\"edge\">\r\n<title>55&#45;&gt;111</title>\r\n<path fill=\"none\" stroke=\"black\" d=\"M4852.91,-104.71C4839.7,-92.48 4821.16,-75.33 4804.92,-60.29\"/>\r\n<polygon fill=\"black\" stroke=\"black\" points=\"4806.88,-57.34 4797.17,-53.11 4802.13,-62.47 4806.88,-57.34\"/>\r\n<text text-anchor=\"middle\" x=\"4841.5\" y=\"-74.8\" font-family=\"Times New Roman,serif\" font-size=\"14.00\">No</text>\r\n</g>\r\n<!-- 112 -->\r\n<g id=\"node113\" class=\"node\">\r\n<title>112</title>\r\n<polygon fill=\"none\" stroke=\"red\" points=\"4912,-53 4829,-53 4829,0 4912,0 4912,-53\"/>\r\n<text text-anchor=\"middle\" x=\"4870.5\" y=\"-37.8\" font-family=\"Times New Roman,serif\" font-size=\"14.00\">val = &#45;0.065</text>\r\n<text text-anchor=\"middle\" x=\"4870.5\" y=\"-22.8\" font-family=\"Times New Roman,serif\" font-size=\"14.00\">val = &#45;0.029</text>\r\n<text text-anchor=\"middle\" x=\"4870.5\" y=\"-7.8\" font-family=\"Times New Roman,serif\" font-size=\"14.00\">val = 0.094</text>\r\n</g>\r\n<!-- 55&#45;&gt;112 -->\r\n<g id=\"edge112\" class=\"edge\">\r\n<title>55&#45;&gt;112</title>\r\n<path fill=\"none\" stroke=\"black\" d=\"M4870.5,-103.85C4870.5,-92.51 4870.5,-77.22 4870.5,-63.3\"/>\r\n<polygon fill=\"black\" stroke=\"black\" points=\"4874,-63.01 4870.5,-53.01 4867,-63.01 4874,-63.01\"/>\r\n<text text-anchor=\"middle\" x=\"4881.5\" y=\"-74.8\" font-family=\"Times New Roman,serif\" font-size=\"14.00\">Yes</text>\r\n</g>\r\n<!-- 113 -->\r\n<g id=\"node114\" class=\"node\">\r\n<title>113</title>\r\n<polygon fill=\"none\" stroke=\"red\" points=\"5009,-53 4930,-53 4930,0 5009,0 5009,-53\"/>\r\n<text text-anchor=\"middle\" x=\"4969.5\" y=\"-37.8\" font-family=\"Times New Roman,serif\" font-size=\"14.00\">val = 0.000</text>\r\n<text text-anchor=\"middle\" x=\"4969.5\" y=\"-22.8\" font-family=\"Times New Roman,serif\" font-size=\"14.00\">val = 0.000</text>\r\n<text text-anchor=\"middle\" x=\"4969.5\" y=\"-7.8\" font-family=\"Times New Roman,serif\" font-size=\"14.00\">val = 0.000</text>\r\n</g>\r\n<!-- 56&#45;&gt;113 -->\r\n<g id=\"edge113\" class=\"edge\">\r\n<title>56&#45;&gt;113</title>\r\n<path fill=\"none\" stroke=\"black\" d=\"M5007.88,-103.85C5002.01,-92.17 4994.04,-76.31 4986.88,-62.07\"/>\r\n<polygon fill=\"black\" stroke=\"black\" points=\"4989.94,-60.37 4982.32,-53.01 4983.69,-63.51 4989.94,-60.37\"/>\r\n<text text-anchor=\"middle\" x=\"5008.5\" y=\"-74.8\" font-family=\"Times New Roman,serif\" font-size=\"14.00\">No</text>\r\n</g>\r\n<!-- 114 -->\r\n<g id=\"node115\" class=\"node\">\r\n<title>114</title>\r\n<polygon fill=\"none\" stroke=\"red\" points=\"5106,-53 5027,-53 5027,0 5106,0 5106,-53\"/>\r\n<text text-anchor=\"middle\" x=\"5066.5\" y=\"-37.8\" font-family=\"Times New Roman,serif\" font-size=\"14.00\">val = 0.000</text>\r\n<text text-anchor=\"middle\" x=\"5066.5\" y=\"-22.8\" font-family=\"Times New Roman,serif\" font-size=\"14.00\">val = 0.000</text>\r\n<text text-anchor=\"middle\" x=\"5066.5\" y=\"-7.8\" font-family=\"Times New Roman,serif\" font-size=\"14.00\">val = 0.000</text>\r\n</g>\r\n<!-- 56&#45;&gt;114 -->\r\n<g id=\"edge114\" class=\"edge\">\r\n<title>56&#45;&gt;114</title>\r\n<path fill=\"none\" stroke=\"black\" d=\"M5025.67,-103.85C5031.91,-92.17 5040.4,-76.31 5048.01,-62.07\"/>\r\n<polygon fill=\"black\" stroke=\"black\" points=\"5051.23,-63.48 5052.86,-53.01 5045.06,-60.17 5051.23,-63.48\"/>\r\n<text text-anchor=\"middle\" x=\"5054.5\" y=\"-74.8\" font-family=\"Times New Roman,serif\" font-size=\"14.00\">Yes</text>\r\n</g>\r\n<!-- 115 -->\r\n<g id=\"node116\" class=\"node\">\r\n<title>115</title>\r\n<polygon fill=\"none\" stroke=\"red\" points=\"5203,-53 5124,-53 5124,0 5203,0 5203,-53\"/>\r\n<text text-anchor=\"middle\" x=\"5163.5\" y=\"-37.8\" font-family=\"Times New Roman,serif\" font-size=\"14.00\">val = 0.000</text>\r\n<text text-anchor=\"middle\" x=\"5163.5\" y=\"-22.8\" font-family=\"Times New Roman,serif\" font-size=\"14.00\">val = 0.000</text>\r\n<text text-anchor=\"middle\" x=\"5163.5\" y=\"-7.8\" font-family=\"Times New Roman,serif\" font-size=\"14.00\">val = 0.000</text>\r\n</g>\r\n<!-- 57&#45;&gt;115 -->\r\n<g id=\"edge115\" class=\"edge\">\r\n<title>57&#45;&gt;115</title>\r\n<path fill=\"none\" stroke=\"black\" d=\"M5186.36,-103.85C5182.93,-92.4 5178.3,-76.91 5174.1,-62.89\"/>\r\n<polygon fill=\"black\" stroke=\"black\" points=\"5177.36,-61.58 5171.14,-53.01 5170.65,-63.59 5177.36,-61.58\"/>\r\n<text text-anchor=\"middle\" x=\"5190.5\" y=\"-74.8\" font-family=\"Times New Roman,serif\" font-size=\"14.00\">No</text>\r\n</g>\r\n<!-- 116 -->\r\n<g id=\"node117\" class=\"node\">\r\n<title>116</title>\r\n<polygon fill=\"none\" stroke=\"red\" points=\"5300,-53 5221,-53 5221,0 5300,0 5300,-53\"/>\r\n<text text-anchor=\"middle\" x=\"5260.5\" y=\"-37.8\" font-family=\"Times New Roman,serif\" font-size=\"14.00\">val = 0.000</text>\r\n<text text-anchor=\"middle\" x=\"5260.5\" y=\"-22.8\" font-family=\"Times New Roman,serif\" font-size=\"14.00\">val = 0.000</text>\r\n<text text-anchor=\"middle\" x=\"5260.5\" y=\"-7.8\" font-family=\"Times New Roman,serif\" font-size=\"14.00\">val = 0.000</text>\r\n</g>\r\n<!-- 57&#45;&gt;116 -->\r\n<g id=\"edge116\" class=\"edge\">\r\n<title>57&#45;&gt;116</title>\r\n<path fill=\"none\" stroke=\"black\" d=\"M5203.84,-104.28C5212.58,-92.43 5224.63,-76.1 5235.37,-61.55\"/>\r\n<polygon fill=\"black\" stroke=\"black\" points=\"5238.38,-63.37 5241.5,-53.24 5232.75,-59.21 5238.38,-63.37\"/>\r\n<text text-anchor=\"middle\" x=\"5239.5\" y=\"-74.8\" font-family=\"Times New Roman,serif\" font-size=\"14.00\">Yes</text>\r\n</g>\r\n<!-- 117 -->\r\n<g id=\"node118\" class=\"node\">\r\n<title>117</title>\r\n<polygon fill=\"none\" stroke=\"red\" points=\"5397,-53 5318,-53 5318,0 5397,0 5397,-53\"/>\r\n<text text-anchor=\"middle\" x=\"5357.5\" y=\"-37.8\" font-family=\"Times New Roman,serif\" font-size=\"14.00\">val = 0.000</text>\r\n<text text-anchor=\"middle\" x=\"5357.5\" y=\"-22.8\" font-family=\"Times New Roman,serif\" font-size=\"14.00\">val = 0.000</text>\r\n<text text-anchor=\"middle\" x=\"5357.5\" y=\"-7.8\" font-family=\"Times New Roman,serif\" font-size=\"14.00\">val = 0.000</text>\r\n</g>\r\n<!-- 58&#45;&gt;117 -->\r\n<g id=\"edge117\" class=\"edge\">\r\n<title>58&#45;&gt;117</title>\r\n<path fill=\"none\" stroke=\"black\" d=\"M5357.5,-103.85C5357.5,-92.51 5357.5,-77.22 5357.5,-63.3\"/>\r\n<polygon fill=\"black\" stroke=\"black\" points=\"5361,-63.01 5357.5,-53.01 5354,-63.01 5361,-63.01\"/>\r\n<text text-anchor=\"middle\" x=\"5366.5\" y=\"-74.8\" font-family=\"Times New Roman,serif\" font-size=\"14.00\">No</text>\r\n</g>\r\n<!-- 118 -->\r\n<g id=\"node119\" class=\"node\">\r\n<title>118</title>\r\n<polygon fill=\"none\" stroke=\"red\" points=\"5494,-53 5415,-53 5415,0 5494,0 5494,-53\"/>\r\n<text text-anchor=\"middle\" x=\"5454.5\" y=\"-37.8\" font-family=\"Times New Roman,serif\" font-size=\"14.00\">val = 0.000</text>\r\n<text text-anchor=\"middle\" x=\"5454.5\" y=\"-22.8\" font-family=\"Times New Roman,serif\" font-size=\"14.00\">val = 0.000</text>\r\n<text text-anchor=\"middle\" x=\"5454.5\" y=\"-7.8\" font-family=\"Times New Roman,serif\" font-size=\"14.00\">val = 0.000</text>\r\n</g>\r\n<!-- 58&#45;&gt;118 -->\r\n<g id=\"edge118\" class=\"edge\">\r\n<title>58&#45;&gt;118</title>\r\n<path fill=\"none\" stroke=\"black\" d=\"M5374.4,-104.71C5387.08,-92.48 5404.88,-75.33 5420.48,-60.29\"/>\r\n<polygon fill=\"black\" stroke=\"black\" points=\"5423.16,-62.57 5427.93,-53.11 5418.3,-57.53 5423.16,-62.57\"/>\r\n<text text-anchor=\"middle\" x=\"5420.5\" y=\"-74.8\" font-family=\"Times New Roman,serif\" font-size=\"14.00\">Yes</text>\r\n</g>\r\n<!-- 119 -->\r\n<g id=\"node120\" class=\"node\">\r\n<title>119</title>\r\n<polygon fill=\"none\" stroke=\"red\" points=\"5591,-53 5512,-53 5512,0 5591,0 5591,-53\"/>\r\n<text text-anchor=\"middle\" x=\"5551.5\" y=\"-37.8\" font-family=\"Times New Roman,serif\" font-size=\"14.00\">val = 0.000</text>\r\n<text text-anchor=\"middle\" x=\"5551.5\" y=\"-22.8\" font-family=\"Times New Roman,serif\" font-size=\"14.00\">val = 0.000</text>\r\n<text text-anchor=\"middle\" x=\"5551.5\" y=\"-7.8\" font-family=\"Times New Roman,serif\" font-size=\"14.00\">val = 0.000</text>\r\n</g>\r\n<!-- 59&#45;&gt;119 -->\r\n<g id=\"edge119\" class=\"edge\">\r\n<title>59&#45;&gt;119</title>\r\n<path fill=\"none\" stroke=\"black\" d=\"M5613.91,-104.28C5604.19,-92.32 5590.76,-75.8 5578.85,-61.15\"/>\r\n<polygon fill=\"black\" stroke=\"black\" points=\"5581.45,-58.79 5572.42,-53.24 5576.01,-63.21 5581.45,-58.79\"/>\r\n<text text-anchor=\"middle\" x=\"5608.5\" y=\"-74.8\" font-family=\"Times New Roman,serif\" font-size=\"14.00\">No</text>\r\n</g>\r\n<!-- 120 -->\r\n<g id=\"node121\" class=\"node\">\r\n<title>120</title>\r\n<polygon fill=\"none\" stroke=\"red\" points=\"5688,-53 5609,-53 5609,0 5688,0 5688,-53\"/>\r\n<text text-anchor=\"middle\" x=\"5648.5\" y=\"-37.8\" font-family=\"Times New Roman,serif\" font-size=\"14.00\">val = 0.000</text>\r\n<text text-anchor=\"middle\" x=\"5648.5\" y=\"-22.8\" font-family=\"Times New Roman,serif\" font-size=\"14.00\">val = 0.000</text>\r\n<text text-anchor=\"middle\" x=\"5648.5\" y=\"-7.8\" font-family=\"Times New Roman,serif\" font-size=\"14.00\">val = 0.000</text>\r\n</g>\r\n<!-- 59&#45;&gt;120 -->\r\n<g id=\"edge120\" class=\"edge\">\r\n<title>59&#45;&gt;120</title>\r\n<path fill=\"none\" stroke=\"black\" d=\"M5631.35,-103.85C5633.92,-92.4 5637.4,-76.91 5640.55,-62.89\"/>\r\n<polygon fill=\"black\" stroke=\"black\" points=\"5643.99,-63.53 5642.77,-53.01 5637.16,-62 5643.99,-63.53\"/>\r\n<text text-anchor=\"middle\" x=\"5650.5\" y=\"-74.8\" font-family=\"Times New Roman,serif\" font-size=\"14.00\">Yes</text>\r\n</g>\r\n<!-- 121 -->\r\n<g id=\"node122\" class=\"node\">\r\n<title>121</title>\r\n<polygon fill=\"none\" stroke=\"red\" points=\"5785,-53 5706,-53 5706,0 5785,0 5785,-53\"/>\r\n<text text-anchor=\"middle\" x=\"5745.5\" y=\"-37.8\" font-family=\"Times New Roman,serif\" font-size=\"14.00\">val = 0.000</text>\r\n<text text-anchor=\"middle\" x=\"5745.5\" y=\"-22.8\" font-family=\"Times New Roman,serif\" font-size=\"14.00\">val = 0.000</text>\r\n<text text-anchor=\"middle\" x=\"5745.5\" y=\"-7.8\" font-family=\"Times New Roman,serif\" font-size=\"14.00\">val = 0.000</text>\r\n</g>\r\n<!-- 60&#45;&gt;121 -->\r\n<g id=\"edge121\" class=\"edge\">\r\n<title>60&#45;&gt;121</title>\r\n<path fill=\"none\" stroke=\"black\" d=\"M5761.83,-103.85C5759.38,-92.4 5756.07,-76.91 5753.07,-62.89\"/>\r\n<polygon fill=\"black\" stroke=\"black\" points=\"5756.47,-62.05 5750.96,-53.01 5749.63,-63.52 5756.47,-62.05\"/>\r\n<text text-anchor=\"middle\" x=\"5767.5\" y=\"-74.8\" font-family=\"Times New Roman,serif\" font-size=\"14.00\">No</text>\r\n</g>\r\n<!-- 122 -->\r\n<g id=\"node123\" class=\"node\">\r\n<title>122</title>\r\n<polygon fill=\"none\" stroke=\"red\" points=\"5882,-53 5803,-53 5803,0 5882,0 5882,-53\"/>\r\n<text text-anchor=\"middle\" x=\"5842.5\" y=\"-37.8\" font-family=\"Times New Roman,serif\" font-size=\"14.00\">val = 0.000</text>\r\n<text text-anchor=\"middle\" x=\"5842.5\" y=\"-22.8\" font-family=\"Times New Roman,serif\" font-size=\"14.00\">val = 0.000</text>\r\n<text text-anchor=\"middle\" x=\"5842.5\" y=\"-7.8\" font-family=\"Times New Roman,serif\" font-size=\"14.00\">val = 0.000</text>\r\n</g>\r\n<!-- 60&#45;&gt;122 -->\r\n<g id=\"edge122\" class=\"edge\">\r\n<title>60&#45;&gt;122</title>\r\n<path fill=\"none\" stroke=\"black\" d=\"M5779.27,-104.28C5789.12,-92.32 5802.72,-75.8 5814.79,-61.15\"/>\r\n<polygon fill=\"black\" stroke=\"black\" points=\"5817.65,-63.18 5821.3,-53.24 5812.24,-58.73 5817.65,-63.18\"/>\r\n<text text-anchor=\"middle\" x=\"5817.5\" y=\"-74.8\" font-family=\"Times New Roman,serif\" font-size=\"14.00\">Yes</text>\r\n</g>\r\n<!-- 123 -->\r\n<g id=\"node124\" class=\"node\">\r\n<title>123</title>\r\n<polygon fill=\"none\" stroke=\"red\" points=\"5979,-53 5900,-53 5900,0 5979,0 5979,-53\"/>\r\n<text text-anchor=\"middle\" x=\"5939.5\" y=\"-37.8\" font-family=\"Times New Roman,serif\" font-size=\"14.00\">val = 0.000</text>\r\n<text text-anchor=\"middle\" x=\"5939.5\" y=\"-22.8\" font-family=\"Times New Roman,serif\" font-size=\"14.00\">val = 0.000</text>\r\n<text text-anchor=\"middle\" x=\"5939.5\" y=\"-7.8\" font-family=\"Times New Roman,serif\" font-size=\"14.00\">val = 0.000</text>\r\n</g>\r\n<!-- 61&#45;&gt;123 -->\r\n<g id=\"edge123\" class=\"edge\">\r\n<title>61&#45;&gt;123</title>\r\n<path fill=\"none\" stroke=\"black\" d=\"M5962.36,-103.85C5958.93,-92.4 5954.3,-76.91 5950.1,-62.89\"/>\r\n<polygon fill=\"black\" stroke=\"black\" points=\"5953.36,-61.58 5947.14,-53.01 5946.65,-63.59 5953.36,-61.58\"/>\r\n<text text-anchor=\"middle\" x=\"5966.5\" y=\"-74.8\" font-family=\"Times New Roman,serif\" font-size=\"14.00\">No</text>\r\n</g>\r\n<!-- 124 -->\r\n<g id=\"node125\" class=\"node\">\r\n<title>124</title>\r\n<polygon fill=\"none\" stroke=\"red\" points=\"6076,-53 5997,-53 5997,0 6076,0 6076,-53\"/>\r\n<text text-anchor=\"middle\" x=\"6036.5\" y=\"-37.8\" font-family=\"Times New Roman,serif\" font-size=\"14.00\">val = 0.000</text>\r\n<text text-anchor=\"middle\" x=\"6036.5\" y=\"-22.8\" font-family=\"Times New Roman,serif\" font-size=\"14.00\">val = 0.000</text>\r\n<text text-anchor=\"middle\" x=\"6036.5\" y=\"-7.8\" font-family=\"Times New Roman,serif\" font-size=\"14.00\">val = 0.000</text>\r\n</g>\r\n<!-- 61&#45;&gt;124 -->\r\n<g id=\"edge124\" class=\"edge\">\r\n<title>61&#45;&gt;124</title>\r\n<path fill=\"none\" stroke=\"black\" d=\"M5979.84,-104.28C5988.58,-92.43 6000.63,-76.1 6011.37,-61.55\"/>\r\n<polygon fill=\"black\" stroke=\"black\" points=\"6014.38,-63.37 6017.5,-53.24 6008.75,-59.21 6014.38,-63.37\"/>\r\n<text text-anchor=\"middle\" x=\"6015.5\" y=\"-74.8\" font-family=\"Times New Roman,serif\" font-size=\"14.00\">Yes</text>\r\n</g>\r\n<!-- 125 -->\r\n<g id=\"node126\" class=\"node\">\r\n<title>125</title>\r\n<polygon fill=\"none\" stroke=\"red\" points=\"6173,-53 6094,-53 6094,0 6173,0 6173,-53\"/>\r\n<text text-anchor=\"middle\" x=\"6133.5\" y=\"-37.8\" font-family=\"Times New Roman,serif\" font-size=\"14.00\">val = 0.000</text>\r\n<text text-anchor=\"middle\" x=\"6133.5\" y=\"-22.8\" font-family=\"Times New Roman,serif\" font-size=\"14.00\">val = 0.000</text>\r\n<text text-anchor=\"middle\" x=\"6133.5\" y=\"-7.8\" font-family=\"Times New Roman,serif\" font-size=\"14.00\">val = 0.000</text>\r\n</g>\r\n<!-- 62&#45;&gt;125 -->\r\n<g id=\"edge125\" class=\"edge\">\r\n<title>62&#45;&gt;125</title>\r\n<path fill=\"none\" stroke=\"black\" d=\"M6133.5,-103.85C6133.5,-92.51 6133.5,-77.22 6133.5,-63.3\"/>\r\n<polygon fill=\"black\" stroke=\"black\" points=\"6137,-63.01 6133.5,-53.01 6130,-63.01 6137,-63.01\"/>\r\n<text text-anchor=\"middle\" x=\"6142.5\" y=\"-74.8\" font-family=\"Times New Roman,serif\" font-size=\"14.00\">No</text>\r\n</g>\r\n<!-- 126 -->\r\n<g id=\"node127\" class=\"node\">\r\n<title>126</title>\r\n<polygon fill=\"none\" stroke=\"red\" points=\"6270,-53 6191,-53 6191,0 6270,0 6270,-53\"/>\r\n<text text-anchor=\"middle\" x=\"6230.5\" y=\"-37.8\" font-family=\"Times New Roman,serif\" font-size=\"14.00\">val = 0.000</text>\r\n<text text-anchor=\"middle\" x=\"6230.5\" y=\"-22.8\" font-family=\"Times New Roman,serif\" font-size=\"14.00\">val = 0.000</text>\r\n<text text-anchor=\"middle\" x=\"6230.5\" y=\"-7.8\" font-family=\"Times New Roman,serif\" font-size=\"14.00\">val = 0.000</text>\r\n</g>\r\n<!-- 62&#45;&gt;126 -->\r\n<g id=\"edge126\" class=\"edge\">\r\n<title>62&#45;&gt;126</title>\r\n<path fill=\"none\" stroke=\"black\" d=\"M6150.4,-104.71C6163.08,-92.48 6180.88,-75.33 6196.48,-60.29\"/>\r\n<polygon fill=\"black\" stroke=\"black\" points=\"6199.16,-62.57 6203.93,-53.11 6194.3,-57.53 6199.16,-62.57\"/>\r\n<text text-anchor=\"middle\" x=\"6196.5\" y=\"-74.8\" font-family=\"Times New Roman,serif\" font-size=\"14.00\">Yes</text>\r\n</g>\r\n</g>\r\n</svg>\r\n",
      "text/plain": [
       "<graphviz.dot.Digraph at 0x22c4d00a820>"
      ]
     },
     "execution_count": 83,
     "metadata": {},
     "output_type": "execute_result"
    }
   ],
   "source": [
    "cat_pred.plot_tree(tree_idx = 1, pool=None)"
   ]
  },
  {
   "cell_type": "code",
   "execution_count": null,
   "metadata": {},
   "outputs": [],
   "source": []
  }
 ],
 "metadata": {
  "interpreter": {
   "hash": "71b59b5ba49ad06bb2a011e750699e3983d230921f30bf7f37eb3a01ae69aa26"
  },
  "kernelspec": {
   "display_name": "Python 3.9.6 64-bit",
   "name": "python3"
  },
  "language_info": {
   "codemirror_mode": {
    "name": "ipython",
    "version": 3
   },
   "file_extension": ".py",
   "mimetype": "text/x-python",
   "name": "python",
   "nbconvert_exporter": "python",
   "pygments_lexer": "ipython3",
   "version": "3.9.6"
  },
  "orig_nbformat": 4
 },
 "nbformat": 4,
 "nbformat_minor": 2
}
