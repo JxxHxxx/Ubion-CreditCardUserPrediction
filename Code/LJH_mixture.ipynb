{
 "cells": [
  {
   "cell_type": "code",
   "execution_count": 411,
   "metadata": {},
   "outputs": [],
   "source": [
    "import warnings\n",
    "warnings.filterwarnings('ignore')\n",
    "\n",
    "import numpy as np\n",
    "import pandas as pd   \n",
    "import matplotlib.pyplot as plt\n",
    "import seaborn as sns\n",
    "\n",
    "from sklearn.model_selection import train_test_split\n",
    "from sklearn.metrics import accuracy_score, confusion_matrix, log_loss\n",
    "\n",
    "from lightgbm import LGBMClassifier\n",
    "from sklearn.ensemble import AdaBoostClassifier\n",
    "from sklearn.ensemble import GradientBoostingClassifier\n",
    "from catboost import CatBoostClassifier\n",
    "from sklearn.ensemble import RandomForestClassifier\n",
    "from tqdm import tqdm"
   ]
  },
  {
   "cell_type": "code",
   "execution_count": 415,
   "metadata": {},
   "outputs": [],
   "source": [
    "train = pd.read_csv('../Data/train.csv')\n",
    "test = pd.read_csv('../Data/test.csv')\n",
    "submission = pd.read_csv('../Data/sample_submission.csv')\n",
    "sub_train = train"
   ]
  },
  {
   "cell_type": "code",
   "execution_count": 416,
   "metadata": {},
   "outputs": [
    {
     "data": {
      "text/plain": [
       "<AxesSubplot:>"
      ]
     },
     "execution_count": 416,
     "metadata": {},
     "output_type": "execute_result"
    },
    {
     "data": {
      "image/png": "[encoded data removed]",
      "text/plain": [
       "<Figure size 1152x864 with 1 Axes>"
      ]
     },
     "metadata": {
      "needs_background": "light"
     },
     "output_type": "display_data"
    }
   ],
   "source": [
    "train['credit'].value_counts().plot(kind ='bar')"
   ]
  },
  {
   "cell_type": "markdown",
   "metadata": {},
   "source": [
    "# Feature 설명\n",
    "\n",
    "index   \n",
    "gender: 성별   (o)\n",
    "car: 차량 소유 여부   (o)\n",
    "reality: 부동산 소유 여부   (o)\n",
    "child_num: 자녀 수   \n",
    "income_total: 연간 소득  (o)\n",
    "income_type: 소득 분류   \n",
    "['Commercial associate', 'Working', 'State servant', 'Pensioner', 'Student']   \n",
    "edu_type: 교육 수준   \n",
    "['Higher education' ,'Secondary / secondary special', 'Incomplete higher', 'Lower secondary', 'Academic degree']   \n",
    "family_type: 결혼 여부   \n",
    "['Married', 'Civil marriage', 'Separated', 'Single / not married', 'Widow']   \n",
    "house_type: 생활 방식   \n",
    "['Municipal apartment', 'House / apartment', 'With parents','Co-op apartment', 'Rented apartment', 'Office apartment']   \n",
    "DAYS_BIRTH: 출생일   (o)\n",
    "데이터 수집 당시 (0)부터 역으로 셈, 즉, -1은 데이터 수집일 하루 전에 태어났음을 의미   \n",
    "DAYS_EMPLOYED: 업무 시작일   (o)   \n",
    "데이터 수집 당시 (0)부터 역으로 셈, 즉, -1은 데이터 수집일 하루 전부터 일을 시작함을 의미,양수 값은 고용되지 않은 상태를 의미함   \n",
    "FLAG_MOBIL: 핸드폰 소유 여부  (o) \n",
    "work_phone: 업무용 전화 소유 여부   (o)\n",
    "phone: 전화 소유 여부  (o) \n",
    "email: 이메일 소유 여부   (o)\n",
    "occyp_type: 직업 유형\t   \t\t\t\t\t\t\t\t\t\t\t\t\n",
    "family_size: 가족 규모  (o) \n",
    "begin_month: 신용카드 발급 월 데이터 수집 당시 (0)부터 역으로 셈, 즉, -1은 데이터 수집일 한 달 전에 신용카드를 발급함을 의미 (o)     \n",
    "\n",
    "credit: 사용자의 신용카드 대금 연체를 기준으로 한 신용도   \n",
    "=> 낮을 수록 높은 신용의 신용카드 사용자를 의미함   \n",
    "\n"
   ]
  },
  {
   "cell_type": "code",
   "execution_count": 417,
   "metadata": {},
   "outputs": [
    {
     "data": {
      "text/html": [
       "<div>\n",
       "<style scoped>\n",
       "    .dataframe tbody tr th:only-of-type {\n",
       "        vertical-align: middle;\n",
       "    }\n",
       "\n",
       "    .dataframe tbody tr th {\n",
       "        vertical-align: top;\n",
       "    }\n",
       "\n",
       "    .dataframe thead th {\n",
       "        text-align: right;\n",
       "    }\n",
       "</style>\n",
       "<table border=\"1\" class=\"dataframe\">\n",
       "  <thead>\n",
       "    <tr style=\"text-align: right;\">\n",
       "      <th></th>\n",
       "      <th>index</th>\n",
       "      <th>gender</th>\n",
       "      <th>car</th>\n",
       "      <th>reality</th>\n",
       "      <th>child_num</th>\n",
       "      <th>income_total</th>\n",
       "      <th>income_type</th>\n",
       "      <th>edu_type</th>\n",
       "      <th>family_type</th>\n",
       "      <th>house_type</th>\n",
       "      <th>DAYS_BIRTH</th>\n",
       "      <th>DAYS_EMPLOYED</th>\n",
       "      <th>FLAG_MOBIL</th>\n",
       "      <th>work_phone</th>\n",
       "      <th>phone</th>\n",
       "      <th>email</th>\n",
       "      <th>occyp_type</th>\n",
       "      <th>family_size</th>\n",
       "      <th>begin_month</th>\n",
       "      <th>credit</th>\n",
       "    </tr>\n",
       "  </thead>\n",
       "  <tbody>\n",
       "    <tr>\n",
       "      <th>0</th>\n",
       "      <td>0</td>\n",
       "      <td>F</td>\n",
       "      <td>N</td>\n",
       "      <td>N</td>\n",
       "      <td>0</td>\n",
       "      <td>202500.0</td>\n",
       "      <td>Commercial associate</td>\n",
       "      <td>Higher education</td>\n",
       "      <td>Married</td>\n",
       "      <td>Municipal apartment</td>\n",
       "      <td>-13899</td>\n",
       "      <td>-4709</td>\n",
       "      <td>1</td>\n",
       "      <td>0</td>\n",
       "      <td>0</td>\n",
       "      <td>0</td>\n",
       "      <td>NaN</td>\n",
       "      <td>2.0</td>\n",
       "      <td>-6.0</td>\n",
       "      <td>1.0</td>\n",
       "    </tr>\n",
       "    <tr>\n",
       "      <th>1</th>\n",
       "      <td>1</td>\n",
       "      <td>F</td>\n",
       "      <td>N</td>\n",
       "      <td>Y</td>\n",
       "      <td>1</td>\n",
       "      <td>247500.0</td>\n",
       "      <td>Commercial associate</td>\n",
       "      <td>Secondary / secondary special</td>\n",
       "      <td>Civil marriage</td>\n",
       "      <td>House / apartment</td>\n",
       "      <td>-11380</td>\n",
       "      <td>-1540</td>\n",
       "      <td>1</td>\n",
       "      <td>0</td>\n",
       "      <td>0</td>\n",
       "      <td>1</td>\n",
       "      <td>Laborers</td>\n",
       "      <td>3.0</td>\n",
       "      <td>-5.0</td>\n",
       "      <td>1.0</td>\n",
       "    </tr>\n",
       "    <tr>\n",
       "      <th>2</th>\n",
       "      <td>2</td>\n",
       "      <td>M</td>\n",
       "      <td>Y</td>\n",
       "      <td>Y</td>\n",
       "      <td>0</td>\n",
       "      <td>450000.0</td>\n",
       "      <td>Working</td>\n",
       "      <td>Higher education</td>\n",
       "      <td>Married</td>\n",
       "      <td>House / apartment</td>\n",
       "      <td>-19087</td>\n",
       "      <td>-4434</td>\n",
       "      <td>1</td>\n",
       "      <td>0</td>\n",
       "      <td>1</td>\n",
       "      <td>0</td>\n",
       "      <td>Managers</td>\n",
       "      <td>2.0</td>\n",
       "      <td>-22.0</td>\n",
       "      <td>2.0</td>\n",
       "    </tr>\n",
       "    <tr>\n",
       "      <th>3</th>\n",
       "      <td>3</td>\n",
       "      <td>F</td>\n",
       "      <td>N</td>\n",
       "      <td>Y</td>\n",
       "      <td>0</td>\n",
       "      <td>202500.0</td>\n",
       "      <td>Commercial associate</td>\n",
       "      <td>Secondary / secondary special</td>\n",
       "      <td>Married</td>\n",
       "      <td>House / apartment</td>\n",
       "      <td>-15088</td>\n",
       "      <td>-2092</td>\n",
       "      <td>1</td>\n",
       "      <td>0</td>\n",
       "      <td>1</td>\n",
       "      <td>0</td>\n",
       "      <td>Sales staff</td>\n",
       "      <td>2.0</td>\n",
       "      <td>-37.0</td>\n",
       "      <td>0.0</td>\n",
       "    </tr>\n",
       "    <tr>\n",
       "      <th>4</th>\n",
       "      <td>4</td>\n",
       "      <td>F</td>\n",
       "      <td>Y</td>\n",
       "      <td>Y</td>\n",
       "      <td>0</td>\n",
       "      <td>157500.0</td>\n",
       "      <td>State servant</td>\n",
       "      <td>Higher education</td>\n",
       "      <td>Married</td>\n",
       "      <td>House / apartment</td>\n",
       "      <td>-15037</td>\n",
       "      <td>-2105</td>\n",
       "      <td>1</td>\n",
       "      <td>0</td>\n",
       "      <td>0</td>\n",
       "      <td>0</td>\n",
       "      <td>Managers</td>\n",
       "      <td>2.0</td>\n",
       "      <td>-26.0</td>\n",
       "      <td>2.0</td>\n",
       "    </tr>\n",
       "  </tbody>\n",
       "</table>\n",
       "</div>"
      ],
      "text/plain": [
       "   index gender car reality  child_num  income_total           income_type  \\\n",
       "0      0      F   N       N          0      202500.0  Commercial associate   \n",
       "1      1      F   N       Y          1      247500.0  Commercial associate   \n",
       "2      2      M   Y       Y          0      450000.0               Working   \n",
       "3      3      F   N       Y          0      202500.0  Commercial associate   \n",
       "4      4      F   Y       Y          0      157500.0         State servant   \n",
       "\n",
       "                        edu_type     family_type           house_type  \\\n",
       "0               Higher education         Married  Municipal apartment   \n",
       "1  Secondary / secondary special  Civil marriage    House / apartment   \n",
       "2               Higher education         Married    House / apartment   \n",
       "3  Secondary / secondary special         Married    House / apartment   \n",
       "4               Higher education         Married    House / apartment   \n",
       "\n",
       "   DAYS_BIRTH  DAYS_EMPLOYED  FLAG_MOBIL  work_phone  phone  email  \\\n",
       "0      -13899          -4709           1           0      0      0   \n",
       "1      -11380          -1540           1           0      0      1   \n",
       "2      -19087          -4434           1           0      1      0   \n",
       "3      -15088          -2092           1           0      1      0   \n",
       "4      -15037          -2105           1           0      0      0   \n",
       "\n",
       "    occyp_type  family_size  begin_month  credit  \n",
       "0          NaN          2.0         -6.0     1.0  \n",
       "1     Laborers          3.0         -5.0     1.0  \n",
       "2     Managers          2.0        -22.0     2.0  \n",
       "3  Sales staff          2.0        -37.0     0.0  \n",
       "4     Managers          2.0        -26.0     2.0  "
      ]
     },
     "execution_count": 417,
     "metadata": {},
     "output_type": "execute_result"
    }
   ],
   "source": [
    "train.head(5)"
   ]
  },
  {
   "cell_type": "code",
   "execution_count": 418,
   "metadata": {},
   "outputs": [
    {
     "name": "stdout",
     "output_type": "stream",
     "text": [
      "train set 중복데이터가 아닌 사람의 수 : 3209명\n",
      "test set 중복데이터가 아닌 사람의 수 : 3103명\n",
      "------------------------------------------------------------\n",
      "train set 동일인물의 중복데이터로 추정되는 사람의 수 : 5518명\n",
      "test set 동일인물의 중복데이터로 추정되는 사람의 수 : 2468명\n"
     ]
    }
   ],
   "source": [
    "train['identity'] = [str(i) + str(j) + str(k) + str(l) + str(m)  for i,j,k,l,m, in zip(train['gender'],train['income_total'],train['income_type'],train['DAYS_BIRTH'],train['DAYS_EMPLOYED'])]\n",
    "test['identity'] = [str(i) + str(j) + str(k) + str(l) + str(m) for i,j,k,l,m, in zip(test['gender'],test['income_total'],test['income_type'],test['DAYS_BIRTH'],test['DAYS_EMPLOYED'])]\n",
    "\n",
    "print(f\"train set 중복데이터가 아닌 사람의 수 : {sum(train['identity'].value_counts()==1)}명\")\n",
    "print(f\"test set 중복데이터가 아닌 사람의 수 : {sum(test['identity'].value_counts()==1)}명\")\n",
    "print('-'*60)\n",
    "print(f\"train set 동일인물의 중복데이터로 추정되는 사람의 수 : {sum(train['identity'].value_counts()>=2)}명\")\n",
    "print(f\"test set 동일인물의 중복데이터로 추정되는 사람의 수 : {sum(test['identity'].value_counts()>=2)}명\")"
   ]
  },
  {
   "cell_type": "code",
   "execution_count": 419,
   "metadata": {},
   "outputs": [
    {
     "data": {
      "text/plain": [
       "\" refund_case_1 = []\\nfor i in tqdm(range(len(refund.index))):\\n    subset = dataset.iloc[refund.index[i]-1 : refund.index[i] + 1]\\n    if subset['amount'].sum() == 0:\\n        refund_case_1.append(refund.index[i]) # 환불 건의 index 를 추출합니다. index 41과 같은 건을 모두 추출\\n    else:\\n        pass \""
      ]
     },
     "execution_count": 419,
     "metadata": {},
     "output_type": "execute_result"
    }
   ],
   "source": [
    "\"\"\" refund_case_1 = []\n",
    "for i in tqdm(range(len(refund.index))):\n",
    "    subset = dataset.iloc[refund.index[i]-1 : refund.index[i] + 1]\n",
    "    if subset['amount'].sum() == 0:\n",
    "        refund_case_1.append(refund.index[i]) # 환불 건의 index 를 추출합니다. index 41과 같은 건을 모두 추출\n",
    "    else:\n",
    "        pass \"\"\""
   ]
  },
  {
   "cell_type": "code",
   "execution_count": 420,
   "metadata": {},
   "outputs": [
    {
     "data": {
      "text/plain": [
       "F297000.0Commercial associate-15519-3234     True\n",
       "F157500.0State servant-12676-1350            True\n",
       "M225000.0Working-16768-3088                  True\n",
       "M112500.0Working-9952-1613                   True\n",
       "F225000.0Working-12322-3717                  True\n",
       "                                            ...  \n",
       "F175950.0Working-20462-1881                 False\n",
       "F180000.0Working-13638-3809                 False\n",
       "F67500.0Working-12176-5316                  False\n",
       "F112500.0Working-9733-187                   False\n",
       "F126000.0State servant-19292-1371           False\n",
       "Name: identity, Length: 8727, dtype: bool"
      ]
     },
     "execution_count": 420,
     "metadata": {},
     "output_type": "execute_result"
    }
   ],
   "source": [
    "subset = train['identity'].value_counts() > 1\n",
    "subset"
   ]
  },
  {
   "cell_type": "code",
   "execution_count": 351,
   "metadata": {},
   "outputs": [],
   "source": [
    "drop_list = []\n",
    "\n",
    "for i in range(len(subset)):\n",
    "    if subset.values[i] == True:\n",
    "        drop_list.append(subset.index[i])\n",
    "    else:\n",
    "        pass"
   ]
  },
  {
   "cell_type": "code",
   "execution_count": 352,
   "metadata": {},
   "outputs": [],
   "source": [
    "confusion_list = []\n",
    "for i in range(len(drop_list)):\n",
    "    if len(train.loc[train['identity'] == drop_list[i]].sort_values(by=['begin_month'])['credit'].unique()) > 2:\n",
    "        confusion_list.append(drop_list[i])\n",
    "    else:\n",
    "        pass"
   ]
  },
  {
   "cell_type": "code",
   "execution_count": 353,
   "metadata": {},
   "outputs": [],
   "source": [
    "for i in range(len(confusion_list)):\n",
    "    train.loc[train['identity'] == confusion_list[1], 'credit'] = statistics.mode(train.loc[train['identity'] == confusion_list[i], 'credit'])"
   ]
  },
  {
   "cell_type": "code",
   "execution_count": 340,
   "metadata": {},
   "outputs": [],
   "source": [
    "import statistics"
   ]
  },
  {
   "cell_type": "code",
   "execution_count": 221,
   "metadata": {},
   "outputs": [
    {
     "name": "stderr",
     "output_type": "stream",
     "text": [
      "100%|██████████| 2839/2839 [00:19<00:00, 148.63it/s]\n"
     ]
    }
   ],
   "source": [
    "for i in tqdm(range(len(confusion_list))):\n",
    "    train = train.drop(index = train.loc[train['identity'] == confusion_list[i]].sort_values(by=['begin_month']).index[1:] , axis=0)"
   ]
  },
  {
   "cell_type": "code",
   "execution_count": 354,
   "metadata": {},
   "outputs": [
    {
     "data": {
      "text/plain": [
       "(26457, 21)"
      ]
     },
     "execution_count": 354,
     "metadata": {},
     "output_type": "execute_result"
    }
   ],
   "source": [
    "train.shape"
   ]
  },
  {
   "cell_type": "code",
   "execution_count": 355,
   "metadata": {},
   "outputs": [],
   "source": [
    "train = train.drop('identity', axis = 1)\n",
    "test = test.drop('identity', axis = 1)"
   ]
  },
  {
   "cell_type": "markdown",
   "metadata": {},
   "source": [
    "# DEF 모음"
   ]
  },
  {
   "cell_type": "code",
   "execution_count": 356,
   "metadata": {},
   "outputs": [],
   "source": [
    "def box_value(col):\n",
    "    Q1 = abs(train[train[col] > 0][col].quantile(0.25))\n",
    "    Q2 = abs(train[train[col] > 0][col].quantile(0.50))\n",
    "    Q3 = abs(train[train[col] > 0][col].quantile(0.75))\n",
    "    IQR = Q3 - Q1\n",
    "\n",
    "    return Q1, Q2, Q3, IQR"
   ]
  },
  {
   "cell_type": "markdown",
   "metadata": {},
   "source": [
    "# Preprocessing"
   ]
  },
  {
   "cell_type": "code",
   "execution_count": 357,
   "metadata": {},
   "outputs": [
    {
     "name": "stdout",
     "output_type": "stream",
     "text": [
      "<class 'pandas.core.frame.DataFrame'>\n",
      "RangeIndex: 26457 entries, 0 to 26456\n",
      "Data columns (total 20 columns):\n",
      " #   Column         Non-Null Count  Dtype  \n",
      "---  ------         --------------  -----  \n",
      " 0   index          26457 non-null  int64  \n",
      " 1   gender         26457 non-null  object \n",
      " 2   car            26457 non-null  object \n",
      " 3   reality        26457 non-null  object \n",
      " 4   child_num      26457 non-null  int64  \n",
      " 5   income_total   26457 non-null  float64\n",
      " 6   income_type    26457 non-null  object \n",
      " 7   edu_type       26457 non-null  object \n",
      " 8   family_type    26457 non-null  object \n",
      " 9   house_type     26457 non-null  object \n",
      " 10  DAYS_BIRTH     26457 non-null  int64  \n",
      " 11  DAYS_EMPLOYED  26457 non-null  int64  \n",
      " 12  FLAG_MOBIL     26457 non-null  int64  \n",
      " 13  work_phone     26457 non-null  int64  \n",
      " 14  phone          26457 non-null  int64  \n",
      " 15  email          26457 non-null  int64  \n",
      " 16  occyp_type     18286 non-null  object \n",
      " 17  family_size    26457 non-null  float64\n",
      " 18  begin_month    26457 non-null  float64\n",
      " 19  credit         26457 non-null  float64\n",
      "dtypes: float64(4), int64(8), object(8)\n",
      "memory usage: 4.0+ MB\n"
     ]
    }
   ],
   "source": [
    "train.info()"
   ]
  },
  {
   "cell_type": "markdown",
   "metadata": {},
   "source": [
    "## **0. FLAG_MOBIL**"
   ]
  },
  {
   "cell_type": "code",
   "execution_count": 358,
   "metadata": {},
   "outputs": [],
   "source": [
    "train['FLAG_MOBIL'] = train['FLAG_MOBIL'] - train['work_phone']*0.3 - train['phone']*0.3 - train['email']*0.3\n",
    "test['FLAG_MOBIL'] = test['FLAG_MOBIL'] - test['work_phone']*0.3 - test['phone']*0.3 - test['email']*0.3"
   ]
  },
  {
   "cell_type": "code",
   "execution_count": 359,
   "metadata": {},
   "outputs": [
    {
     "data": {
      "text/plain": [
       "1.0    14542\n",
       "0.7     7962\n",
       "0.4     3675\n",
       "0.1      278\n",
       "Name: FLAG_MOBIL, dtype: int64"
      ]
     },
     "execution_count": 359,
     "metadata": {},
     "output_type": "execute_result"
    }
   ],
   "source": [
    "train['FLAG_MOBIL'].value_counts()"
   ]
  },
  {
   "cell_type": "code",
   "execution_count": 360,
   "metadata": {},
   "outputs": [],
   "source": [
    "train['FLAG_MOBIL'] = train['FLAG_MOBIL'].replace([1,0.7,0.39999999999999997,0.09999999999999998], ['A','B','C','D'])\n",
    "test['FLAG_MOBIL'] = test['FLAG_MOBIL'].replace([1,0.7,0.39999999999999997,0.09999999999999998], ['A','B','C','D'])"
   ]
  },
  {
   "cell_type": "markdown",
   "metadata": {},
   "source": [
    "## **1. DAYS_EMPLOYED**"
   ]
  },
  {
   "cell_type": "code",
   "execution_count": 361,
   "metadata": {},
   "outputs": [
    {
     "data": {
      "text/plain": [
       "365243    4438\n",
       "Name: DAYS_EMPLOYED, dtype: int64"
      ]
     },
     "execution_count": 361,
     "metadata": {},
     "output_type": "execute_result"
    }
   ],
   "source": [
    "train[train['DAYS_EMPLOYED'] > 0]['DAYS_EMPLOYED'].value_counts()"
   ]
  },
  {
   "cell_type": "code",
   "execution_count": 362,
   "metadata": {},
   "outputs": [],
   "source": [
    "train.loc[train['DAYS_EMPLOYED'] > 0,'DAYS_EMPLOYED'] = 0\n",
    "test.loc[test['DAYS_EMPLOYED'] > 0,'DAYS_EMPLOYED'] = 0"
   ]
  },
  {
   "cell_type": "code",
   "execution_count": 363,
   "metadata": {},
   "outputs": [
    {
     "data": {
      "text/plain": [
       "<AxesSubplot:ylabel='Frequency'>"
      ]
     },
     "execution_count": 363,
     "metadata": {},
     "output_type": "execute_result"
    },
    {
     "data": {
      "image/png": "[encoded data removed]",
      "text/plain": [
       "<Figure size 864x432 with 1 Axes>"
      ]
     },
     "metadata": {
      "needs_background": "light"
     },
     "output_type": "display_data"
    }
   ],
   "source": [
    "abs(train.loc[train['DAYS_EMPLOYED'] < 0,'DAYS_EMPLOYED']).plot(kind='hist',bins=50,density=True)"
   ]
  },
  {
   "cell_type": "code",
   "execution_count": 364,
   "metadata": {},
   "outputs": [
    {
     "data": {
      "text/plain": [
       "0        4709\n",
       "1        1540\n",
       "2        4434\n",
       "3        2092\n",
       "4        2105\n",
       "         ... \n",
       "26452    1984\n",
       "26453    2475\n",
       "26454    2015\n",
       "26455     107\n",
       "26456    1013\n",
       "Name: DAYS_EMPLOYED, Length: 26457, dtype: int64"
      ]
     },
     "execution_count": 364,
     "metadata": {},
     "output_type": "execute_result"
    }
   ],
   "source": [
    "train.loc[train['DAYS_EMPLOYED'] < 0,'DAYS_EMPLOYED'] = train.loc[train['DAYS_EMPLOYED'] < 0,'DAYS_EMPLOYED'].abs()\n",
    "test.loc[test['DAYS_EMPLOYED'] < 0,'DAYS_EMPLOYED'] = test.loc[test['DAYS_EMPLOYED'] < 0,'DAYS_EMPLOYED'].abs()\n",
    "train['DAYS_EMPLOYED']"
   ]
  },
  {
   "cell_type": "code",
   "execution_count": 321,
   "metadata": {},
   "outputs": [],
   "source": [
    "plt.rcParams['figure.figsize'] = (12,6)"
   ]
  },
  {
   "cell_type": "code",
   "execution_count": 365,
   "metadata": {},
   "outputs": [
    {
     "data": {
      "image/png": "[encoded data removed]",
      "text/plain": [
       "<Figure size 864x432 with 1 Axes>"
      ]
     },
     "metadata": {
      "needs_background": "light"
     },
     "output_type": "display_data"
    }
   ],
   "source": [
    "plt.boxplot(abs(train[train['DAYS_EMPLOYED'] > 0]['DAYS_EMPLOYED']))\n",
    "plt.show()"
   ]
  },
  {
   "cell_type": "code",
   "execution_count": 366,
   "metadata": {},
   "outputs": [
    {
     "name": "stdout",
     "output_type": "stream",
     "text": [
      "Q1 : 969.5 Q3 : 3506.0 IQR : 2536.5\n"
     ]
    }
   ],
   "source": [
    "Q1 = abs(train[train['DAYS_EMPLOYED'] > 0]['DAYS_EMPLOYED'].quantile(0.25))\n",
    "Q2 = abs(train[train['DAYS_EMPLOYED'] > 0]['DAYS_EMPLOYED'].quantile(0.50))\n",
    "Q3 = abs(train[train['DAYS_EMPLOYED'] > 0]['DAYS_EMPLOYED'].quantile(0.75))\n",
    "IQR = Q3 - Q1\n",
    "\n",
    "print(f'Q1 : {Q1} Q3 : {Q3} IQR : {IQR}')"
   ]
  },
  {
   "cell_type": "code",
   "execution_count": 367,
   "metadata": {},
   "outputs": [],
   "source": [
    "train.loc[(train['DAYS_EMPLOYED'] <= Q1 - 1.5 * IQR) | (train['DAYS_EMPLOYED'] >= Q3 + 1.5 *IQR), 'DAYS_EMPLOYED'] = Q3\n",
    "test.loc[(test['DAYS_EMPLOYED'] <= Q1 - 1.5 * IQR) | (test['DAYS_EMPLOYED'] >= Q3 + 1.5 *IQR), 'DAYS_EMPLOYED'] = Q3"
   ]
  },
  {
   "cell_type": "code",
   "execution_count": 368,
   "metadata": {},
   "outputs": [
    {
     "data": {
      "image/png": "[encoded data removed]",
      "text/plain": [
       "<Figure size 864x432 with 1 Axes>"
      ]
     },
     "metadata": {
      "needs_background": "light"
     },
     "output_type": "display_data"
    }
   ],
   "source": [
    "plt.boxplot(abs(train[train['DAYS_EMPLOYED'] > 0]['DAYS_EMPLOYED']))\n",
    "plt.show()"
   ]
  },
  {
   "cell_type": "code",
   "execution_count": 25,
   "metadata": {},
   "outputs": [],
   "source": [
    "def dayEMP_category(day_ep):\n",
    "    ep = ''\n",
    "    if day_ep == 0: ep = 0\n",
    "    elif day_ep <= Q1: ep = 1\n",
    "    elif day_ep <= Q2: ep = 2\n",
    "    elif day_ep <= Q3: ep = 3\n",
    "    elif day_ep > Q3: ep = 4\n",
    "       \n",
    "    return ep\n"
   ]
  },
  {
   "cell_type": "code",
   "execution_count": 26,
   "metadata": {},
   "outputs": [],
   "source": [
    "train['DAYS_EMPLOYED'] = train['DAYS_EMPLOYED'].apply(lambda x : dayEMP_category(x))\n",
    "test['DAYS_EMPLOYED'] = test['DAYS_EMPLOYED'].apply(lambda x : dayEMP_category(x))"
   ]
  },
  {
   "cell_type": "code",
   "execution_count": 27,
   "metadata": {},
   "outputs": [],
   "source": [
    "train['DAYS_EMPLOYED'] = train['DAYS_EMPLOYED'].replace({0 : 'A', 1 : 'B', 2 : 'C', 3 : 'D', 4 : 'E'})\n",
    "test['DAYS_EMPLOYED'] = test['DAYS_EMPLOYED'].replace({0 : 'A', 1 : 'B', 2 : 'C', 3 : 'D', 4 : 'E'})"
   ]
  },
  {
   "cell_type": "code",
   "execution_count": 369,
   "metadata": {},
   "outputs": [
    {
     "data": {
      "text/plain": [
       "0.0       4438\n",
       "3506.0    1263\n",
       "401.0       57\n",
       "1539.0      47\n",
       "200.0       45\n",
       "          ... \n",
       "549.0        1\n",
       "5404.0       1\n",
       "2160.0       1\n",
       "738.0        1\n",
       "3189.0       1\n",
       "Name: DAYS_EMPLOYED, Length: 3122, dtype: int64"
      ]
     },
     "execution_count": 369,
     "metadata": {},
     "output_type": "execute_result"
    }
   ],
   "source": [
    "train['DAYS_EMPLOYED'].value_counts()"
   ]
  },
  {
   "cell_type": "markdown",
   "metadata": {},
   "source": [
    "## Begin_month"
   ]
  },
  {
   "cell_type": "code",
   "execution_count": 29,
   "metadata": {},
   "outputs": [
    {
     "data": {
      "text/plain": [
       "<AxesSubplot:ylabel='Frequency'>"
      ]
     },
     "execution_count": 29,
     "metadata": {},
     "output_type": "execute_result"
    },
    {
     "data": {
      "image/png": "[encoded data removed]",
      "text/plain": [
       "<Figure size 432x288 with 1 Axes>"
      ]
     },
     "metadata": {
      "needs_background": "light"
     },
     "output_type": "display_data"
    }
   ],
   "source": [
    "abs(train['begin_month']).plot(kind='hist', bins = 10)"
   ]
  },
  {
   "cell_type": "code",
   "execution_count": 370,
   "metadata": {},
   "outputs": [],
   "source": [
    "train['begin_month'] = train['begin_month'].abs()\n",
    "test['begin_month'] = test['begin_month'].abs()"
   ]
  },
  {
   "cell_type": "code",
   "execution_count": 991,
   "metadata": {},
   "outputs": [],
   "source": [
    "begin_catagory = [0,1,1,2,2,3,3,4,4,4]\n",
    "train['begin_month'] = pd.cut(train['begin_month'], bins = 10, labels= begin_catagory, ordered= False)\n",
    "test['begin_month'] = pd.cut(test['begin_month'], bins = 10, labels= begin_catagory, ordered= False)"
   ]
  },
  {
   "cell_type": "code",
   "execution_count": 992,
   "metadata": {},
   "outputs": [],
   "source": [
    "train['begin_month'] = train['begin_month'].replace({0 : 'A', 1 : 'B', 2 : 'C', 3 : 'D', 4 : 'E'})\n",
    "test['begin_month'] = test['begin_month'].replace({0 : 'A', 1 : 'B', 2 : 'C', 3 : 'D', 4 : 'E'})"
   ]
  },
  {
   "cell_type": "code",
   "execution_count": 371,
   "metadata": {},
   "outputs": [
    {
     "data": {
      "text/plain": [
       "7.0     662\n",
       "11.0    617\n",
       "8.0     612\n",
       "3.0     593\n",
       "6.0     591\n",
       "       ... \n",
       "58.0    244\n",
       "59.0    242\n",
       "60.0    235\n",
       "0.0     231\n",
       "57.0    228\n",
       "Name: begin_month, Length: 61, dtype: int64"
      ]
     },
     "execution_count": 371,
     "metadata": {},
     "output_type": "execute_result"
    }
   ],
   "source": [
    "train['begin_month'].value_counts()"
   ]
  },
  {
   "cell_type": "markdown",
   "metadata": {},
   "source": [
    "## income_total"
   ]
  },
  {
   "cell_type": "code",
   "execution_count": 32,
   "metadata": {},
   "outputs": [
    {
     "data": {
      "text/plain": [
       "<AxesSubplot:ylabel='Frequency'>"
      ]
     },
     "execution_count": 32,
     "metadata": {},
     "output_type": "execute_result"
    },
    {
     "data": {
      "image/png": "[encoded data removed]",
      "text/plain": [
       "<Figure size 432x288 with 1 Axes>"
      ]
     },
     "metadata": {
      "needs_background": "light"
     },
     "output_type": "display_data"
    }
   ],
   "source": [
    "(train['income_total']/1000).plot(kind = 'hist', bins = 50)"
   ]
  },
  {
   "cell_type": "code",
   "execution_count": 372,
   "metadata": {},
   "outputs": [
    {
     "data": {
      "image/png": "[encoded data removed]",
      "text/plain": [
       "<Figure size 864x432 with 1 Axes>"
      ]
     },
     "metadata": {
      "needs_background": "light"
     },
     "output_type": "display_data"
    }
   ],
   "source": [
    "plt.boxplot(train['income_total'])\n",
    "plt.show()"
   ]
  },
  {
   "cell_type": "code",
   "execution_count": 373,
   "metadata": {},
   "outputs": [],
   "source": [
    "Q1 = box_value('income_total')[0]\n",
    "Q2 = box_value('income_total')[1]\n",
    "Q3 = box_value('income_total')[2]\n",
    "IQR = box_value('income_total')[3]"
   ]
  },
  {
   "cell_type": "code",
   "execution_count": 374,
   "metadata": {},
   "outputs": [],
   "source": [
    "train.loc[(train['income_total'] <= Q1 - 1.5 * IQR) | (train['income_total'] >= Q3 + 1.5 *IQR), 'income_total'] = Q3 + IQR/3\n",
    "test.loc[(test['income_total'] <= Q1 - 1.5 * IQR) | (test['income_total'] >= Q3 + 1.5 *IQR), 'income_total'] = Q3 + IQR/3"
   ]
  },
  {
   "cell_type": "code",
   "execution_count": 375,
   "metadata": {},
   "outputs": [
    {
     "data": {
      "image/png": "[encoded data removed]",
      "text/plain": [
       "<Figure size 864x432 with 1 Axes>"
      ]
     },
     "metadata": {
      "needs_background": "light"
     },
     "output_type": "display_data"
    }
   ],
   "source": [
    "plt.boxplot(train['income_total'])\n",
    "plt.show()"
   ]
  },
  {
   "cell_type": "code",
   "execution_count": 999,
   "metadata": {},
   "outputs": [
    {
     "data": {
      "text/plain": [
       "\" def box_category(value):\\n    ep = ''\\n    if value <= Q1: ep = 0\\n    elif value <= Q2: ep = 1\\n    elif value <= Q3: ep = 2\\n    elif value > Q3: ep = 3\\n       \\n    return ep\\n\\ntrain['income_total'] = train['income_total'].apply(lambda x : box_category(x))\\ntest['income_total'] = test['income_total'].apply(lambda x : box_category(x)) \""
      ]
     },
     "execution_count": 999,
     "metadata": {},
     "output_type": "execute_result"
    }
   ],
   "source": [
    "\"\"\" def box_category(value):\n",
    "    ep = ''\n",
    "    if value <= Q1: ep = 0\n",
    "    elif value <= Q2: ep = 1\n",
    "    elif value <= Q3: ep = 2\n",
    "    elif value > Q3: ep = 3\n",
    "       \n",
    "    return ep\n",
    "\n",
    "train['income_total'] = train['income_total'].apply(lambda x : box_category(x))\n",
    "test['income_total'] = test['income_total'].apply(lambda x : box_category(x)) \"\"\""
   ]
  },
  {
   "cell_type": "code",
   "execution_count": 1000,
   "metadata": {},
   "outputs": [
    {
     "data": {
      "text/plain": [
       "\" train['income_total'] = train['income_total'].replace({0 : 'A', 1 : 'B', 2 : 'C', 3 : 'D'})\\ntest['income_total'] = test['income_total'].replace({0 : 'A', 1 : 'B', 2 : 'C', 3 : 'D'}) \""
      ]
     },
     "execution_count": 1000,
     "metadata": {},
     "output_type": "execute_result"
    }
   ],
   "source": [
    "\"\"\" train['income_total'] = train['income_total'].replace({0 : 'A', 1 : 'B', 2 : 'C', 3 : 'D'})\n",
    "test['income_total'] = test['income_total'].replace({0 : 'A', 1 : 'B', 2 : 'C', 3 : 'D'}) \"\"\""
   ]
  },
  {
   "cell_type": "code",
   "execution_count": 376,
   "metadata": {},
   "outputs": [],
   "source": [
    "from sklearn.preprocessing import MinMaxScaler\n",
    "\n",
    "scaler = MinMaxScaler()\n",
    "\n",
    "train['income_total'] = scaler.fit_transform(train['income_total'].values.reshape(-1,1))\n",
    "test['income_total'] = scaler.transform(test['income_total'].values.reshape(-1,1))"
   ]
  },
  {
   "cell_type": "code",
   "execution_count": 377,
   "metadata": {},
   "outputs": [
    {
     "data": {
      "text/plain": [
       "array([0.24358974, 0.30769231, 0.12071795, ..., 0.75641026, 0.43589744,\n",
       "       0.69230769])"
      ]
     },
     "execution_count": 377,
     "metadata": {},
     "output_type": "execute_result"
    }
   ],
   "source": [
    "test['income_total'].values"
   ]
  },
  {
   "cell_type": "code",
   "execution_count": 1003,
   "metadata": {},
   "outputs": [
    {
     "data": {
      "text/plain": [
       "\" scaler.fit(test['income_total'].values.reshape(-1,1))\\ntest['income_total'] = scaler.transform(test['income_total'].values.reshape(-1,1)) \""
      ]
     },
     "execution_count": 1003,
     "metadata": {},
     "output_type": "execute_result"
    }
   ],
   "source": [
    "\"\"\" scaler.fit(test['income_total'].values.reshape(-1,1))\n",
    "test['income_total'] = scaler.transform(test['income_total'].values.reshape(-1,1)) \"\"\""
   ]
  },
  {
   "cell_type": "markdown",
   "metadata": {},
   "source": [
    "## Gender, Car, Reality"
   ]
  },
  {
   "cell_type": "code",
   "execution_count": 1004,
   "metadata": {},
   "outputs": [
    {
     "data": {
      "text/plain": [
       "\" train['gender'] = train['gender'].replace(['F','M'],[0,1])\\ntest['gender'] = test['gender'].replace(['F','M'],[0,1])\\nprint('gender :')\\nprint(train['gender'].value_counts())\\nprint('--------------')\\n\\nprint('Having a car or not : ')\\ntrain['car'] = train['car'].replace(['N','Y'],[0,1])\\ntest['car'] = test['car'].replace(['N','Y'],[0,1])\\nprint(train['car'].value_counts())\\nprint('--------------')\\n\\nprint('Having house reality or not: ')\\ntrain['reality'] = train['reality'].replace(['N','Y'],[0,1])\\ntest['reality'] = test['reality'].replace(['N','Y'],[0,1])\\nprint(train['reality'].value_counts())\\nprint('--------------') \""
      ]
     },
     "execution_count": 1004,
     "metadata": {},
     "output_type": "execute_result"
    }
   ],
   "source": [
    "\"\"\" train['gender'] = train['gender'].replace(['F','M'],[0,1])\n",
    "test['gender'] = test['gender'].replace(['F','M'],[0,1])\n",
    "print('gender :')\n",
    "print(train['gender'].value_counts())\n",
    "print('--------------')\n",
    "\n",
    "print('Having a car or not : ')\n",
    "train['car'] = train['car'].replace(['N','Y'],[0,1])\n",
    "test['car'] = test['car'].replace(['N','Y'],[0,1])\n",
    "print(train['car'].value_counts())\n",
    "print('--------------')\n",
    "\n",
    "print('Having house reality or not: ')\n",
    "train['reality'] = train['reality'].replace(['N','Y'],[0,1])\n",
    "test['reality'] = test['reality'].replace(['N','Y'],[0,1])\n",
    "print(train['reality'].value_counts())\n",
    "print('--------------') \"\"\""
   ]
  },
  {
   "cell_type": "markdown",
   "metadata": {},
   "source": [
    "## DAYS_BIRTH"
   ]
  },
  {
   "cell_type": "code",
   "execution_count": 378,
   "metadata": {},
   "outputs": [],
   "source": [
    "train['DAYS_BIRTH'] = (train['DAYS_BIRTH'].abs()/365).astype(int)\n",
    "test['DAYS_BIRTH'] = (test['DAYS_BIRTH'].abs()/365).astype(int)"
   ]
  },
  {
   "cell_type": "code",
   "execution_count": 379,
   "metadata": {},
   "outputs": [
    {
     "data": {
      "text/plain": [
       "<AxesSubplot:ylabel='Frequency'>"
      ]
     },
     "execution_count": 379,
     "metadata": {},
     "output_type": "execute_result"
    },
    {
     "data": {
      "image/png": "[encoded data removed]",
      "text/plain": [
       "<Figure size 864x432 with 1 Axes>"
      ]
     },
     "metadata": {
      "needs_background": "light"
     },
     "output_type": "display_data"
    }
   ],
   "source": [
    "train['DAYS_BIRTH'].plot(kind='hist')"
   ]
  },
  {
   "cell_type": "code",
   "execution_count": 1007,
   "metadata": {},
   "outputs": [],
   "source": [
    "def birth_catagory(value):\n",
    "    ep = ''\n",
    "    if value <= 30: ep = 'A'\n",
    "    elif value <= 40: ep = 'B'\n",
    "    elif value <= 50: ep = 'C'\n",
    "    elif value <= 60: ep = 'D'\n",
    "    elif value < 70: ep = 'E'\n",
    "       \n",
    "    return ep"
   ]
  },
  {
   "cell_type": "code",
   "execution_count": 1008,
   "metadata": {},
   "outputs": [],
   "source": [
    "train['DAYS_BIRTH'] = train['DAYS_BIRTH'].apply(lambda x : birth_catagory(x))\n",
    "test['DAYS_BIRTH'] = test['DAYS_BIRTH'].apply(lambda x : birth_catagory(x))"
   ]
  },
  {
   "cell_type": "code",
   "execution_count": 380,
   "metadata": {},
   "outputs": [
    {
     "data": {
      "text/plain": [
       "37    903\n",
       "27    836\n",
       "40    820\n",
       "28    809\n",
       "34    796\n",
       "39    795\n",
       "32    772\n",
       "33    753\n",
       "41    750\n",
       "38    749\n",
       "42    733\n",
       "35    724\n",
       "43    717\n",
       "30    716\n",
       "31    691\n",
       "36    686\n",
       "46    674\n",
       "29    671\n",
       "44    671\n",
       "47    654\n",
       "48    631\n",
       "51    625\n",
       "54    619\n",
       "57    611\n",
       "50    593\n",
       "59    587\n",
       "56    586\n",
       "60    584\n",
       "45    577\n",
       "53    564\n",
       "58    554\n",
       "49    542\n",
       "52    539\n",
       "55    461\n",
       "62    454\n",
       "63    396\n",
       "61    389\n",
       "26    388\n",
       "64    386\n",
       "25    358\n",
       "24    271\n",
       "65    240\n",
       "66    199\n",
       "23    159\n",
       "22    109\n",
       "67     85\n",
       "68     23\n",
       "21      7\n",
       "Name: DAYS_BIRTH, dtype: int64"
      ]
     },
     "execution_count": 380,
     "metadata": {},
     "output_type": "execute_result"
    }
   ],
   "source": [
    "train['DAYS_BIRTH'].value_counts()"
   ]
  },
  {
   "cell_type": "markdown",
   "metadata": {},
   "source": [
    "## family_size"
   ]
  },
  {
   "cell_type": "code",
   "execution_count": 381,
   "metadata": {},
   "outputs": [
    {
     "data": {
      "text/plain": [
       "2.0     14106\n",
       "1.0      5109\n",
       "3.0      4632\n",
       "4.0      2260\n",
       "5.0       291\n",
       "6.0        44\n",
       "7.0         9\n",
       "15.0        3\n",
       "9.0         2\n",
       "20.0        1\n",
       "Name: family_size, dtype: int64"
      ]
     },
     "execution_count": 381,
     "metadata": {},
     "output_type": "execute_result"
    }
   ],
   "source": [
    "train['family_size'].value_counts()"
   ]
  },
  {
   "cell_type": "code",
   "execution_count": 382,
   "metadata": {},
   "outputs": [
    {
     "data": {
      "text/plain": [
       "2.0    5357\n",
       "1.0    1878\n",
       "3.0    1789\n",
       "4.0     846\n",
       "5.0     106\n",
       "6.0      14\n",
       "7.0      10\n",
       "Name: family_size, dtype: int64"
      ]
     },
     "execution_count": 382,
     "metadata": {},
     "output_type": "execute_result"
    }
   ],
   "source": [
    "test['family_size'].value_counts()"
   ]
  },
  {
   "cell_type": "code",
   "execution_count": 383,
   "metadata": {},
   "outputs": [],
   "source": [
    "train['family_size'] = train['family_size'].replace([5,6,7,8,9,10,11,12,13,14,15,16,17,18,19,20], 4)\n",
    "test['family_size'] = test['family_size'].replace([5,6,7,8,9,10,11,12,13,14,15,16,17,18,19,20], 4)"
   ]
  },
  {
   "cell_type": "code",
   "execution_count": 384,
   "metadata": {},
   "outputs": [],
   "source": [
    "train['family_size'] = train['family_size'].replace({1 : 'A', 2 : 'B', 3 : 'C', 4 : 'D'})\n",
    "test['family_size'] = test['family_size'].replace({1 : 'A', 2 : 'B', 3 : 'C', 4 : 'D'})"
   ]
  },
  {
   "cell_type": "code",
   "execution_count": 385,
   "metadata": {},
   "outputs": [
    {
     "data": {
      "text/plain": [
       "B    14106\n",
       "A     5109\n",
       "C     4632\n",
       "D     2610\n",
       "Name: family_size, dtype: int64"
      ]
     },
     "execution_count": 385,
     "metadata": {},
     "output_type": "execute_result"
    }
   ],
   "source": [
    "train['family_size'].value_counts()"
   ]
  },
  {
   "cell_type": "markdown",
   "metadata": {},
   "source": [
    "## work_phone, phone, email, FLAG_MOBIL"
   ]
  },
  {
   "cell_type": "code",
   "execution_count": 386,
   "metadata": {},
   "outputs": [
    {
     "name": "stdout",
     "output_type": "stream",
     "text": [
      "work_phone :\n",
      "N    20511\n",
      "Y     5946\n",
      "Name: work_phone, dtype: int64\n",
      "--------------\n",
      "N    18672\n",
      "Y     7785\n",
      "Name: phone, dtype: int64\n",
      "--------------\n",
      "N    24042\n",
      "Y     2415\n",
      "Name: email, dtype: int64\n",
      "--------------\n"
     ]
    }
   ],
   "source": [
    "train['work_phone'] = train['work_phone'].replace([0,1], ['N','Y'])\n",
    "test['work_phone'] = test['work_phone'].replace([0,1], ['N','Y'])\n",
    "print('work_phone :')\n",
    "print(train['work_phone'].value_counts())\n",
    "print('--------------')\n",
    "\n",
    "train['phone'] = train['phone'].replace([0,1], ['N','Y'])\n",
    "test['phone'] = test['phone'].replace([0,1], ['N','Y'])\n",
    "print(train['phone'].value_counts())\n",
    "print('--------------')\n",
    "\n",
    "\n",
    "train['email'] = train['email'].replace([0,1], ['N','Y'])\n",
    "test['email'] = test['email'].replace([0,1], ['N','Y'])\n",
    "print(train['email'].value_counts())\n",
    "print('--------------')"
   ]
  },
  {
   "cell_type": "markdown",
   "metadata": {},
   "source": [
    "## child_num"
   ]
  },
  {
   "cell_type": "code",
   "execution_count": 387,
   "metadata": {},
   "outputs": [
    {
     "data": {
      "text/plain": [
       "0     18340\n",
       "1      5386\n",
       "2      2362\n",
       "3       306\n",
       "4        47\n",
       "5        10\n",
       "14        3\n",
       "7         2\n",
       "19        1\n",
       "Name: child_num, dtype: int64"
      ]
     },
     "execution_count": 387,
     "metadata": {},
     "output_type": "execute_result"
    }
   ],
   "source": [
    "train['child_num'].value_counts()"
   ]
  },
  {
   "cell_type": "code",
   "execution_count": 388,
   "metadata": {},
   "outputs": [
    {
     "data": {
      "text/plain": [
       "0    6861\n",
       "1    2106\n",
       "2     894\n",
       "3     113\n",
       "4      16\n",
       "5      10\n",
       "Name: child_num, dtype: int64"
      ]
     },
     "execution_count": 388,
     "metadata": {},
     "output_type": "execute_result"
    }
   ],
   "source": [
    "test['child_num'].value_counts()"
   ]
  },
  {
   "cell_type": "code",
   "execution_count": 389,
   "metadata": {},
   "outputs": [],
   "source": [
    "def child_category(value):\n",
    "    ep = ''\n",
    "    if value == 0: ep = 'Z'\n",
    "    elif value == 1: ep = 'O'\n",
    "    elif value == 2: ep = 'T'\n",
    "    elif value >= 3: ep = 'M'\n",
    "    \n",
    "    return ep"
   ]
  },
  {
   "cell_type": "code",
   "execution_count": 390,
   "metadata": {},
   "outputs": [],
   "source": [
    "train['child_num'] = train['child_num'].apply(lambda x : child_category(x))\n",
    "test['child_num'] = test['child_num'].apply(lambda x : child_category(x))"
   ]
  },
  {
   "cell_type": "code",
   "execution_count": 391,
   "metadata": {},
   "outputs": [
    {
     "data": {
      "text/plain": [
       "Z    18340\n",
       "O     5386\n",
       "T     2362\n",
       "M      369\n",
       "Name: child_num, dtype: int64"
      ]
     },
     "execution_count": 391,
     "metadata": {},
     "output_type": "execute_result"
    }
   ],
   "source": [
    "train['child_num'].value_counts()"
   ]
  },
  {
   "cell_type": "markdown",
   "metadata": {},
   "source": [
    "# **데이터 중간 저장**"
   ]
  },
  {
   "cell_type": "code",
   "execution_count": 1021,
   "metadata": {},
   "outputs": [
    {
     "data": {
      "text/plain": [
       "\" train.to_csv('../Data/Catdata.csv')\\ntest.to_csv('../Data/Cattest.csv') \""
      ]
     },
     "execution_count": 1021,
     "metadata": {},
     "output_type": "execute_result"
    }
   ],
   "source": [
    "\"\"\" train.to_csv('../Data/Catdata.csv')\n",
    "test.to_csv('../Data/Cattest.csv') \"\"\"\n"
   ]
  },
  {
   "cell_type": "code",
   "execution_count": 392,
   "metadata": {},
   "outputs": [
    {
     "data": {
      "text/plain": [
       "KMeans(n_clusters=3)"
      ]
     },
     "execution_count": 392,
     "metadata": {},
     "output_type": "execute_result"
    }
   ],
   "source": [
    "from sklearn.cluster import KMeans\n",
    "\n",
    "train['occyp_type'] = train['occyp_type'].fillna('Secret')\n",
    "test['occyp_type'] = test['occyp_type'].fillna('Secret')\n",
    "\n",
    "subset = pd.crosstab(train['occyp_type'] , train['income_total'])\n",
    "subset['Total'] = subset.sum(axis=1)\n",
    "\n",
    "subset = subset.div(subset['Total'].values, axis = 0)\n",
    "subset = subset.drop('Total', axis = 1)\n",
    "subset = subset.drop('Secret', axis = 0)\n",
    "\n",
    "kmeans = KMeans(n_clusters= 3)\n",
    "kmeans.fit(subset)"
   ]
  },
  {
   "cell_type": "code",
   "execution_count": 393,
   "metadata": {},
   "outputs": [],
   "source": [
    "subset['Cluster'] = kmeans.labels_ "
   ]
  },
  {
   "cell_type": "code",
   "execution_count": 394,
   "metadata": {},
   "outputs": [
    {
     "data": {
      "text/plain": [
       "Index(['Accountants', 'Cleaning staff', 'Cooking staff', 'Core staff',\n",
       "       'Drivers', 'HR staff', 'High skill tech staff', 'IT staff', 'Laborers',\n",
       "       'Low-skill Laborers', 'Managers', 'Medicine staff',\n",
       "       'Private service staff', 'Sales staff', 'Secretaries',\n",
       "       'Security staff'],\n",
       "      dtype='object', name='occyp_type')"
      ]
     },
     "execution_count": 394,
     "metadata": {},
     "output_type": "execute_result"
    }
   ],
   "source": [
    "subset.loc[subset['Cluster'] == 0].index"
   ]
  },
  {
   "cell_type": "code",
   "execution_count": 395,
   "metadata": {},
   "outputs": [],
   "source": [
    "train['occyp_type'] = train['occyp_type'].replace('Secret' , 'A')\n",
    "train['occyp_type'] = train['occyp_type'].replace(['Accountants', 'Core staff', 'Drivers', 'HR staff','High skill tech staff', 'IT staff', 'Laborers','Private service staff', 'Sales staff', 'Security staff'],'B')\n",
    "train['occyp_type'] = train['occyp_type'].replace(['Cleaning staff', 'Cooking staff', 'Low-skill Laborers','Medicine staff', 'Secretaries', 'Waiters/barmen staff'], 'C')\n",
    "train['occyp_type'] = train['occyp_type'].replace(['Managers','Realty agents'], 'D')"
   ]
  },
  {
   "cell_type": "code",
   "execution_count": 396,
   "metadata": {},
   "outputs": [],
   "source": [
    "test['occyp_type'] = test['occyp_type'].replace('Secret', 'A')\n",
    "test['occyp_type'] = test['occyp_type'].replace(['Accountants', 'Core staff', 'Drivers', 'HR staff','High skill tech staff', 'IT staff', 'Laborers','Private service staff', 'Sales staff', 'Security staff'],'B')\n",
    "test['occyp_type'] = test['occyp_type'].replace(['Cleaning staff', 'Cooking staff', 'Low-skill Laborers','Medicine staff', 'Secretaries', 'Waiters/barmen staff'], 'C')\n",
    "test['occyp_type'] = test['occyp_type'].replace(['Managers','Realty agents'], 'D')"
   ]
  },
  {
   "cell_type": "code",
   "execution_count": 397,
   "metadata": {},
   "outputs": [
    {
     "data": {
      "text/plain": [
       "B    13984\n",
       "A     8171\n",
       "D     2230\n",
       "C     2072\n",
       "Name: occyp_type, dtype: int64"
      ]
     },
     "execution_count": 397,
     "metadata": {},
     "output_type": "execute_result"
    }
   ],
   "source": [
    "train['occyp_type'].value_counts()"
   ]
  },
  {
   "cell_type": "code",
   "execution_count": 398,
   "metadata": {},
   "outputs": [
    {
     "data": {
      "text/plain": [
       "B    5146\n",
       "A    3152\n",
       "D     861\n",
       "C     841\n",
       "Name: occyp_type, dtype: int64"
      ]
     },
     "execution_count": 398,
     "metadata": {},
     "output_type": "execute_result"
    }
   ],
   "source": [
    "test['occyp_type'].value_counts()"
   ]
  },
  {
   "cell_type": "code",
   "execution_count": 399,
   "metadata": {},
   "outputs": [
    {
     "name": "stdout",
     "output_type": "stream",
     "text": [
      "<class 'pandas.core.frame.DataFrame'>\n",
      "RangeIndex: 26457 entries, 0 to 26456\n",
      "Data columns (total 20 columns):\n",
      " #   Column         Non-Null Count  Dtype  \n",
      "---  ------         --------------  -----  \n",
      " 0   index          26457 non-null  int64  \n",
      " 1   gender         26457 non-null  object \n",
      " 2   car            26457 non-null  object \n",
      " 3   reality        26457 non-null  object \n",
      " 4   child_num      26457 non-null  object \n",
      " 5   income_total   26457 non-null  float64\n",
      " 6   income_type    26457 non-null  object \n",
      " 7   edu_type       26457 non-null  object \n",
      " 8   family_type    26457 non-null  object \n",
      " 9   house_type     26457 non-null  object \n",
      " 10  DAYS_BIRTH     26457 non-null  int32  \n",
      " 11  DAYS_EMPLOYED  26457 non-null  float64\n",
      " 12  FLAG_MOBIL     26457 non-null  object \n",
      " 13  work_phone     26457 non-null  object \n",
      " 14  phone          26457 non-null  object \n",
      " 15  email          26457 non-null  object \n",
      " 16  occyp_type     26457 non-null  object \n",
      " 17  family_size    26457 non-null  object \n",
      " 18  begin_month    26457 non-null  float64\n",
      " 19  credit         26457 non-null  float64\n",
      "dtypes: float64(4), int32(1), int64(1), object(14)\n",
      "memory usage: 3.9+ MB\n"
     ]
    }
   ],
   "source": [
    "train.info()"
   ]
  },
  {
   "cell_type": "markdown",
   "metadata": {},
   "source": [
    "## occyp_type"
   ]
  },
  {
   "cell_type": "code",
   "execution_count": 1032,
   "metadata": {},
   "outputs": [
    {
     "data": {
      "text/plain": [
       "\" train = train.drop('occyp_type', axis=1)\\ntest = test.drop('occyp_type', axis=1) \""
      ]
     },
     "execution_count": 1032,
     "metadata": {},
     "output_type": "execute_result"
    }
   ],
   "source": [
    "\"\"\" train = train.drop('occyp_type', axis=1)\n",
    "test = test.drop('occyp_type', axis=1) \"\"\""
   ]
  },
  {
   "cell_type": "markdown",
   "metadata": {},
   "source": [
    "## 원핫인코딩"
   ]
  },
  {
   "cell_type": "code",
   "execution_count": 400,
   "metadata": {},
   "outputs": [],
   "source": [
    "train_x=train.drop(['credit','index'], axis=1)\n",
    "train_y=train[['credit']]\n",
    "test_x=test.drop('index', axis =1)"
   ]
  },
  {
   "cell_type": "code",
   "execution_count": 401,
   "metadata": {},
   "outputs": [],
   "source": [
    "train_x = pd.get_dummies(train_x, drop_first= True)\n",
    "test_x = pd.get_dummies(test_x, drop_first= True)"
   ]
  },
  {
   "cell_type": "code",
   "execution_count": 956,
   "metadata": {},
   "outputs": [
    {
     "data": {
      "text/plain": [
       "' train_x = pd.get_dummies(train_x, drop_first= True)\\ntest_x = pd.get_dummies(test_x, drop_first= True) '"
      ]
     },
     "execution_count": 956,
     "metadata": {},
     "output_type": "execute_result"
    }
   ],
   "source": [
    "\"\"\" train_x = pd.get_dummies(train_x, drop_first= True)\n",
    "test_x = pd.get_dummies(test_x, drop_first= True) \"\"\""
   ]
  },
  {
   "cell_type": "code",
   "execution_count": 402,
   "metadata": {},
   "outputs": [
    {
     "name": "stdout",
     "output_type": "stream",
     "text": [
      "(26457, 39) (10000, 39) (26457, 1)\n"
     ]
    }
   ],
   "source": [
    "print(train_x.shape, test_x.shape, train_y.shape)"
   ]
  },
  {
   "cell_type": "markdown",
   "metadata": {},
   "source": [
    "## 모델링"
   ]
  },
  {
   "cell_type": "code",
   "execution_count": 403,
   "metadata": {},
   "outputs": [
    {
     "name": "stdout",
     "output_type": "stream",
     "text": [
      "Train set: \n",
      "(19842, 39)\n",
      "(19842, 1)\n",
      "===========\n",
      "Validation set: \n",
      "(6615, 39)\n",
      "(6615, 1)\n",
      "log_loss: 1.0814809663129106\n"
     ]
    }
   ],
   "source": [
    "from sklearn.ensemble import RandomForestClassifier\n",
    "from sklearn.metrics import accuracy_score, log_loss\n",
    "from sklearn.metrics import f1_score\n",
    "from tensorflow.keras.utils import to_categorical\n",
    "\n",
    "X_train, X_val, y_train, y_val = train_test_split(train_x, train_y, \n",
    "                                                    stratify=train_y, test_size=0.25,\n",
    "                                                    random_state = 2021)\n",
    "\n",
    "print(\"Train set: \")\n",
    "print(X_train.shape)\n",
    "print(y_train.shape)\n",
    "print(\"===========\")\n",
    "print(\"Validation set: \")\n",
    "print(X_val.shape)\n",
    "print(y_val.shape)\n",
    "\n",
    "\n",
    "ada_pred=AdaBoostClassifier()\n",
    "ada_pred.fit(X_train, y_train)\n",
    "y_pred=ada_pred.predict_proba(X_val)\n",
    "\n",
    "print(f\"log_loss: {log_loss(to_categorical(y_val['credit']), y_pred)}\")"
   ]
  },
  {
   "cell_type": "code",
   "execution_count": 404,
   "metadata": {},
   "outputs": [
    {
     "name": "stdout",
     "output_type": "stream",
     "text": [
      "log_loss: 1.0121941455480854\n"
     ]
    }
   ],
   "source": [
    "rf_pred=RandomForestClassifier(random_state=2021)\n",
    "rf_pred.fit(X_train, y_train)\n",
    "y_pred=rf_pred.predict_proba(X_val)\n",
    "\n",
    "print(f\"log_loss: {log_loss(to_categorical(y_val['credit']), y_pred)}\")"
   ]
  },
  {
   "cell_type": "code",
   "execution_count": 405,
   "metadata": {},
   "outputs": [
    {
     "name": "stdout",
     "output_type": "stream",
     "text": [
      "log_loss: 0.793851547675101\n"
     ]
    }
   ],
   "source": [
    "gb_pred=GradientBoostingClassifier(random_state=2021)\n",
    "gb_pred.fit(X_train, y_train)\n",
    "y_pred=gb_pred.predict_proba(X_val)\n",
    "\n",
    "print(f\"log_loss: {log_loss(to_categorical(y_val['credit']), y_pred)}\")"
   ]
  },
  {
   "cell_type": "code",
   "execution_count": 406,
   "metadata": {},
   "outputs": [
    {
     "name": "stdout",
     "output_type": "stream",
     "text": [
      "log_loss: 0.7628095811501764\n"
     ]
    }
   ],
   "source": [
    "cat_pred=CatBoostClassifier(random_state=2021, learning_rate = 0.11, iterations = 530)\n",
    "cat_pred.fit(X_train, y_train, silent=True)\n",
    "y_pred=cat_pred.predict_proba(X_val)\n",
    "\n",
    "print(f\"log_loss: {log_loss(to_categorical(y_val['credit']), y_pred)}\")"
   ]
  },
  {
   "cell_type": "code",
   "execution_count": 407,
   "metadata": {},
   "outputs": [
    {
     "name": "stdout",
     "output_type": "stream",
     "text": [
      "log_loss: 0.7601919120634574\n"
     ]
    }
   ],
   "source": [
    "LGB_pred=LGBMClassifier(random_state=2021)\n",
    "LGB_pred.fit(X_train, y_train)\n",
    "y_pred=LGB_pred.predict_proba(X_val)\n",
    "\n",
    "print(f\"log_loss: {log_loss(to_categorical(y_val['credit']), y_pred)}\")"
   ]
  },
  {
   "cell_type": "code",
   "execution_count": 408,
   "metadata": {},
   "outputs": [
    {
     "name": "stdout",
     "output_type": "stream",
     "text": [
      "FOLD 0 : logloss:0.7617066036610983\n",
      "FOLD 1 : logloss:0.7671755927507072\n",
      "FOLD 2 : logloss:0.7613232225613146\n",
      "FOLD 3 : logloss:0.7539986815666749\n",
      "Mean:0.7610510251349487\n"
     ]
    }
   ],
   "source": [
    "from sklearn.model_selection import KFold, StratifiedKFold\n",
    "\n",
    "def run_kfold(clf):\n",
    "    folds=StratifiedKFold(n_splits=4, shuffle=True, random_state=2021)\n",
    "    outcomes = []\n",
    "    sub=np.zeros((test_x.shape[0], 3))  \n",
    "    for n_fold, (train_index, val_index) in enumerate(folds.split(train_x, train_y)):\n",
    "        X_train, X_val = train_x.iloc[train_index], train_x.iloc[val_index]\n",
    "        y_train, y_val = train_y.iloc[train_index], train_y.iloc[val_index]\n",
    "        clf.fit(X_train, y_train)\n",
    "        \n",
    "        predictions=clf.predict_proba(X_val)\n",
    "        \n",
    "        logloss=log_loss(to_categorical(y_val['credit']), predictions)\n",
    "        outcomes.append(logloss)\n",
    "        print(f\"FOLD {n_fold} : logloss:{logloss}\")\n",
    "        \n",
    "        sub+=clf.predict_proba(test_x)\n",
    "        \n",
    "        \n",
    "    mean_outcome=np.mean(outcomes)\n",
    "    \n",
    "    print(\"Mean:{}\".format(mean_outcome))\n",
    "    return sub/folds.n_splits\n",
    "\n",
    "my_submission = run_kfold(LGB_pred)\n",
    "\n",
    "# Mean:0.7951142203836787 스케일링한거\n",
    "# Mean:0.8004762122144473 안한거"
   ]
  },
  {
   "cell_type": "code",
   "execution_count": 202,
   "metadata": {},
   "outputs": [],
   "source": [
    "X_train.to_csv('../Data/LJH_X_train_1.csv', index=False)"
   ]
  },
  {
   "cell_type": "code",
   "execution_count": 409,
   "metadata": {},
   "outputs": [
    {
     "data": {
      "text/plain": [
       "<AxesSubplot:>"
      ]
     },
     "execution_count": 409,
     "metadata": {},
     "output_type": "execute_result"
    },
    {
     "data": {
      "image/png": "[encoded data removed]",
      "text/plain": [
       "<Figure size 1152x864 with 1 Axes>"
      ]
     },
     "metadata": {
      "needs_background": "light"
     },
     "output_type": "display_data"
    }
   ],
   "source": [
    "plt.rcParams['figure.figsize'] = (16,12)\n",
    "\n",
    "pd.Series(cat_pred.feature_importances_, X_train.columns).plot(kind = 'barh')"
   ]
  },
  {
   "cell_type": "code",
   "execution_count": 410,
   "metadata": {},
   "outputs": [
    {
     "data": {
      "image/png": "[encoded data removed]",
      "text/plain": [
       "<Figure size 1152x864 with 2 Axes>"
      ]
     },
     "metadata": {
      "needs_background": "light"
     },
     "output_type": "display_data"
    }
   ],
   "source": [
    "from sklearn.metrics import plot_confusion_matrix\n",
    "plot_confusion_matrix(cat_pred, X_val, y_val)\n",
    "plt.show()"
   ]
  },
  {
   "cell_type": "code",
   "execution_count": 282,
   "metadata": {},
   "outputs": [],
   "source": [
    "submission.loc[:,1:] = my_submission"
   ]
  },
  {
   "cell_type": "code",
   "execution_count": 283,
   "metadata": {},
   "outputs": [
    {
     "data": {
      "text/html": [
       "<div>\n",
       "<style scoped>\n",
       "    .dataframe tbody tr th:only-of-type {\n",
       "        vertical-align: middle;\n",
       "    }\n",
       "\n",
       "    .dataframe tbody tr th {\n",
       "        vertical-align: top;\n",
       "    }\n",
       "\n",
       "    .dataframe thead th {\n",
       "        text-align: right;\n",
       "    }\n",
       "</style>\n",
       "<table border=\"1\" class=\"dataframe\">\n",
       "  <thead>\n",
       "    <tr style=\"text-align: right;\">\n",
       "      <th></th>\n",
       "      <th>index</th>\n",
       "      <th>0</th>\n",
       "      <th>1</th>\n",
       "      <th>2</th>\n",
       "    </tr>\n",
       "  </thead>\n",
       "  <tbody>\n",
       "    <tr>\n",
       "      <th>0</th>\n",
       "      <td>26457</td>\n",
       "      <td>0.117302</td>\n",
       "      <td>0.149377</td>\n",
       "      <td>0.733321</td>\n",
       "    </tr>\n",
       "    <tr>\n",
       "      <th>1</th>\n",
       "      <td>26458</td>\n",
       "      <td>0.296342</td>\n",
       "      <td>0.076629</td>\n",
       "      <td>0.627029</td>\n",
       "    </tr>\n",
       "    <tr>\n",
       "      <th>2</th>\n",
       "      <td>26459</td>\n",
       "      <td>0.049856</td>\n",
       "      <td>0.057987</td>\n",
       "      <td>0.892157</td>\n",
       "    </tr>\n",
       "    <tr>\n",
       "      <th>3</th>\n",
       "      <td>26460</td>\n",
       "      <td>0.125001</td>\n",
       "      <td>0.115281</td>\n",
       "      <td>0.759718</td>\n",
       "    </tr>\n",
       "    <tr>\n",
       "      <th>4</th>\n",
       "      <td>26461</td>\n",
       "      <td>0.051359</td>\n",
       "      <td>0.105162</td>\n",
       "      <td>0.843479</td>\n",
       "    </tr>\n",
       "    <tr>\n",
       "      <th>...</th>\n",
       "      <td>...</td>\n",
       "      <td>...</td>\n",
       "      <td>...</td>\n",
       "      <td>...</td>\n",
       "    </tr>\n",
       "    <tr>\n",
       "      <th>9995</th>\n",
       "      <td>36452</td>\n",
       "      <td>0.113246</td>\n",
       "      <td>0.133189</td>\n",
       "      <td>0.753565</td>\n",
       "    </tr>\n",
       "    <tr>\n",
       "      <th>9996</th>\n",
       "      <td>36453</td>\n",
       "      <td>0.072651</td>\n",
       "      <td>0.164655</td>\n",
       "      <td>0.762694</td>\n",
       "    </tr>\n",
       "    <tr>\n",
       "      <th>9997</th>\n",
       "      <td>36454</td>\n",
       "      <td>0.051462</td>\n",
       "      <td>0.092967</td>\n",
       "      <td>0.855571</td>\n",
       "    </tr>\n",
       "    <tr>\n",
       "      <th>9998</th>\n",
       "      <td>36455</td>\n",
       "      <td>0.065092</td>\n",
       "      <td>0.129075</td>\n",
       "      <td>0.805833</td>\n",
       "    </tr>\n",
       "    <tr>\n",
       "      <th>9999</th>\n",
       "      <td>36456</td>\n",
       "      <td>0.063161</td>\n",
       "      <td>0.104935</td>\n",
       "      <td>0.831904</td>\n",
       "    </tr>\n",
       "  </tbody>\n",
       "</table>\n",
       "<p>10000 rows × 4 columns</p>\n",
       "</div>"
      ],
      "text/plain": [
       "      index         0         1         2\n",
       "0     26457  0.117302  0.149377  0.733321\n",
       "1     26458  0.296342  0.076629  0.627029\n",
       "2     26459  0.049856  0.057987  0.892157\n",
       "3     26460  0.125001  0.115281  0.759718\n",
       "4     26461  0.051359  0.105162  0.843479\n",
       "...     ...       ...       ...       ...\n",
       "9995  36452  0.113246  0.133189  0.753565\n",
       "9996  36453  0.072651  0.164655  0.762694\n",
       "9997  36454  0.051462  0.092967  0.855571\n",
       "9998  36455  0.065092  0.129075  0.805833\n",
       "9999  36456  0.063161  0.104935  0.831904\n",
       "\n",
       "[10000 rows x 4 columns]"
      ]
     },
     "execution_count": 283,
     "metadata": {},
     "output_type": "execute_result"
    }
   ],
   "source": [
    "submission"
   ]
  },
  {
   "cell_type": "code",
   "execution_count": 284,
   "metadata": {},
   "outputs": [],
   "source": [
    "submission.to_csv('../Data/LJH_LGB_1.csv', index=False)"
   ]
  },
  {
   "cell_type": "code",
   "execution_count": null,
   "metadata": {},
   "outputs": [],
   "source": []
  }
 ],
 "metadata": {
  "interpreter": {
   "hash": "71b59b5ba49ad06bb2a011e750699e3983d230921f30bf7f37eb3a01ae69aa26"
  },
  "kernelspec": {
   "display_name": "Python 3.9.6 64-bit",
   "name": "python3"
  },
  "language_info": {
   "codemirror_mode": {
    "name": "ipython",
    "version": 3
   },
   "file_extension": ".py",
   "mimetype": "text/x-python",
   "name": "python",
   "nbconvert_exporter": "python",
   "pygments_lexer": "ipython3",
   "version": "3.9.6"
  },
  "orig_nbformat": 4
 },
 "nbformat": 4,
 "nbformat_minor": 2
}
