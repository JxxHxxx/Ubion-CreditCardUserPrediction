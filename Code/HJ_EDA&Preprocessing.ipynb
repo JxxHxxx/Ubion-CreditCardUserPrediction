{
 "cells": [
  {
   "cell_type": "markdown",
   "metadata": {},
   "source": [
    "# **주제**  \n",
    "### : 신용카드 사용자 데이터를 보고 사용자의 대금 연체 정도를 예측하는 알고리즘 개발 "
   ]
  },
  {
   "cell_type": "markdown",
   "metadata": {},
   "source": [
    "# **배경 및 대회 설명**\n",
    "### - 신용카드사는 신용카드 신청자가 제출한 개인정보와 데이터를 활용해 신용 점수를 산정  \n",
    "### - 신용카드사는 이 신용 점수를 활용해 신청자의 향후 채무 불이행과 신용카드 대금 연체 가능성을 예측  \n",
    "### - 목표 : 신용카드 사용자들의 개인 신상정보 데이터로 사용자의 신용카드 대금 연체 정도를 예측"
   ]
  },
  {
   "cell_type": "markdown",
   "metadata": {},
   "source": [
    "---"
   ]
  },
  {
   "cell_type": "markdown",
   "metadata": {},
   "source": [
    "# **1. 변수 설명**"
   ]
  },
  {
   "cell_type": "markdown",
   "metadata": {},
   "source": [
    "- index<br>\n",
    "- gender: 성별<br>\n",
    "- car: 차량 소유 여부<br>\n",
    "- reality: 부동산 소유 여부<br>\n",
    "- child_num: 자녀 수<br>\n",
    "- income_total: 연간 소득<br>\n",
    "- income_type: 소득 분류<br>\n",
    "\t['Commercial associate', 'Working', 'State servant', 'Pensioner', 'Student']<br>\n",
    "- edu_type: 교육 수준<br>\n",
    "\t['Higher education' ,'Secondary / secondary special', 'Incomplete higher', 'Lower secondary', 'Academic degree']\n",
    "- family_type: 결혼 여부<br>\n",
    "\t['Married', 'Civil marriage', 'Separated', 'Single / not married', 'Widow']<br>\n",
    "- house_type: 생활 방식<br>\n",
    "\t['Municipal apartment', 'House / apartment', 'With parents', 'Co-op apartment', 'Rented apartment', 'Office apartment']<br>\n",
    "- DAYS_BIRTH: 출생일<br>\n",
    "\t=> 데이터 수집 당시 (0)부터 역으로 셈, 즉, -1은 데이터 수집일 하루 전에 태어났음을 의미<br>\n",
    "- DAYS_EMPLOYED: 업무 시작일<br>\n",
    "\t=> 데이터 수집 당시 (0)부터 역으로 셈, 즉, -1은 데이터 수집일 하루 전부터 일을 시작함을 의미<br>\n",
    "\t=> 양수 값은 고용되지 않은 상태를 의미함<br>\n",
    "- FLAG_MOBIL: 핸드폰 소유 여부<br>\n",
    "- work_phone: 업무용 전화 소유 여부<br>\n",
    "- phone: 전화 소유 여부<br>\n",
    "- email: 이메일 소유 여부<br>\n",
    "- occyp_type: 직업 유형<br>\n",
    "\t[nan, 'Laborers', 'Managers', 'Sales staff','High skill tech staff', 'Core staff', 'Drivers', 'Medicine staff',<br>\n",
    "       'Accountants', 'Realty agents', 'Security staff', 'Cleaning staff','Private service staff', 'Cooking staff', 'Secretaries',<br>\n",
    "       'HR staff', 'IT staff', 'Low-skill Laborers','Waiters/barmen staff']<br>\t\t\t\t\t\t\t\t\t\t\t\n",
    "- family_size: 가족 규모<br>\n",
    "- begin_month: 신용카드 발급 월<br>\n",
    "\t=> 데이터 수집 당시 (0)부터 역으로 셈, 즉, -1은 데이터 수집일 한 달 전에 신용카드를 발급함을 의미<br>\n",
    "- credit: 사용자의 신용카드 대금 연체를 기준으로 한 신용도<br>\n",
    "\t=> 낮을 수록 높은 신용의 신용카드 사용자를 의미함"
   ]
  },
  {
   "cell_type": "markdown",
   "metadata": {},
   "source": [
    "### - FLAG_MOBIL / OCCYP_TYPE DROP"
   ]
  },
  {
   "cell_type": "markdown",
   "metadata": {},
   "source": [
    "---"
   ]
  },
  {
   "cell_type": "code",
   "execution_count": 200,
   "metadata": {},
   "outputs": [],
   "source": [
    "import pandas as pd\n",
    "import numpy as np"
   ]
  },
  {
   "cell_type": "code",
   "execution_count": 201,
   "metadata": {},
   "outputs": [],
   "source": [
    "train = pd.read_csv('../Data/train.csv')\n",
    "test = pd.read_csv('../Data/test.csv')\n",
    "submission = pd.read_csv('../Data/sample_submission.csv')\n",
    "subtrain = train"
   ]
  },
  {
   "cell_type": "code",
   "execution_count": 202,
   "metadata": {},
   "outputs": [
    {
     "name": "stdout",
     "output_type": "stream",
     "text": [
      "<class 'pandas.core.frame.DataFrame'>\n",
      "RangeIndex: 26457 entries, 0 to 26456\n",
      "Data columns (total 20 columns):\n",
      " #   Column         Non-Null Count  Dtype  \n",
      "---  ------         --------------  -----  \n",
      " 0   index          26457 non-null  int64  \n",
      " 1   gender         26457 non-null  object \n",
      " 2   car            26457 non-null  object \n",
      " 3   reality        26457 non-null  object \n",
      " 4   child_num      26457 non-null  int64  \n",
      " 5   income_total   26457 non-null  float64\n",
      " 6   income_type    26457 non-null  object \n",
      " 7   edu_type       26457 non-null  object \n",
      " 8   family_type    26457 non-null  object \n",
      " 9   house_type     26457 non-null  object \n",
      " 10  DAYS_BIRTH     26457 non-null  int64  \n",
      " 11  DAYS_EMPLOYED  26457 non-null  int64  \n",
      " 12  FLAG_MOBIL     26457 non-null  int64  \n",
      " 13  work_phone     26457 non-null  int64  \n",
      " 14  phone          26457 non-null  int64  \n",
      " 15  email          26457 non-null  int64  \n",
      " 16  occyp_type     18286 non-null  object \n",
      " 17  family_size    26457 non-null  float64\n",
      " 18  begin_month    26457 non-null  float64\n",
      " 19  credit         26457 non-null  float64\n",
      "dtypes: float64(4), int64(8), object(8)\n",
      "memory usage: 4.0+ MB\n"
     ]
    }
   ],
   "source": [
    "train.info()"
   ]
  },
  {
   "cell_type": "code",
   "execution_count": 203,
   "metadata": {},
   "outputs": [
    {
     "data": {
      "text/html": [
       "<div>\n",
       "<style scoped>\n",
       "    .dataframe tbody tr th:only-of-type {\n",
       "        vertical-align: middle;\n",
       "    }\n",
       "\n",
       "    .dataframe tbody tr th {\n",
       "        vertical-align: top;\n",
       "    }\n",
       "\n",
       "    .dataframe thead th {\n",
       "        text-align: right;\n",
       "    }\n",
       "</style>\n",
       "<table border=\"1\" class=\"dataframe\">\n",
       "  <thead>\n",
       "    <tr style=\"text-align: right;\">\n",
       "      <th></th>\n",
       "      <th>index</th>\n",
       "      <th>gender</th>\n",
       "      <th>car</th>\n",
       "      <th>reality</th>\n",
       "      <th>child_num</th>\n",
       "      <th>income_total</th>\n",
       "      <th>income_type</th>\n",
       "      <th>edu_type</th>\n",
       "      <th>family_type</th>\n",
       "      <th>house_type</th>\n",
       "      <th>DAYS_BIRTH</th>\n",
       "      <th>DAYS_EMPLOYED</th>\n",
       "      <th>FLAG_MOBIL</th>\n",
       "      <th>work_phone</th>\n",
       "      <th>phone</th>\n",
       "      <th>email</th>\n",
       "      <th>family_size</th>\n",
       "      <th>begin_month</th>\n",
       "      <th>credit</th>\n",
       "    </tr>\n",
       "  </thead>\n",
       "  <tbody>\n",
       "    <tr>\n",
       "      <th>0</th>\n",
       "      <td>0</td>\n",
       "      <td>F</td>\n",
       "      <td>N</td>\n",
       "      <td>N</td>\n",
       "      <td>0</td>\n",
       "      <td>202500.0</td>\n",
       "      <td>Commercial associate</td>\n",
       "      <td>Higher education</td>\n",
       "      <td>Married</td>\n",
       "      <td>Municipal apartment</td>\n",
       "      <td>-13899</td>\n",
       "      <td>-4709</td>\n",
       "      <td>1</td>\n",
       "      <td>0</td>\n",
       "      <td>0</td>\n",
       "      <td>0</td>\n",
       "      <td>2.0</td>\n",
       "      <td>-6.0</td>\n",
       "      <td>1.0</td>\n",
       "    </tr>\n",
       "    <tr>\n",
       "      <th>1</th>\n",
       "      <td>1</td>\n",
       "      <td>F</td>\n",
       "      <td>N</td>\n",
       "      <td>Y</td>\n",
       "      <td>1</td>\n",
       "      <td>247500.0</td>\n",
       "      <td>Commercial associate</td>\n",
       "      <td>Secondary / secondary special</td>\n",
       "      <td>Civil marriage</td>\n",
       "      <td>House / apartment</td>\n",
       "      <td>-11380</td>\n",
       "      <td>-1540</td>\n",
       "      <td>1</td>\n",
       "      <td>0</td>\n",
       "      <td>0</td>\n",
       "      <td>1</td>\n",
       "      <td>3.0</td>\n",
       "      <td>-5.0</td>\n",
       "      <td>1.0</td>\n",
       "    </tr>\n",
       "    <tr>\n",
       "      <th>2</th>\n",
       "      <td>2</td>\n",
       "      <td>M</td>\n",
       "      <td>Y</td>\n",
       "      <td>Y</td>\n",
       "      <td>0</td>\n",
       "      <td>450000.0</td>\n",
       "      <td>Working</td>\n",
       "      <td>Higher education</td>\n",
       "      <td>Married</td>\n",
       "      <td>House / apartment</td>\n",
       "      <td>-19087</td>\n",
       "      <td>-4434</td>\n",
       "      <td>1</td>\n",
       "      <td>0</td>\n",
       "      <td>1</td>\n",
       "      <td>0</td>\n",
       "      <td>2.0</td>\n",
       "      <td>-22.0</td>\n",
       "      <td>2.0</td>\n",
       "    </tr>\n",
       "    <tr>\n",
       "      <th>3</th>\n",
       "      <td>3</td>\n",
       "      <td>F</td>\n",
       "      <td>N</td>\n",
       "      <td>Y</td>\n",
       "      <td>0</td>\n",
       "      <td>202500.0</td>\n",
       "      <td>Commercial associate</td>\n",
       "      <td>Secondary / secondary special</td>\n",
       "      <td>Married</td>\n",
       "      <td>House / apartment</td>\n",
       "      <td>-15088</td>\n",
       "      <td>-2092</td>\n",
       "      <td>1</td>\n",
       "      <td>0</td>\n",
       "      <td>1</td>\n",
       "      <td>0</td>\n",
       "      <td>2.0</td>\n",
       "      <td>-37.0</td>\n",
       "      <td>0.0</td>\n",
       "    </tr>\n",
       "    <tr>\n",
       "      <th>4</th>\n",
       "      <td>4</td>\n",
       "      <td>F</td>\n",
       "      <td>Y</td>\n",
       "      <td>Y</td>\n",
       "      <td>0</td>\n",
       "      <td>157500.0</td>\n",
       "      <td>State servant</td>\n",
       "      <td>Higher education</td>\n",
       "      <td>Married</td>\n",
       "      <td>House / apartment</td>\n",
       "      <td>-15037</td>\n",
       "      <td>-2105</td>\n",
       "      <td>1</td>\n",
       "      <td>0</td>\n",
       "      <td>0</td>\n",
       "      <td>0</td>\n",
       "      <td>2.0</td>\n",
       "      <td>-26.0</td>\n",
       "      <td>2.0</td>\n",
       "    </tr>\n",
       "  </tbody>\n",
       "</table>\n",
       "</div>"
      ],
      "text/plain": [
       "   index gender car reality  child_num  income_total           income_type  \\\n",
       "0      0      F   N       N          0      202500.0  Commercial associate   \n",
       "1      1      F   N       Y          1      247500.0  Commercial associate   \n",
       "2      2      M   Y       Y          0      450000.0               Working   \n",
       "3      3      F   N       Y          0      202500.0  Commercial associate   \n",
       "4      4      F   Y       Y          0      157500.0         State servant   \n",
       "\n",
       "                        edu_type     family_type           house_type  \\\n",
       "0               Higher education         Married  Municipal apartment   \n",
       "1  Secondary / secondary special  Civil marriage    House / apartment   \n",
       "2               Higher education         Married    House / apartment   \n",
       "3  Secondary / secondary special         Married    House / apartment   \n",
       "4               Higher education         Married    House / apartment   \n",
       "\n",
       "   DAYS_BIRTH  DAYS_EMPLOYED  FLAG_MOBIL  work_phone  phone  email  \\\n",
       "0      -13899          -4709           1           0      0      0   \n",
       "1      -11380          -1540           1           0      0      1   \n",
       "2      -19087          -4434           1           0      1      0   \n",
       "3      -15088          -2092           1           0      1      0   \n",
       "4      -15037          -2105           1           0      0      0   \n",
       "\n",
       "   family_size  begin_month  credit  \n",
       "0          2.0         -6.0     1.0  \n",
       "1          3.0         -5.0     1.0  \n",
       "2          2.0        -22.0     2.0  \n",
       "3          2.0        -37.0     0.0  \n",
       "4          2.0        -26.0     2.0  "
      ]
     },
     "execution_count": 203,
     "metadata": {},
     "output_type": "execute_result"
    }
   ],
   "source": [
    "train = train.drop(['occyp_type'], axis=1)\n",
    "test = test.drop(['occyp_type'], axis=1)\n",
    "train.head()"
   ]
  },
  {
   "cell_type": "code",
   "execution_count": 204,
   "metadata": {},
   "outputs": [
    {
     "name": "stdout",
     "output_type": "stream",
     "text": [
      "<class 'pandas.core.frame.DataFrame'>\n",
      "RangeIndex: 26457 entries, 0 to 26456\n",
      "Data columns (total 19 columns):\n",
      " #   Column         Non-Null Count  Dtype  \n",
      "---  ------         --------------  -----  \n",
      " 0   index          26457 non-null  int64  \n",
      " 1   gender         26457 non-null  object \n",
      " 2   car            26457 non-null  object \n",
      " 3   reality        26457 non-null  object \n",
      " 4   child_num      26457 non-null  int64  \n",
      " 5   income_total   26457 non-null  float64\n",
      " 6   income_type    26457 non-null  object \n",
      " 7   edu_type       26457 non-null  object \n",
      " 8   family_type    26457 non-null  object \n",
      " 9   house_type     26457 non-null  object \n",
      " 10  DAYS_BIRTH     26457 non-null  int64  \n",
      " 11  DAYS_EMPLOYED  26457 non-null  int64  \n",
      " 12  FLAG_MOBIL     26457 non-null  int64  \n",
      " 13  work_phone     26457 non-null  int64  \n",
      " 14  phone          26457 non-null  int64  \n",
      " 15  email          26457 non-null  int64  \n",
      " 16  family_size    26457 non-null  float64\n",
      " 17  begin_month    26457 non-null  float64\n",
      " 18  credit         26457 non-null  float64\n",
      "dtypes: float64(4), int64(8), object(7)\n",
      "memory usage: 3.8+ MB\n"
     ]
    }
   ],
   "source": [
    "train.info()"
   ]
  },
  {
   "cell_type": "markdown",
   "metadata": {},
   "source": [
    "---"
   ]
  },
  {
   "cell_type": "markdown",
   "metadata": {},
   "source": [
    "연속형 변수 -> 범주형 변수로 변환"
   ]
  },
  {
   "cell_type": "markdown",
   "metadata": {},
   "source": [
    "### 1. income_total "
   ]
  },
  {
   "cell_type": "code",
   "execution_count": 205,
   "metadata": {},
   "outputs": [],
   "source": [
    "# MinMaxScaler() 사용해보기\n"
   ]
  },
  {
   "cell_type": "code",
   "execution_count": 206,
   "metadata": {},
   "outputs": [
    {
     "name": "stdout",
     "output_type": "stream",
     "text": [
      "(2.544, 18.18]      16212\n",
      "(18.18, 33.66]       8330\n",
      "(33.66, 49.14]       1530\n",
      "(49.14, 64.62]        206\n",
      "(64.62, 80.1]         121\n",
      "(80.1, 95.58]          44\n",
      "(95.58, 111.06]         3\n",
      "(111.06, 126.54]        2\n",
      "(126.54, 142.02]        4\n",
      "(142.02, 157.5]         5\n",
      "Name: income_total, dtype: int64\n",
      "(2.544, 18.18]      6248\n",
      "(18.18, 33.66]      3050\n",
      "(33.66, 49.14]       569\n",
      "(49.14, 64.62]        68\n",
      "(64.62, 80.1]         44\n",
      "(80.1, 95.58]         14\n",
      "(95.58, 111.06]        1\n",
      "(111.06, 126.54]       1\n",
      "(126.54, 142.02]       2\n",
      "(142.02, 157.5]        3\n",
      "Name: income_total, dtype: int64\n"
     ]
    }
   ],
   "source": [
    "train['income_total'] = train['income_total'].astype(object)\n",
    "test['income_total'] = test['income_total'].astype(object)\n",
    "train['income_total'] = train['income_total']/10000 \n",
    "test['income_total'] = test['income_total']/10000\n",
    "##############################################################3\n",
    "print(train['income_total'].value_counts(bins=10,sort=False))\n",
    "print(test['income_total'].value_counts(bins=10,sort=False))\n",
    "\n",
    "#train['income_total'].plot(kind='hist',bins=50,density=True)"
   ]
  },
  {
   "cell_type": "code",
   "execution_count": 207,
   "metadata": {},
   "outputs": [],
   "source": [
    "type(train['income_total'])\n",
    "num_train = train['income_total']"
   ]
  },
  {
   "cell_type": "code",
   "execution_count": 208,
   "metadata": {},
   "outputs": [
    {
     "name": "stdout",
     "output_type": "stream",
     "text": [
      "11.25 14.399999999999999 18.0 24.75 157.5\n"
     ]
    }
   ],
   "source": [
    "Q1 = num_train.quantile(0.20)\n",
    "Q2 = num_train.quantile(0.40)\n",
    "Q3 = num_train.quantile(0.60)\n",
    "Q4 = num_train.quantile(0.80)\n",
    "Q5 = num_train.quantile(1)\n",
    "print(Q1,Q2,Q3,Q4,Q5)\n"
   ]
  },
  {
   "cell_type": "code",
   "execution_count": 209,
   "metadata": {},
   "outputs": [
    {
     "name": "stdout",
     "output_type": "stream",
     "text": [
      "11.25 13.95 18.0 24.3 157.5\n"
     ]
    }
   ],
   "source": [
    "num_test = test['income_total']\n",
    "Q1 = num_test.quantile(0.20)\n",
    "Q2 = num_test.quantile(0.40)\n",
    "Q3 = num_test.quantile(0.60)\n",
    "Q4 = num_test.quantile(0.80)\n",
    "Q5 = num_test.quantile(1)\n",
    "print(Q1,Q2,Q3,Q4,Q5)"
   ]
  },
  {
   "cell_type": "code",
   "execution_count": 210,
   "metadata": {},
   "outputs": [
    {
     "data": {
      "text/plain": [
       "(2.544, 33.66]     9298\n",
       "(33.66, 64.62]      637\n",
       "(64.62, 95.58]       58\n",
       "(95.58, 126.54]       2\n",
       "(126.54, 157.5]       5\n",
       "Name: income_total, dtype: int64"
      ]
     },
     "execution_count": 210,
     "metadata": {},
     "output_type": "execute_result"
    }
   ],
   "source": [
    "train['income_total'].value_counts(bins=5, sort=False)\n",
    "test['income_total'].value_counts(bins=5, sort=False)\n"
   ]
  },
  {
   "cell_type": "code",
   "execution_count": 211,
   "metadata": {},
   "outputs": [],
   "source": [
    "train['income_total'] = pd.cut(train['income_total'], bins=[0,Q1,Q2,Q3,Q4,Q5], labels=['a','b','c','d','e'])\n",
    "test['income_total'] = pd.cut(test['income_total'], bins=[0,Q1,Q2,Q3,Q4,Q5], labels=['a','b','c','d','e'])"
   ]
  },
  {
   "cell_type": "markdown",
   "metadata": {},
   "source": [
    "bin : 동일한 길이의 bins 값으로 분할  \n",
    "0~Q1 : 'a',   Q1~Q2 : 'b',   Q2~Q3 : 'c',   Q3~Q4 : 'd',   Q4~Q5 : 'e' "
   ]
  },
  {
   "cell_type": "code",
   "execution_count": 212,
   "metadata": {},
   "outputs": [
    {
     "data": {
      "text/plain": [
       "['a', 'b', 'd', 'e', 'c']\n",
       "Categories (5, object): ['a' < 'b' < 'c' < 'd' < 'e']"
      ]
     },
     "execution_count": 212,
     "metadata": {},
     "output_type": "execute_result"
    }
   ],
   "source": [
    "train['income_total'].unique()\n",
    "test['income_total'].unique()"
   ]
  },
  {
   "cell_type": "code",
   "execution_count": 213,
   "metadata": {},
   "outputs": [
    {
     "data": {
      "text/plain": [
       "0        d\n",
       "1        e\n",
       "2        e\n",
       "3        d\n",
       "4        c\n",
       "        ..\n",
       "26452    d\n",
       "26453    c\n",
       "26454    e\n",
       "26455    c\n",
       "26456    a\n",
       "Name: income_total, Length: 26457, dtype: category\n",
       "Categories (5, object): ['a' < 'b' < 'c' < 'd' < 'e']"
      ]
     },
     "execution_count": 213,
     "metadata": {},
     "output_type": "execute_result"
    }
   ],
   "source": [
    "train['income_total']"
   ]
  },
  {
   "cell_type": "code",
   "execution_count": 214,
   "metadata": {},
   "outputs": [
    {
     "data": {
      "text/plain": [
       "a    6191\n",
       "c    5643\n",
       "e    5463\n",
       "d    4782\n",
       "b    4378\n",
       "Name: income_total, dtype: int64"
      ]
     },
     "execution_count": 214,
     "metadata": {},
     "output_type": "execute_result"
    }
   ],
   "source": [
    "train['income_total'].value_counts()"
   ]
  },
  {
   "cell_type": "code",
   "execution_count": 215,
   "metadata": {},
   "outputs": [
    {
     "data": {
      "text/plain": [
       "0       a\n",
       "1       b\n",
       "2       a\n",
       "3       a\n",
       "4       d\n",
       "       ..\n",
       "9995    d\n",
       "9996    d\n",
       "9997    e\n",
       "9998    c\n",
       "9999    e\n",
       "Name: income_total, Length: 10000, dtype: category\n",
       "Categories (5, object): ['a' < 'b' < 'c' < 'd' < 'e']"
      ]
     },
     "execution_count": 215,
     "metadata": {},
     "output_type": "execute_result"
    }
   ],
   "source": [
    "test['income_total']"
   ]
  },
  {
   "cell_type": "markdown",
   "metadata": {},
   "source": [
    "### 2. DAYS_BIRTH"
   ]
  },
  {
   "cell_type": "code",
   "execution_count": 216,
   "metadata": {},
   "outputs": [],
   "source": [
    "train['DAYS_BIRTH'] = abs(train['DAYS_BIRTH'])   #음수값 처리\n",
    "test['DAYS_BIRTH'] = abs(test['DAYS_BIRTH'])   #음수값 처리"
   ]
  },
  {
   "cell_type": "code",
   "execution_count": 217,
   "metadata": {},
   "outputs": [
    {
     "data": {
      "text/plain": [
       "0       21990\n",
       "1       18964\n",
       "2       15887\n",
       "3       19270\n",
       "4       17822\n",
       "        ...  \n",
       "9995    18593\n",
       "9996    10886\n",
       "9997    21016\n",
       "9998    16541\n",
       "9999     9154\n",
       "Name: DAYS_BIRTH, Length: 10000, dtype: int64"
      ]
     },
     "execution_count": 217,
     "metadata": {},
     "output_type": "execute_result"
    }
   ],
   "source": [
    "train['DAYS_BIRTH']\n",
    "test['DAYS_BIRTH']"
   ]
  },
  {
   "cell_type": "code",
   "execution_count": 218,
   "metadata": {},
   "outputs": [
    {
     "name": "stdout",
     "output_type": "stream",
     "text": [
      "(7687.552, 11194.4]    4147\n",
      "(11194.4, 14683.8]     7246\n",
      "(14683.8, 18173.2]     6438\n",
      "(18173.2, 21662.6]     5438\n",
      "(21662.6, 25152.0]     3188\n",
      "Name: DAYS_BIRTH, dtype: int64\n",
      "(7471.336, 11021.6]    1374\n",
      "(11021.6, 14554.2]     2752\n",
      "(14554.2, 18086.8]     2486\n",
      "(18086.8, 21619.4]     2126\n",
      "(21619.4, 25152.0]     1262\n",
      "Name: DAYS_BIRTH, dtype: int64\n"
     ]
    },
    {
     "data": {
      "text/plain": [
       "<AxesSubplot:ylabel='Frequency'>"
      ]
     },
     "execution_count": 218,
     "metadata": {},
     "output_type": "execute_result"
    },
    {
     "data": {
      "image/png": "[encoded data removed]",
      "text/plain": [
       "<Figure size 432x288 with 1 Axes>"
      ]
     },
     "metadata": {
      "needs_background": "light"
     },
     "output_type": "display_data"
    }
   ],
   "source": [
    "print(train['DAYS_BIRTH'].value_counts(bins=5,sort=False))\n",
    "train['DAYS_BIRTH'].plot(kind='hist',bins=20,density=True)\n",
    "\n",
    "print(test['DAYS_BIRTH'].value_counts(bins=5,sort=False))\n",
    "test['DAYS_BIRTH'].plot(kind='hist',bins=20,density=True)"
   ]
  },
  {
   "cell_type": "code",
   "execution_count": 219,
   "metadata": {},
   "outputs": [
    {
     "data": {
      "text/plain": [
       "7705"
      ]
     },
     "execution_count": 219,
     "metadata": {},
     "output_type": "execute_result"
    }
   ],
   "source": [
    "min(train['DAYS_BIRTH'])"
   ]
  },
  {
   "cell_type": "code",
   "execution_count": 220,
   "metadata": {},
   "outputs": [],
   "source": [
    "import matplotlib.pyplot as plt"
   ]
  },
  {
   "cell_type": "code",
   "execution_count": 221,
   "metadata": {},
   "outputs": [
    {
     "data": {
      "text/plain": [
       "{'whiskers': [<matplotlib.lines.Line2D at 0x1e441d070a0>,\n",
       "  <matplotlib.lines.Line2D at 0x1e441d07430>],\n",
       " 'caps': [<matplotlib.lines.Line2D at 0x1e441d077c0>,\n",
       "  <matplotlib.lines.Line2D at 0x1e441d07b50>],\n",
       " 'boxes': [<matplotlib.lines.Line2D at 0x1e441d15cd0>],\n",
       " 'medians': [<matplotlib.lines.Line2D at 0x1e441d07ee0>],\n",
       " 'fliers': [<matplotlib.lines.Line2D at 0x1e441cfb2b0>],\n",
       " 'means': []}"
      ]
     },
     "execution_count": 221,
     "metadata": {},
     "output_type": "execute_result"
    },
    {
     "data": {
      "image/png": "[encoded data removed]",
      "text/plain": [
       "<Figure size 432x288 with 1 Axes>"
      ]
     },
     "metadata": {
      "needs_background": "light"
     },
     "output_type": "display_data"
    }
   ],
   "source": [
    "plt.boxplot(train['DAYS_BIRTH'])"
   ]
  },
  {
   "cell_type": "code",
   "execution_count": 222,
   "metadata": {},
   "outputs": [
    {
     "name": "stdout",
     "output_type": "stream",
     "text": [
      "11814.0 14329.400000000001 17001.0 20283.800000000003 25152.0\n",
      "11864.0 14419.0 17095.0 20311.800000000003 25152.0\n"
     ]
    }
   ],
   "source": [
    "num = train['DAYS_BIRTH']\n",
    "Q1 = num.quantile(0.20)\n",
    "Q2 = num.quantile(0.40)\n",
    "Q3 = num.quantile(0.60)\n",
    "Q4 = num.quantile(0.80)\n",
    "Q5 = num.quantile(1)\n",
    "print(Q1,Q2,Q3,Q4,Q5)\n",
    "\n",
    "num = test['DAYS_BIRTH']\n",
    "Q1 = num.quantile(0.20)\n",
    "Q2 = num.quantile(0.40)\n",
    "Q3 = num.quantile(0.60)\n",
    "Q4 = num.quantile(0.80)\n",
    "Q5 = num.quantile(1)\n",
    "print(Q1,Q2,Q3,Q4,Q5)"
   ]
  },
  {
   "cell_type": "code",
   "execution_count": 223,
   "metadata": {},
   "outputs": [],
   "source": [
    "train['DAYS_BIRTH'] = pd.cut(train['DAYS_BIRTH'], bins=[0,Q1,Q2,Q3,Q4,Q5], labels=['a','b','c','d','e'])\n",
    "test['DAYS_BIRTH'] = pd.cut(test['DAYS_BIRTH'], bins=[0,Q1,Q2,Q3,Q4,Q5], labels=['a','b','c','d','e'])"
   ]
  },
  {
   "cell_type": "code",
   "execution_count": 224,
   "metadata": {},
   "outputs": [
    {
     "data": {
      "text/plain": [
       "a    2002\n",
       "b    2001\n",
       "e    2000\n",
       "d    1999\n",
       "c    1998\n",
       "Name: DAYS_BIRTH, dtype: int64"
      ]
     },
     "execution_count": 224,
     "metadata": {},
     "output_type": "execute_result"
    }
   ],
   "source": [
    "train['DAYS_BIRTH'].value_counts()\n",
    "test['DAYS_BIRTH'].value_counts()"
   ]
  },
  {
   "cell_type": "markdown",
   "metadata": {},
   "source": [
    "3. FLAG_MOBIL => 핸드폰 소유 1, 핸드폰 무소유 0 -> DROP할거야 왜냐면 전부다 가지고 있으니까"
   ]
  },
  {
   "cell_type": "code",
   "execution_count": 225,
   "metadata": {},
   "outputs": [],
   "source": [
    "train = train.drop(['FLAG_MOBIL'], axis =1)\n",
    "test = test.drop(['FLAG_MOBIL'], axis =1)"
   ]
  },
  {
   "cell_type": "markdown",
   "metadata": {},
   "source": [
    "4. work_phone : 업무용 전화 소유 1, 업무용 전화 무소유 0"
   ]
  },
  {
   "cell_type": "code",
   "execution_count": 226,
   "metadata": {},
   "outputs": [],
   "source": [
    "train['work_phone'] = train['work_phone'].replace([1,0],['Y','N'])\n",
    "test['work_phone'] = test['work_phone'].replace([1,0],['Y','N'])"
   ]
  },
  {
   "cell_type": "code",
   "execution_count": 227,
   "metadata": {},
   "outputs": [
    {
     "data": {
      "text/plain": [
       "0        N\n",
       "1        N\n",
       "2        N\n",
       "3        N\n",
       "4        N\n",
       "        ..\n",
       "26452    N\n",
       "26453    N\n",
       "26454    N\n",
       "26455    N\n",
       "26456    N\n",
       "Name: work_phone, Length: 26457, dtype: object"
      ]
     },
     "execution_count": 227,
     "metadata": {},
     "output_type": "execute_result"
    }
   ],
   "source": [
    "train['work_phone']"
   ]
  },
  {
   "cell_type": "markdown",
   "metadata": {},
   "source": [
    "5. phone : 전화 소유 1, 전화 무소유 0"
   ]
  },
  {
   "cell_type": "code",
   "execution_count": 228,
   "metadata": {},
   "outputs": [],
   "source": [
    "train['phone'] = train['phone'].replace([1,0], ['Y','N'])\n",
    "test['phone'] = test['phone'].replace([1,0], ['Y','N'])"
   ]
  },
  {
   "cell_type": "markdown",
   "metadata": {},
   "source": [
    "6. email : 이메일 소유 1, 이메일 무소유 0"
   ]
  },
  {
   "cell_type": "code",
   "execution_count": 229,
   "metadata": {},
   "outputs": [
    {
     "data": {
      "text/plain": [
       "0        N\n",
       "1        Y\n",
       "2        N\n",
       "3        N\n",
       "4        N\n",
       "        ..\n",
       "26452    N\n",
       "26453    N\n",
       "26454    N\n",
       "26455    N\n",
       "26456    N\n",
       "Name: email, Length: 26457, dtype: object"
      ]
     },
     "execution_count": 229,
     "metadata": {},
     "output_type": "execute_result"
    }
   ],
   "source": [
    "train['email'] = train['email'].replace([1,0], ['Y','N'])\n",
    "test['email'] = test['email'].replace([1,0], ['Y','N'])\n",
    "train['email']"
   ]
  },
  {
   "cell_type": "markdown",
   "metadata": {},
   "source": [
    "7. family_size"
   ]
  },
  {
   "cell_type": "code",
   "execution_count": 230,
   "metadata": {},
   "outputs": [
    {
     "data": {
      "text/plain": [
       "{'whiskers': [<matplotlib.lines.Line2D at 0x1e441d80c40>,\n",
       "  <matplotlib.lines.Line2D at 0x1e441d80fd0>],\n",
       " 'caps': [<matplotlib.lines.Line2D at 0x1e441d8d3a0>,\n",
       "  <matplotlib.lines.Line2D at 0x1e441d8d730>],\n",
       " 'boxes': [<matplotlib.lines.Line2D at 0x1e441d808b0>],\n",
       " 'medians': [<matplotlib.lines.Line2D at 0x1e441d8dac0>],\n",
       " 'fliers': [<matplotlib.lines.Line2D at 0x1e441d8de50>],\n",
       " 'means': []}"
      ]
     },
     "execution_count": 230,
     "metadata": {},
     "output_type": "execute_result"
    },
    {
     "data": {
      "image/png": "[encoded data removed]",
      "text/plain": [
       "<Figure size 432x288 with 1 Axes>"
      ]
     },
     "metadata": {
      "needs_background": "light"
     },
     "output_type": "display_data"
    }
   ],
   "source": [
    "\n",
    "plt.boxplot(train['family_size'])"
   ]
  },
  {
   "cell_type": "code",
   "execution_count": 231,
   "metadata": {},
   "outputs": [],
   "source": [
    "num = train['family_size']\n",
    "Q3 = num.quantile(0.75)\n",
    "Q1 = num.quantile(0.25)\n",
    "median = num.quantile(0.50)\n",
    "IQR = Q3 - Q1\n",
    "lower_whisker = Q1 - 1.5 * IQR           #최소값 Q1 - 1.5*IQR\n",
    "upper_whisker = Q3 + 1.5 * IQR                #최댓값 Q3 + 1.5*IQR\n",
    "\n",
    "#outlier = 최댓값 초과 또는 최솟값 미만"
   ]
  },
  {
   "cell_type": "code",
   "execution_count": 232,
   "metadata": {},
   "outputs": [
    {
     "name": "stdout",
     "output_type": "stream",
     "text": [
      "0.5 4.5\n"
     ]
    }
   ],
   "source": [
    "print(lower_whisker, upper_whisker)"
   ]
  },
  {
   "cell_type": "code",
   "execution_count": 233,
   "metadata": {},
   "outputs": [
    {
     "data": {
      "text/plain": [
       "20.0"
      ]
     },
     "execution_count": 233,
     "metadata": {},
     "output_type": "execute_result"
    }
   ],
   "source": [
    "max(train['family_size'])"
   ]
  },
  {
   "cell_type": "code",
   "execution_count": 234,
   "metadata": {},
   "outputs": [],
   "source": [
    "train.loc[(train['family_size']> upper_whisker) | (train['family_size'] < lower_whisker), 'family_size'] = upper_whisker"
   ]
  },
  {
   "cell_type": "code",
   "execution_count": 235,
   "metadata": {},
   "outputs": [
    {
     "data": {
      "text/plain": [
       "\" num = train['family_size']\\nq1 = num.quantile(0.20)\\nq2 = num.quantile(0.40)\\nq3 = num.quantile(0.60)\\nq4 = num.quantile(0.80)\\nq5 = num.quantile(1)\\nprint(q1,q2,q3,q4,q5) \""
      ]
     },
     "execution_count": 235,
     "metadata": {},
     "output_type": "execute_result"
    }
   ],
   "source": [
    "\"\"\" num = train['family_size']\n",
    "q1 = num.quantile(0.20)\n",
    "q2 = num.quantile(0.40)\n",
    "q3 = num.quantile(0.60)\n",
    "q4 = num.quantile(0.80)\n",
    "q5 = num.quantile(1)\n",
    "print(q1,q2,q3,q4,q5) \"\"\""
   ]
  },
  {
   "cell_type": "code",
   "execution_count": 236,
   "metadata": {},
   "outputs": [
    {
     "data": {
      "text/plain": [
       "1.0"
      ]
     },
     "execution_count": 236,
     "metadata": {},
     "output_type": "execute_result"
    }
   ],
   "source": [
    "min(train['family_size'])"
   ]
  },
  {
   "cell_type": "code",
   "execution_count": 237,
   "metadata": {},
   "outputs": [],
   "source": [
    "train['family_size'] = pd.cut(train['family_size'], bins=4, labels=['a','b','c','d'])\n",
    "test['family_size'] = pd.cut(test['family_size'], bins=4, labels=['a','b','c','d'])"
   ]
  },
  {
   "cell_type": "code",
   "execution_count": 238,
   "metadata": {},
   "outputs": [
    {
     "data": {
      "text/plain": [
       "b    14106\n",
       "a     5109\n",
       "c     4632\n",
       "d     2610\n",
       "Name: family_size, dtype: int64"
      ]
     },
     "execution_count": 238,
     "metadata": {},
     "output_type": "execute_result"
    }
   ],
   "source": [
    "train['family_size'].value_counts()"
   ]
  },
  {
   "cell_type": "code",
   "execution_count": 239,
   "metadata": {},
   "outputs": [
    {
     "data": {
      "text/plain": [
       "a    7235\n",
       "b    2635\n",
       "c     106\n",
       "d      24\n",
       "Name: family_size, dtype: int64"
      ]
     },
     "execution_count": 239,
     "metadata": {},
     "output_type": "execute_result"
    }
   ],
   "source": [
    "test['family_size'].value_counts()"
   ]
  },
  {
   "cell_type": "code",
   "execution_count": 240,
   "metadata": {},
   "outputs": [
    {
     "data": {
      "text/plain": [
       "0        b\n",
       "1        c\n",
       "2        b\n",
       "3        b\n",
       "4        b\n",
       "        ..\n",
       "26452    d\n",
       "26453    b\n",
       "26454    b\n",
       "26455    a\n",
       "26456    b\n",
       "Name: family_size, Length: 26457, dtype: category\n",
       "Categories (4, object): ['a' < 'b' < 'c' < 'd']"
      ]
     },
     "execution_count": 240,
     "metadata": {},
     "output_type": "execute_result"
    }
   ],
   "source": [
    "train['family_size']"
   ]
  },
  {
   "cell_type": "markdown",
   "metadata": {},
   "source": [
    "8. begin_month : 신용카드 발급개월 수 역수"
   ]
  },
  {
   "cell_type": "code",
   "execution_count": 241,
   "metadata": {},
   "outputs": [],
   "source": [
    "train['begin_month'] = abs(train['begin_month'])\n",
    "test['begin_month'] = abs(test['begin_month'])"
   ]
  },
  {
   "cell_type": "code",
   "execution_count": 242,
   "metadata": {},
   "outputs": [
    {
     "data": {
      "text/plain": [
       "<AxesSubplot:ylabel='Frequency'>"
      ]
     },
     "execution_count": 242,
     "metadata": {},
     "output_type": "execute_result"
    },
    {
     "data": {
      "image/png": "[encoded data removed]",
      "text/plain": [
       "<Figure size 432x288 with 1 Axes>"
      ]
     },
     "metadata": {
      "needs_background": "light"
     },
     "output_type": "display_data"
    }
   ],
   "source": [
    "train['begin_month'].plot(kind='hist',bins = 20,density=True)"
   ]
  },
  {
   "cell_type": "code",
   "execution_count": 243,
   "metadata": {},
   "outputs": [],
   "source": [
    "train['begin_month'] = train['begin_month']/12\n",
    "test['begin_month'] = test['begin_month']/12"
   ]
  },
  {
   "cell_type": "code",
   "execution_count": 244,
   "metadata": {},
   "outputs": [
    {
     "data": {
      "text/plain": [
       "0        0.500000\n",
       "1        0.416667\n",
       "2        1.833333\n",
       "3        3.083333\n",
       "4        2.166667\n",
       "           ...   \n",
       "26452    0.166667\n",
       "26453    3.916667\n",
       "26454    2.083333\n",
       "26455    4.916667\n",
       "26456    0.750000\n",
       "Name: begin_month, Length: 26457, dtype: float64"
      ]
     },
     "execution_count": 244,
     "metadata": {},
     "output_type": "execute_result"
    }
   ],
   "source": [
    "train['begin_month']"
   ]
  },
  {
   "cell_type": "code",
   "execution_count": 245,
   "metadata": {},
   "outputs": [
    {
     "data": {
      "text/plain": [
       "<AxesSubplot:ylabel='Frequency'>"
      ]
     },
     "execution_count": 245,
     "metadata": {},
     "output_type": "execute_result"
    },
    {
     "data": {
      "image/png": "[encoded data removed]",
      "text/plain": [
       "<Figure size 432x288 with 1 Axes>"
      ]
     },
     "metadata": {
      "needs_background": "light"
     },
     "output_type": "display_data"
    }
   ],
   "source": [
    "train['begin_month'].plot(kind='hist',bins = 5)"
   ]
  },
  {
   "cell_type": "code",
   "execution_count": 246,
   "metadata": {},
   "outputs": [
    {
     "data": {
      "text/plain": [
       "{'whiskers': [<matplotlib.lines.Line2D at 0x1e44267a0a0>,\n",
       "  <matplotlib.lines.Line2D at 0x1e44267a430>],\n",
       " 'caps': [<matplotlib.lines.Line2D at 0x1e44267a7c0>,\n",
       "  <matplotlib.lines.Line2D at 0x1e44267ab50>],\n",
       " 'boxes': [<matplotlib.lines.Line2D at 0x1e44266ccd0>],\n",
       " 'medians': [<matplotlib.lines.Line2D at 0x1e44267aee0>],\n",
       " 'fliers': [<matplotlib.lines.Line2D at 0x1e4426872b0>],\n",
       " 'means': []}"
      ]
     },
     "execution_count": 246,
     "metadata": {},
     "output_type": "execute_result"
    },
    {
     "data": {
      "image/png": "[encoded data removed]",
      "text/plain": [
       "<Figure size 432x288 with 1 Axes>"
      ]
     },
     "metadata": {
      "needs_background": "light"
     },
     "output_type": "display_data"
    }
   ],
   "source": [
    "plt.boxplot(train['begin_month'])"
   ]
  },
  {
   "cell_type": "code",
   "execution_count": 247,
   "metadata": {},
   "outputs": [],
   "source": [
    "train['begin_month'] = pd.cut(train['begin_month'], bins=5, labels=['a','b','c','d','e'])\n",
    "test['begin_month'] = pd.cut(test['begin_month'], bins=5, labels=['a','b','c','d','e'])"
   ]
  },
  {
   "cell_type": "code",
   "execution_count": 248,
   "metadata": {},
   "outputs": [
    {
     "data": {
      "text/plain": [
       "a    7049\n",
       "b    6270\n",
       "c    5250\n",
       "d    4594\n",
       "e    3294\n",
       "Name: begin_month, dtype: int64"
      ]
     },
     "execution_count": 248,
     "metadata": {},
     "output_type": "execute_result"
    }
   ],
   "source": [
    "train['begin_month'].value_counts()"
   ]
  },
  {
   "cell_type": "code",
   "execution_count": 249,
   "metadata": {},
   "outputs": [
    {
     "data": {
      "text/plain": [
       "a    2541\n",
       "b    2450\n",
       "c    2059\n",
       "d    1714\n",
       "e    1236\n",
       "Name: begin_month, dtype: int64"
      ]
     },
     "execution_count": 249,
     "metadata": {},
     "output_type": "execute_result"
    }
   ],
   "source": [
    "test['begin_month'].value_counts()"
   ]
  },
  {
   "cell_type": "code",
   "execution_count": 250,
   "metadata": {},
   "outputs": [
    {
     "data": {
      "text/plain": [
       "0        a\n",
       "1        a\n",
       "2        b\n",
       "3        d\n",
       "4        c\n",
       "        ..\n",
       "26452    a\n",
       "26453    d\n",
       "26454    c\n",
       "26455    e\n",
       "26456    a\n",
       "Name: begin_month, Length: 26457, dtype: category\n",
       "Categories (5, object): ['a' < 'b' < 'c' < 'd' < 'e']"
      ]
     },
     "execution_count": 250,
     "metadata": {},
     "output_type": "execute_result"
    }
   ],
   "source": [
    "train['begin_month']"
   ]
  },
  {
   "cell_type": "markdown",
   "metadata": {},
   "source": [
    "9. child_num "
   ]
  },
  {
   "cell_type": "code",
   "execution_count": 251,
   "metadata": {},
   "outputs": [
    {
     "data": {
      "text/plain": [
       "0     18340\n",
       "1      5386\n",
       "2      2362\n",
       "3       306\n",
       "4        47\n",
       "5        10\n",
       "14        3\n",
       "7         2\n",
       "19        1\n",
       "Name: child_num, dtype: int64"
      ]
     },
     "execution_count": 251,
     "metadata": {},
     "output_type": "execute_result"
    }
   ],
   "source": [
    "train['child_num'].value_counts()"
   ]
  },
  {
   "cell_type": "code",
   "execution_count": 252,
   "metadata": {},
   "outputs": [],
   "source": [
    "train.loc[train['child_num']>=1,'child_num'] = 1\n",
    "test.loc[test['child_num']>=1,'child_num'] = 1"
   ]
  },
  {
   "cell_type": "code",
   "execution_count": 253,
   "metadata": {},
   "outputs": [
    {
     "data": {
      "text/plain": [
       "0    18340\n",
       "1     8117\n",
       "Name: child_num, dtype: int64"
      ]
     },
     "execution_count": 253,
     "metadata": {},
     "output_type": "execute_result"
    }
   ],
   "source": [
    "train['child_num'].value_counts()"
   ]
  },
  {
   "cell_type": "code",
   "execution_count": 254,
   "metadata": {},
   "outputs": [],
   "source": [
    "train['child_num'] = train['child_num'].replace([1,0],['Y','N'])\n",
    "test['child_num'] = test['child_num'].replace([1,0],['Y','N'])"
   ]
  },
  {
   "cell_type": "code",
   "execution_count": 255,
   "metadata": {},
   "outputs": [
    {
     "data": {
      "text/plain": [
       "0        N\n",
       "1        Y\n",
       "2        N\n",
       "3        N\n",
       "4        N\n",
       "        ..\n",
       "26452    Y\n",
       "26453    Y\n",
       "26454    N\n",
       "26455    N\n",
       "26456    N\n",
       "Name: child_num, Length: 26457, dtype: object"
      ]
     },
     "execution_count": 255,
     "metadata": {},
     "output_type": "execute_result"
    }
   ],
   "source": [
    "train['child_num']"
   ]
  },
  {
   "cell_type": "code",
   "execution_count": 256,
   "metadata": {},
   "outputs": [
    {
     "name": "stdout",
     "output_type": "stream",
     "text": [
      "<class 'pandas.core.frame.DataFrame'>\n",
      "RangeIndex: 10000 entries, 0 to 9999\n",
      "Data columns (total 17 columns):\n",
      " #   Column         Non-Null Count  Dtype   \n",
      "---  ------         --------------  -----   \n",
      " 0   index          10000 non-null  int64   \n",
      " 1   gender         10000 non-null  object  \n",
      " 2   car            10000 non-null  object  \n",
      " 3   reality        10000 non-null  object  \n",
      " 4   child_num      10000 non-null  object  \n",
      " 5   income_total   10000 non-null  category\n",
      " 6   income_type    10000 non-null  object  \n",
      " 7   edu_type       10000 non-null  object  \n",
      " 8   family_type    10000 non-null  object  \n",
      " 9   house_type     10000 non-null  object  \n",
      " 10  DAYS_BIRTH     10000 non-null  category\n",
      " 11  DAYS_EMPLOYED  10000 non-null  int64   \n",
      " 12  work_phone     10000 non-null  object  \n",
      " 13  phone          10000 non-null  object  \n",
      " 14  email          10000 non-null  object  \n",
      " 15  family_size    10000 non-null  category\n",
      " 16  begin_month    10000 non-null  category\n",
      "dtypes: category(4), int64(2), object(11)\n",
      "memory usage: 1.0+ MB\n"
     ]
    }
   ],
   "source": [
    "test.info()"
   ]
  },
  {
   "cell_type": "markdown",
   "metadata": {},
   "source": [
    "### 10. DAYS_EMPLOYED "
   ]
  },
  {
   "cell_type": "code",
   "execution_count": 257,
   "metadata": {},
   "outputs": [],
   "source": [
    "train['DAYS_EMPLOYED'] = -train['DAYS_EMPLOYED']\n",
    "test['DAYS_EMPLOYED'] = -test['DAYS_EMPLOYED']"
   ]
  },
  {
   "cell_type": "code",
   "execution_count": 258,
   "metadata": {},
   "outputs": [
    {
     "data": {
      "text/plain": [
       "{'whiskers': [<matplotlib.lines.Line2D at 0x1e4426dee80>,\n",
       "  <matplotlib.lines.Line2D at 0x1e4426ec250>],\n",
       " 'caps': [<matplotlib.lines.Line2D at 0x1e4426ec5e0>,\n",
       "  <matplotlib.lines.Line2D at 0x1e4426ec970>],\n",
       " 'boxes': [<matplotlib.lines.Line2D at 0x1e4426deaf0>],\n",
       " 'medians': [<matplotlib.lines.Line2D at 0x1e4426ecd00>],\n",
       " 'fliers': [<matplotlib.lines.Line2D at 0x1e4426f80d0>],\n",
       " 'means': []}"
      ]
     },
     "execution_count": 258,
     "metadata": {},
     "output_type": "execute_result"
    },
    {
     "data": {
      "image/png": "[encoded data removed]",
      "text/plain": [
       "<Figure size 432x288 with 1 Axes>"
      ]
     },
     "metadata": {
      "needs_background": "light"
     },
     "output_type": "display_data"
    }
   ],
   "source": [
    "import matplotlib.pyplot as plt\n",
    "plt.boxplot(train['DAYS_EMPLOYED'])"
   ]
  },
  {
   "cell_type": "code",
   "execution_count": 259,
   "metadata": {},
   "outputs": [
    {
     "data": {
      "text/plain": [
       "-365243    1697\n",
       " 1678        22\n",
       " 1661        21\n",
       " 401         21\n",
       " 2057        20\n",
       "           ... \n",
       " 6359         1\n",
       " 3116         1\n",
       " 1623         1\n",
       " 1505         1\n",
       " 770          1\n",
       "Name: DAYS_EMPLOYED, Length: 2665, dtype: int64"
      ]
     },
     "execution_count": 259,
     "metadata": {},
     "output_type": "execute_result"
    }
   ],
   "source": [
    "test['DAYS_EMPLOYED'].value_counts()"
   ]
  },
  {
   "cell_type": "code",
   "execution_count": 260,
   "metadata": {},
   "outputs": [],
   "source": [
    "train.loc[train['DAYS_EMPLOYED']<0,'DAYS_EMPLOYED']=1\n",
    "test.loc[test['DAYS_EMPLOYED']<0,'DAYS_EMPLOYED']=1      # 일 안 한 애들 다 1로 합쳐버림 (출근한지 1일차)"
   ]
  },
  {
   "cell_type": "code",
   "execution_count": 261,
   "metadata": {},
   "outputs": [
    {
     "data": {
      "text/plain": [
       "{'whiskers': [<matplotlib.lines.Line2D at 0x1e4427543d0>,\n",
       "  <matplotlib.lines.Line2D at 0x1e442754760>],\n",
       " 'caps': [<matplotlib.lines.Line2D at 0x1e442754af0>,\n",
       "  <matplotlib.lines.Line2D at 0x1e442754e80>],\n",
       " 'boxes': [<matplotlib.lines.Line2D at 0x1e442754040>],\n",
       " 'medians': [<matplotlib.lines.Line2D at 0x1e442760250>],\n",
       " 'fliers': [<matplotlib.lines.Line2D at 0x1e4427605e0>],\n",
       " 'means': []}"
      ]
     },
     "execution_count": 261,
     "metadata": {},
     "output_type": "execute_result"
    },
    {
     "data": {
      "image/png": "[encoded data removed]",
      "text/plain": [
       "<Figure size 432x288 with 1 Axes>"
      ]
     },
     "metadata": {
      "needs_background": "light"
     },
     "output_type": "display_data"
    }
   ],
   "source": [
    "plt.boxplot(train['DAYS_EMPLOYED'])"
   ]
  },
  {
   "cell_type": "code",
   "execution_count": 262,
   "metadata": {},
   "outputs": [
    {
     "data": {
      "text/plain": [
       "array([4709, 1540, 4434, ..., 1620, 2960, 4973], dtype=int64)"
      ]
     },
     "execution_count": 262,
     "metadata": {},
     "output_type": "execute_result"
    }
   ],
   "source": [
    "train['DAYS_EMPLOYED'].unique()"
   ]
  },
  {
   "cell_type": "code",
   "execution_count": 263,
   "metadata": {},
   "outputs": [],
   "source": [
    "train['DAYS_EMPLOYED'] = pd.cut(train['DAYS_EMPLOYED'], bins=7, labels=['a','b','c','d','e','f','g'])\n",
    "test['DAYS_EMPLOYED'] = pd.cut(test['DAYS_EMPLOYED'], bins=7, labels=['a','b','c','d','e','f','g'])"
   ]
  },
  {
   "cell_type": "code",
   "execution_count": 264,
   "metadata": {},
   "outputs": [],
   "source": [
    "train['DAYS_EMPLOYED'] = train['DAYS_EMPLOYED'].replace({'e' : 'd', 'g' : 'd', 'f' : 'd'})\n",
    "test['DAYS_EMPLOYED'] = test['DAYS_EMPLOYED'].replace({'e' : 'd', 'g' : 'd', 'f' : 'd'})"
   ]
  },
  {
   "cell_type": "code",
   "execution_count": 265,
   "metadata": {},
   "outputs": [
    {
     "data": {
      "text/plain": [
       "a    6169\n",
       "b    2420\n",
       "c     819\n",
       "d     592\n",
       "Name: DAYS_EMPLOYED, dtype: int64"
      ]
     },
     "execution_count": 265,
     "metadata": {},
     "output_type": "execute_result"
    }
   ],
   "source": [
    "train['DAYS_EMPLOYED'].value_counts()\n",
    "test['DAYS_EMPLOYED'].value_counts()"
   ]
  },
  {
   "cell_type": "code",
   "execution_count": 266,
   "metadata": {},
   "outputs": [
    {
     "data": {
      "text/plain": [
       "0        c\n",
       "1        a\n",
       "2        b\n",
       "3        a\n",
       "4        a\n",
       "        ..\n",
       "26452    a\n",
       "26453    b\n",
       "26454    a\n",
       "26455    a\n",
       "26456    a\n",
       "Name: DAYS_EMPLOYED, Length: 26457, dtype: category\n",
       "Categories (4, object): ['a' < 'b' < 'c' < 'd']"
      ]
     },
     "execution_count": 266,
     "metadata": {},
     "output_type": "execute_result"
    }
   ],
   "source": [
    "train['DAYS_EMPLOYED']"
   ]
  },
  {
   "cell_type": "code",
   "execution_count": 267,
   "metadata": {},
   "outputs": [
    {
     "data": {
      "text/plain": [
       "['c', 'a', 'b', 'd']\n",
       "Categories (4, object): ['a' < 'b' < 'c' < 'd']"
      ]
     },
     "execution_count": 267,
     "metadata": {},
     "output_type": "execute_result"
    }
   ],
   "source": [
    "train['DAYS_EMPLOYED'].unique()"
   ]
  },
  {
   "cell_type": "code",
   "execution_count": 268,
   "metadata": {},
   "outputs": [
    {
     "data": {
      "text/plain": [
       "a    16552\n",
       "b     6219\n",
       "c     2120\n",
       "d     1566\n",
       "Name: DAYS_EMPLOYED, dtype: int64"
      ]
     },
     "execution_count": 268,
     "metadata": {},
     "output_type": "execute_result"
    }
   ],
   "source": [
    "train['DAYS_EMPLOYED'].value_counts()"
   ]
  },
  {
   "cell_type": "markdown",
   "metadata": {},
   "source": [
    "### 11. income_type"
   ]
  },
  {
   "cell_type": "code",
   "execution_count": 269,
   "metadata": {},
   "outputs": [
    {
     "data": {
      "text/plain": [
       "array(['Commercial associate', 'Working', 'State servant', 'Pensioner',\n",
       "       'Student'], dtype=object)"
      ]
     },
     "execution_count": 269,
     "metadata": {},
     "output_type": "execute_result"
    }
   ],
   "source": [
    "train['income_type'].unique()"
   ]
  },
  {
   "cell_type": "code",
   "execution_count": 270,
   "metadata": {},
   "outputs": [
    {
     "data": {
      "text/plain": [
       "Working                 13645\n",
       "Commercial associate     6202\n",
       "Pensioner                4449\n",
       "State servant            2154\n",
       "Student                     7\n",
       "Name: income_type, dtype: int64"
      ]
     },
     "execution_count": 270,
     "metadata": {},
     "output_type": "execute_result"
    }
   ],
   "source": [
    "train['income_type'].value_counts()"
   ]
  },
  {
   "cell_type": "code",
   "execution_count": 271,
   "metadata": {},
   "outputs": [],
   "source": [
    "train['income_type'] = train['income_type'].replace({'Student' : 'Pensioner'})\n",
    "test['income_type'] = test['income_type'].replace({'Student' : 'Pensioner'})"
   ]
  },
  {
   "cell_type": "code",
   "execution_count": 272,
   "metadata": {},
   "outputs": [
    {
     "data": {
      "text/plain": [
       "Working                 13645\n",
       "Commercial associate     6202\n",
       "Pensioner                4456\n",
       "State servant            2154\n",
       "Name: income_type, dtype: int64"
      ]
     },
     "execution_count": 272,
     "metadata": {},
     "output_type": "execute_result"
    }
   ],
   "source": [
    "train['income_type'].value_counts()"
   ]
  },
  {
   "cell_type": "markdown",
   "metadata": {},
   "source": [
    "### 12. edu_type    중등 / 고등 / 중졸 / 초졸 / 학.석.박  "
   ]
  },
  {
   "cell_type": "code",
   "execution_count": 273,
   "metadata": {},
   "outputs": [
    {
     "data": {
      "text/plain": [
       "Secondary / secondary special    17995\n",
       "Higher education                  7162\n",
       "Incomplete higher                 1020\n",
       "Lower secondary                    257\n",
       "Academic degree                     23\n",
       "Name: edu_type, dtype: int64"
      ]
     },
     "execution_count": 273,
     "metadata": {},
     "output_type": "execute_result"
    }
   ],
   "source": [
    "train['edu_type'].value_counts()"
   ]
  },
  {
   "cell_type": "code",
   "execution_count": 274,
   "metadata": {},
   "outputs": [],
   "source": [
    "train['edu_type'] = train['edu_type'].replace({'Academic degree' : 'Higher education'})\n",
    "train['edu_type'] = train['edu_type'].replace({'Lower secondary' : 'Incomplete higher'})\n",
    "\n",
    "test['edu_type'] = test['edu_type'].replace({'Academic degree' : 'Higher education'})\n",
    "test['edu_type'] = test['edu_type'].replace({'Lower secondary' : 'Incomplete higher'})"
   ]
  },
  {
   "cell_type": "code",
   "execution_count": 275,
   "metadata": {},
   "outputs": [
    {
     "data": {
      "text/plain": [
       "Secondary / secondary special    6782\n",
       "Higher education                 2711\n",
       "Incomplete higher                 507\n",
       "Name: edu_type, dtype: int64"
      ]
     },
     "execution_count": 275,
     "metadata": {},
     "output_type": "execute_result"
    }
   ],
   "source": [
    "train['edu_type'].value_counts()\n",
    "test['edu_type'].value_counts()"
   ]
  },
  {
   "cell_type": "markdown",
   "metadata": {},
   "source": [
    "### 13. house_type\n",
    "House / apartment<br>     \n",
    "With parents<br>            \n",
    "Municipal apartment<br>  시립아파트\n",
    "Rented apartment<br>  임대아파트      \n",
    "Office apartment<br>  오피스텔       \n",
    "Co-op apartment<br>  협동?"
   ]
  },
  {
   "cell_type": "code",
   "execution_count": 276,
   "metadata": {},
   "outputs": [
    {
     "data": {
      "text/plain": [
       "array(['Municipal apartment', 'House / apartment', 'With parents',\n",
       "       'Co-op apartment', 'Rented apartment', 'Office apartment'],\n",
       "      dtype=object)"
      ]
     },
     "execution_count": 276,
     "metadata": {},
     "output_type": "execute_result"
    }
   ],
   "source": [
    "train['house_type'].unique()"
   ]
  },
  {
   "cell_type": "code",
   "execution_count": 277,
   "metadata": {},
   "outputs": [
    {
     "data": {
      "text/plain": [
       "House / apartment      23653\n",
       "With parents            1257\n",
       "Municipal apartment      818\n",
       "Rented apartment         429\n",
       "Office apartment         190\n",
       "Co-op apartment          110\n",
       "Name: house_type, dtype: int64"
      ]
     },
     "execution_count": 277,
     "metadata": {},
     "output_type": "execute_result"
    }
   ],
   "source": [
    "train['house_type'].value_counts()"
   ]
  },
  {
   "cell_type": "code",
   "execution_count": 278,
   "metadata": {},
   "outputs": [],
   "source": [
    "train['house_type'] = train['house_type'].replace({'Co-op apartment' : 'Office apartment'})\n",
    "train['house_type'] = train['house_type'].replace({'Rented apartment' : 'Municipal apartment'})\n",
    "\n",
    "test['house_type'] = test['house_type'].replace({'Co-op apartment' : 'Office apartment'})\n",
    "test['house_type'] = test['house_type'].replace({'Rented apartment' : 'Municipal apartment'})"
   ]
  },
  {
   "cell_type": "code",
   "execution_count": 279,
   "metadata": {},
   "outputs": [
    {
     "data": {
      "text/plain": [
       "House / apartment      23653\n",
       "With parents            1257\n",
       "Municipal apartment     1247\n",
       "Office apartment         300\n",
       "Name: house_type, dtype: int64"
      ]
     },
     "execution_count": 279,
     "metadata": {},
     "output_type": "execute_result"
    }
   ],
   "source": [
    "train['house_type'].value_counts()"
   ]
  },
  {
   "cell_type": "markdown",
   "metadata": {},
   "source": [
    "---"
   ]
  },
  {
   "cell_type": "code",
   "execution_count": 280,
   "metadata": {},
   "outputs": [
    {
     "name": "stdout",
     "output_type": "stream",
     "text": [
      "<class 'pandas.core.frame.DataFrame'>\n",
      "RangeIndex: 26457 entries, 0 to 26456\n",
      "Data columns (total 18 columns):\n",
      " #   Column         Non-Null Count  Dtype   \n",
      "---  ------         --------------  -----   \n",
      " 0   index          26457 non-null  int64   \n",
      " 1   gender         26457 non-null  object  \n",
      " 2   car            26457 non-null  object  \n",
      " 3   reality        26457 non-null  object  \n",
      " 4   child_num      26457 non-null  object  \n",
      " 5   income_total   26457 non-null  category\n",
      " 6   income_type    26457 non-null  object  \n",
      " 7   edu_type       26457 non-null  object  \n",
      " 8   family_type    26457 non-null  object  \n",
      " 9   house_type     26457 non-null  object  \n",
      " 10  DAYS_BIRTH     26457 non-null  category\n",
      " 11  DAYS_EMPLOYED  26457 non-null  category\n",
      " 12  work_phone     26457 non-null  object  \n",
      " 13  phone          26457 non-null  object  \n",
      " 14  email          26457 non-null  object  \n",
      " 15  family_size    26457 non-null  category\n",
      " 16  begin_month    26457 non-null  category\n",
      " 17  credit         26457 non-null  float64 \n",
      "dtypes: category(5), float64(1), int64(1), object(11)\n",
      "memory usage: 2.8+ MB\n"
     ]
    }
   ],
   "source": [
    "train.info()"
   ]
  },
  {
   "cell_type": "code",
   "execution_count": 281,
   "metadata": {},
   "outputs": [
    {
     "data": {
      "text/html": [
       "<div>\n",
       "<style scoped>\n",
       "    .dataframe tbody tr th:only-of-type {\n",
       "        vertical-align: middle;\n",
       "    }\n",
       "\n",
       "    .dataframe tbody tr th {\n",
       "        vertical-align: top;\n",
       "    }\n",
       "\n",
       "    .dataframe thead th {\n",
       "        text-align: right;\n",
       "    }\n",
       "</style>\n",
       "<table border=\"1\" class=\"dataframe\">\n",
       "  <thead>\n",
       "    <tr style=\"text-align: right;\">\n",
       "      <th></th>\n",
       "      <th>index</th>\n",
       "      <th>gender</th>\n",
       "      <th>car</th>\n",
       "      <th>reality</th>\n",
       "      <th>child_num</th>\n",
       "      <th>income_total</th>\n",
       "      <th>income_type</th>\n",
       "      <th>edu_type</th>\n",
       "      <th>family_type</th>\n",
       "      <th>house_type</th>\n",
       "      <th>DAYS_BIRTH</th>\n",
       "      <th>DAYS_EMPLOYED</th>\n",
       "      <th>work_phone</th>\n",
       "      <th>phone</th>\n",
       "      <th>email</th>\n",
       "      <th>family_size</th>\n",
       "      <th>begin_month</th>\n",
       "      <th>credit</th>\n",
       "    </tr>\n",
       "  </thead>\n",
       "  <tbody>\n",
       "    <tr>\n",
       "      <th>0</th>\n",
       "      <td>0</td>\n",
       "      <td>F</td>\n",
       "      <td>N</td>\n",
       "      <td>N</td>\n",
       "      <td>N</td>\n",
       "      <td>d</td>\n",
       "      <td>Commercial associate</td>\n",
       "      <td>Higher education</td>\n",
       "      <td>Married</td>\n",
       "      <td>Municipal apartment</td>\n",
       "      <td>b</td>\n",
       "      <td>c</td>\n",
       "      <td>N</td>\n",
       "      <td>N</td>\n",
       "      <td>N</td>\n",
       "      <td>b</td>\n",
       "      <td>a</td>\n",
       "      <td>1.0</td>\n",
       "    </tr>\n",
       "    <tr>\n",
       "      <th>1</th>\n",
       "      <td>1</td>\n",
       "      <td>F</td>\n",
       "      <td>N</td>\n",
       "      <td>Y</td>\n",
       "      <td>Y</td>\n",
       "      <td>e</td>\n",
       "      <td>Commercial associate</td>\n",
       "      <td>Secondary / secondary special</td>\n",
       "      <td>Civil marriage</td>\n",
       "      <td>House / apartment</td>\n",
       "      <td>a</td>\n",
       "      <td>a</td>\n",
       "      <td>N</td>\n",
       "      <td>N</td>\n",
       "      <td>Y</td>\n",
       "      <td>c</td>\n",
       "      <td>a</td>\n",
       "      <td>1.0</td>\n",
       "    </tr>\n",
       "    <tr>\n",
       "      <th>2</th>\n",
       "      <td>2</td>\n",
       "      <td>M</td>\n",
       "      <td>Y</td>\n",
       "      <td>Y</td>\n",
       "      <td>N</td>\n",
       "      <td>e</td>\n",
       "      <td>Working</td>\n",
       "      <td>Higher education</td>\n",
       "      <td>Married</td>\n",
       "      <td>House / apartment</td>\n",
       "      <td>d</td>\n",
       "      <td>b</td>\n",
       "      <td>N</td>\n",
       "      <td>Y</td>\n",
       "      <td>N</td>\n",
       "      <td>b</td>\n",
       "      <td>b</td>\n",
       "      <td>2.0</td>\n",
       "    </tr>\n",
       "    <tr>\n",
       "      <th>3</th>\n",
       "      <td>3</td>\n",
       "      <td>F</td>\n",
       "      <td>N</td>\n",
       "      <td>Y</td>\n",
       "      <td>N</td>\n",
       "      <td>d</td>\n",
       "      <td>Commercial associate</td>\n",
       "      <td>Secondary / secondary special</td>\n",
       "      <td>Married</td>\n",
       "      <td>House / apartment</td>\n",
       "      <td>c</td>\n",
       "      <td>a</td>\n",
       "      <td>N</td>\n",
       "      <td>Y</td>\n",
       "      <td>N</td>\n",
       "      <td>b</td>\n",
       "      <td>d</td>\n",
       "      <td>0.0</td>\n",
       "    </tr>\n",
       "    <tr>\n",
       "      <th>4</th>\n",
       "      <td>4</td>\n",
       "      <td>F</td>\n",
       "      <td>Y</td>\n",
       "      <td>Y</td>\n",
       "      <td>N</td>\n",
       "      <td>c</td>\n",
       "      <td>State servant</td>\n",
       "      <td>Higher education</td>\n",
       "      <td>Married</td>\n",
       "      <td>House / apartment</td>\n",
       "      <td>c</td>\n",
       "      <td>a</td>\n",
       "      <td>N</td>\n",
       "      <td>N</td>\n",
       "      <td>N</td>\n",
       "      <td>b</td>\n",
       "      <td>c</td>\n",
       "      <td>2.0</td>\n",
       "    </tr>\n",
       "    <tr>\n",
       "      <th>...</th>\n",
       "      <td>...</td>\n",
       "      <td>...</td>\n",
       "      <td>...</td>\n",
       "      <td>...</td>\n",
       "      <td>...</td>\n",
       "      <td>...</td>\n",
       "      <td>...</td>\n",
       "      <td>...</td>\n",
       "      <td>...</td>\n",
       "      <td>...</td>\n",
       "      <td>...</td>\n",
       "      <td>...</td>\n",
       "      <td>...</td>\n",
       "      <td>...</td>\n",
       "      <td>...</td>\n",
       "      <td>...</td>\n",
       "      <td>...</td>\n",
       "      <td>...</td>\n",
       "    </tr>\n",
       "    <tr>\n",
       "      <th>26452</th>\n",
       "      <td>26452</td>\n",
       "      <td>F</td>\n",
       "      <td>N</td>\n",
       "      <td>N</td>\n",
       "      <td>Y</td>\n",
       "      <td>d</td>\n",
       "      <td>State servant</td>\n",
       "      <td>Secondary / secondary special</td>\n",
       "      <td>Married</td>\n",
       "      <td>House / apartment</td>\n",
       "      <td>b</td>\n",
       "      <td>a</td>\n",
       "      <td>N</td>\n",
       "      <td>N</td>\n",
       "      <td>N</td>\n",
       "      <td>d</td>\n",
       "      <td>a</td>\n",
       "      <td>1.0</td>\n",
       "    </tr>\n",
       "    <tr>\n",
       "      <th>26453</th>\n",
       "      <td>26453</td>\n",
       "      <td>F</td>\n",
       "      <td>N</td>\n",
       "      <td>Y</td>\n",
       "      <td>Y</td>\n",
       "      <td>c</td>\n",
       "      <td>Working</td>\n",
       "      <td>Higher education</td>\n",
       "      <td>Separated</td>\n",
       "      <td>House / apartment</td>\n",
       "      <td>c</td>\n",
       "      <td>b</td>\n",
       "      <td>N</td>\n",
       "      <td>N</td>\n",
       "      <td>N</td>\n",
       "      <td>b</td>\n",
       "      <td>d</td>\n",
       "      <td>2.0</td>\n",
       "    </tr>\n",
       "    <tr>\n",
       "      <th>26454</th>\n",
       "      <td>26454</td>\n",
       "      <td>F</td>\n",
       "      <td>Y</td>\n",
       "      <td>N</td>\n",
       "      <td>N</td>\n",
       "      <td>e</td>\n",
       "      <td>Working</td>\n",
       "      <td>Secondary / secondary special</td>\n",
       "      <td>Civil marriage</td>\n",
       "      <td>With parents</td>\n",
       "      <td>a</td>\n",
       "      <td>a</td>\n",
       "      <td>N</td>\n",
       "      <td>N</td>\n",
       "      <td>N</td>\n",
       "      <td>b</td>\n",
       "      <td>c</td>\n",
       "      <td>2.0</td>\n",
       "    </tr>\n",
       "    <tr>\n",
       "      <th>26455</th>\n",
       "      <td>26455</td>\n",
       "      <td>M</td>\n",
       "      <td>N</td>\n",
       "      <td>Y</td>\n",
       "      <td>N</td>\n",
       "      <td>c</td>\n",
       "      <td>Working</td>\n",
       "      <td>Incomplete higher</td>\n",
       "      <td>Single / not married</td>\n",
       "      <td>House / apartment</td>\n",
       "      <td>a</td>\n",
       "      <td>a</td>\n",
       "      <td>N</td>\n",
       "      <td>N</td>\n",
       "      <td>N</td>\n",
       "      <td>a</td>\n",
       "      <td>e</td>\n",
       "      <td>2.0</td>\n",
       "    </tr>\n",
       "    <tr>\n",
       "      <th>26456</th>\n",
       "      <td>26456</td>\n",
       "      <td>F</td>\n",
       "      <td>N</td>\n",
       "      <td>N</td>\n",
       "      <td>N</td>\n",
       "      <td>a</td>\n",
       "      <td>Working</td>\n",
       "      <td>Secondary / secondary special</td>\n",
       "      <td>Civil marriage</td>\n",
       "      <td>House / apartment</td>\n",
       "      <td>d</td>\n",
       "      <td>a</td>\n",
       "      <td>N</td>\n",
       "      <td>N</td>\n",
       "      <td>N</td>\n",
       "      <td>b</td>\n",
       "      <td>a</td>\n",
       "      <td>2.0</td>\n",
       "    </tr>\n",
       "  </tbody>\n",
       "</table>\n",
       "<p>26457 rows × 18 columns</p>\n",
       "</div>"
      ],
      "text/plain": [
       "       index gender car reality child_num income_total           income_type  \\\n",
       "0          0      F   N       N         N            d  Commercial associate   \n",
       "1          1      F   N       Y         Y            e  Commercial associate   \n",
       "2          2      M   Y       Y         N            e               Working   \n",
       "3          3      F   N       Y         N            d  Commercial associate   \n",
       "4          4      F   Y       Y         N            c         State servant   \n",
       "...      ...    ...  ..     ...       ...          ...                   ...   \n",
       "26452  26452      F   N       N         Y            d         State servant   \n",
       "26453  26453      F   N       Y         Y            c               Working   \n",
       "26454  26454      F   Y       N         N            e               Working   \n",
       "26455  26455      M   N       Y         N            c               Working   \n",
       "26456  26456      F   N       N         N            a               Working   \n",
       "\n",
       "                            edu_type           family_type  \\\n",
       "0                   Higher education               Married   \n",
       "1      Secondary / secondary special        Civil marriage   \n",
       "2                   Higher education               Married   \n",
       "3      Secondary / secondary special               Married   \n",
       "4                   Higher education               Married   \n",
       "...                              ...                   ...   \n",
       "26452  Secondary / secondary special               Married   \n",
       "26453               Higher education             Separated   \n",
       "26454  Secondary / secondary special        Civil marriage   \n",
       "26455              Incomplete higher  Single / not married   \n",
       "26456  Secondary / secondary special        Civil marriage   \n",
       "\n",
       "                house_type DAYS_BIRTH DAYS_EMPLOYED work_phone phone email  \\\n",
       "0      Municipal apartment          b             c          N     N     N   \n",
       "1        House / apartment          a             a          N     N     Y   \n",
       "2        House / apartment          d             b          N     Y     N   \n",
       "3        House / apartment          c             a          N     Y     N   \n",
       "4        House / apartment          c             a          N     N     N   \n",
       "...                    ...        ...           ...        ...   ...   ...   \n",
       "26452    House / apartment          b             a          N     N     N   \n",
       "26453    House / apartment          c             b          N     N     N   \n",
       "26454         With parents          a             a          N     N     N   \n",
       "26455    House / apartment          a             a          N     N     N   \n",
       "26456    House / apartment          d             a          N     N     N   \n",
       "\n",
       "      family_size begin_month  credit  \n",
       "0               b           a     1.0  \n",
       "1               c           a     1.0  \n",
       "2               b           b     2.0  \n",
       "3               b           d     0.0  \n",
       "4               b           c     2.0  \n",
       "...           ...         ...     ...  \n",
       "26452           d           a     1.0  \n",
       "26453           b           d     2.0  \n",
       "26454           b           c     2.0  \n",
       "26455           a           e     2.0  \n",
       "26456           b           a     2.0  \n",
       "\n",
       "[26457 rows x 18 columns]"
      ]
     },
     "execution_count": 281,
     "metadata": {},
     "output_type": "execute_result"
    }
   ],
   "source": [
    "train"
   ]
  },
  {
   "cell_type": "code",
   "execution_count": 282,
   "metadata": {},
   "outputs": [],
   "source": [
    "train_x = train.drop(['index', 'credit'], axis =1)\n",
    "test_x = test.drop('index', axis = 1)\n",
    "train_y = train[['credit']]"
   ]
  },
  {
   "cell_type": "code",
   "execution_count": 283,
   "metadata": {},
   "outputs": [
    {
     "name": "stdout",
     "output_type": "stream",
     "text": [
      "(26457, 16) (26457, 1) (10000, 16)\n"
     ]
    }
   ],
   "source": [
    "print(train_x.shape, train_y.shape, test_x.shape)"
   ]
  },
  {
   "cell_type": "code",
   "execution_count": 284,
   "metadata": {},
   "outputs": [
    {
     "data": {
      "text/html": [
       "<div>\n",
       "<style scoped>\n",
       "    .dataframe tbody tr th:only-of-type {\n",
       "        vertical-align: middle;\n",
       "    }\n",
       "\n",
       "    .dataframe tbody tr th {\n",
       "        vertical-align: top;\n",
       "    }\n",
       "\n",
       "    .dataframe thead th {\n",
       "        text-align: right;\n",
       "    }\n",
       "</style>\n",
       "<table border=\"1\" class=\"dataframe\">\n",
       "  <thead>\n",
       "    <tr style=\"text-align: right;\">\n",
       "      <th></th>\n",
       "      <th>gender_M</th>\n",
       "      <th>car_Y</th>\n",
       "      <th>reality_Y</th>\n",
       "      <th>child_num_Y</th>\n",
       "      <th>income_total_b</th>\n",
       "      <th>income_total_c</th>\n",
       "      <th>income_total_d</th>\n",
       "      <th>income_total_e</th>\n",
       "      <th>income_type_Pensioner</th>\n",
       "      <th>income_type_State servant</th>\n",
       "      <th>...</th>\n",
       "      <th>work_phone_Y</th>\n",
       "      <th>phone_Y</th>\n",
       "      <th>email_Y</th>\n",
       "      <th>family_size_b</th>\n",
       "      <th>family_size_c</th>\n",
       "      <th>family_size_d</th>\n",
       "      <th>begin_month_b</th>\n",
       "      <th>begin_month_c</th>\n",
       "      <th>begin_month_d</th>\n",
       "      <th>begin_month_e</th>\n",
       "    </tr>\n",
       "  </thead>\n",
       "  <tbody>\n",
       "    <tr>\n",
       "      <th>0</th>\n",
       "      <td>0</td>\n",
       "      <td>0</td>\n",
       "      <td>0</td>\n",
       "      <td>0</td>\n",
       "      <td>0</td>\n",
       "      <td>0</td>\n",
       "      <td>1</td>\n",
       "      <td>0</td>\n",
       "      <td>0</td>\n",
       "      <td>0</td>\n",
       "      <td>...</td>\n",
       "      <td>0</td>\n",
       "      <td>0</td>\n",
       "      <td>0</td>\n",
       "      <td>1</td>\n",
       "      <td>0</td>\n",
       "      <td>0</td>\n",
       "      <td>0</td>\n",
       "      <td>0</td>\n",
       "      <td>0</td>\n",
       "      <td>0</td>\n",
       "    </tr>\n",
       "    <tr>\n",
       "      <th>1</th>\n",
       "      <td>0</td>\n",
       "      <td>0</td>\n",
       "      <td>1</td>\n",
       "      <td>1</td>\n",
       "      <td>0</td>\n",
       "      <td>0</td>\n",
       "      <td>0</td>\n",
       "      <td>1</td>\n",
       "      <td>0</td>\n",
       "      <td>0</td>\n",
       "      <td>...</td>\n",
       "      <td>0</td>\n",
       "      <td>0</td>\n",
       "      <td>1</td>\n",
       "      <td>0</td>\n",
       "      <td>1</td>\n",
       "      <td>0</td>\n",
       "      <td>0</td>\n",
       "      <td>0</td>\n",
       "      <td>0</td>\n",
       "      <td>0</td>\n",
       "    </tr>\n",
       "    <tr>\n",
       "      <th>2</th>\n",
       "      <td>1</td>\n",
       "      <td>1</td>\n",
       "      <td>1</td>\n",
       "      <td>0</td>\n",
       "      <td>0</td>\n",
       "      <td>0</td>\n",
       "      <td>0</td>\n",
       "      <td>1</td>\n",
       "      <td>0</td>\n",
       "      <td>0</td>\n",
       "      <td>...</td>\n",
       "      <td>0</td>\n",
       "      <td>1</td>\n",
       "      <td>0</td>\n",
       "      <td>1</td>\n",
       "      <td>0</td>\n",
       "      <td>0</td>\n",
       "      <td>1</td>\n",
       "      <td>0</td>\n",
       "      <td>0</td>\n",
       "      <td>0</td>\n",
       "    </tr>\n",
       "    <tr>\n",
       "      <th>3</th>\n",
       "      <td>0</td>\n",
       "      <td>0</td>\n",
       "      <td>1</td>\n",
       "      <td>0</td>\n",
       "      <td>0</td>\n",
       "      <td>0</td>\n",
       "      <td>1</td>\n",
       "      <td>0</td>\n",
       "      <td>0</td>\n",
       "      <td>0</td>\n",
       "      <td>...</td>\n",
       "      <td>0</td>\n",
       "      <td>1</td>\n",
       "      <td>0</td>\n",
       "      <td>1</td>\n",
       "      <td>0</td>\n",
       "      <td>0</td>\n",
       "      <td>0</td>\n",
       "      <td>0</td>\n",
       "      <td>1</td>\n",
       "      <td>0</td>\n",
       "    </tr>\n",
       "    <tr>\n",
       "      <th>4</th>\n",
       "      <td>0</td>\n",
       "      <td>1</td>\n",
       "      <td>1</td>\n",
       "      <td>0</td>\n",
       "      <td>0</td>\n",
       "      <td>1</td>\n",
       "      <td>0</td>\n",
       "      <td>0</td>\n",
       "      <td>0</td>\n",
       "      <td>1</td>\n",
       "      <td>...</td>\n",
       "      <td>0</td>\n",
       "      <td>0</td>\n",
       "      <td>0</td>\n",
       "      <td>1</td>\n",
       "      <td>0</td>\n",
       "      <td>0</td>\n",
       "      <td>0</td>\n",
       "      <td>1</td>\n",
       "      <td>0</td>\n",
       "      <td>0</td>\n",
       "    </tr>\n",
       "    <tr>\n",
       "      <th>...</th>\n",
       "      <td>...</td>\n",
       "      <td>...</td>\n",
       "      <td>...</td>\n",
       "      <td>...</td>\n",
       "      <td>...</td>\n",
       "      <td>...</td>\n",
       "      <td>...</td>\n",
       "      <td>...</td>\n",
       "      <td>...</td>\n",
       "      <td>...</td>\n",
       "      <td>...</td>\n",
       "      <td>...</td>\n",
       "      <td>...</td>\n",
       "      <td>...</td>\n",
       "      <td>...</td>\n",
       "      <td>...</td>\n",
       "      <td>...</td>\n",
       "      <td>...</td>\n",
       "      <td>...</td>\n",
       "      <td>...</td>\n",
       "      <td>...</td>\n",
       "    </tr>\n",
       "    <tr>\n",
       "      <th>26452</th>\n",
       "      <td>0</td>\n",
       "      <td>0</td>\n",
       "      <td>0</td>\n",
       "      <td>1</td>\n",
       "      <td>0</td>\n",
       "      <td>0</td>\n",
       "      <td>1</td>\n",
       "      <td>0</td>\n",
       "      <td>0</td>\n",
       "      <td>1</td>\n",
       "      <td>...</td>\n",
       "      <td>0</td>\n",
       "      <td>0</td>\n",
       "      <td>0</td>\n",
       "      <td>0</td>\n",
       "      <td>0</td>\n",
       "      <td>1</td>\n",
       "      <td>0</td>\n",
       "      <td>0</td>\n",
       "      <td>0</td>\n",
       "      <td>0</td>\n",
       "    </tr>\n",
       "    <tr>\n",
       "      <th>26453</th>\n",
       "      <td>0</td>\n",
       "      <td>0</td>\n",
       "      <td>1</td>\n",
       "      <td>1</td>\n",
       "      <td>0</td>\n",
       "      <td>1</td>\n",
       "      <td>0</td>\n",
       "      <td>0</td>\n",
       "      <td>0</td>\n",
       "      <td>0</td>\n",
       "      <td>...</td>\n",
       "      <td>0</td>\n",
       "      <td>0</td>\n",
       "      <td>0</td>\n",
       "      <td>1</td>\n",
       "      <td>0</td>\n",
       "      <td>0</td>\n",
       "      <td>0</td>\n",
       "      <td>0</td>\n",
       "      <td>1</td>\n",
       "      <td>0</td>\n",
       "    </tr>\n",
       "    <tr>\n",
       "      <th>26454</th>\n",
       "      <td>0</td>\n",
       "      <td>1</td>\n",
       "      <td>0</td>\n",
       "      <td>0</td>\n",
       "      <td>0</td>\n",
       "      <td>0</td>\n",
       "      <td>0</td>\n",
       "      <td>1</td>\n",
       "      <td>0</td>\n",
       "      <td>0</td>\n",
       "      <td>...</td>\n",
       "      <td>0</td>\n",
       "      <td>0</td>\n",
       "      <td>0</td>\n",
       "      <td>1</td>\n",
       "      <td>0</td>\n",
       "      <td>0</td>\n",
       "      <td>0</td>\n",
       "      <td>1</td>\n",
       "      <td>0</td>\n",
       "      <td>0</td>\n",
       "    </tr>\n",
       "    <tr>\n",
       "      <th>26455</th>\n",
       "      <td>1</td>\n",
       "      <td>0</td>\n",
       "      <td>1</td>\n",
       "      <td>0</td>\n",
       "      <td>0</td>\n",
       "      <td>1</td>\n",
       "      <td>0</td>\n",
       "      <td>0</td>\n",
       "      <td>0</td>\n",
       "      <td>0</td>\n",
       "      <td>...</td>\n",
       "      <td>0</td>\n",
       "      <td>0</td>\n",
       "      <td>0</td>\n",
       "      <td>0</td>\n",
       "      <td>0</td>\n",
       "      <td>0</td>\n",
       "      <td>0</td>\n",
       "      <td>0</td>\n",
       "      <td>0</td>\n",
       "      <td>1</td>\n",
       "    </tr>\n",
       "    <tr>\n",
       "      <th>26456</th>\n",
       "      <td>0</td>\n",
       "      <td>0</td>\n",
       "      <td>0</td>\n",
       "      <td>0</td>\n",
       "      <td>0</td>\n",
       "      <td>0</td>\n",
       "      <td>0</td>\n",
       "      <td>0</td>\n",
       "      <td>0</td>\n",
       "      <td>0</td>\n",
       "      <td>...</td>\n",
       "      <td>0</td>\n",
       "      <td>0</td>\n",
       "      <td>0</td>\n",
       "      <td>1</td>\n",
       "      <td>0</td>\n",
       "      <td>0</td>\n",
       "      <td>0</td>\n",
       "      <td>0</td>\n",
       "      <td>0</td>\n",
       "      <td>0</td>\n",
       "    </tr>\n",
       "  </tbody>\n",
       "</table>\n",
       "<p>26457 rows × 37 columns</p>\n",
       "</div>"
      ],
      "text/plain": [
       "       gender_M  car_Y  reality_Y  child_num_Y  income_total_b  \\\n",
       "0             0      0          0            0               0   \n",
       "1             0      0          1            1               0   \n",
       "2             1      1          1            0               0   \n",
       "3             0      0          1            0               0   \n",
       "4             0      1          1            0               0   \n",
       "...         ...    ...        ...          ...             ...   \n",
       "26452         0      0          0            1               0   \n",
       "26453         0      0          1            1               0   \n",
       "26454         0      1          0            0               0   \n",
       "26455         1      0          1            0               0   \n",
       "26456         0      0          0            0               0   \n",
       "\n",
       "       income_total_c  income_total_d  income_total_e  income_type_Pensioner  \\\n",
       "0                   0               1               0                      0   \n",
       "1                   0               0               1                      0   \n",
       "2                   0               0               1                      0   \n",
       "3                   0               1               0                      0   \n",
       "4                   1               0               0                      0   \n",
       "...               ...             ...             ...                    ...   \n",
       "26452               0               1               0                      0   \n",
       "26453               1               0               0                      0   \n",
       "26454               0               0               1                      0   \n",
       "26455               1               0               0                      0   \n",
       "26456               0               0               0                      0   \n",
       "\n",
       "       income_type_State servant  ...  work_phone_Y  phone_Y  email_Y  \\\n",
       "0                              0  ...             0        0        0   \n",
       "1                              0  ...             0        0        1   \n",
       "2                              0  ...             0        1        0   \n",
       "3                              0  ...             0        1        0   \n",
       "4                              1  ...             0        0        0   \n",
       "...                          ...  ...           ...      ...      ...   \n",
       "26452                          1  ...             0        0        0   \n",
       "26453                          0  ...             0        0        0   \n",
       "26454                          0  ...             0        0        0   \n",
       "26455                          0  ...             0        0        0   \n",
       "26456                          0  ...             0        0        0   \n",
       "\n",
       "       family_size_b  family_size_c  family_size_d  begin_month_b  \\\n",
       "0                  1              0              0              0   \n",
       "1                  0              1              0              0   \n",
       "2                  1              0              0              1   \n",
       "3                  1              0              0              0   \n",
       "4                  1              0              0              0   \n",
       "...              ...            ...            ...            ...   \n",
       "26452              0              0              1              0   \n",
       "26453              1              0              0              0   \n",
       "26454              1              0              0              0   \n",
       "26455              0              0              0              0   \n",
       "26456              1              0              0              0   \n",
       "\n",
       "       begin_month_c  begin_month_d  begin_month_e  \n",
       "0                  0              0              0  \n",
       "1                  0              0              0  \n",
       "2                  0              0              0  \n",
       "3                  0              1              0  \n",
       "4                  1              0              0  \n",
       "...              ...            ...            ...  \n",
       "26452              0              0              0  \n",
       "26453              0              1              0  \n",
       "26454              1              0              0  \n",
       "26455              0              0              1  \n",
       "26456              0              0              0  \n",
       "\n",
       "[26457 rows x 37 columns]"
      ]
     },
     "execution_count": 284,
     "metadata": {},
     "output_type": "execute_result"
    }
   ],
   "source": [
    "train_x = pd.get_dummies(train_x, drop_first= True)\n",
    "test_x = pd.get_dummies(test_x, drop_first= True)\n",
    "\n",
    "#train_x 형태 확인하기 위해 dataframe형태로 변환\n",
    "train_x = pd.DataFrame(train_x)\n",
    "train_x"
   ]
  },
  {
   "cell_type": "code",
   "execution_count": 285,
   "metadata": {},
   "outputs": [
    {
     "data": {
      "text/html": [
       "<div>\n",
       "<style scoped>\n",
       "    .dataframe tbody tr th:only-of-type {\n",
       "        vertical-align: middle;\n",
       "    }\n",
       "\n",
       "    .dataframe tbody tr th {\n",
       "        vertical-align: top;\n",
       "    }\n",
       "\n",
       "    .dataframe thead th {\n",
       "        text-align: right;\n",
       "    }\n",
       "</style>\n",
       "<table border=\"1\" class=\"dataframe\">\n",
       "  <thead>\n",
       "    <tr style=\"text-align: right;\">\n",
       "      <th></th>\n",
       "      <th>gender_M</th>\n",
       "      <th>car_Y</th>\n",
       "      <th>reality_Y</th>\n",
       "      <th>child_num_Y</th>\n",
       "      <th>income_total_b</th>\n",
       "      <th>income_total_c</th>\n",
       "      <th>income_total_d</th>\n",
       "      <th>income_total_e</th>\n",
       "      <th>income_type_Pensioner</th>\n",
       "      <th>income_type_State servant</th>\n",
       "      <th>...</th>\n",
       "      <th>work_phone_Y</th>\n",
       "      <th>phone_Y</th>\n",
       "      <th>email_Y</th>\n",
       "      <th>family_size_b</th>\n",
       "      <th>family_size_c</th>\n",
       "      <th>family_size_d</th>\n",
       "      <th>begin_month_b</th>\n",
       "      <th>begin_month_c</th>\n",
       "      <th>begin_month_d</th>\n",
       "      <th>begin_month_e</th>\n",
       "    </tr>\n",
       "  </thead>\n",
       "  <tbody>\n",
       "    <tr>\n",
       "      <th>0</th>\n",
       "      <td>0</td>\n",
       "      <td>0</td>\n",
       "      <td>0</td>\n",
       "      <td>0</td>\n",
       "      <td>0</td>\n",
       "      <td>0</td>\n",
       "      <td>1</td>\n",
       "      <td>0</td>\n",
       "      <td>0</td>\n",
       "      <td>0</td>\n",
       "      <td>...</td>\n",
       "      <td>0</td>\n",
       "      <td>0</td>\n",
       "      <td>0</td>\n",
       "      <td>1</td>\n",
       "      <td>0</td>\n",
       "      <td>0</td>\n",
       "      <td>0</td>\n",
       "      <td>0</td>\n",
       "      <td>0</td>\n",
       "      <td>0</td>\n",
       "    </tr>\n",
       "    <tr>\n",
       "      <th>1</th>\n",
       "      <td>0</td>\n",
       "      <td>0</td>\n",
       "      <td>1</td>\n",
       "      <td>1</td>\n",
       "      <td>0</td>\n",
       "      <td>0</td>\n",
       "      <td>0</td>\n",
       "      <td>1</td>\n",
       "      <td>0</td>\n",
       "      <td>0</td>\n",
       "      <td>...</td>\n",
       "      <td>0</td>\n",
       "      <td>0</td>\n",
       "      <td>1</td>\n",
       "      <td>0</td>\n",
       "      <td>1</td>\n",
       "      <td>0</td>\n",
       "      <td>0</td>\n",
       "      <td>0</td>\n",
       "      <td>0</td>\n",
       "      <td>0</td>\n",
       "    </tr>\n",
       "    <tr>\n",
       "      <th>2</th>\n",
       "      <td>1</td>\n",
       "      <td>1</td>\n",
       "      <td>1</td>\n",
       "      <td>0</td>\n",
       "      <td>0</td>\n",
       "      <td>0</td>\n",
       "      <td>0</td>\n",
       "      <td>1</td>\n",
       "      <td>0</td>\n",
       "      <td>0</td>\n",
       "      <td>...</td>\n",
       "      <td>0</td>\n",
       "      <td>1</td>\n",
       "      <td>0</td>\n",
       "      <td>1</td>\n",
       "      <td>0</td>\n",
       "      <td>0</td>\n",
       "      <td>1</td>\n",
       "      <td>0</td>\n",
       "      <td>0</td>\n",
       "      <td>0</td>\n",
       "    </tr>\n",
       "    <tr>\n",
       "      <th>3</th>\n",
       "      <td>0</td>\n",
       "      <td>0</td>\n",
       "      <td>1</td>\n",
       "      <td>0</td>\n",
       "      <td>0</td>\n",
       "      <td>0</td>\n",
       "      <td>1</td>\n",
       "      <td>0</td>\n",
       "      <td>0</td>\n",
       "      <td>0</td>\n",
       "      <td>...</td>\n",
       "      <td>0</td>\n",
       "      <td>1</td>\n",
       "      <td>0</td>\n",
       "      <td>1</td>\n",
       "      <td>0</td>\n",
       "      <td>0</td>\n",
       "      <td>0</td>\n",
       "      <td>0</td>\n",
       "      <td>1</td>\n",
       "      <td>0</td>\n",
       "    </tr>\n",
       "    <tr>\n",
       "      <th>4</th>\n",
       "      <td>0</td>\n",
       "      <td>1</td>\n",
       "      <td>1</td>\n",
       "      <td>0</td>\n",
       "      <td>0</td>\n",
       "      <td>1</td>\n",
       "      <td>0</td>\n",
       "      <td>0</td>\n",
       "      <td>0</td>\n",
       "      <td>1</td>\n",
       "      <td>...</td>\n",
       "      <td>0</td>\n",
       "      <td>0</td>\n",
       "      <td>0</td>\n",
       "      <td>1</td>\n",
       "      <td>0</td>\n",
       "      <td>0</td>\n",
       "      <td>0</td>\n",
       "      <td>1</td>\n",
       "      <td>0</td>\n",
       "      <td>0</td>\n",
       "    </tr>\n",
       "    <tr>\n",
       "      <th>...</th>\n",
       "      <td>...</td>\n",
       "      <td>...</td>\n",
       "      <td>...</td>\n",
       "      <td>...</td>\n",
       "      <td>...</td>\n",
       "      <td>...</td>\n",
       "      <td>...</td>\n",
       "      <td>...</td>\n",
       "      <td>...</td>\n",
       "      <td>...</td>\n",
       "      <td>...</td>\n",
       "      <td>...</td>\n",
       "      <td>...</td>\n",
       "      <td>...</td>\n",
       "      <td>...</td>\n",
       "      <td>...</td>\n",
       "      <td>...</td>\n",
       "      <td>...</td>\n",
       "      <td>...</td>\n",
       "      <td>...</td>\n",
       "      <td>...</td>\n",
       "    </tr>\n",
       "    <tr>\n",
       "      <th>26452</th>\n",
       "      <td>0</td>\n",
       "      <td>0</td>\n",
       "      <td>0</td>\n",
       "      <td>1</td>\n",
       "      <td>0</td>\n",
       "      <td>0</td>\n",
       "      <td>1</td>\n",
       "      <td>0</td>\n",
       "      <td>0</td>\n",
       "      <td>1</td>\n",
       "      <td>...</td>\n",
       "      <td>0</td>\n",
       "      <td>0</td>\n",
       "      <td>0</td>\n",
       "      <td>0</td>\n",
       "      <td>0</td>\n",
       "      <td>1</td>\n",
       "      <td>0</td>\n",
       "      <td>0</td>\n",
       "      <td>0</td>\n",
       "      <td>0</td>\n",
       "    </tr>\n",
       "    <tr>\n",
       "      <th>26453</th>\n",
       "      <td>0</td>\n",
       "      <td>0</td>\n",
       "      <td>1</td>\n",
       "      <td>1</td>\n",
       "      <td>0</td>\n",
       "      <td>1</td>\n",
       "      <td>0</td>\n",
       "      <td>0</td>\n",
       "      <td>0</td>\n",
       "      <td>0</td>\n",
       "      <td>...</td>\n",
       "      <td>0</td>\n",
       "      <td>0</td>\n",
       "      <td>0</td>\n",
       "      <td>1</td>\n",
       "      <td>0</td>\n",
       "      <td>0</td>\n",
       "      <td>0</td>\n",
       "      <td>0</td>\n",
       "      <td>1</td>\n",
       "      <td>0</td>\n",
       "    </tr>\n",
       "    <tr>\n",
       "      <th>26454</th>\n",
       "      <td>0</td>\n",
       "      <td>1</td>\n",
       "      <td>0</td>\n",
       "      <td>0</td>\n",
       "      <td>0</td>\n",
       "      <td>0</td>\n",
       "      <td>0</td>\n",
       "      <td>1</td>\n",
       "      <td>0</td>\n",
       "      <td>0</td>\n",
       "      <td>...</td>\n",
       "      <td>0</td>\n",
       "      <td>0</td>\n",
       "      <td>0</td>\n",
       "      <td>1</td>\n",
       "      <td>0</td>\n",
       "      <td>0</td>\n",
       "      <td>0</td>\n",
       "      <td>1</td>\n",
       "      <td>0</td>\n",
       "      <td>0</td>\n",
       "    </tr>\n",
       "    <tr>\n",
       "      <th>26455</th>\n",
       "      <td>1</td>\n",
       "      <td>0</td>\n",
       "      <td>1</td>\n",
       "      <td>0</td>\n",
       "      <td>0</td>\n",
       "      <td>1</td>\n",
       "      <td>0</td>\n",
       "      <td>0</td>\n",
       "      <td>0</td>\n",
       "      <td>0</td>\n",
       "      <td>...</td>\n",
       "      <td>0</td>\n",
       "      <td>0</td>\n",
       "      <td>0</td>\n",
       "      <td>0</td>\n",
       "      <td>0</td>\n",
       "      <td>0</td>\n",
       "      <td>0</td>\n",
       "      <td>0</td>\n",
       "      <td>0</td>\n",
       "      <td>1</td>\n",
       "    </tr>\n",
       "    <tr>\n",
       "      <th>26456</th>\n",
       "      <td>0</td>\n",
       "      <td>0</td>\n",
       "      <td>0</td>\n",
       "      <td>0</td>\n",
       "      <td>0</td>\n",
       "      <td>0</td>\n",
       "      <td>0</td>\n",
       "      <td>0</td>\n",
       "      <td>0</td>\n",
       "      <td>0</td>\n",
       "      <td>...</td>\n",
       "      <td>0</td>\n",
       "      <td>0</td>\n",
       "      <td>0</td>\n",
       "      <td>1</td>\n",
       "      <td>0</td>\n",
       "      <td>0</td>\n",
       "      <td>0</td>\n",
       "      <td>0</td>\n",
       "      <td>0</td>\n",
       "      <td>0</td>\n",
       "    </tr>\n",
       "  </tbody>\n",
       "</table>\n",
       "<p>26457 rows × 37 columns</p>\n",
       "</div>"
      ],
      "text/plain": [
       "       gender_M  car_Y  reality_Y  child_num_Y  income_total_b  \\\n",
       "0             0      0          0            0               0   \n",
       "1             0      0          1            1               0   \n",
       "2             1      1          1            0               0   \n",
       "3             0      0          1            0               0   \n",
       "4             0      1          1            0               0   \n",
       "...         ...    ...        ...          ...             ...   \n",
       "26452         0      0          0            1               0   \n",
       "26453         0      0          1            1               0   \n",
       "26454         0      1          0            0               0   \n",
       "26455         1      0          1            0               0   \n",
       "26456         0      0          0            0               0   \n",
       "\n",
       "       income_total_c  income_total_d  income_total_e  income_type_Pensioner  \\\n",
       "0                   0               1               0                      0   \n",
       "1                   0               0               1                      0   \n",
       "2                   0               0               1                      0   \n",
       "3                   0               1               0                      0   \n",
       "4                   1               0               0                      0   \n",
       "...               ...             ...             ...                    ...   \n",
       "26452               0               1               0                      0   \n",
       "26453               1               0               0                      0   \n",
       "26454               0               0               1                      0   \n",
       "26455               1               0               0                      0   \n",
       "26456               0               0               0                      0   \n",
       "\n",
       "       income_type_State servant  ...  work_phone_Y  phone_Y  email_Y  \\\n",
       "0                              0  ...             0        0        0   \n",
       "1                              0  ...             0        0        1   \n",
       "2                              0  ...             0        1        0   \n",
       "3                              0  ...             0        1        0   \n",
       "4                              1  ...             0        0        0   \n",
       "...                          ...  ...           ...      ...      ...   \n",
       "26452                          1  ...             0        0        0   \n",
       "26453                          0  ...             0        0        0   \n",
       "26454                          0  ...             0        0        0   \n",
       "26455                          0  ...             0        0        0   \n",
       "26456                          0  ...             0        0        0   \n",
       "\n",
       "       family_size_b  family_size_c  family_size_d  begin_month_b  \\\n",
       "0                  1              0              0              0   \n",
       "1                  0              1              0              0   \n",
       "2                  1              0              0              1   \n",
       "3                  1              0              0              0   \n",
       "4                  1              0              0              0   \n",
       "...              ...            ...            ...            ...   \n",
       "26452              0              0              1              0   \n",
       "26453              1              0              0              0   \n",
       "26454              1              0              0              0   \n",
       "26455              0              0              0              0   \n",
       "26456              1              0              0              0   \n",
       "\n",
       "       begin_month_c  begin_month_d  begin_month_e  \n",
       "0                  0              0              0  \n",
       "1                  0              0              0  \n",
       "2                  0              0              0  \n",
       "3                  0              1              0  \n",
       "4                  1              0              0  \n",
       "...              ...            ...            ...  \n",
       "26452              0              0              0  \n",
       "26453              0              1              0  \n",
       "26454              1              0              0  \n",
       "26455              0              0              1  \n",
       "26456              0              0              0  \n",
       "\n",
       "[26457 rows x 37 columns]"
      ]
     },
     "execution_count": 285,
     "metadata": {},
     "output_type": "execute_result"
    }
   ],
   "source": [
    "train_x"
   ]
  },
  {
   "cell_type": "code",
   "execution_count": 286,
   "metadata": {},
   "outputs": [
    {
     "data": {
      "text/plain": [
       "Index(['gender_M', 'car_Y', 'reality_Y', 'child_num_Y', 'income_total_b',\n",
       "       'income_total_c', 'income_total_d', 'income_total_e',\n",
       "       'income_type_Pensioner', 'income_type_State servant',\n",
       "       'income_type_Working', 'edu_type_Incomplete higher',\n",
       "       'edu_type_Secondary / secondary special', 'family_type_Married',\n",
       "       'family_type_Separated', 'family_type_Single / not married',\n",
       "       'family_type_Widow', 'house_type_Municipal apartment',\n",
       "       'house_type_Office apartment', 'house_type_With parents',\n",
       "       'DAYS_BIRTH_b', 'DAYS_BIRTH_c', 'DAYS_BIRTH_d', 'DAYS_BIRTH_e',\n",
       "       'DAYS_EMPLOYED_b', 'DAYS_EMPLOYED_c', 'DAYS_EMPLOYED_d', 'work_phone_Y',\n",
       "       'phone_Y', 'email_Y', 'family_size_b', 'family_size_c', 'family_size_d',\n",
       "       'begin_month_b', 'begin_month_c', 'begin_month_d', 'begin_month_e'],\n",
       "      dtype='object')"
      ]
     },
     "execution_count": 286,
     "metadata": {},
     "output_type": "execute_result"
    }
   ],
   "source": [
    "train_x.columns"
   ]
  },
  {
   "cell_type": "code",
   "execution_count": 291,
   "metadata": {},
   "outputs": [
    {
     "data": {
      "text/plain": [
       "numpy.ndarray"
      ]
     },
     "execution_count": 291,
     "metadata": {},
     "output_type": "execute_result"
    }
   ],
   "source": [
    "type(train_y)\n",
    "series_train_y = train_y.squeeze()\n",
    "series_train_y2 = series_train_y.ravel()\n",
    "type(series_train_y2)"
   ]
  },
  {
   "cell_type": "code",
   "execution_count": 293,
   "metadata": {},
   "outputs": [
    {
     "data": {
      "text/html": [
       "<div>\n",
       "<style scoped>\n",
       "    .dataframe tbody tr th:only-of-type {\n",
       "        vertical-align: middle;\n",
       "    }\n",
       "\n",
       "    .dataframe tbody tr th {\n",
       "        vertical-align: top;\n",
       "    }\n",
       "\n",
       "    .dataframe thead th {\n",
       "        text-align: right;\n",
       "    }\n",
       "</style>\n",
       "<table border=\"1\" class=\"dataframe\">\n",
       "  <thead>\n",
       "    <tr style=\"text-align: right;\">\n",
       "      <th></th>\n",
       "      <th>credit</th>\n",
       "    </tr>\n",
       "  </thead>\n",
       "  <tbody>\n",
       "    <tr>\n",
       "      <th>36</th>\n",
       "      <td>2.0</td>\n",
       "    </tr>\n",
       "    <tr>\n",
       "      <th>3464</th>\n",
       "      <td>2.0</td>\n",
       "    </tr>\n",
       "    <tr>\n",
       "      <th>2640</th>\n",
       "      <td>2.0</td>\n",
       "    </tr>\n",
       "    <tr>\n",
       "      <th>22500</th>\n",
       "      <td>1.0</td>\n",
       "    </tr>\n",
       "    <tr>\n",
       "      <th>17275</th>\n",
       "      <td>1.0</td>\n",
       "    </tr>\n",
       "    <tr>\n",
       "      <th>...</th>\n",
       "      <td>...</td>\n",
       "    </tr>\n",
       "    <tr>\n",
       "      <th>6806</th>\n",
       "      <td>1.0</td>\n",
       "    </tr>\n",
       "    <tr>\n",
       "      <th>23096</th>\n",
       "      <td>2.0</td>\n",
       "    </tr>\n",
       "    <tr>\n",
       "      <th>7756</th>\n",
       "      <td>2.0</td>\n",
       "    </tr>\n",
       "    <tr>\n",
       "      <th>23331</th>\n",
       "      <td>2.0</td>\n",
       "    </tr>\n",
       "    <tr>\n",
       "      <th>25457</th>\n",
       "      <td>2.0</td>\n",
       "    </tr>\n",
       "  </tbody>\n",
       "</table>\n",
       "<p>6615 rows × 1 columns</p>\n",
       "</div>"
      ],
      "text/plain": [
       "       credit\n",
       "36        2.0\n",
       "3464      2.0\n",
       "2640      2.0\n",
       "22500     1.0\n",
       "17275     1.0\n",
       "...       ...\n",
       "6806      1.0\n",
       "23096     2.0\n",
       "7756      2.0\n",
       "23331     2.0\n",
       "25457     2.0\n",
       "\n",
       "[6615 rows x 1 columns]"
      ]
     },
     "execution_count": 293,
     "metadata": {},
     "output_type": "execute_result"
    }
   ],
   "source": [
    "y_val"
   ]
  },
  {
   "cell_type": "code",
   "execution_count": 289,
   "metadata": {},
   "outputs": [],
   "source": [
    "from sklearn.model_selection import train_test_split"
   ]
  },
  {
   "cell_type": "code",
   "execution_count": 294,
   "metadata": {},
   "outputs": [
    {
     "name": "stdout",
     "output_type": "stream",
     "text": [
      "Train set: \n",
      "(19842, 37)\n",
      "(19842,)\n",
      "===========\n",
      "Validation set: \n",
      "(6615, 37)\n",
      "(6615,)\n"
     ]
    },
    {
     "ename": "IndexError",
     "evalue": "only integers, slices (`:`), ellipsis (`...`), numpy.newaxis (`None`) and integer or boolean arrays are valid indices",
     "output_type": "error",
     "traceback": [
      "\u001b[1;31m---------------------------------------------------------------------------\u001b[0m",
      "\u001b[1;31mIndexError\u001b[0m                                Traceback (most recent call last)",
      "\u001b[1;32m~\\AppData\\Local\\Temp/ipykernel_37540/2469709542.py\u001b[0m in \u001b[0;36m<module>\u001b[1;34m\u001b[0m\n\u001b[0;32m     23\u001b[0m \u001b[0my_pred\u001b[0m\u001b[1;33m=\u001b[0m\u001b[0mlgbm_clf\u001b[0m\u001b[1;33m.\u001b[0m\u001b[0mpredict_proba\u001b[0m\u001b[1;33m(\u001b[0m\u001b[0mX_val\u001b[0m\u001b[1;33m)\u001b[0m\u001b[1;33m\u001b[0m\u001b[1;33m\u001b[0m\u001b[0m\n\u001b[0;32m     24\u001b[0m \u001b[1;33m\u001b[0m\u001b[0m\n\u001b[1;32m---> 25\u001b[1;33m \u001b[0mprint\u001b[0m\u001b[1;33m(\u001b[0m\u001b[1;34mf\"lgbm_log_loss: {log_loss(to_categorical(y_val['credit']), y_pred)}\"\u001b[0m\u001b[1;33m)\u001b[0m\u001b[1;33m\u001b[0m\u001b[1;33m\u001b[0m\u001b[0m\n\u001b[0m",
      "\u001b[1;31mIndexError\u001b[0m: only integers, slices (`:`), ellipsis (`...`), numpy.newaxis (`None`) and integer or boolean arrays are valid indices"
     ]
    }
   ],
   "source": [
    "#lgbm\n",
    "\n",
    "from lightgbm import LGBMClassifier\n",
    "from sklearn.metrics import accuracy_score, log_loss\n",
    "from sklearn.metrics import f1_score\n",
    "from tensorflow.keras.utils import to_categorical\n",
    "\n",
    "X_train, X_val, y_train, y_val = train_test_split(train_x, series_train_y2, \n",
    "                                                    stratify=series_train_y2, test_size=0.25,\n",
    "                                                    random_state = 10086)\n",
    "\n",
    "print(\"Train set: \")\n",
    "print(X_train.shape)\n",
    "print(y_train.shape)\n",
    "print(\"===========\")\n",
    "print(\"Validation set: \")\n",
    "print(X_val.shape)\n",
    "print(y_val.shape)\n",
    "\n",
    "\n",
    "lgbm_clf=LGBMClassifier()\n",
    "lgbm_clf.fit(X_train, y_train)\n",
    "y_pred=lgbm_clf.predict_proba(X_val)\n",
    "\n",
    "print(f\"lgbm_log_loss: {log_loss(to_categorical(y_val['credit']), y_pred)}\")"
   ]
  },
  {
   "cell_type": "code",
   "execution_count": 193,
   "metadata": {},
   "outputs": [
    {
     "name": "stdout",
     "output_type": "stream",
     "text": [
      "Train set: \n",
      "(19842, 37)\n",
      "(19842, 1)\n",
      "===========\n",
      "Validation set: \n",
      "(6615, 37)\n",
      "(6615, 1)\n",
      "Learning rate set to 0.092151\n",
      "0:\tlearn: 1.0580557\ttotal: 185ms\tremaining: 3m 4s\n",
      "1:\tlearn: 1.0267548\ttotal: 197ms\tremaining: 1m 38s\n",
      "2:\tlearn: 1.0010360\ttotal: 208ms\tremaining: 1m 9s\n",
      "3:\tlearn: 0.9783290\ttotal: 222ms\tremaining: 55.2s\n",
      "4:\tlearn: 0.9608264\ttotal: 236ms\tremaining: 47s\n",
      "5:\tlearn: 0.9465417\ttotal: 244ms\tremaining: 40.4s\n",
      "6:\tlearn: 0.9344336\ttotal: 258ms\tremaining: 36.6s\n",
      "7:\tlearn: 0.9241507\ttotal: 268ms\tremaining: 33.3s\n",
      "8:\tlearn: 0.9156899\ttotal: 290ms\tremaining: 31.9s\n",
      "9:\tlearn: 0.9083472\ttotal: 306ms\tremaining: 30.3s\n",
      "10:\tlearn: 0.9020873\ttotal: 324ms\tremaining: 29.1s\n",
      "11:\tlearn: 0.8946057\ttotal: 345ms\tremaining: 28.4s\n",
      "12:\tlearn: 0.8899751\ttotal: 359ms\tremaining: 27.2s\n",
      "13:\tlearn: 0.8859423\ttotal: 372ms\tremaining: 26.2s\n",
      "14:\tlearn: 0.8809568\ttotal: 385ms\tremaining: 25.3s\n",
      "15:\tlearn: 0.8781804\ttotal: 398ms\tremaining: 24.5s\n",
      "16:\tlearn: 0.8756811\ttotal: 410ms\tremaining: 23.7s\n",
      "17:\tlearn: 0.8731552\ttotal: 421ms\tremaining: 23s\n",
      "18:\tlearn: 0.8710028\ttotal: 437ms\tremaining: 22.5s\n",
      "19:\tlearn: 0.8681599\ttotal: 458ms\tremaining: 22.4s\n",
      "20:\tlearn: 0.8663910\ttotal: 484ms\tremaining: 22.6s\n",
      "21:\tlearn: 0.8642150\ttotal: 502ms\tremaining: 22.3s\n",
      "22:\tlearn: 0.8624036\ttotal: 523ms\tremaining: 22.2s\n",
      "23:\tlearn: 0.8613165\ttotal: 537ms\tremaining: 21.8s\n",
      "24:\tlearn: 0.8603533\ttotal: 549ms\tremaining: 21.4s\n",
      "25:\tlearn: 0.8594073\ttotal: 561ms\tremaining: 21s\n",
      "26:\tlearn: 0.8582359\ttotal: 582ms\tremaining: 21s\n",
      "27:\tlearn: 0.8574055\ttotal: 593ms\tremaining: 20.6s\n",
      "28:\tlearn: 0.8562814\ttotal: 605ms\tremaining: 20.3s\n",
      "29:\tlearn: 0.8555980\ttotal: 618ms\tremaining: 20s\n",
      "30:\tlearn: 0.8548850\ttotal: 631ms\tremaining: 19.7s\n",
      "31:\tlearn: 0.8542545\ttotal: 648ms\tremaining: 19.6s\n",
      "32:\tlearn: 0.8534738\ttotal: 665ms\tremaining: 19.5s\n",
      "33:\tlearn: 0.8529180\ttotal: 689ms\tremaining: 19.6s\n",
      "34:\tlearn: 0.8521289\ttotal: 734ms\tremaining: 20.2s\n",
      "35:\tlearn: 0.8513267\ttotal: 747ms\tremaining: 20s\n",
      "36:\tlearn: 0.8509880\ttotal: 759ms\tremaining: 19.7s\n",
      "37:\tlearn: 0.8504191\ttotal: 774ms\tremaining: 19.6s\n",
      "38:\tlearn: 0.8499611\ttotal: 785ms\tremaining: 19.3s\n",
      "39:\tlearn: 0.8492908\ttotal: 797ms\tremaining: 19.1s\n",
      "40:\tlearn: 0.8489346\ttotal: 809ms\tremaining: 18.9s\n",
      "41:\tlearn: 0.8485507\ttotal: 820ms\tremaining: 18.7s\n",
      "42:\tlearn: 0.8481763\ttotal: 834ms\tremaining: 18.6s\n",
      "43:\tlearn: 0.8475078\ttotal: 845ms\tremaining: 18.4s\n",
      "44:\tlearn: 0.8472060\ttotal: 858ms\tremaining: 18.2s\n",
      "45:\tlearn: 0.8468500\ttotal: 870ms\tremaining: 18s\n",
      "46:\tlearn: 0.8462809\ttotal: 880ms\tremaining: 17.8s\n",
      "47:\tlearn: 0.8458591\ttotal: 890ms\tremaining: 17.7s\n",
      "48:\tlearn: 0.8454855\ttotal: 901ms\tremaining: 17.5s\n",
      "49:\tlearn: 0.8451394\ttotal: 912ms\tremaining: 17.3s\n",
      "50:\tlearn: 0.8446846\ttotal: 922ms\tremaining: 17.2s\n",
      "51:\tlearn: 0.8442951\ttotal: 934ms\tremaining: 17s\n",
      "52:\tlearn: 0.8436331\ttotal: 945ms\tremaining: 16.9s\n",
      "53:\tlearn: 0.8432376\ttotal: 955ms\tremaining: 16.7s\n",
      "54:\tlearn: 0.8429870\ttotal: 966ms\tremaining: 16.6s\n",
      "55:\tlearn: 0.8426266\ttotal: 977ms\tremaining: 16.5s\n",
      "56:\tlearn: 0.8422645\ttotal: 989ms\tremaining: 16.4s\n",
      "57:\tlearn: 0.8418037\ttotal: 1s\tremaining: 16.3s\n",
      "58:\tlearn: 0.8415176\ttotal: 1.01s\tremaining: 16.2s\n",
      "59:\tlearn: 0.8409549\ttotal: 1.02s\tremaining: 16.1s\n",
      "60:\tlearn: 0.8405472\ttotal: 1.05s\tremaining: 16.2s\n",
      "61:\tlearn: 0.8402779\ttotal: 1.07s\tremaining: 16.1s\n",
      "62:\tlearn: 0.8399701\ttotal: 1.08s\tremaining: 16s\n",
      "63:\tlearn: 0.8396072\ttotal: 1.09s\tremaining: 15.9s\n",
      "64:\tlearn: 0.8390428\ttotal: 1.1s\tremaining: 15.8s\n",
      "65:\tlearn: 0.8386260\ttotal: 1.11s\tremaining: 15.7s\n",
      "66:\tlearn: 0.8382118\ttotal: 1.12s\tremaining: 15.6s\n",
      "67:\tlearn: 0.8378772\ttotal: 1.13s\tremaining: 15.5s\n",
      "68:\tlearn: 0.8374956\ttotal: 1.15s\tremaining: 15.5s\n",
      "69:\tlearn: 0.8372737\ttotal: 1.16s\tremaining: 15.4s\n",
      "70:\tlearn: 0.8369821\ttotal: 1.17s\tremaining: 15.3s\n",
      "71:\tlearn: 0.8365720\ttotal: 1.18s\tremaining: 15.3s\n",
      "72:\tlearn: 0.8356204\ttotal: 1.2s\tremaining: 15.2s\n",
      "73:\tlearn: 0.8352246\ttotal: 1.21s\tremaining: 15.2s\n",
      "74:\tlearn: 0.8347116\ttotal: 1.24s\tremaining: 15.2s\n",
      "75:\tlearn: 0.8341798\ttotal: 1.25s\tremaining: 15.2s\n",
      "76:\tlearn: 0.8338014\ttotal: 1.26s\tremaining: 15.1s\n",
      "77:\tlearn: 0.8334394\ttotal: 1.27s\tremaining: 15s\n",
      "78:\tlearn: 0.8329296\ttotal: 1.29s\tremaining: 15s\n",
      "79:\tlearn: 0.8324144\ttotal: 1.3s\tremaining: 14.9s\n",
      "80:\tlearn: 0.8323086\ttotal: 1.31s\tremaining: 14.9s\n",
      "81:\tlearn: 0.8318623\ttotal: 1.32s\tremaining: 14.8s\n",
      "82:\tlearn: 0.8316029\ttotal: 1.33s\tremaining: 14.7s\n",
      "83:\tlearn: 0.8309652\ttotal: 1.34s\tremaining: 14.7s\n",
      "84:\tlearn: 0.8304122\ttotal: 1.36s\tremaining: 14.6s\n",
      "85:\tlearn: 0.8300103\ttotal: 1.38s\tremaining: 14.7s\n",
      "86:\tlearn: 0.8291757\ttotal: 1.39s\tremaining: 14.6s\n",
      "87:\tlearn: 0.8289218\ttotal: 1.4s\tremaining: 14.6s\n",
      "88:\tlearn: 0.8284989\ttotal: 1.43s\tremaining: 14.6s\n",
      "89:\tlearn: 0.8280067\ttotal: 1.44s\tremaining: 14.5s\n",
      "90:\tlearn: 0.8274753\ttotal: 1.45s\tremaining: 14.5s\n",
      "91:\tlearn: 0.8271415\ttotal: 1.46s\tremaining: 14.4s\n",
      "92:\tlearn: 0.8267212\ttotal: 1.47s\tremaining: 14.4s\n",
      "93:\tlearn: 0.8259369\ttotal: 1.49s\tremaining: 14.3s\n",
      "94:\tlearn: 0.8255649\ttotal: 1.5s\tremaining: 14.3s\n",
      "95:\tlearn: 0.8251417\ttotal: 1.52s\tremaining: 14.3s\n",
      "96:\tlearn: 0.8248331\ttotal: 1.53s\tremaining: 14.3s\n",
      "97:\tlearn: 0.8243083\ttotal: 1.55s\tremaining: 14.3s\n",
      "98:\tlearn: 0.8237543\ttotal: 1.56s\tremaining: 14.2s\n",
      "99:\tlearn: 0.8233338\ttotal: 1.58s\tremaining: 14.2s\n",
      "100:\tlearn: 0.8228721\ttotal: 1.59s\tremaining: 14.1s\n",
      "101:\tlearn: 0.8227212\ttotal: 1.6s\tremaining: 14.1s\n",
      "102:\tlearn: 0.8222994\ttotal: 1.61s\tremaining: 14s\n",
      "103:\tlearn: 0.8220391\ttotal: 1.62s\tremaining: 14s\n",
      "104:\tlearn: 0.8217617\ttotal: 1.63s\tremaining: 13.9s\n",
      "105:\tlearn: 0.8215024\ttotal: 1.64s\tremaining: 13.8s\n",
      "106:\tlearn: 0.8211783\ttotal: 1.65s\tremaining: 13.8s\n",
      "107:\tlearn: 0.8206661\ttotal: 1.68s\tremaining: 13.9s\n",
      "108:\tlearn: 0.8202206\ttotal: 1.69s\tremaining: 13.8s\n",
      "109:\tlearn: 0.8198412\ttotal: 1.71s\tremaining: 13.8s\n",
      "110:\tlearn: 0.8195039\ttotal: 1.73s\tremaining: 13.8s\n",
      "111:\tlearn: 0.8191772\ttotal: 1.74s\tremaining: 13.8s\n",
      "112:\tlearn: 0.8190050\ttotal: 1.76s\tremaining: 13.8s\n",
      "113:\tlearn: 0.8186625\ttotal: 1.79s\tremaining: 13.9s\n",
      "114:\tlearn: 0.8179467\ttotal: 1.8s\tremaining: 13.9s\n",
      "115:\tlearn: 0.8176054\ttotal: 1.82s\tremaining: 13.9s\n",
      "116:\tlearn: 0.8172048\ttotal: 1.83s\tremaining: 13.8s\n",
      "117:\tlearn: 0.8167152\ttotal: 1.85s\tremaining: 13.8s\n",
      "118:\tlearn: 0.8163641\ttotal: 1.86s\tremaining: 13.8s\n",
      "119:\tlearn: 0.8159126\ttotal: 1.88s\tremaining: 13.8s\n",
      "120:\tlearn: 0.8156536\ttotal: 1.9s\tremaining: 13.8s\n",
      "121:\tlearn: 0.8151913\ttotal: 1.91s\tremaining: 13.8s\n",
      "122:\tlearn: 0.8149393\ttotal: 1.93s\tremaining: 13.7s\n",
      "123:\tlearn: 0.8143621\ttotal: 1.94s\tremaining: 13.7s\n",
      "124:\tlearn: 0.8139142\ttotal: 1.96s\tremaining: 13.7s\n",
      "125:\tlearn: 0.8134649\ttotal: 1.97s\tremaining: 13.7s\n",
      "126:\tlearn: 0.8131442\ttotal: 1.99s\tremaining: 13.7s\n",
      "127:\tlearn: 0.8125246\ttotal: 2s\tremaining: 13.6s\n",
      "128:\tlearn: 0.8120151\ttotal: 2.02s\tremaining: 13.6s\n",
      "129:\tlearn: 0.8114482\ttotal: 2.03s\tremaining: 13.6s\n",
      "130:\tlearn: 0.8110774\ttotal: 2.04s\tremaining: 13.6s\n",
      "131:\tlearn: 0.8107595\ttotal: 2.06s\tremaining: 13.5s\n",
      "132:\tlearn: 0.8103462\ttotal: 2.07s\tremaining: 13.5s\n",
      "133:\tlearn: 0.8098011\ttotal: 2.08s\tremaining: 13.5s\n",
      "134:\tlearn: 0.8092794\ttotal: 2.1s\tremaining: 13.4s\n",
      "135:\tlearn: 0.8088746\ttotal: 2.11s\tremaining: 13.4s\n",
      "136:\tlearn: 0.8084815\ttotal: 2.13s\tremaining: 13.4s\n",
      "137:\tlearn: 0.8080830\ttotal: 2.14s\tremaining: 13.4s\n",
      "138:\tlearn: 0.8077720\ttotal: 2.15s\tremaining: 13.4s\n",
      "139:\tlearn: 0.8073028\ttotal: 2.17s\tremaining: 13.3s\n",
      "140:\tlearn: 0.8068712\ttotal: 2.19s\tremaining: 13.3s\n",
      "141:\tlearn: 0.8065577\ttotal: 2.2s\tremaining: 13.3s\n",
      "142:\tlearn: 0.8061962\ttotal: 2.22s\tremaining: 13.3s\n",
      "143:\tlearn: 0.8058194\ttotal: 2.23s\tremaining: 13.3s\n",
      "144:\tlearn: 0.8055422\ttotal: 2.25s\tremaining: 13.2s\n",
      "145:\tlearn: 0.8054286\ttotal: 2.26s\tremaining: 13.2s\n",
      "146:\tlearn: 0.8051157\ttotal: 2.27s\tremaining: 13.2s\n",
      "147:\tlearn: 0.8047655\ttotal: 2.29s\tremaining: 13.2s\n",
      "148:\tlearn: 0.8044620\ttotal: 2.3s\tremaining: 13.1s\n",
      "149:\tlearn: 0.8040400\ttotal: 2.31s\tremaining: 13.1s\n",
      "150:\tlearn: 0.8036162\ttotal: 2.33s\tremaining: 13.1s\n",
      "151:\tlearn: 0.8031883\ttotal: 2.34s\tremaining: 13.1s\n",
      "152:\tlearn: 0.8026664\ttotal: 2.36s\tremaining: 13.1s\n",
      "153:\tlearn: 0.8023797\ttotal: 2.37s\tremaining: 13s\n",
      "154:\tlearn: 0.8019346\ttotal: 2.38s\tremaining: 13s\n",
      "155:\tlearn: 0.8014195\ttotal: 2.4s\tremaining: 13s\n",
      "156:\tlearn: 0.8011640\ttotal: 2.41s\tremaining: 12.9s\n",
      "157:\tlearn: 0.8006969\ttotal: 2.42s\tremaining: 12.9s\n",
      "158:\tlearn: 0.8002070\ttotal: 2.44s\tremaining: 12.9s\n",
      "159:\tlearn: 0.7997889\ttotal: 2.45s\tremaining: 12.9s\n",
      "160:\tlearn: 0.7993945\ttotal: 2.46s\tremaining: 12.8s\n",
      "161:\tlearn: 0.7990341\ttotal: 2.47s\tremaining: 12.8s\n",
      "162:\tlearn: 0.7986715\ttotal: 2.49s\tremaining: 12.8s\n",
      "163:\tlearn: 0.7981884\ttotal: 2.51s\tremaining: 12.8s\n",
      "164:\tlearn: 0.7976966\ttotal: 2.52s\tremaining: 12.8s\n",
      "165:\tlearn: 0.7974096\ttotal: 2.54s\tremaining: 12.8s\n",
      "166:\tlearn: 0.7970866\ttotal: 2.56s\tremaining: 12.8s\n",
      "167:\tlearn: 0.7969080\ttotal: 2.57s\tremaining: 12.7s\n",
      "168:\tlearn: 0.7965064\ttotal: 2.59s\tremaining: 12.7s\n",
      "169:\tlearn: 0.7961374\ttotal: 2.6s\tremaining: 12.7s\n",
      "170:\tlearn: 0.7957130\ttotal: 2.62s\tremaining: 12.7s\n",
      "171:\tlearn: 0.7954203\ttotal: 2.63s\tremaining: 12.7s\n",
      "172:\tlearn: 0.7950916\ttotal: 2.64s\tremaining: 12.6s\n",
      "173:\tlearn: 0.7946052\ttotal: 2.66s\tremaining: 12.6s\n",
      "174:\tlearn: 0.7943961\ttotal: 2.67s\tremaining: 12.6s\n",
      "175:\tlearn: 0.7941358\ttotal: 2.68s\tremaining: 12.6s\n",
      "176:\tlearn: 0.7936845\ttotal: 2.7s\tremaining: 12.6s\n",
      "177:\tlearn: 0.7933127\ttotal: 2.71s\tremaining: 12.5s\n",
      "178:\tlearn: 0.7930209\ttotal: 2.73s\tremaining: 12.5s\n",
      "179:\tlearn: 0.7927510\ttotal: 2.75s\tremaining: 12.5s\n",
      "180:\tlearn: 0.7923375\ttotal: 2.76s\tremaining: 12.5s\n",
      "181:\tlearn: 0.7920021\ttotal: 2.78s\tremaining: 12.5s\n",
      "182:\tlearn: 0.7917295\ttotal: 2.79s\tremaining: 12.5s\n",
      "183:\tlearn: 0.7912830\ttotal: 2.81s\tremaining: 12.4s\n",
      "184:\tlearn: 0.7909302\ttotal: 2.82s\tremaining: 12.4s\n",
      "185:\tlearn: 0.7906690\ttotal: 2.83s\tremaining: 12.4s\n",
      "186:\tlearn: 0.7902036\ttotal: 2.85s\tremaining: 12.4s\n",
      "187:\tlearn: 0.7897380\ttotal: 2.86s\tremaining: 12.4s\n",
      "188:\tlearn: 0.7893641\ttotal: 2.88s\tremaining: 12.3s\n",
      "189:\tlearn: 0.7889632\ttotal: 2.89s\tremaining: 12.3s\n",
      "190:\tlearn: 0.7887146\ttotal: 2.91s\tremaining: 12.3s\n",
      "191:\tlearn: 0.7881329\ttotal: 2.92s\tremaining: 12.3s\n",
      "192:\tlearn: 0.7876732\ttotal: 2.94s\tremaining: 12.3s\n",
      "193:\tlearn: 0.7874347\ttotal: 2.95s\tremaining: 12.3s\n",
      "194:\tlearn: 0.7872698\ttotal: 2.97s\tremaining: 12.3s\n",
      "195:\tlearn: 0.7868986\ttotal: 2.98s\tremaining: 12.2s\n",
      "196:\tlearn: 0.7864127\ttotal: 3s\tremaining: 12.2s\n",
      "197:\tlearn: 0.7862026\ttotal: 3.03s\tremaining: 12.3s\n",
      "198:\tlearn: 0.7857068\ttotal: 3.04s\tremaining: 12.3s\n",
      "199:\tlearn: 0.7853428\ttotal: 3.06s\tremaining: 12.3s\n",
      "200:\tlearn: 0.7848806\ttotal: 3.08s\tremaining: 12.2s\n",
      "201:\tlearn: 0.7845718\ttotal: 3.09s\tremaining: 12.2s\n",
      "202:\tlearn: 0.7842892\ttotal: 3.11s\tremaining: 12.2s\n",
      "203:\tlearn: 0.7838255\ttotal: 3.12s\tremaining: 12.2s\n",
      "204:\tlearn: 0.7832630\ttotal: 3.13s\tremaining: 12.2s\n",
      "205:\tlearn: 0.7828279\ttotal: 3.15s\tremaining: 12.1s\n",
      "206:\tlearn: 0.7824429\ttotal: 3.16s\tremaining: 12.1s\n",
      "207:\tlearn: 0.7821269\ttotal: 3.17s\tremaining: 12.1s\n",
      "208:\tlearn: 0.7817943\ttotal: 3.19s\tremaining: 12.1s\n",
      "209:\tlearn: 0.7814997\ttotal: 3.2s\tremaining: 12s\n",
      "210:\tlearn: 0.7811973\ttotal: 3.21s\tremaining: 12s\n",
      "211:\tlearn: 0.7809292\ttotal: 3.23s\tremaining: 12s\n",
      "212:\tlearn: 0.7807603\ttotal: 3.25s\tremaining: 12s\n",
      "213:\tlearn: 0.7805081\ttotal: 3.26s\tremaining: 12s\n",
      "214:\tlearn: 0.7800789\ttotal: 3.27s\tremaining: 11.9s\n",
      "215:\tlearn: 0.7797820\ttotal: 3.28s\tremaining: 11.9s\n",
      "216:\tlearn: 0.7794269\ttotal: 3.3s\tremaining: 11.9s\n",
      "217:\tlearn: 0.7790111\ttotal: 3.31s\tremaining: 11.9s\n",
      "218:\tlearn: 0.7787325\ttotal: 3.32s\tremaining: 11.9s\n",
      "219:\tlearn: 0.7784456\ttotal: 3.34s\tremaining: 11.8s\n",
      "220:\tlearn: 0.7780779\ttotal: 3.35s\tremaining: 11.8s\n",
      "221:\tlearn: 0.7778405\ttotal: 3.37s\tremaining: 11.8s\n",
      "222:\tlearn: 0.7775178\ttotal: 3.38s\tremaining: 11.8s\n",
      "223:\tlearn: 0.7772572\ttotal: 3.39s\tremaining: 11.8s\n",
      "224:\tlearn: 0.7770793\ttotal: 3.4s\tremaining: 11.7s\n",
      "225:\tlearn: 0.7768367\ttotal: 3.42s\tremaining: 11.7s\n",
      "226:\tlearn: 0.7766361\ttotal: 3.43s\tremaining: 11.7s\n",
      "227:\tlearn: 0.7763303\ttotal: 3.44s\tremaining: 11.7s\n",
      "228:\tlearn: 0.7760566\ttotal: 3.46s\tremaining: 11.6s\n",
      "229:\tlearn: 0.7756044\ttotal: 3.47s\tremaining: 11.6s\n",
      "230:\tlearn: 0.7752358\ttotal: 3.48s\tremaining: 11.6s\n",
      "231:\tlearn: 0.7749223\ttotal: 3.49s\tremaining: 11.6s\n",
      "232:\tlearn: 0.7745554\ttotal: 3.51s\tremaining: 11.5s\n",
      "233:\tlearn: 0.7742194\ttotal: 3.52s\tremaining: 11.5s\n",
      "234:\tlearn: 0.7738305\ttotal: 3.53s\tremaining: 11.5s\n",
      "235:\tlearn: 0.7734831\ttotal: 3.54s\tremaining: 11.5s\n",
      "236:\tlearn: 0.7731968\ttotal: 3.56s\tremaining: 11.5s\n",
      "237:\tlearn: 0.7728732\ttotal: 3.57s\tremaining: 11.4s\n",
      "238:\tlearn: 0.7724457\ttotal: 3.58s\tremaining: 11.4s\n",
      "239:\tlearn: 0.7721519\ttotal: 3.6s\tremaining: 11.4s\n",
      "240:\tlearn: 0.7716830\ttotal: 3.61s\tremaining: 11.4s\n",
      "241:\tlearn: 0.7714133\ttotal: 3.62s\tremaining: 11.3s\n",
      "242:\tlearn: 0.7709939\ttotal: 3.64s\tremaining: 11.3s\n",
      "243:\tlearn: 0.7707513\ttotal: 3.65s\tremaining: 11.3s\n",
      "244:\tlearn: 0.7703198\ttotal: 3.66s\tremaining: 11.3s\n",
      "245:\tlearn: 0.7700713\ttotal: 3.68s\tremaining: 11.3s\n",
      "246:\tlearn: 0.7697229\ttotal: 3.69s\tremaining: 11.3s\n",
      "247:\tlearn: 0.7693840\ttotal: 3.7s\tremaining: 11.2s\n",
      "248:\tlearn: 0.7690249\ttotal: 3.71s\tremaining: 11.2s\n",
      "249:\tlearn: 0.7688399\ttotal: 3.73s\tremaining: 11.2s\n",
      "250:\tlearn: 0.7684694\ttotal: 3.75s\tremaining: 11.2s\n",
      "251:\tlearn: 0.7681480\ttotal: 3.77s\tremaining: 11.2s\n",
      "252:\tlearn: 0.7679566\ttotal: 3.78s\tremaining: 11.2s\n",
      "253:\tlearn: 0.7676936\ttotal: 3.8s\tremaining: 11.2s\n",
      "254:\tlearn: 0.7673765\ttotal: 3.81s\tremaining: 11.1s\n",
      "255:\tlearn: 0.7671256\ttotal: 3.82s\tremaining: 11.1s\n",
      "256:\tlearn: 0.7669171\ttotal: 3.83s\tremaining: 11.1s\n",
      "257:\tlearn: 0.7666985\ttotal: 3.84s\tremaining: 11s\n",
      "258:\tlearn: 0.7663641\ttotal: 3.85s\tremaining: 11s\n",
      "259:\tlearn: 0.7660783\ttotal: 3.86s\tremaining: 11s\n",
      "260:\tlearn: 0.7658674\ttotal: 3.87s\tremaining: 11s\n",
      "261:\tlearn: 0.7655822\ttotal: 3.89s\tremaining: 11s\n",
      "262:\tlearn: 0.7654737\ttotal: 3.9s\tremaining: 10.9s\n",
      "263:\tlearn: 0.7652959\ttotal: 3.92s\tremaining: 10.9s\n",
      "264:\tlearn: 0.7651036\ttotal: 3.93s\tremaining: 10.9s\n",
      "265:\tlearn: 0.7647065\ttotal: 3.94s\tremaining: 10.9s\n",
      "266:\tlearn: 0.7644663\ttotal: 3.95s\tremaining: 10.8s\n",
      "267:\tlearn: 0.7640776\ttotal: 3.97s\tremaining: 10.8s\n",
      "268:\tlearn: 0.7638315\ttotal: 3.98s\tremaining: 10.8s\n",
      "269:\tlearn: 0.7637153\ttotal: 3.99s\tremaining: 10.8s\n",
      "270:\tlearn: 0.7633729\ttotal: 4s\tremaining: 10.8s\n",
      "271:\tlearn: 0.7631734\ttotal: 4.01s\tremaining: 10.7s\n",
      "272:\tlearn: 0.7628570\ttotal: 4.02s\tremaining: 10.7s\n",
      "273:\tlearn: 0.7627435\ttotal: 4.03s\tremaining: 10.7s\n",
      "274:\tlearn: 0.7625050\ttotal: 4.04s\tremaining: 10.7s\n",
      "275:\tlearn: 0.7621176\ttotal: 4.05s\tremaining: 10.6s\n",
      "276:\tlearn: 0.7619172\ttotal: 4.07s\tremaining: 10.6s\n",
      "277:\tlearn: 0.7615441\ttotal: 4.08s\tremaining: 10.6s\n",
      "278:\tlearn: 0.7612790\ttotal: 4.09s\tremaining: 10.6s\n",
      "279:\tlearn: 0.7609861\ttotal: 4.1s\tremaining: 10.5s\n",
      "280:\tlearn: 0.7606713\ttotal: 4.14s\tremaining: 10.6s\n",
      "281:\tlearn: 0.7603969\ttotal: 4.15s\tremaining: 10.6s\n",
      "282:\tlearn: 0.7601942\ttotal: 4.17s\tremaining: 10.6s\n",
      "283:\tlearn: 0.7598240\ttotal: 4.18s\tremaining: 10.5s\n",
      "284:\tlearn: 0.7595966\ttotal: 4.2s\tremaining: 10.5s\n",
      "285:\tlearn: 0.7593863\ttotal: 4.21s\tremaining: 10.5s\n",
      "286:\tlearn: 0.7590862\ttotal: 4.23s\tremaining: 10.5s\n",
      "287:\tlearn: 0.7587236\ttotal: 4.24s\tremaining: 10.5s\n",
      "288:\tlearn: 0.7584265\ttotal: 4.25s\tremaining: 10.5s\n",
      "289:\tlearn: 0.7582404\ttotal: 4.26s\tremaining: 10.4s\n",
      "290:\tlearn: 0.7579153\ttotal: 4.27s\tremaining: 10.4s\n",
      "291:\tlearn: 0.7577066\ttotal: 4.29s\tremaining: 10.4s\n",
      "292:\tlearn: 0.7572653\ttotal: 4.3s\tremaining: 10.4s\n",
      "293:\tlearn: 0.7570107\ttotal: 4.31s\tremaining: 10.3s\n",
      "294:\tlearn: 0.7567937\ttotal: 4.32s\tremaining: 10.3s\n",
      "295:\tlearn: 0.7564431\ttotal: 4.33s\tremaining: 10.3s\n",
      "296:\tlearn: 0.7562448\ttotal: 4.35s\tremaining: 10.3s\n",
      "297:\tlearn: 0.7560522\ttotal: 4.36s\tremaining: 10.3s\n",
      "298:\tlearn: 0.7557529\ttotal: 4.37s\tremaining: 10.2s\n",
      "299:\tlearn: 0.7555529\ttotal: 4.38s\tremaining: 10.2s\n",
      "300:\tlearn: 0.7552532\ttotal: 4.39s\tremaining: 10.2s\n",
      "301:\tlearn: 0.7550122\ttotal: 4.4s\tremaining: 10.2s\n",
      "302:\tlearn: 0.7547845\ttotal: 4.41s\tremaining: 10.2s\n",
      "303:\tlearn: 0.7546436\ttotal: 4.43s\tremaining: 10.1s\n",
      "304:\tlearn: 0.7543898\ttotal: 4.44s\tremaining: 10.1s\n",
      "305:\tlearn: 0.7541383\ttotal: 4.45s\tremaining: 10.1s\n",
      "306:\tlearn: 0.7539385\ttotal: 4.46s\tremaining: 10.1s\n",
      "307:\tlearn: 0.7537385\ttotal: 4.47s\tremaining: 10s\n",
      "308:\tlearn: 0.7534957\ttotal: 4.48s\tremaining: 10s\n",
      "309:\tlearn: 0.7533519\ttotal: 4.49s\tremaining: 10s\n",
      "310:\tlearn: 0.7531359\ttotal: 4.5s\tremaining: 9.98s\n",
      "311:\tlearn: 0.7529924\ttotal: 4.51s\tremaining: 9.96s\n",
      "312:\tlearn: 0.7527889\ttotal: 4.53s\tremaining: 9.94s\n",
      "313:\tlearn: 0.7525816\ttotal: 4.55s\tremaining: 9.93s\n",
      "314:\tlearn: 0.7523953\ttotal: 4.56s\tremaining: 9.91s\n",
      "315:\tlearn: 0.7520713\ttotal: 4.58s\tremaining: 9.91s\n",
      "316:\tlearn: 0.7519037\ttotal: 4.59s\tremaining: 9.89s\n",
      "317:\tlearn: 0.7516710\ttotal: 4.6s\tremaining: 9.87s\n",
      "318:\tlearn: 0.7514520\ttotal: 4.61s\tremaining: 9.84s\n",
      "319:\tlearn: 0.7510838\ttotal: 4.62s\tremaining: 9.82s\n",
      "320:\tlearn: 0.7509120\ttotal: 4.64s\tremaining: 9.81s\n",
      "321:\tlearn: 0.7506761\ttotal: 4.65s\tremaining: 9.78s\n",
      "322:\tlearn: 0.7504822\ttotal: 4.66s\tremaining: 9.76s\n",
      "323:\tlearn: 0.7503467\ttotal: 4.67s\tremaining: 9.73s\n",
      "324:\tlearn: 0.7501362\ttotal: 4.68s\tremaining: 9.71s\n",
      "325:\tlearn: 0.7498885\ttotal: 4.7s\tremaining: 9.72s\n",
      "326:\tlearn: 0.7497069\ttotal: 4.71s\tremaining: 9.7s\n",
      "327:\tlearn: 0.7494421\ttotal: 4.72s\tremaining: 9.68s\n",
      "328:\tlearn: 0.7491587\ttotal: 4.74s\tremaining: 9.66s\n",
      "329:\tlearn: 0.7488308\ttotal: 4.76s\tremaining: 9.68s\n",
      "330:\tlearn: 0.7485066\ttotal: 4.79s\tremaining: 9.69s\n",
      "331:\tlearn: 0.7483098\ttotal: 4.81s\tremaining: 9.68s\n",
      "332:\tlearn: 0.7480232\ttotal: 4.82s\tremaining: 9.66s\n",
      "333:\tlearn: 0.7478280\ttotal: 4.83s\tremaining: 9.63s\n",
      "334:\tlearn: 0.7474581\ttotal: 4.85s\tremaining: 9.63s\n",
      "335:\tlearn: 0.7472380\ttotal: 4.88s\tremaining: 9.65s\n",
      "336:\tlearn: 0.7470363\ttotal: 4.9s\tremaining: 9.64s\n",
      "337:\tlearn: 0.7468354\ttotal: 4.91s\tremaining: 9.62s\n",
      "338:\tlearn: 0.7466576\ttotal: 4.92s\tremaining: 9.6s\n",
      "339:\tlearn: 0.7464258\ttotal: 4.95s\tremaining: 9.6s\n",
      "340:\tlearn: 0.7461796\ttotal: 4.96s\tremaining: 9.58s\n",
      "341:\tlearn: 0.7459823\ttotal: 4.97s\tremaining: 9.56s\n",
      "342:\tlearn: 0.7457838\ttotal: 4.98s\tremaining: 9.53s\n",
      "343:\tlearn: 0.7454718\ttotal: 5s\tremaining: 9.54s\n",
      "344:\tlearn: 0.7450897\ttotal: 5.02s\tremaining: 9.53s\n",
      "345:\tlearn: 0.7448902\ttotal: 5.03s\tremaining: 9.51s\n",
      "346:\tlearn: 0.7447410\ttotal: 5.07s\tremaining: 9.53s\n",
      "347:\tlearn: 0.7445539\ttotal: 5.07s\tremaining: 9.5s\n",
      "348:\tlearn: 0.7443608\ttotal: 5.11s\tremaining: 9.53s\n",
      "349:\tlearn: 0.7441252\ttotal: 5.12s\tremaining: 9.51s\n",
      "350:\tlearn: 0.7438543\ttotal: 5.14s\tremaining: 9.5s\n",
      "351:\tlearn: 0.7435225\ttotal: 5.17s\tremaining: 9.52s\n",
      "352:\tlearn: 0.7432986\ttotal: 5.18s\tremaining: 9.49s\n",
      "353:\tlearn: 0.7430939\ttotal: 5.19s\tremaining: 9.47s\n",
      "354:\tlearn: 0.7426377\ttotal: 5.2s\tremaining: 9.45s\n",
      "355:\tlearn: 0.7423687\ttotal: 5.21s\tremaining: 9.42s\n",
      "356:\tlearn: 0.7421060\ttotal: 5.22s\tremaining: 9.4s\n",
      "357:\tlearn: 0.7418687\ttotal: 5.23s\tremaining: 9.38s\n",
      "358:\tlearn: 0.7416657\ttotal: 5.25s\tremaining: 9.37s\n",
      "359:\tlearn: 0.7413909\ttotal: 5.26s\tremaining: 9.36s\n",
      "360:\tlearn: 0.7411536\ttotal: 5.28s\tremaining: 9.34s\n",
      "361:\tlearn: 0.7410363\ttotal: 5.28s\tremaining: 9.31s\n",
      "362:\tlearn: 0.7406320\ttotal: 5.29s\tremaining: 9.29s\n",
      "363:\tlearn: 0.7404326\ttotal: 5.3s\tremaining: 9.26s\n",
      "364:\tlearn: 0.7402036\ttotal: 5.31s\tremaining: 9.24s\n",
      "365:\tlearn: 0.7400245\ttotal: 5.32s\tremaining: 9.22s\n",
      "366:\tlearn: 0.7397010\ttotal: 5.33s\tremaining: 9.2s\n",
      "367:\tlearn: 0.7393868\ttotal: 5.34s\tremaining: 9.17s\n",
      "368:\tlearn: 0.7391729\ttotal: 5.35s\tremaining: 9.15s\n",
      "369:\tlearn: 0.7389968\ttotal: 5.37s\tremaining: 9.14s\n",
      "370:\tlearn: 0.7388576\ttotal: 5.38s\tremaining: 9.12s\n",
      "371:\tlearn: 0.7386066\ttotal: 5.4s\tremaining: 9.12s\n",
      "372:\tlearn: 0.7384165\ttotal: 5.42s\tremaining: 9.11s\n",
      "373:\tlearn: 0.7382129\ttotal: 5.45s\tremaining: 9.12s\n",
      "374:\tlearn: 0.7379753\ttotal: 5.46s\tremaining: 9.1s\n",
      "375:\tlearn: 0.7376330\ttotal: 5.5s\tremaining: 9.12s\n",
      "376:\tlearn: 0.7374136\ttotal: 5.51s\tremaining: 9.1s\n",
      "377:\tlearn: 0.7370721\ttotal: 5.54s\tremaining: 9.12s\n",
      "378:\tlearn: 0.7368219\ttotal: 5.55s\tremaining: 9.1s\n",
      "379:\tlearn: 0.7365555\ttotal: 5.56s\tremaining: 9.08s\n",
      "380:\tlearn: 0.7363505\ttotal: 5.57s\tremaining: 9.05s\n",
      "381:\tlearn: 0.7361550\ttotal: 5.59s\tremaining: 9.04s\n",
      "382:\tlearn: 0.7359835\ttotal: 5.6s\tremaining: 9.02s\n",
      "383:\tlearn: 0.7357759\ttotal: 5.61s\tremaining: 9.01s\n",
      "384:\tlearn: 0.7354769\ttotal: 5.65s\tremaining: 9.02s\n",
      "385:\tlearn: 0.7351915\ttotal: 5.66s\tremaining: 9.01s\n",
      "386:\tlearn: 0.7349655\ttotal: 5.72s\tremaining: 9.06s\n",
      "387:\tlearn: 0.7348211\ttotal: 5.74s\tremaining: 9.06s\n",
      "388:\tlearn: 0.7344782\ttotal: 5.75s\tremaining: 9.04s\n",
      "389:\tlearn: 0.7342884\ttotal: 5.76s\tremaining: 9.02s\n",
      "390:\tlearn: 0.7341053\ttotal: 5.79s\tremaining: 9.02s\n",
      "391:\tlearn: 0.7339618\ttotal: 5.8s\tremaining: 9s\n",
      "392:\tlearn: 0.7337253\ttotal: 5.82s\tremaining: 8.98s\n",
      "393:\tlearn: 0.7335472\ttotal: 5.83s\tremaining: 8.97s\n",
      "394:\tlearn: 0.7333804\ttotal: 5.85s\tremaining: 8.96s\n",
      "395:\tlearn: 0.7330469\ttotal: 5.86s\tremaining: 8.93s\n",
      "396:\tlearn: 0.7326715\ttotal: 5.87s\tremaining: 8.91s\n",
      "397:\tlearn: 0.7325397\ttotal: 5.89s\tremaining: 8.91s\n",
      "398:\tlearn: 0.7323997\ttotal: 5.89s\tremaining: 8.88s\n",
      "399:\tlearn: 0.7322245\ttotal: 5.92s\tremaining: 8.89s\n",
      "400:\tlearn: 0.7320121\ttotal: 5.94s\tremaining: 8.87s\n",
      "401:\tlearn: 0.7318042\ttotal: 5.95s\tremaining: 8.85s\n",
      "402:\tlearn: 0.7316290\ttotal: 5.96s\tremaining: 8.83s\n",
      "403:\tlearn: 0.7313826\ttotal: 5.98s\tremaining: 8.82s\n",
      "404:\tlearn: 0.7312220\ttotal: 5.99s\tremaining: 8.8s\n",
      "405:\tlearn: 0.7309875\ttotal: 6.01s\tremaining: 8.79s\n",
      "406:\tlearn: 0.7308901\ttotal: 6.02s\tremaining: 8.77s\n",
      "407:\tlearn: 0.7306995\ttotal: 6.03s\tremaining: 8.75s\n",
      "408:\tlearn: 0.7304500\ttotal: 6.04s\tremaining: 8.72s\n",
      "409:\tlearn: 0.7302767\ttotal: 6.05s\tremaining: 8.71s\n",
      "410:\tlearn: 0.7301552\ttotal: 6.06s\tremaining: 8.68s\n",
      "411:\tlearn: 0.7299561\ttotal: 6.07s\tremaining: 8.66s\n",
      "412:\tlearn: 0.7296754\ttotal: 6.08s\tremaining: 8.65s\n",
      "413:\tlearn: 0.7295889\ttotal: 6.09s\tremaining: 8.63s\n",
      "414:\tlearn: 0.7293768\ttotal: 6.1s\tremaining: 8.6s\n",
      "415:\tlearn: 0.7291907\ttotal: 6.12s\tremaining: 8.59s\n",
      "416:\tlearn: 0.7290295\ttotal: 6.13s\tremaining: 8.58s\n",
      "417:\tlearn: 0.7288096\ttotal: 6.15s\tremaining: 8.57s\n",
      "418:\tlearn: 0.7286994\ttotal: 6.18s\tremaining: 8.57s\n",
      "419:\tlearn: 0.7284504\ttotal: 6.2s\tremaining: 8.57s\n",
      "420:\tlearn: 0.7282580\ttotal: 6.22s\tremaining: 8.56s\n",
      "421:\tlearn: 0.7281162\ttotal: 6.23s\tremaining: 8.54s\n",
      "422:\tlearn: 0.7278607\ttotal: 6.24s\tremaining: 8.51s\n",
      "423:\tlearn: 0.7276209\ttotal: 6.25s\tremaining: 8.49s\n",
      "424:\tlearn: 0.7273995\ttotal: 6.28s\tremaining: 8.49s\n",
      "425:\tlearn: 0.7271342\ttotal: 6.29s\tremaining: 8.47s\n",
      "426:\tlearn: 0.7269838\ttotal: 6.3s\tremaining: 8.45s\n",
      "427:\tlearn: 0.7267802\ttotal: 6.31s\tremaining: 8.43s\n",
      "428:\tlearn: 0.7266101\ttotal: 6.31s\tremaining: 8.4s\n",
      "429:\tlearn: 0.7264055\ttotal: 6.34s\tremaining: 8.4s\n",
      "430:\tlearn: 0.7262549\ttotal: 6.35s\tremaining: 8.39s\n",
      "431:\tlearn: 0.7260977\ttotal: 6.36s\tremaining: 8.37s\n",
      "432:\tlearn: 0.7259437\ttotal: 6.4s\tremaining: 8.38s\n",
      "433:\tlearn: 0.7258103\ttotal: 6.42s\tremaining: 8.38s\n",
      "434:\tlearn: 0.7256094\ttotal: 6.44s\tremaining: 8.37s\n",
      "435:\tlearn: 0.7254060\ttotal: 6.45s\tremaining: 8.35s\n",
      "436:\tlearn: 0.7252558\ttotal: 6.46s\tremaining: 8.33s\n",
      "437:\tlearn: 0.7249808\ttotal: 6.49s\tremaining: 8.33s\n",
      "438:\tlearn: 0.7248655\ttotal: 6.5s\tremaining: 8.31s\n",
      "439:\tlearn: 0.7247583\ttotal: 6.51s\tremaining: 8.29s\n",
      "440:\tlearn: 0.7245706\ttotal: 6.52s\tremaining: 8.27s\n",
      "441:\tlearn: 0.7243999\ttotal: 6.53s\tremaining: 8.24s\n",
      "442:\tlearn: 0.7242756\ttotal: 6.54s\tremaining: 8.23s\n",
      "443:\tlearn: 0.7240999\ttotal: 6.57s\tremaining: 8.22s\n",
      "444:\tlearn: 0.7239230\ttotal: 6.58s\tremaining: 8.21s\n",
      "445:\tlearn: 0.7235936\ttotal: 6.59s\tremaining: 8.18s\n",
      "446:\tlearn: 0.7234121\ttotal: 6.6s\tremaining: 8.16s\n",
      "447:\tlearn: 0.7231043\ttotal: 6.62s\tremaining: 8.16s\n",
      "448:\tlearn: 0.7229377\ttotal: 6.63s\tremaining: 8.14s\n",
      "449:\tlearn: 0.7226105\ttotal: 6.65s\tremaining: 8.12s\n",
      "450:\tlearn: 0.7223779\ttotal: 6.66s\tremaining: 8.1s\n",
      "451:\tlearn: 0.7222670\ttotal: 6.67s\tremaining: 8.08s\n",
      "452:\tlearn: 0.7220790\ttotal: 6.67s\tremaining: 8.06s\n",
      "453:\tlearn: 0.7219104\ttotal: 6.68s\tremaining: 8.04s\n",
      "454:\tlearn: 0.7217500\ttotal: 6.69s\tremaining: 8.02s\n",
      "455:\tlearn: 0.7216421\ttotal: 6.7s\tremaining: 7.99s\n",
      "456:\tlearn: 0.7214714\ttotal: 6.71s\tremaining: 7.97s\n",
      "457:\tlearn: 0.7213567\ttotal: 6.72s\tremaining: 7.95s\n",
      "458:\tlearn: 0.7211676\ttotal: 6.73s\tremaining: 7.93s\n",
      "459:\tlearn: 0.7209125\ttotal: 6.74s\tremaining: 7.91s\n",
      "460:\tlearn: 0.7206618\ttotal: 6.75s\tremaining: 7.89s\n",
      "461:\tlearn: 0.7205363\ttotal: 6.76s\tremaining: 7.87s\n",
      "462:\tlearn: 0.7204575\ttotal: 6.77s\tremaining: 7.85s\n",
      "463:\tlearn: 0.7202295\ttotal: 6.78s\tremaining: 7.83s\n",
      "464:\tlearn: 0.7200203\ttotal: 6.79s\tremaining: 7.81s\n",
      "465:\tlearn: 0.7198694\ttotal: 6.79s\tremaining: 7.79s\n",
      "466:\tlearn: 0.7197069\ttotal: 6.81s\tremaining: 7.78s\n",
      "467:\tlearn: 0.7194736\ttotal: 6.83s\tremaining: 7.77s\n",
      "468:\tlearn: 0.7192007\ttotal: 6.84s\tremaining: 7.75s\n",
      "469:\tlearn: 0.7190089\ttotal: 6.85s\tremaining: 7.73s\n",
      "470:\tlearn: 0.7188065\ttotal: 6.86s\tremaining: 7.71s\n",
      "471:\tlearn: 0.7186374\ttotal: 6.87s\tremaining: 7.69s\n",
      "472:\tlearn: 0.7185032\ttotal: 6.88s\tremaining: 7.67s\n",
      "473:\tlearn: 0.7183607\ttotal: 6.89s\tremaining: 7.65s\n",
      "474:\tlearn: 0.7181272\ttotal: 6.9s\tremaining: 7.63s\n",
      "475:\tlearn: 0.7179526\ttotal: 6.91s\tremaining: 7.61s\n",
      "476:\tlearn: 0.7177208\ttotal: 6.92s\tremaining: 7.59s\n",
      "477:\tlearn: 0.7175924\ttotal: 6.93s\tremaining: 7.57s\n",
      "478:\tlearn: 0.7174249\ttotal: 6.94s\tremaining: 7.55s\n",
      "479:\tlearn: 0.7171370\ttotal: 6.95s\tremaining: 7.53s\n",
      "480:\tlearn: 0.7170721\ttotal: 6.96s\tremaining: 7.51s\n",
      "481:\tlearn: 0.7168934\ttotal: 6.97s\tremaining: 7.49s\n",
      "482:\tlearn: 0.7166056\ttotal: 6.98s\tremaining: 7.47s\n",
      "483:\tlearn: 0.7164375\ttotal: 6.99s\tremaining: 7.45s\n",
      "484:\tlearn: 0.7162625\ttotal: 7s\tremaining: 7.43s\n",
      "485:\tlearn: 0.7161372\ttotal: 7.01s\tremaining: 7.41s\n",
      "486:\tlearn: 0.7159673\ttotal: 7.02s\tremaining: 7.39s\n",
      "487:\tlearn: 0.7156717\ttotal: 7.04s\tremaining: 7.39s\n",
      "488:\tlearn: 0.7154914\ttotal: 7.06s\tremaining: 7.38s\n",
      "489:\tlearn: 0.7152823\ttotal: 7.07s\tremaining: 7.36s\n",
      "490:\tlearn: 0.7150824\ttotal: 7.09s\tremaining: 7.35s\n",
      "491:\tlearn: 0.7149421\ttotal: 7.1s\tremaining: 7.33s\n",
      "492:\tlearn: 0.7147680\ttotal: 7.11s\tremaining: 7.31s\n",
      "493:\tlearn: 0.7145431\ttotal: 7.12s\tremaining: 7.29s\n",
      "494:\tlearn: 0.7143366\ttotal: 7.13s\tremaining: 7.27s\n",
      "495:\tlearn: 0.7141516\ttotal: 7.14s\tremaining: 7.25s\n",
      "496:\tlearn: 0.7139226\ttotal: 7.15s\tremaining: 7.23s\n",
      "497:\tlearn: 0.7137099\ttotal: 7.16s\tremaining: 7.21s\n",
      "498:\tlearn: 0.7135191\ttotal: 7.17s\tremaining: 7.19s\n",
      "499:\tlearn: 0.7133229\ttotal: 7.18s\tremaining: 7.18s\n",
      "500:\tlearn: 0.7132192\ttotal: 7.2s\tremaining: 7.17s\n",
      "501:\tlearn: 0.7130751\ttotal: 7.21s\tremaining: 7.15s\n",
      "502:\tlearn: 0.7128847\ttotal: 7.22s\tremaining: 7.14s\n",
      "503:\tlearn: 0.7126002\ttotal: 7.24s\tremaining: 7.12s\n",
      "504:\tlearn: 0.7123523\ttotal: 7.25s\tremaining: 7.11s\n",
      "505:\tlearn: 0.7121971\ttotal: 7.26s\tremaining: 7.09s\n",
      "506:\tlearn: 0.7120092\ttotal: 7.28s\tremaining: 7.08s\n",
      "507:\tlearn: 0.7118534\ttotal: 7.3s\tremaining: 7.07s\n",
      "508:\tlearn: 0.7117679\ttotal: 7.32s\tremaining: 7.06s\n",
      "509:\tlearn: 0.7115968\ttotal: 7.33s\tremaining: 7.04s\n",
      "510:\tlearn: 0.7113679\ttotal: 7.34s\tremaining: 7.03s\n",
      "511:\tlearn: 0.7111931\ttotal: 7.36s\tremaining: 7.01s\n",
      "512:\tlearn: 0.7109115\ttotal: 7.37s\tremaining: 6.99s\n",
      "513:\tlearn: 0.7108042\ttotal: 7.38s\tremaining: 6.98s\n",
      "514:\tlearn: 0.7106073\ttotal: 7.39s\tremaining: 6.96s\n",
      "515:\tlearn: 0.7104804\ttotal: 7.41s\tremaining: 6.95s\n",
      "516:\tlearn: 0.7102719\ttotal: 7.42s\tremaining: 6.93s\n",
      "517:\tlearn: 0.7101518\ttotal: 7.46s\tremaining: 6.94s\n",
      "518:\tlearn: 0.7100188\ttotal: 7.47s\tremaining: 6.93s\n",
      "519:\tlearn: 0.7098397\ttotal: 7.49s\tremaining: 6.91s\n",
      "520:\tlearn: 0.7097292\ttotal: 7.5s\tremaining: 6.9s\n",
      "521:\tlearn: 0.7095631\ttotal: 7.51s\tremaining: 6.88s\n",
      "522:\tlearn: 0.7094348\ttotal: 7.53s\tremaining: 6.87s\n",
      "523:\tlearn: 0.7092498\ttotal: 7.55s\tremaining: 6.86s\n",
      "524:\tlearn: 0.7089043\ttotal: 7.56s\tremaining: 6.84s\n",
      "525:\tlearn: 0.7086822\ttotal: 7.58s\tremaining: 6.83s\n",
      "526:\tlearn: 0.7084521\ttotal: 7.59s\tremaining: 6.81s\n",
      "527:\tlearn: 0.7082907\ttotal: 7.63s\tremaining: 6.82s\n",
      "528:\tlearn: 0.7081420\ttotal: 7.64s\tremaining: 6.8s\n",
      "529:\tlearn: 0.7080617\ttotal: 7.66s\tremaining: 6.79s\n",
      "530:\tlearn: 0.7079267\ttotal: 7.67s\tremaining: 6.77s\n",
      "531:\tlearn: 0.7077617\ttotal: 7.68s\tremaining: 6.75s\n",
      "532:\tlearn: 0.7075664\ttotal: 7.71s\tremaining: 6.75s\n",
      "533:\tlearn: 0.7073634\ttotal: 7.73s\tremaining: 6.75s\n",
      "534:\tlearn: 0.7071610\ttotal: 7.76s\tremaining: 6.74s\n",
      "535:\tlearn: 0.7068579\ttotal: 7.77s\tremaining: 6.72s\n",
      "536:\tlearn: 0.7067301\ttotal: 7.78s\tremaining: 6.71s\n",
      "537:\tlearn: 0.7065500\ttotal: 7.79s\tremaining: 6.69s\n",
      "538:\tlearn: 0.7064260\ttotal: 7.81s\tremaining: 6.68s\n",
      "539:\tlearn: 0.7062804\ttotal: 7.82s\tremaining: 6.67s\n",
      "540:\tlearn: 0.7060781\ttotal: 7.83s\tremaining: 6.64s\n",
      "541:\tlearn: 0.7058790\ttotal: 7.84s\tremaining: 6.62s\n",
      "542:\tlearn: 0.7057769\ttotal: 7.86s\tremaining: 6.61s\n",
      "543:\tlearn: 0.7055401\ttotal: 7.87s\tremaining: 6.6s\n",
      "544:\tlearn: 0.7053025\ttotal: 7.88s\tremaining: 6.58s\n",
      "545:\tlearn: 0.7051262\ttotal: 7.89s\tremaining: 6.56s\n",
      "546:\tlearn: 0.7049938\ttotal: 7.91s\tremaining: 6.55s\n",
      "547:\tlearn: 0.7048827\ttotal: 7.93s\tremaining: 6.54s\n",
      "548:\tlearn: 0.7047423\ttotal: 7.94s\tremaining: 6.52s\n",
      "549:\tlearn: 0.7045776\ttotal: 7.95s\tremaining: 6.5s\n",
      "550:\tlearn: 0.7043135\ttotal: 7.97s\tremaining: 6.5s\n",
      "551:\tlearn: 0.7041983\ttotal: 7.98s\tremaining: 6.48s\n",
      "552:\tlearn: 0.7039991\ttotal: 8.01s\tremaining: 6.48s\n",
      "553:\tlearn: 0.7038686\ttotal: 8.03s\tremaining: 6.47s\n",
      "554:\tlearn: 0.7037715\ttotal: 8.05s\tremaining: 6.45s\n",
      "555:\tlearn: 0.7036172\ttotal: 8.05s\tremaining: 6.43s\n",
      "556:\tlearn: 0.7034938\ttotal: 8.06s\tremaining: 6.41s\n",
      "557:\tlearn: 0.7033510\ttotal: 8.08s\tremaining: 6.4s\n",
      "558:\tlearn: 0.7032086\ttotal: 8.12s\tremaining: 6.41s\n",
      "559:\tlearn: 0.7030486\ttotal: 8.13s\tremaining: 6.39s\n",
      "560:\tlearn: 0.7028864\ttotal: 8.14s\tremaining: 6.37s\n",
      "561:\tlearn: 0.7027096\ttotal: 8.16s\tremaining: 6.36s\n",
      "562:\tlearn: 0.7025510\ttotal: 8.17s\tremaining: 6.34s\n",
      "563:\tlearn: 0.7023599\ttotal: 8.2s\tremaining: 6.34s\n",
      "564:\tlearn: 0.7021873\ttotal: 8.21s\tremaining: 6.32s\n",
      "565:\tlearn: 0.7020541\ttotal: 8.24s\tremaining: 6.32s\n",
      "566:\tlearn: 0.7019476\ttotal: 8.25s\tremaining: 6.3s\n",
      "567:\tlearn: 0.7018199\ttotal: 8.26s\tremaining: 6.28s\n",
      "568:\tlearn: 0.7016651\ttotal: 8.27s\tremaining: 6.26s\n",
      "569:\tlearn: 0.7014722\ttotal: 8.27s\tremaining: 6.24s\n",
      "570:\tlearn: 0.7013541\ttotal: 8.3s\tremaining: 6.24s\n",
      "571:\tlearn: 0.7012235\ttotal: 8.32s\tremaining: 6.22s\n",
      "572:\tlearn: 0.7009600\ttotal: 8.33s\tremaining: 6.21s\n",
      "573:\tlearn: 0.7008098\ttotal: 8.34s\tremaining: 6.19s\n",
      "574:\tlearn: 0.7006288\ttotal: 8.34s\tremaining: 6.17s\n",
      "575:\tlearn: 0.7004506\ttotal: 8.35s\tremaining: 6.15s\n",
      "576:\tlearn: 0.7002029\ttotal: 8.37s\tremaining: 6.14s\n",
      "577:\tlearn: 0.6999707\ttotal: 8.39s\tremaining: 6.12s\n",
      "578:\tlearn: 0.6998476\ttotal: 8.4s\tremaining: 6.11s\n",
      "579:\tlearn: 0.6996545\ttotal: 8.42s\tremaining: 6.1s\n",
      "580:\tlearn: 0.6995385\ttotal: 8.43s\tremaining: 6.08s\n",
      "581:\tlearn: 0.6994221\ttotal: 8.44s\tremaining: 6.06s\n",
      "582:\tlearn: 0.6992064\ttotal: 8.45s\tremaining: 6.04s\n",
      "583:\tlearn: 0.6990486\ttotal: 8.46s\tremaining: 6.03s\n",
      "584:\tlearn: 0.6989072\ttotal: 8.49s\tremaining: 6.03s\n",
      "585:\tlearn: 0.6986932\ttotal: 8.5s\tremaining: 6.01s\n",
      "586:\tlearn: 0.6985330\ttotal: 8.51s\tremaining: 5.99s\n",
      "587:\tlearn: 0.6984247\ttotal: 8.53s\tremaining: 5.97s\n",
      "588:\tlearn: 0.6982744\ttotal: 8.54s\tremaining: 5.96s\n",
      "589:\tlearn: 0.6980522\ttotal: 8.56s\tremaining: 5.95s\n",
      "590:\tlearn: 0.6978531\ttotal: 8.57s\tremaining: 5.93s\n",
      "591:\tlearn: 0.6977115\ttotal: 8.58s\tremaining: 5.92s\n",
      "592:\tlearn: 0.6975789\ttotal: 8.6s\tremaining: 5.9s\n",
      "593:\tlearn: 0.6975099\ttotal: 8.6s\tremaining: 5.88s\n",
      "594:\tlearn: 0.6973978\ttotal: 8.62s\tremaining: 5.87s\n",
      "595:\tlearn: 0.6972444\ttotal: 8.63s\tremaining: 5.85s\n",
      "596:\tlearn: 0.6971103\ttotal: 8.64s\tremaining: 5.83s\n",
      "597:\tlearn: 0.6969307\ttotal: 8.64s\tremaining: 5.81s\n",
      "598:\tlearn: 0.6967765\ttotal: 8.65s\tremaining: 5.79s\n",
      "599:\tlearn: 0.6966832\ttotal: 8.66s\tremaining: 5.77s\n",
      "600:\tlearn: 0.6965546\ttotal: 8.67s\tremaining: 5.75s\n",
      "601:\tlearn: 0.6964152\ttotal: 8.69s\tremaining: 5.75s\n",
      "602:\tlearn: 0.6962063\ttotal: 8.7s\tremaining: 5.73s\n",
      "603:\tlearn: 0.6961149\ttotal: 8.73s\tremaining: 5.72s\n",
      "604:\tlearn: 0.6958911\ttotal: 8.75s\tremaining: 5.71s\n",
      "605:\tlearn: 0.6957763\ttotal: 8.76s\tremaining: 5.69s\n",
      "606:\tlearn: 0.6956512\ttotal: 8.77s\tremaining: 5.67s\n",
      "607:\tlearn: 0.6954373\ttotal: 8.78s\tremaining: 5.66s\n",
      "608:\tlearn: 0.6952811\ttotal: 8.79s\tremaining: 5.64s\n",
      "609:\tlearn: 0.6950598\ttotal: 8.79s\tremaining: 5.62s\n",
      "610:\tlearn: 0.6949076\ttotal: 8.82s\tremaining: 5.61s\n",
      "611:\tlearn: 0.6947104\ttotal: 8.84s\tremaining: 5.61s\n",
      "612:\tlearn: 0.6945197\ttotal: 8.86s\tremaining: 5.59s\n",
      "613:\tlearn: 0.6942960\ttotal: 8.87s\tremaining: 5.58s\n",
      "614:\tlearn: 0.6941939\ttotal: 8.88s\tremaining: 5.56s\n",
      "615:\tlearn: 0.6940144\ttotal: 8.89s\tremaining: 5.54s\n",
      "616:\tlearn: 0.6938917\ttotal: 8.91s\tremaining: 5.53s\n",
      "617:\tlearn: 0.6937222\ttotal: 8.93s\tremaining: 5.52s\n",
      "618:\tlearn: 0.6934862\ttotal: 8.94s\tremaining: 5.5s\n",
      "619:\tlearn: 0.6933675\ttotal: 8.94s\tremaining: 5.48s\n",
      "620:\tlearn: 0.6931601\ttotal: 8.95s\tremaining: 5.46s\n",
      "621:\tlearn: 0.6930137\ttotal: 8.96s\tremaining: 5.45s\n",
      "622:\tlearn: 0.6928992\ttotal: 8.97s\tremaining: 5.43s\n",
      "623:\tlearn: 0.6927197\ttotal: 8.98s\tremaining: 5.41s\n",
      "624:\tlearn: 0.6925506\ttotal: 8.99s\tremaining: 5.4s\n",
      "625:\tlearn: 0.6924289\ttotal: 9.03s\tremaining: 5.4s\n",
      "626:\tlearn: 0.6923419\ttotal: 9.05s\tremaining: 5.38s\n",
      "627:\tlearn: 0.6922047\ttotal: 9.06s\tremaining: 5.37s\n",
      "628:\tlearn: 0.6920503\ttotal: 9.07s\tremaining: 5.35s\n",
      "629:\tlearn: 0.6918686\ttotal: 9.08s\tremaining: 5.33s\n",
      "630:\tlearn: 0.6917097\ttotal: 9.09s\tremaining: 5.32s\n",
      "631:\tlearn: 0.6916048\ttotal: 9.1s\tremaining: 5.3s\n",
      "632:\tlearn: 0.6915212\ttotal: 9.12s\tremaining: 5.29s\n",
      "633:\tlearn: 0.6914187\ttotal: 9.13s\tremaining: 5.27s\n",
      "634:\tlearn: 0.6912630\ttotal: 9.15s\tremaining: 5.26s\n",
      "635:\tlearn: 0.6910567\ttotal: 9.16s\tremaining: 5.25s\n",
      "636:\tlearn: 0.6908814\ttotal: 9.17s\tremaining: 5.23s\n",
      "637:\tlearn: 0.6906386\ttotal: 9.18s\tremaining: 5.21s\n",
      "638:\tlearn: 0.6905445\ttotal: 9.2s\tremaining: 5.19s\n",
      "639:\tlearn: 0.6903517\ttotal: 9.2s\tremaining: 5.18s\n",
      "640:\tlearn: 0.6902447\ttotal: 9.23s\tremaining: 5.17s\n",
      "641:\tlearn: 0.6900632\ttotal: 9.24s\tremaining: 5.16s\n",
      "642:\tlearn: 0.6899467\ttotal: 9.28s\tremaining: 5.15s\n",
      "643:\tlearn: 0.6896740\ttotal: 9.29s\tremaining: 5.13s\n",
      "644:\tlearn: 0.6894746\ttotal: 9.3s\tremaining: 5.12s\n",
      "645:\tlearn: 0.6893755\ttotal: 9.31s\tremaining: 5.1s\n",
      "646:\tlearn: 0.6891929\ttotal: 9.33s\tremaining: 5.09s\n",
      "647:\tlearn: 0.6890090\ttotal: 9.35s\tremaining: 5.08s\n",
      "648:\tlearn: 0.6888552\ttotal: 9.36s\tremaining: 5.06s\n",
      "649:\tlearn: 0.6887260\ttotal: 9.38s\tremaining: 5.05s\n",
      "650:\tlearn: 0.6885640\ttotal: 9.38s\tremaining: 5.03s\n",
      "651:\tlearn: 0.6884439\ttotal: 9.39s\tremaining: 5.01s\n",
      "652:\tlearn: 0.6883025\ttotal: 9.4s\tremaining: 5s\n",
      "653:\tlearn: 0.6881544\ttotal: 9.41s\tremaining: 4.98s\n",
      "654:\tlearn: 0.6879969\ttotal: 9.41s\tremaining: 4.96s\n",
      "655:\tlearn: 0.6878763\ttotal: 9.44s\tremaining: 4.95s\n",
      "656:\tlearn: 0.6877377\ttotal: 9.46s\tremaining: 4.94s\n",
      "657:\tlearn: 0.6875987\ttotal: 9.47s\tremaining: 4.92s\n",
      "658:\tlearn: 0.6874104\ttotal: 9.48s\tremaining: 4.91s\n",
      "659:\tlearn: 0.6872083\ttotal: 9.5s\tremaining: 4.89s\n",
      "660:\tlearn: 0.6870843\ttotal: 9.51s\tremaining: 4.88s\n",
      "661:\tlearn: 0.6868891\ttotal: 9.51s\tremaining: 4.86s\n",
      "662:\tlearn: 0.6867638\ttotal: 9.55s\tremaining: 4.85s\n",
      "663:\tlearn: 0.6866743\ttotal: 9.57s\tremaining: 4.84s\n",
      "664:\tlearn: 0.6864816\ttotal: 9.58s\tremaining: 4.83s\n",
      "665:\tlearn: 0.6863629\ttotal: 9.59s\tremaining: 4.81s\n",
      "666:\tlearn: 0.6862429\ttotal: 9.61s\tremaining: 4.8s\n",
      "667:\tlearn: 0.6860720\ttotal: 9.62s\tremaining: 4.78s\n",
      "668:\tlearn: 0.6859417\ttotal: 9.63s\tremaining: 4.76s\n",
      "669:\tlearn: 0.6857459\ttotal: 9.64s\tremaining: 4.75s\n",
      "670:\tlearn: 0.6856469\ttotal: 9.64s\tremaining: 4.73s\n",
      "671:\tlearn: 0.6854365\ttotal: 9.67s\tremaining: 4.72s\n",
      "672:\tlearn: 0.6852819\ttotal: 9.68s\tremaining: 4.7s\n",
      "673:\tlearn: 0.6851453\ttotal: 9.7s\tremaining: 4.69s\n",
      "674:\tlearn: 0.6850132\ttotal: 9.71s\tremaining: 4.67s\n",
      "675:\tlearn: 0.6848173\ttotal: 9.71s\tremaining: 4.66s\n",
      "676:\tlearn: 0.6847126\ttotal: 9.72s\tremaining: 4.64s\n",
      "677:\tlearn: 0.6845770\ttotal: 9.73s\tremaining: 4.62s\n",
      "678:\tlearn: 0.6844216\ttotal: 9.74s\tremaining: 4.61s\n",
      "679:\tlearn: 0.6842377\ttotal: 9.76s\tremaining: 4.59s\n",
      "680:\tlearn: 0.6841138\ttotal: 9.77s\tremaining: 4.58s\n",
      "681:\tlearn: 0.6839552\ttotal: 9.78s\tremaining: 4.56s\n",
      "682:\tlearn: 0.6838846\ttotal: 9.81s\tremaining: 4.55s\n",
      "683:\tlearn: 0.6837692\ttotal: 9.82s\tremaining: 4.54s\n",
      "684:\tlearn: 0.6836606\ttotal: 9.83s\tremaining: 4.52s\n",
      "685:\tlearn: 0.6835612\ttotal: 9.84s\tremaining: 4.5s\n",
      "686:\tlearn: 0.6834756\ttotal: 9.86s\tremaining: 4.49s\n",
      "687:\tlearn: 0.6833208\ttotal: 9.88s\tremaining: 4.48s\n",
      "688:\tlearn: 0.6832475\ttotal: 9.92s\tremaining: 4.48s\n",
      "689:\tlearn: 0.6830364\ttotal: 9.94s\tremaining: 4.47s\n",
      "690:\tlearn: 0.6828532\ttotal: 9.95s\tremaining: 4.45s\n",
      "691:\tlearn: 0.6826990\ttotal: 9.96s\tremaining: 4.43s\n",
      "692:\tlearn: 0.6825472\ttotal: 9.99s\tremaining: 4.43s\n",
      "693:\tlearn: 0.6824081\ttotal: 10s\tremaining: 4.41s\n",
      "694:\tlearn: 0.6823161\ttotal: 10s\tremaining: 4.4s\n",
      "695:\tlearn: 0.6822186\ttotal: 10s\tremaining: 4.38s\n",
      "696:\tlearn: 0.6820592\ttotal: 10s\tremaining: 4.37s\n",
      "697:\tlearn: 0.6819228\ttotal: 10.1s\tremaining: 4.35s\n",
      "698:\tlearn: 0.6817707\ttotal: 10.1s\tremaining: 4.34s\n",
      "699:\tlearn: 0.6816919\ttotal: 10.1s\tremaining: 4.33s\n",
      "700:\tlearn: 0.6815343\ttotal: 10.1s\tremaining: 4.32s\n",
      "701:\tlearn: 0.6813826\ttotal: 10.1s\tremaining: 4.3s\n",
      "702:\tlearn: 0.6812251\ttotal: 10.1s\tremaining: 4.28s\n",
      "703:\tlearn: 0.6811203\ttotal: 10.1s\tremaining: 4.27s\n",
      "704:\tlearn: 0.6809668\ttotal: 10.2s\tremaining: 4.25s\n",
      "705:\tlearn: 0.6808897\ttotal: 10.2s\tremaining: 4.23s\n",
      "706:\tlearn: 0.6807051\ttotal: 10.2s\tremaining: 4.21s\n",
      "707:\tlearn: 0.6806383\ttotal: 10.2s\tremaining: 4.2s\n",
      "708:\tlearn: 0.6805312\ttotal: 10.2s\tremaining: 4.18s\n",
      "709:\tlearn: 0.6804129\ttotal: 10.2s\tremaining: 4.17s\n",
      "710:\tlearn: 0.6802572\ttotal: 10.2s\tremaining: 4.15s\n",
      "711:\tlearn: 0.6801183\ttotal: 10.2s\tremaining: 4.13s\n",
      "712:\tlearn: 0.6800019\ttotal: 10.2s\tremaining: 4.11s\n",
      "713:\tlearn: 0.6799116\ttotal: 10.2s\tremaining: 4.1s\n",
      "714:\tlearn: 0.6796878\ttotal: 10.2s\tremaining: 4.08s\n",
      "715:\tlearn: 0.6795393\ttotal: 10.2s\tremaining: 4.07s\n",
      "716:\tlearn: 0.6793632\ttotal: 10.3s\tremaining: 4.05s\n",
      "717:\tlearn: 0.6792428\ttotal: 10.3s\tremaining: 4.04s\n",
      "718:\tlearn: 0.6790433\ttotal: 10.3s\tremaining: 4.02s\n",
      "719:\tlearn: 0.6789397\ttotal: 10.3s\tremaining: 4.01s\n",
      "720:\tlearn: 0.6788325\ttotal: 10.3s\tremaining: 4s\n",
      "721:\tlearn: 0.6786964\ttotal: 10.3s\tremaining: 3.98s\n",
      "722:\tlearn: 0.6785752\ttotal: 10.4s\tremaining: 3.97s\n",
      "723:\tlearn: 0.6784090\ttotal: 10.4s\tremaining: 3.95s\n",
      "724:\tlearn: 0.6782123\ttotal: 10.4s\tremaining: 3.94s\n",
      "725:\tlearn: 0.6781183\ttotal: 10.4s\tremaining: 3.92s\n",
      "726:\tlearn: 0.6779822\ttotal: 10.4s\tremaining: 3.92s\n",
      "727:\tlearn: 0.6777912\ttotal: 10.5s\tremaining: 3.91s\n",
      "728:\tlearn: 0.6776554\ttotal: 10.5s\tremaining: 3.9s\n",
      "729:\tlearn: 0.6774870\ttotal: 10.5s\tremaining: 3.88s\n",
      "730:\tlearn: 0.6773194\ttotal: 10.5s\tremaining: 3.87s\n",
      "731:\tlearn: 0.6771633\ttotal: 10.5s\tremaining: 3.85s\n",
      "732:\tlearn: 0.6770156\ttotal: 10.5s\tremaining: 3.84s\n",
      "733:\tlearn: 0.6768857\ttotal: 10.5s\tremaining: 3.82s\n",
      "734:\tlearn: 0.6767347\ttotal: 10.6s\tremaining: 3.81s\n",
      "735:\tlearn: 0.6766015\ttotal: 10.6s\tremaining: 3.8s\n",
      "736:\tlearn: 0.6764882\ttotal: 10.6s\tremaining: 3.78s\n",
      "737:\tlearn: 0.6763847\ttotal: 10.6s\tremaining: 3.77s\n",
      "738:\tlearn: 0.6762583\ttotal: 10.6s\tremaining: 3.75s\n",
      "739:\tlearn: 0.6761672\ttotal: 10.6s\tremaining: 3.74s\n",
      "740:\tlearn: 0.6760397\ttotal: 10.7s\tremaining: 3.72s\n",
      "741:\tlearn: 0.6759528\ttotal: 10.7s\tremaining: 3.71s\n",
      "742:\tlearn: 0.6758305\ttotal: 10.7s\tremaining: 3.69s\n",
      "743:\tlearn: 0.6757100\ttotal: 10.7s\tremaining: 3.67s\n",
      "744:\tlearn: 0.6754824\ttotal: 10.7s\tremaining: 3.66s\n",
      "745:\tlearn: 0.6753923\ttotal: 10.7s\tremaining: 3.64s\n",
      "746:\tlearn: 0.6751729\ttotal: 10.7s\tremaining: 3.63s\n",
      "747:\tlearn: 0.6749414\ttotal: 10.7s\tremaining: 3.62s\n",
      "748:\tlearn: 0.6748447\ttotal: 10.8s\tremaining: 3.6s\n",
      "749:\tlearn: 0.6747112\ttotal: 10.8s\tremaining: 3.59s\n",
      "750:\tlearn: 0.6745905\ttotal: 10.8s\tremaining: 3.58s\n",
      "751:\tlearn: 0.6743675\ttotal: 10.8s\tremaining: 3.56s\n",
      "752:\tlearn: 0.6742977\ttotal: 10.8s\tremaining: 3.54s\n",
      "753:\tlearn: 0.6741906\ttotal: 10.8s\tremaining: 3.53s\n",
      "754:\tlearn: 0.6740731\ttotal: 10.8s\tremaining: 3.52s\n",
      "755:\tlearn: 0.6739342\ttotal: 10.8s\tremaining: 3.5s\n",
      "756:\tlearn: 0.6738152\ttotal: 10.9s\tremaining: 3.48s\n",
      "757:\tlearn: 0.6737135\ttotal: 10.9s\tremaining: 3.47s\n",
      "758:\tlearn: 0.6736024\ttotal: 10.9s\tremaining: 3.46s\n",
      "759:\tlearn: 0.6734070\ttotal: 10.9s\tremaining: 3.44s\n",
      "760:\tlearn: 0.6732251\ttotal: 10.9s\tremaining: 3.42s\n",
      "761:\tlearn: 0.6731230\ttotal: 10.9s\tremaining: 3.41s\n",
      "762:\tlearn: 0.6730298\ttotal: 10.9s\tremaining: 3.39s\n",
      "763:\tlearn: 0.6729125\ttotal: 10.9s\tremaining: 3.38s\n",
      "764:\tlearn: 0.6727936\ttotal: 11s\tremaining: 3.37s\n",
      "765:\tlearn: 0.6726239\ttotal: 11s\tremaining: 3.36s\n",
      "766:\tlearn: 0.6725043\ttotal: 11s\tremaining: 3.35s\n",
      "767:\tlearn: 0.6723536\ttotal: 11.1s\tremaining: 3.34s\n",
      "768:\tlearn: 0.6721846\ttotal: 11.1s\tremaining: 3.32s\n",
      "769:\tlearn: 0.6720520\ttotal: 11.1s\tremaining: 3.31s\n",
      "770:\tlearn: 0.6719202\ttotal: 11.1s\tremaining: 3.29s\n",
      "771:\tlearn: 0.6718423\ttotal: 11.1s\tremaining: 3.28s\n",
      "772:\tlearn: 0.6716973\ttotal: 11.1s\tremaining: 3.27s\n",
      "773:\tlearn: 0.6715461\ttotal: 11.1s\tremaining: 3.25s\n",
      "774:\tlearn: 0.6713980\ttotal: 11.2s\tremaining: 3.24s\n",
      "775:\tlearn: 0.6712745\ttotal: 11.2s\tremaining: 3.22s\n",
      "776:\tlearn: 0.6711536\ttotal: 11.2s\tremaining: 3.21s\n",
      "777:\tlearn: 0.6709550\ttotal: 11.2s\tremaining: 3.19s\n",
      "778:\tlearn: 0.6708187\ttotal: 11.2s\tremaining: 3.18s\n",
      "779:\tlearn: 0.6707264\ttotal: 11.2s\tremaining: 3.16s\n",
      "780:\tlearn: 0.6706126\ttotal: 11.2s\tremaining: 3.15s\n",
      "781:\tlearn: 0.6704792\ttotal: 11.2s\tremaining: 3.13s\n",
      "782:\tlearn: 0.6703230\ttotal: 11.2s\tremaining: 3.11s\n",
      "783:\tlearn: 0.6702007\ttotal: 11.3s\tremaining: 3.1s\n",
      "784:\tlearn: 0.6701124\ttotal: 11.3s\tremaining: 3.08s\n",
      "785:\tlearn: 0.6700088\ttotal: 11.3s\tremaining: 3.07s\n",
      "786:\tlearn: 0.6698223\ttotal: 11.3s\tremaining: 3.06s\n",
      "787:\tlearn: 0.6696556\ttotal: 11.3s\tremaining: 3.04s\n",
      "788:\tlearn: 0.6695474\ttotal: 11.3s\tremaining: 3.03s\n",
      "789:\tlearn: 0.6693537\ttotal: 11.3s\tremaining: 3.02s\n",
      "790:\tlearn: 0.6692355\ttotal: 11.4s\tremaining: 3s\n",
      "791:\tlearn: 0.6690925\ttotal: 11.4s\tremaining: 2.99s\n",
      "792:\tlearn: 0.6689966\ttotal: 11.4s\tremaining: 2.97s\n",
      "793:\tlearn: 0.6688190\ttotal: 11.4s\tremaining: 2.95s\n",
      "794:\tlearn: 0.6686887\ttotal: 11.4s\tremaining: 2.94s\n",
      "795:\tlearn: 0.6685162\ttotal: 11.4s\tremaining: 2.92s\n",
      "796:\tlearn: 0.6684098\ttotal: 11.4s\tremaining: 2.91s\n",
      "797:\tlearn: 0.6683179\ttotal: 11.4s\tremaining: 2.89s\n",
      "798:\tlearn: 0.6682550\ttotal: 11.4s\tremaining: 2.88s\n",
      "799:\tlearn: 0.6681259\ttotal: 11.4s\tremaining: 2.86s\n",
      "800:\tlearn: 0.6679835\ttotal: 11.5s\tremaining: 2.85s\n",
      "801:\tlearn: 0.6677956\ttotal: 11.5s\tremaining: 2.83s\n",
      "802:\tlearn: 0.6676363\ttotal: 11.5s\tremaining: 2.82s\n",
      "803:\tlearn: 0.6675671\ttotal: 11.5s\tremaining: 2.81s\n",
      "804:\tlearn: 0.6674583\ttotal: 11.5s\tremaining: 2.8s\n",
      "805:\tlearn: 0.6673370\ttotal: 11.6s\tremaining: 2.78s\n",
      "806:\tlearn: 0.6671930\ttotal: 11.6s\tremaining: 2.77s\n",
      "807:\tlearn: 0.6670538\ttotal: 11.6s\tremaining: 2.75s\n",
      "808:\tlearn: 0.6668889\ttotal: 11.6s\tremaining: 2.74s\n",
      "809:\tlearn: 0.6667115\ttotal: 11.6s\tremaining: 2.73s\n",
      "810:\tlearn: 0.6665765\ttotal: 11.6s\tremaining: 2.71s\n",
      "811:\tlearn: 0.6664495\ttotal: 11.7s\tremaining: 2.7s\n",
      "812:\tlearn: 0.6663897\ttotal: 11.7s\tremaining: 2.68s\n",
      "813:\tlearn: 0.6662522\ttotal: 11.7s\tremaining: 2.67s\n",
      "814:\tlearn: 0.6661450\ttotal: 11.7s\tremaining: 2.65s\n",
      "815:\tlearn: 0.6660069\ttotal: 11.7s\tremaining: 2.64s\n",
      "816:\tlearn: 0.6658659\ttotal: 11.7s\tremaining: 2.62s\n",
      "817:\tlearn: 0.6657393\ttotal: 11.7s\tremaining: 2.61s\n",
      "818:\tlearn: 0.6656245\ttotal: 11.8s\tremaining: 2.6s\n",
      "819:\tlearn: 0.6655479\ttotal: 11.8s\tremaining: 2.59s\n",
      "820:\tlearn: 0.6654463\ttotal: 11.8s\tremaining: 2.58s\n",
      "821:\tlearn: 0.6652885\ttotal: 11.8s\tremaining: 2.56s\n",
      "822:\tlearn: 0.6651326\ttotal: 11.8s\tremaining: 2.55s\n",
      "823:\tlearn: 0.6650044\ttotal: 11.9s\tremaining: 2.53s\n",
      "824:\tlearn: 0.6648726\ttotal: 11.9s\tremaining: 2.52s\n",
      "825:\tlearn: 0.6647872\ttotal: 11.9s\tremaining: 2.51s\n",
      "826:\tlearn: 0.6646499\ttotal: 11.9s\tremaining: 2.49s\n",
      "827:\tlearn: 0.6644544\ttotal: 11.9s\tremaining: 2.48s\n",
      "828:\tlearn: 0.6643772\ttotal: 11.9s\tremaining: 2.46s\n",
      "829:\tlearn: 0.6642123\ttotal: 11.9s\tremaining: 2.45s\n",
      "830:\tlearn: 0.6641196\ttotal: 12s\tremaining: 2.43s\n",
      "831:\tlearn: 0.6640084\ttotal: 12s\tremaining: 2.42s\n",
      "832:\tlearn: 0.6637630\ttotal: 12s\tremaining: 2.4s\n",
      "833:\tlearn: 0.6636061\ttotal: 12s\tremaining: 2.39s\n",
      "834:\tlearn: 0.6634923\ttotal: 12s\tremaining: 2.38s\n",
      "835:\tlearn: 0.6634120\ttotal: 12s\tremaining: 2.36s\n",
      "836:\tlearn: 0.6632620\ttotal: 12s\tremaining: 2.35s\n",
      "837:\tlearn: 0.6631659\ttotal: 12.1s\tremaining: 2.33s\n",
      "838:\tlearn: 0.6629403\ttotal: 12.1s\tremaining: 2.31s\n",
      "839:\tlearn: 0.6628568\ttotal: 12.1s\tremaining: 2.3s\n",
      "840:\tlearn: 0.6627186\ttotal: 12.1s\tremaining: 2.29s\n",
      "841:\tlearn: 0.6625971\ttotal: 12.1s\tremaining: 2.28s\n",
      "842:\tlearn: 0.6624785\ttotal: 12.1s\tremaining: 2.26s\n",
      "843:\tlearn: 0.6623822\ttotal: 12.2s\tremaining: 2.25s\n",
      "844:\tlearn: 0.6622827\ttotal: 12.2s\tremaining: 2.23s\n",
      "845:\tlearn: 0.6621016\ttotal: 12.2s\tremaining: 2.22s\n",
      "846:\tlearn: 0.6619740\ttotal: 12.2s\tremaining: 2.2s\n",
      "847:\tlearn: 0.6618530\ttotal: 12.2s\tremaining: 2.19s\n",
      "848:\tlearn: 0.6616444\ttotal: 12.2s\tremaining: 2.17s\n",
      "849:\tlearn: 0.6615528\ttotal: 12.2s\tremaining: 2.16s\n",
      "850:\tlearn: 0.6614301\ttotal: 12.2s\tremaining: 2.14s\n",
      "851:\tlearn: 0.6612895\ttotal: 12.2s\tremaining: 2.13s\n",
      "852:\tlearn: 0.6611013\ttotal: 12.2s\tremaining: 2.11s\n",
      "853:\tlearn: 0.6609176\ttotal: 12.3s\tremaining: 2.1s\n",
      "854:\tlearn: 0.6608162\ttotal: 12.3s\tremaining: 2.08s\n",
      "855:\tlearn: 0.6607167\ttotal: 12.3s\tremaining: 2.07s\n",
      "856:\tlearn: 0.6605676\ttotal: 12.3s\tremaining: 2.06s\n",
      "857:\tlearn: 0.6604648\ttotal: 12.3s\tremaining: 2.04s\n",
      "858:\tlearn: 0.6603704\ttotal: 12.3s\tremaining: 2.03s\n",
      "859:\tlearn: 0.6602662\ttotal: 12.4s\tremaining: 2.01s\n",
      "860:\tlearn: 0.6600707\ttotal: 12.4s\tremaining: 2s\n",
      "861:\tlearn: 0.6598779\ttotal: 12.4s\tremaining: 1.98s\n",
      "862:\tlearn: 0.6597002\ttotal: 12.4s\tremaining: 1.97s\n",
      "863:\tlearn: 0.6595730\ttotal: 12.4s\tremaining: 1.95s\n",
      "864:\tlearn: 0.6594790\ttotal: 12.4s\tremaining: 1.94s\n",
      "865:\tlearn: 0.6593601\ttotal: 12.4s\tremaining: 1.92s\n",
      "866:\tlearn: 0.6591875\ttotal: 12.4s\tremaining: 1.91s\n",
      "867:\tlearn: 0.6590680\ttotal: 12.4s\tremaining: 1.89s\n",
      "868:\tlearn: 0.6589968\ttotal: 12.5s\tremaining: 1.88s\n",
      "869:\tlearn: 0.6589237\ttotal: 12.5s\tremaining: 1.86s\n",
      "870:\tlearn: 0.6587940\ttotal: 12.5s\tremaining: 1.85s\n",
      "871:\tlearn: 0.6586974\ttotal: 12.5s\tremaining: 1.83s\n",
      "872:\tlearn: 0.6585432\ttotal: 12.5s\tremaining: 1.82s\n",
      "873:\tlearn: 0.6584366\ttotal: 12.5s\tremaining: 1.8s\n",
      "874:\tlearn: 0.6583391\ttotal: 12.5s\tremaining: 1.79s\n",
      "875:\tlearn: 0.6582293\ttotal: 12.6s\tremaining: 1.78s\n",
      "876:\tlearn: 0.6581255\ttotal: 12.6s\tremaining: 1.76s\n",
      "877:\tlearn: 0.6580453\ttotal: 12.6s\tremaining: 1.75s\n",
      "878:\tlearn: 0.6579496\ttotal: 12.6s\tremaining: 1.74s\n",
      "879:\tlearn: 0.6578789\ttotal: 12.6s\tremaining: 1.72s\n",
      "880:\tlearn: 0.6577906\ttotal: 12.6s\tremaining: 1.71s\n",
      "881:\tlearn: 0.6576655\ttotal: 12.6s\tremaining: 1.69s\n",
      "882:\tlearn: 0.6575841\ttotal: 12.6s\tremaining: 1.68s\n",
      "883:\tlearn: 0.6574863\ttotal: 12.7s\tremaining: 1.66s\n",
      "884:\tlearn: 0.6574049\ttotal: 12.7s\tremaining: 1.65s\n",
      "885:\tlearn: 0.6572734\ttotal: 12.7s\tremaining: 1.63s\n",
      "886:\tlearn: 0.6571761\ttotal: 12.7s\tremaining: 1.62s\n",
      "887:\tlearn: 0.6570808\ttotal: 12.7s\tremaining: 1.6s\n",
      "888:\tlearn: 0.6569684\ttotal: 12.7s\tremaining: 1.59s\n",
      "889:\tlearn: 0.6568890\ttotal: 12.7s\tremaining: 1.57s\n",
      "890:\tlearn: 0.6567272\ttotal: 12.7s\tremaining: 1.56s\n",
      "891:\tlearn: 0.6565662\ttotal: 12.8s\tremaining: 1.55s\n",
      "892:\tlearn: 0.6564825\ttotal: 12.8s\tremaining: 1.53s\n",
      "893:\tlearn: 0.6563901\ttotal: 12.8s\tremaining: 1.52s\n",
      "894:\tlearn: 0.6562523\ttotal: 12.8s\tremaining: 1.5s\n",
      "895:\tlearn: 0.6561034\ttotal: 12.8s\tremaining: 1.49s\n",
      "896:\tlearn: 0.6559748\ttotal: 12.8s\tremaining: 1.47s\n",
      "897:\tlearn: 0.6558765\ttotal: 12.8s\tremaining: 1.46s\n",
      "898:\tlearn: 0.6557869\ttotal: 12.9s\tremaining: 1.44s\n",
      "899:\tlearn: 0.6557150\ttotal: 12.9s\tremaining: 1.43s\n",
      "900:\tlearn: 0.6556087\ttotal: 12.9s\tremaining: 1.42s\n",
      "901:\tlearn: 0.6554614\ttotal: 12.9s\tremaining: 1.4s\n",
      "902:\tlearn: 0.6553321\ttotal: 12.9s\tremaining: 1.39s\n",
      "903:\tlearn: 0.6552629\ttotal: 12.9s\tremaining: 1.37s\n",
      "904:\tlearn: 0.6550957\ttotal: 12.9s\tremaining: 1.36s\n",
      "905:\tlearn: 0.6549176\ttotal: 13s\tremaining: 1.34s\n",
      "906:\tlearn: 0.6548386\ttotal: 13s\tremaining: 1.33s\n",
      "907:\tlearn: 0.6547406\ttotal: 13s\tremaining: 1.31s\n",
      "908:\tlearn: 0.6546235\ttotal: 13s\tremaining: 1.3s\n",
      "909:\tlearn: 0.6544714\ttotal: 13s\tremaining: 1.28s\n",
      "910:\tlearn: 0.6543861\ttotal: 13s\tremaining: 1.27s\n",
      "911:\tlearn: 0.6542745\ttotal: 13s\tremaining: 1.25s\n",
      "912:\tlearn: 0.6541703\ttotal: 13s\tremaining: 1.24s\n",
      "913:\tlearn: 0.6540879\ttotal: 13.1s\tremaining: 1.23s\n",
      "914:\tlearn: 0.6539940\ttotal: 13.1s\tremaining: 1.21s\n",
      "915:\tlearn: 0.6538944\ttotal: 13.1s\tremaining: 1.2s\n",
      "916:\tlearn: 0.6538040\ttotal: 13.1s\tremaining: 1.19s\n",
      "917:\tlearn: 0.6537102\ttotal: 13.1s\tremaining: 1.17s\n",
      "918:\tlearn: 0.6536303\ttotal: 13.1s\tremaining: 1.16s\n",
      "919:\tlearn: 0.6535585\ttotal: 13.1s\tremaining: 1.14s\n",
      "920:\tlearn: 0.6533922\ttotal: 13.2s\tremaining: 1.13s\n",
      "921:\tlearn: 0.6533015\ttotal: 13.2s\tremaining: 1.11s\n",
      "922:\tlearn: 0.6531728\ttotal: 13.2s\tremaining: 1.1s\n",
      "923:\tlearn: 0.6530721\ttotal: 13.2s\tremaining: 1.08s\n",
      "924:\tlearn: 0.6529994\ttotal: 13.2s\tremaining: 1.07s\n",
      "925:\tlearn: 0.6528831\ttotal: 13.2s\tremaining: 1.05s\n",
      "926:\tlearn: 0.6527826\ttotal: 13.2s\tremaining: 1.04s\n",
      "927:\tlearn: 0.6526879\ttotal: 13.2s\tremaining: 1.03s\n",
      "928:\tlearn: 0.6525437\ttotal: 13.3s\tremaining: 1.01s\n",
      "929:\tlearn: 0.6524698\ttotal: 13.3s\tremaining: 999ms\n",
      "930:\tlearn: 0.6523505\ttotal: 13.3s\tremaining: 984ms\n",
      "931:\tlearn: 0.6522295\ttotal: 13.3s\tremaining: 969ms\n",
      "932:\tlearn: 0.6520761\ttotal: 13.3s\tremaining: 954ms\n",
      "933:\tlearn: 0.6519987\ttotal: 13.3s\tremaining: 941ms\n",
      "934:\tlearn: 0.6518707\ttotal: 13.4s\tremaining: 929ms\n",
      "935:\tlearn: 0.6517634\ttotal: 13.4s\tremaining: 915ms\n",
      "936:\tlearn: 0.6516055\ttotal: 13.4s\tremaining: 900ms\n",
      "937:\tlearn: 0.6514917\ttotal: 13.4s\tremaining: 886ms\n",
      "938:\tlearn: 0.6512366\ttotal: 13.4s\tremaining: 871ms\n",
      "939:\tlearn: 0.6511512\ttotal: 13.4s\tremaining: 857ms\n",
      "940:\tlearn: 0.6510534\ttotal: 13.4s\tremaining: 843ms\n",
      "941:\tlearn: 0.6509400\ttotal: 13.5s\tremaining: 829ms\n",
      "942:\tlearn: 0.6508779\ttotal: 13.5s\tremaining: 814ms\n",
      "943:\tlearn: 0.6507246\ttotal: 13.5s\tremaining: 799ms\n",
      "944:\tlearn: 0.6505612\ttotal: 13.5s\tremaining: 787ms\n",
      "945:\tlearn: 0.6504412\ttotal: 13.6s\tremaining: 774ms\n",
      "946:\tlearn: 0.6503023\ttotal: 13.6s\tremaining: 759ms\n",
      "947:\tlearn: 0.6501898\ttotal: 13.6s\tremaining: 745ms\n",
      "948:\tlearn: 0.6500031\ttotal: 13.6s\tremaining: 730ms\n",
      "949:\tlearn: 0.6499075\ttotal: 13.6s\tremaining: 716ms\n",
      "950:\tlearn: 0.6497630\ttotal: 13.6s\tremaining: 702ms\n",
      "951:\tlearn: 0.6496658\ttotal: 13.6s\tremaining: 687ms\n",
      "952:\tlearn: 0.6495206\ttotal: 13.6s\tremaining: 672ms\n",
      "953:\tlearn: 0.6494158\ttotal: 13.6s\tremaining: 658ms\n",
      "954:\tlearn: 0.6493227\ttotal: 13.6s\tremaining: 643ms\n",
      "955:\tlearn: 0.6492302\ttotal: 13.7s\tremaining: 629ms\n",
      "956:\tlearn: 0.6491614\ttotal: 13.7s\tremaining: 615ms\n",
      "957:\tlearn: 0.6490786\ttotal: 13.7s\tremaining: 600ms\n",
      "958:\tlearn: 0.6489311\ttotal: 13.7s\tremaining: 586ms\n",
      "959:\tlearn: 0.6487732\ttotal: 13.7s\tremaining: 571ms\n",
      "960:\tlearn: 0.6487017\ttotal: 13.7s\tremaining: 557ms\n",
      "961:\tlearn: 0.6485548\ttotal: 13.7s\tremaining: 543ms\n",
      "962:\tlearn: 0.6484507\ttotal: 13.7s\tremaining: 528ms\n",
      "963:\tlearn: 0.6483455\ttotal: 13.8s\tremaining: 514ms\n",
      "964:\tlearn: 0.6482132\ttotal: 13.8s\tremaining: 499ms\n",
      "965:\tlearn: 0.6481065\ttotal: 13.8s\tremaining: 485ms\n",
      "966:\tlearn: 0.6479987\ttotal: 13.8s\tremaining: 471ms\n",
      "967:\tlearn: 0.6479134\ttotal: 13.8s\tremaining: 456ms\n",
      "968:\tlearn: 0.6477324\ttotal: 13.8s\tremaining: 442ms\n",
      "969:\tlearn: 0.6476261\ttotal: 13.8s\tremaining: 428ms\n",
      "970:\tlearn: 0.6475494\ttotal: 13.9s\tremaining: 414ms\n",
      "971:\tlearn: 0.6474454\ttotal: 13.9s\tremaining: 400ms\n",
      "972:\tlearn: 0.6472795\ttotal: 13.9s\tremaining: 385ms\n",
      "973:\tlearn: 0.6471669\ttotal: 13.9s\tremaining: 371ms\n",
      "974:\tlearn: 0.6470361\ttotal: 13.9s\tremaining: 357ms\n",
      "975:\tlearn: 0.6469256\ttotal: 13.9s\tremaining: 342ms\n",
      "976:\tlearn: 0.6468688\ttotal: 13.9s\tremaining: 328ms\n",
      "977:\tlearn: 0.6467810\ttotal: 13.9s\tremaining: 314ms\n",
      "978:\tlearn: 0.6466586\ttotal: 14s\tremaining: 299ms\n",
      "979:\tlearn: 0.6465350\ttotal: 14s\tremaining: 285ms\n",
      "980:\tlearn: 0.6463904\ttotal: 14s\tremaining: 271ms\n",
      "981:\tlearn: 0.6462898\ttotal: 14s\tremaining: 257ms\n",
      "982:\tlearn: 0.6461741\ttotal: 14s\tremaining: 242ms\n",
      "983:\tlearn: 0.6461106\ttotal: 14s\tremaining: 228ms\n",
      "984:\tlearn: 0.6460084\ttotal: 14.1s\tremaining: 214ms\n",
      "985:\tlearn: 0.6458431\ttotal: 14.1s\tremaining: 200ms\n",
      "986:\tlearn: 0.6456957\ttotal: 14.1s\tremaining: 185ms\n",
      "987:\tlearn: 0.6456102\ttotal: 14.1s\tremaining: 171ms\n",
      "988:\tlearn: 0.6454905\ttotal: 14.1s\tremaining: 157ms\n",
      "989:\tlearn: 0.6454027\ttotal: 14.1s\tremaining: 143ms\n",
      "990:\tlearn: 0.6452957\ttotal: 14.2s\tremaining: 129ms\n",
      "991:\tlearn: 0.6452206\ttotal: 14.2s\tremaining: 114ms\n",
      "992:\tlearn: 0.6450443\ttotal: 14.2s\tremaining: 100ms\n",
      "993:\tlearn: 0.6449344\ttotal: 14.2s\tremaining: 85.8ms\n",
      "994:\tlearn: 0.6448793\ttotal: 14.2s\tremaining: 71.5ms\n",
      "995:\tlearn: 0.6447964\ttotal: 14.2s\tremaining: 57.2ms\n",
      "996:\tlearn: 0.6446915\ttotal: 14.3s\tremaining: 42.9ms\n",
      "997:\tlearn: 0.6446170\ttotal: 14.3s\tremaining: 28.6ms\n",
      "998:\tlearn: 0.6445688\ttotal: 14.3s\tremaining: 14.3ms\n",
      "999:\tlearn: 0.6444809\ttotal: 14.3s\tremaining: 0us\n",
      "cat_log_loss: 0.8197053467485521\n"
     ]
    }
   ],
   "source": [
    "#catboost\n",
    "from catboost import CatBoostClassifier\n",
    "from sklearn.metrics import accuracy_score, log_loss, confusion_matrix\n",
    "from sklearn.metrics import f1_score\n",
    "from tensorflow.keras.utils import to_categorical\n",
    "X_train, X_val, y_train, y_val = train_test_split(train_x, train_y, \n",
    "                                                    stratify=train_y, test_size=0.25,\n",
    "                                                    random_state = 10086)\n",
    "\n",
    "print(\"Train set: \")\n",
    "print(X_train.shape)\n",
    "print(y_train.shape)\n",
    "print(\"===========\")\n",
    "print(\"Validation set: \")\n",
    "print(X_val.shape)\n",
    "print(y_val.shape)\n",
    "\n",
    "\n",
    "\n",
    "#param 조금 수정함 -> 오버피팅 개심함.. 왜지?ㅠㅠ\n",
    "\"\"\" cat_clf=CatBoostClassifier(n_estimators=3000, max_depth=8, random_seed=1042, learning_rate=0.04, bootstrap_type ='Bernoulli')\n",
    "cat_clf.fit(X_train, y_train,early_stopping_rounds=50,silent = True) \"\"\"\n",
    "cat_clf=CatBoostClassifier()\n",
    "cat_clf.fit(X_train, y_train)\n",
    "\n",
    "\n",
    "\n",
    "#y_pred=cat_clf.predict_proba(X_val)\n",
    "#proba : 확률로 만듬\n",
    "\n",
    "y_pred=cat_clf.predict(X_val)\n",
    "\n",
    "print(f\"cat_log_loss: {log_loss(to_categorical(y_val['credit']), y_pred)}\")\n"
   ]
  },
  {
   "cell_type": "code",
   "execution_count": 197,
   "metadata": {},
   "outputs": [
    {
     "name": "stderr",
     "output_type": "stream",
     "text": [
      "C:\\Users\\sally\\AppData\\Local\\Programs\\Python\\Python39\\lib\\site-packages\\sklearn\\utils\\deprecation.py:87: FutureWarning: Function plot_confusion_matrix is deprecated; Function `plot_confusion_matrix` is deprecated in 1.0 and will be removed in 1.2. Use one of the class methods: ConfusionMatrixDisplay.from_predictions or ConfusionMatrixDisplay.from_estimator.\n",
      "  warnings.warn(msg, category=FutureWarning)\n"
     ]
    },
    {
     "data": {
      "image/png": "[encoded data removed]",
      "text/plain": [
       "<Figure size 432x288 with 2 Axes>"
      ]
     },
     "metadata": {
      "needs_background": "light"
     },
     "output_type": "display_data"
    }
   ],
   "source": [
    "from sklearn.metrics import plot_confusion_matrix\n",
    "plot_confusion_matrix(cat_clf, X_val, y_val)  \n",
    "plt.show()"
   ]
  },
  {
   "cell_type": "code",
   "execution_count": 91,
   "metadata": {},
   "outputs": [
    {
     "ename": "AttributeError",
     "evalue": "'LGBMClassifier' object has no attribute 'get_feature_importance'",
     "output_type": "error",
     "traceback": [
      "\u001b[1;31m---------------------------------------------------------------------------\u001b[0m",
      "\u001b[1;31mAttributeError\u001b[0m                            Traceback (most recent call last)",
      "\u001b[1;32m~\\AppData\\Local\\Temp/ipykernel_37540/3978257595.py\u001b[0m in \u001b[0;36m<module>\u001b[1;34m\u001b[0m\n\u001b[0;32m      1\u001b[0m \u001b[1;32mimport\u001b[0m \u001b[0mmatplotlib\u001b[0m\u001b[1;33m.\u001b[0m\u001b[0mpyplot\u001b[0m \u001b[1;32mas\u001b[0m \u001b[0mplt\u001b[0m\u001b[1;33m\u001b[0m\u001b[1;33m\u001b[0m\u001b[0m\n\u001b[0;32m      2\u001b[0m \u001b[1;33m\u001b[0m\u001b[0m\n\u001b[1;32m----> 3\u001b[1;33m \u001b[0mlgbm_clf\u001b[0m\u001b[1;33m.\u001b[0m\u001b[0mget_feature_importance\u001b[0m\u001b[1;33m(\u001b[0m\u001b[1;33m)\u001b[0m\u001b[1;33m\u001b[0m\u001b[1;33m\u001b[0m\u001b[0m\n\u001b[0m\u001b[0;32m      4\u001b[0m \u001b[0mplt\u001b[0m\u001b[1;33m.\u001b[0m\u001b[0mfigure\u001b[0m\u001b[1;33m(\u001b[0m\u001b[0mfigsize\u001b[0m\u001b[1;33m=\u001b[0m\u001b[1;33m(\u001b[0m\u001b[1;36m12\u001b[0m\u001b[1;33m,\u001b[0m\u001b[1;36m15\u001b[0m\u001b[1;33m)\u001b[0m\u001b[1;33m)\u001b[0m\u001b[1;33m\u001b[0m\u001b[1;33m\u001b[0m\u001b[0m\n\u001b[0;32m      5\u001b[0m \u001b[0mplt\u001b[0m\u001b[1;33m.\u001b[0m\u001b[0mbarh\u001b[0m\u001b[1;33m(\u001b[0m\u001b[0mX_train\u001b[0m\u001b[1;33m.\u001b[0m\u001b[0mcolumns\u001b[0m\u001b[1;33m,\u001b[0m \u001b[0mlgbm_clf\u001b[0m\u001b[1;33m.\u001b[0m\u001b[0mget_feature_importance\u001b[0m\u001b[1;33m(\u001b[0m\u001b[1;33m)\u001b[0m\u001b[1;33m)\u001b[0m\u001b[1;33m\u001b[0m\u001b[1;33m\u001b[0m\u001b[0m\n",
      "\u001b[1;31mAttributeError\u001b[0m: 'LGBMClassifier' object has no attribute 'get_feature_importance'"
     ]
    }
   ],
   "source": [
    "import matplotlib.pyplot as plt\n",
    "\n",
    "cat_clf.get_feature_importance()\n",
    "plt.figure(figsize=(12,15))\n",
    "plt.barh(X_train.columns, cat_clf.get_feature_importance())"
   ]
  },
  {
   "cell_type": "code",
   "execution_count": 93,
   "metadata": {},
   "outputs": [
    {
     "name": "stderr",
     "output_type": "stream",
     "text": [
      "C:\\Users\\sally\\AppData\\Local\\Programs\\Python\\Python39\\lib\\site-packages\\sklearn\\preprocessing\\_label.py:98: DataConversionWarning: A column-vector y was passed when a 1d array was expected. Please change the shape of y to (n_samples, ), for example using ravel().\n",
      "  y = column_or_1d(y, warn=True)\n",
      "C:\\Users\\sally\\AppData\\Local\\Programs\\Python\\Python39\\lib\\site-packages\\sklearn\\preprocessing\\_label.py:133: DataConversionWarning: A column-vector y was passed when a 1d array was expected. Please change the shape of y to (n_samples, ), for example using ravel().\n",
      "  y = column_or_1d(y, warn=True)\n"
     ]
    },
    {
     "name": "stdout",
     "output_type": "stream",
     "text": [
      "FOLD 0 : logloss:0.8334866450174139\n"
     ]
    },
    {
     "name": "stderr",
     "output_type": "stream",
     "text": [
      "C:\\Users\\sally\\AppData\\Local\\Programs\\Python\\Python39\\lib\\site-packages\\sklearn\\preprocessing\\_label.py:98: DataConversionWarning: A column-vector y was passed when a 1d array was expected. Please change the shape of y to (n_samples, ), for example using ravel().\n",
      "  y = column_or_1d(y, warn=True)\n",
      "C:\\Users\\sally\\AppData\\Local\\Programs\\Python\\Python39\\lib\\site-packages\\sklearn\\preprocessing\\_label.py:133: DataConversionWarning: A column-vector y was passed when a 1d array was expected. Please change the shape of y to (n_samples, ), for example using ravel().\n",
      "  y = column_or_1d(y, warn=True)\n"
     ]
    },
    {
     "name": "stdout",
     "output_type": "stream",
     "text": [
      "FOLD 1 : logloss:0.8317811017515759\n"
     ]
    },
    {
     "name": "stderr",
     "output_type": "stream",
     "text": [
      "C:\\Users\\sally\\AppData\\Local\\Programs\\Python\\Python39\\lib\\site-packages\\sklearn\\preprocessing\\_label.py:98: DataConversionWarning: A column-vector y was passed when a 1d array was expected. Please change the shape of y to (n_samples, ), for example using ravel().\n",
      "  y = column_or_1d(y, warn=True)\n",
      "C:\\Users\\sally\\AppData\\Local\\Programs\\Python\\Python39\\lib\\site-packages\\sklearn\\preprocessing\\_label.py:133: DataConversionWarning: A column-vector y was passed when a 1d array was expected. Please change the shape of y to (n_samples, ), for example using ravel().\n",
      "  y = column_or_1d(y, warn=True)\n"
     ]
    },
    {
     "name": "stdout",
     "output_type": "stream",
     "text": [
      "FOLD 2 : logloss:0.8295138491539522\n"
     ]
    },
    {
     "name": "stderr",
     "output_type": "stream",
     "text": [
      "C:\\Users\\sally\\AppData\\Local\\Programs\\Python\\Python39\\lib\\site-packages\\sklearn\\preprocessing\\_label.py:98: DataConversionWarning: A column-vector y was passed when a 1d array was expected. Please change the shape of y to (n_samples, ), for example using ravel().\n",
      "  y = column_or_1d(y, warn=True)\n",
      "C:\\Users\\sally\\AppData\\Local\\Programs\\Python\\Python39\\lib\\site-packages\\sklearn\\preprocessing\\_label.py:133: DataConversionWarning: A column-vector y was passed when a 1d array was expected. Please change the shape of y to (n_samples, ), for example using ravel().\n",
      "  y = column_or_1d(y, warn=True)\n"
     ]
    },
    {
     "name": "stdout",
     "output_type": "stream",
     "text": [
      "FOLD 3 : logloss:0.8317698469919897\n"
     ]
    },
    {
     "name": "stderr",
     "output_type": "stream",
     "text": [
      "C:\\Users\\sally\\AppData\\Local\\Programs\\Python\\Python39\\lib\\site-packages\\sklearn\\preprocessing\\_label.py:98: DataConversionWarning: A column-vector y was passed when a 1d array was expected. Please change the shape of y to (n_samples, ), for example using ravel().\n",
      "  y = column_or_1d(y, warn=True)\n",
      "C:\\Users\\sally\\AppData\\Local\\Programs\\Python\\Python39\\lib\\site-packages\\sklearn\\preprocessing\\_label.py:133: DataConversionWarning: A column-vector y was passed when a 1d array was expected. Please change the shape of y to (n_samples, ), for example using ravel().\n",
      "  y = column_or_1d(y, warn=True)\n"
     ]
    },
    {
     "name": "stdout",
     "output_type": "stream",
     "text": [
      "FOLD 4 : logloss:0.8333081689350388\n",
      "Mean:0.8319719223699942\n"
     ]
    }
   ],
   "source": [
    "from sklearn.model_selection import KFold, StratifiedKFold\n",
    "\n",
    "def run_kfold(clf):\n",
    "    folds=StratifiedKFold(n_splits=5, shuffle=True, random_state=55)\n",
    "    outcomes=[]\n",
    "    sub=np.zeros((test_x.shape[0], 3))  \n",
    "    for n_fold, (train_index, val_index) in enumerate(folds.split(train_x, train_y)):\n",
    "        X_train, X_val = train_x.iloc[train_index], train_x.iloc[val_index]\n",
    "        y_train, y_val = train_y.iloc[train_index], train_y.iloc[val_index]\n",
    "        clf.fit(X_train, y_train)\n",
    "        \n",
    "        predictions=clf.predict_proba(X_val)\n",
    "        \n",
    "        logloss=log_loss(to_categorical(y_val['credit']), predictions)\n",
    "        outcomes.append(logloss)\n",
    "        print(f\"FOLD {n_fold} : logloss:{logloss}\")\n",
    "        \n",
    "        sub+=clf.predict_proba(test_x)\n",
    "        \n",
    "        \n",
    "    mean_outcome=np.mean(outcomes)\n",
    "    \n",
    "    print(\"Mean:{}\".format(mean_outcome))\n",
    "    return sub/folds.n_splits\n",
    "\n",
    "my_submission = run_kfold(lgbm_clf)"
   ]
  },
  {
   "cell_type": "code",
   "execution_count": 200,
   "metadata": {},
   "outputs": [
    {
     "name": "stderr",
     "output_type": "stream",
     "text": [
      "C:\\Users\\sally\\AppData\\Local\\Programs\\Python\\Python39\\lib\\site-packages\\sklearn\\utils\\deprecation.py:87: FutureWarning: Function plot_confusion_matrix is deprecated; Function `plot_confusion_matrix` is deprecated in 1.0 and will be removed in 1.2. Use one of the class methods: ConfusionMatrixDisplay.from_predictions or ConfusionMatrixDisplay.from_estimator.\n",
      "  warnings.warn(msg, category=FutureWarning)\n"
     ]
    },
    {
     "data": {
      "image/png": "[encoded data removed]",
      "text/plain": [
       "<Figure size 432x288 with 2 Axes>"
      ]
     },
     "metadata": {
      "needs_background": "light"
     },
     "output_type": "display_data"
    }
   ],
   "source": [
    "plot_confusion_matrix(cat_clf, X_val, y_val)  \n",
    "plt.show()"
   ]
  },
  {
   "cell_type": "code",
   "execution_count": 205,
   "metadata": {},
   "outputs": [
    {
     "ename": "NotFittedError",
     "evalue": "This DecisionTreeClassifier instance is not fitted yet. Call 'fit' with appropriate arguments before using this estimator.",
     "output_type": "error",
     "traceback": [
      "\u001b[1;31m---------------------------------------------------------------------------\u001b[0m",
      "\u001b[1;31mNotFittedError\u001b[0m                            Traceback (most recent call last)",
      "\u001b[1;32m~\\AppData\\Local\\Temp/ipykernel_16816/160290105.py\u001b[0m in \u001b[0;36m<module>\u001b[1;34m\u001b[0m\n\u001b[0;32m      1\u001b[0m \u001b[1;32mfrom\u001b[0m \u001b[0msklearn\u001b[0m \u001b[1;32mimport\u001b[0m \u001b[0mtree\u001b[0m\u001b[1;33m\u001b[0m\u001b[1;33m\u001b[0m\u001b[0m\n\u001b[0;32m      2\u001b[0m \u001b[0mcat_clf\u001b[0m \u001b[1;33m=\u001b[0m \u001b[0mtree\u001b[0m\u001b[1;33m.\u001b[0m\u001b[0mDecisionTreeClassifier\u001b[0m\u001b[1;33m(\u001b[0m\u001b[0mrandom_state\u001b[0m\u001b[1;33m=\u001b[0m\u001b[1;36m0\u001b[0m\u001b[1;33m)\u001b[0m\u001b[1;33m\u001b[0m\u001b[1;33m\u001b[0m\u001b[0m\n\u001b[1;32m----> 3\u001b[1;33m \u001b[0mtree\u001b[0m\u001b[1;33m.\u001b[0m\u001b[0mplot_tree\u001b[0m\u001b[1;33m(\u001b[0m\u001b[0mcat_clf\u001b[0m\u001b[1;33m)\u001b[0m\u001b[1;33m\u001b[0m\u001b[1;33m\u001b[0m\u001b[0m\n\u001b[0m",
      "\u001b[1;32m~\\AppData\\Local\\Programs\\Python\\Python39\\lib\\site-packages\\sklearn\\tree\\_export.py\u001b[0m in \u001b[0;36mplot_tree\u001b[1;34m(decision_tree, max_depth, feature_names, class_names, label, filled, impurity, node_ids, proportion, rounded, precision, ax, fontsize)\u001b[0m\n\u001b[0;32m    178\u001b[0m     \"\"\"\n\u001b[0;32m    179\u001b[0m \u001b[1;33m\u001b[0m\u001b[0m\n\u001b[1;32m--> 180\u001b[1;33m     \u001b[0mcheck_is_fitted\u001b[0m\u001b[1;33m(\u001b[0m\u001b[0mdecision_tree\u001b[0m\u001b[1;33m)\u001b[0m\u001b[1;33m\u001b[0m\u001b[1;33m\u001b[0m\u001b[0m\n\u001b[0m\u001b[0;32m    181\u001b[0m \u001b[1;33m\u001b[0m\u001b[0m\n\u001b[0;32m    182\u001b[0m     exporter = _MPLTreeExporter(\n",
      "\u001b[1;32m~\\AppData\\Local\\Programs\\Python\\Python39\\lib\\site-packages\\sklearn\\utils\\validation.py\u001b[0m in \u001b[0;36mcheck_is_fitted\u001b[1;34m(estimator, attributes, msg, all_or_any)\u001b[0m\n\u001b[0;32m   1206\u001b[0m \u001b[1;33m\u001b[0m\u001b[0m\n\u001b[0;32m   1207\u001b[0m     \u001b[1;32mif\u001b[0m \u001b[1;32mnot\u001b[0m \u001b[0mfitted\u001b[0m\u001b[1;33m:\u001b[0m\u001b[1;33m\u001b[0m\u001b[1;33m\u001b[0m\u001b[0m\n\u001b[1;32m-> 1208\u001b[1;33m         \u001b[1;32mraise\u001b[0m \u001b[0mNotFittedError\u001b[0m\u001b[1;33m(\u001b[0m\u001b[0mmsg\u001b[0m \u001b[1;33m%\u001b[0m \u001b[1;33m{\u001b[0m\u001b[1;34m\"name\"\u001b[0m\u001b[1;33m:\u001b[0m \u001b[0mtype\u001b[0m\u001b[1;33m(\u001b[0m\u001b[0mestimator\u001b[0m\u001b[1;33m)\u001b[0m\u001b[1;33m.\u001b[0m\u001b[0m__name__\u001b[0m\u001b[1;33m}\u001b[0m\u001b[1;33m)\u001b[0m\u001b[1;33m\u001b[0m\u001b[1;33m\u001b[0m\u001b[0m\n\u001b[0m\u001b[0;32m   1209\u001b[0m \u001b[1;33m\u001b[0m\u001b[0m\n\u001b[0;32m   1210\u001b[0m \u001b[1;33m\u001b[0m\u001b[0m\n",
      "\u001b[1;31mNotFittedError\u001b[0m: This DecisionTreeClassifier instance is not fitted yet. Call 'fit' with appropriate arguments before using this estimator."
     ]
    }
   ],
   "source": [
    "\"\"\" from sklearn import tree\n",
    "cat_clf = tree.DecisionTreeClassifier(random_state=0)\n",
    "tree.plot_tree(cat_clf) \"\"\""
   ]
  },
  {
   "cell_type": "code",
   "execution_count": 202,
   "metadata": {},
   "outputs": [],
   "source": [
    "import graphviz\n",
    "from sklearn.tree import export_graphviz\n",
    "from sklearn.tree import DecisionTreeClassifier\n",
    "#from sklearn.datasets import load_iris\n",
    "#from sklearn.model_selection import train_test_split\n",
    "import warnings"
   ]
  },
  {
   "cell_type": "code",
   "execution_count": null,
   "metadata": {},
   "outputs": [],
   "source": [
    "\"\"\"  export_graphviz(cat_clf, out_file=\"tree.dot\", class_names=iris_data.target_names, \n",
    "               feature_names = iris_data.feature_names, impurity=True, filled=True)\"\"\""
   ]
  },
  {
   "cell_type": "code",
   "execution_count": 371,
   "metadata": {},
   "outputs": [
    {
     "name": "stderr",
     "output_type": "stream",
     "text": [
      "C:\\Users\\sally\\AppData\\Local\\Programs\\Python\\Python39\\lib\\site-packages\\pandas\\core\\indexing.py:719: FutureWarning: Slicing a positional slice with .loc is not supported, and will raise TypeError in a future version.  Use .loc with labels or .iloc with positions instead.\n",
      "  indexer = self._get_setitem_indexer(key)\n"
     ]
    }
   ],
   "source": [
    "submission.loc[:,1:] = my_submission"
   ]
  },
  {
   "cell_type": "code",
   "execution_count": 372,
   "metadata": {},
   "outputs": [],
   "source": [
    "submission.to_csv('../Data/Catboost_HJ4.csv', index= False)"
   ]
  },
  {
   "cell_type": "code",
   "execution_count": null,
   "metadata": {},
   "outputs": [],
   "source": []
  }
 ],
 "metadata": {
  "interpreter": {
   "hash": "ae38aae21618c8005c5a91e07f4be75fb513462cafeec314dc0d7a6823adf3fe"
  },
  "kernelspec": {
   "display_name": "Python 3.9.7 64-bit",
   "name": "python3"
  },
  "language_info": {
   "codemirror_mode": {
    "name": "ipython",
    "version": 3
   },
   "file_extension": ".py",
   "mimetype": "text/x-python",
   "name": "python",
   "nbconvert_exporter": "python",
   "pygments_lexer": "ipython3",
   "version": "3.9.7"
  },
  "orig_nbformat": 4
 },
 "nbformat": 4,
 "nbformat_minor": 2
}
